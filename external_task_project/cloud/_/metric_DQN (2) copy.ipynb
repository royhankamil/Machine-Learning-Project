{
 "cells": [
  {
   "cell_type": "code",
   "execution_count": 16,
   "metadata": {},
   "outputs": [
    {
     "ename": "ImportError",
     "evalue": "DLL load failed while importing _c_internal_utils: The specified module could not be found.",
     "output_type": "error",
     "traceback": [
      "\u001b[1;31m---------------------------------------------------------------------------\u001b[0m",
      "\u001b[1;31mImportError\u001b[0m                               Traceback (most recent call last)",
      "Cell \u001b[1;32mIn[16], line 3\u001b[0m\n\u001b[0;32m      1\u001b[0m \u001b[38;5;28;01mimport\u001b[39;00m \u001b[38;5;21;01mpandas\u001b[39;00m \u001b[38;5;28;01mas\u001b[39;00m \u001b[38;5;21;01mpd\u001b[39;00m\n\u001b[0;32m      2\u001b[0m \u001b[38;5;28;01mimport\u001b[39;00m \u001b[38;5;21;01mnumpy\u001b[39;00m \u001b[38;5;28;01mas\u001b[39;00m \u001b[38;5;21;01mnp\u001b[39;00m\n\u001b[1;32m----> 3\u001b[0m \u001b[38;5;28;01mimport\u001b[39;00m \u001b[38;5;21;01mmatplotlib\u001b[39;00m\u001b[38;5;21;01m.\u001b[39;00m\u001b[38;5;21;01mpyplot\u001b[39;00m \u001b[38;5;28;01mas\u001b[39;00m \u001b[38;5;21;01mplt\u001b[39;00m\n\u001b[0;32m      4\u001b[0m \u001b[38;5;28;01mfrom\u001b[39;00m \u001b[38;5;21;01msklearn\u001b[39;00m\u001b[38;5;21;01m.\u001b[39;00m\u001b[38;5;21;01mpreprocessing\u001b[39;00m \u001b[38;5;28;01mimport\u001b[39;00m MinMaxScaler\n\u001b[0;32m      5\u001b[0m \u001b[38;5;28;01mfrom\u001b[39;00m \u001b[38;5;21;01msklearn\u001b[39;00m\u001b[38;5;21;01m.\u001b[39;00m\u001b[38;5;21;01mmodel_selection\u001b[39;00m \u001b[38;5;28;01mimport\u001b[39;00m train_test_split\n",
      "File \u001b[1;32m~\\AppData\\Roaming\\Python\\Python312\\site-packages\\matplotlib\\__init__.py:172\u001b[0m\n\u001b[0;32m    168\u001b[0m \u001b[38;5;28;01mfrom\u001b[39;00m \u001b[38;5;21;01mpackaging\u001b[39;00m\u001b[38;5;21;01m.\u001b[39;00m\u001b[38;5;21;01mversion\u001b[39;00m \u001b[38;5;28;01mimport\u001b[39;00m parse \u001b[38;5;28;01mas\u001b[39;00m parse_version\n\u001b[0;32m    170\u001b[0m \u001b[38;5;66;03m# cbook must import matplotlib only within function\u001b[39;00m\n\u001b[0;32m    171\u001b[0m \u001b[38;5;66;03m# definitions, so it is safe to import from it here.\u001b[39;00m\n\u001b[1;32m--> 172\u001b[0m \u001b[38;5;28;01mfrom\u001b[39;00m \u001b[38;5;21;01m.\u001b[39;00m \u001b[38;5;28;01mimport\u001b[39;00m _api, _version, cbook, _docstring, rcsetup\n\u001b[0;32m    173\u001b[0m \u001b[38;5;28;01mfrom\u001b[39;00m \u001b[38;5;21;01mmatplotlib\u001b[39;00m\u001b[38;5;21;01m.\u001b[39;00m\u001b[38;5;21;01mcbook\u001b[39;00m \u001b[38;5;28;01mimport\u001b[39;00m sanitize_sequence\n\u001b[0;32m    174\u001b[0m \u001b[38;5;28;01mfrom\u001b[39;00m \u001b[38;5;21;01mmatplotlib\u001b[39;00m\u001b[38;5;21;01m.\u001b[39;00m\u001b[38;5;21;01m_api\u001b[39;00m \u001b[38;5;28;01mimport\u001b[39;00m MatplotlibDeprecationWarning\n",
      "File \u001b[1;32m~\\AppData\\Roaming\\Python\\Python312\\site-packages\\matplotlib\\cbook.py:32\u001b[0m\n\u001b[0;32m     29\u001b[0m     \u001b[38;5;28;01mfrom\u001b[39;00m \u001b[38;5;21;01mnumpy\u001b[39;00m \u001b[38;5;28;01mimport\u001b[39;00m VisibleDeprecationWarning\n\u001b[0;32m     31\u001b[0m \u001b[38;5;28;01mimport\u001b[39;00m \u001b[38;5;21;01mmatplotlib\u001b[39;00m\n\u001b[1;32m---> 32\u001b[0m \u001b[38;5;28;01mfrom\u001b[39;00m \u001b[38;5;21;01mmatplotlib\u001b[39;00m \u001b[38;5;28;01mimport\u001b[39;00m _api, _c_internal_utils\n\u001b[0;32m     35\u001b[0m \u001b[38;5;28;01mdef\u001b[39;00m \u001b[38;5;21m_get_running_interactive_framework\u001b[39m():\n\u001b[0;32m     36\u001b[0m \u001b[38;5;250m    \u001b[39m\u001b[38;5;124;03m\"\"\"\u001b[39;00m\n\u001b[0;32m     37\u001b[0m \u001b[38;5;124;03m    Return the interactive framework whose event loop is currently running, if\u001b[39;00m\n\u001b[0;32m     38\u001b[0m \u001b[38;5;124;03m    any, or \"headless\" if no event loop can be started, or None.\u001b[39;00m\n\u001b[1;32m   (...)\u001b[0m\n\u001b[0;32m     44\u001b[0m \u001b[38;5;124;03m        \"macosx\", \"headless\", ``None``.\u001b[39;00m\n\u001b[0;32m     45\u001b[0m \u001b[38;5;124;03m    \"\"\"\u001b[39;00m\n",
      "\u001b[1;31mImportError\u001b[0m: DLL load failed while importing _c_internal_utils: The specified module could not be found."
     ]
    }
   ],
   "source": [
    "import pandas as pd\n",
    "import numpy as np\n",
    "import matplotlib.pyplot as plt\n",
    "from sklearn.preprocessing import MinMaxScaler\n",
    "from sklearn.model_selection import train_test_split\n",
    "import torch\n",
    "import torch.nn as nn\n",
    "import torch.optim as optim\n",
    "import gym\n",
    "from gym import spaces\n",
    "from collections import deque\n",
    "import random\n"
   ]
  },
  {
   "cell_type": "code",
   "execution_count": 2,
   "metadata": {},
   "outputs": [],
   "source": [
    "df = pd.read_csv(\"metrics-with-output scal.csv\")\n"
   ]
  },
  {
   "cell_type": "code",
   "execution_count": 3,
   "metadata": {},
   "outputs": [
    {
     "data": {
      "image/png": "[encoded data removed]",
      "text/plain": [
       "<Figure size 640x480 with 1 Axes>"
      ]
     },
     "metadata": {},
     "output_type": "display_data"
    }
   ],
   "source": [
    "import matplotlib.pyplot as plt\n",
    "\n",
    "#Membandingkan jumlah status Healthy dan Unhealthy dengan donut chart\n",
    "status_counts = df['Status'].value_counts()\n",
    "\n",
    "colors = ['red','blue']\n",
    "plt.pie(status_counts, labels=status_counts.index, colors=colors, autopct='%1.1f%%', startangle=90)\n",
    "plt.gca().add_artist(plt.Circle((0,0),0.70,fc='white'))  # Menambahkan lingkaran tengah untuk membuat donut chart\n",
    "plt.axis('equal')  # Memastikan lingkaran berukuran sama sehingga terlihat seperti donut\n",
    "plt.title('Distribution of Status')\n",
    "plt.show()"
   ]
  },
  {
   "cell_type": "code",
   "execution_count": 4,
   "metadata": {},
   "outputs": [],
   "source": [
    "# Preprocessing\n",
    "df['cpu_usage'] = df['cpu_usage'].str.rstrip('%').astype(float) / 100.0\n",
    "df['memory_usage'] = df['memory_usage'].str.rstrip('%').astype(float) / 100.0\n",
    "\n",
    "def clean_bandwidth(value):\n",
    "    if 'GB/s' in value:\n",
    "        return float(value.replace('GB/s', ''))\n",
    "    elif 'MB/s' in value:\n",
    "        return float(value.replace('MB/s', '')) / 1024\n",
    "    else:\n",
    "        return float(value)\n",
    "\n",
    "df['bandwidth_inbound'] = df['bandwidth_inbound'].apply(clean_bandwidth)\n",
    "df['bandwidth_outbound'] = df['bandwidth_outbound'].apply(clean_bandwidth)\n",
    "df['tps'] = df['tps'].str.rstrip(' req/s').astype(float)\n",
    "df['tps_error'] = df['tps_error'].str.rstrip(' req/s').astype(float)\n",
    "df['response_time'] = df['response_time'].replace({' ms': '*1e-3', ' s': '*1'}, regex=True).map(pd.eval).astype(float)"
   ]
  },
  {
   "cell_type": "code",
   "execution_count": 5,
   "metadata": {},
   "outputs": [
    {
     "name": "stdout",
     "output_type": "stream",
     "text": [
      "<class 'pandas.core.frame.DataFrame'>\n",
      "RangeIndex: 7189 entries, 0 to 7188\n",
      "Data columns (total 10 columns):\n",
      " #   Column              Non-Null Count  Dtype  \n",
      "---  ------              --------------  -----  \n",
      " 0   Time                7189 non-null   object \n",
      " 1   Timestamp           7189 non-null   int64  \n",
      " 2   cpu_usage           7189 non-null   float64\n",
      " 3   memory_usage        7189 non-null   float64\n",
      " 4   bandwidth_inbound   7189 non-null   float64\n",
      " 5   bandwidth_outbound  7189 non-null   float64\n",
      " 6   tps                 7189 non-null   float64\n",
      " 7   tps_error           7189 non-null   float64\n",
      " 8   response_time       7189 non-null   float64\n",
      " 9   Status              7189 non-null   int64  \n",
      "dtypes: float64(7), int64(2), object(1)\n",
      "memory usage: 561.8+ KB\n"
     ]
    }
   ],
   "source": [
    "df.info()"
   ]
  },
  {
   "cell_type": "code",
   "execution_count": 2,
   "metadata": {},
   "outputs": [
    {
     "ename": "NameError",
     "evalue": "name 'df' is not defined",
     "output_type": "error",
     "traceback": [
      "\u001b[1;31m---------------------------------------------------------------------------\u001b[0m",
      "\u001b[1;31mNameError\u001b[0m                                 Traceback (most recent call last)",
      "Cell \u001b[1;32mIn[2], line 1\u001b[0m\n\u001b[1;32m----> 1\u001b[0m \u001b[43mdf\u001b[49m\u001b[38;5;241m.\u001b[39mhead()\n",
      "\u001b[1;31mNameError\u001b[0m: name 'df' is not defined"
     ]
    }
   ],
   "source": [
    "df.head()"
   ]
  },
  {
   "cell_type": "code",
   "execution_count": 6,
   "metadata": {},
   "outputs": [
    {
     "data": {
      "text/html": [
       "<div>\n",
       "<style scoped>\n",
       "    .dataframe tbody tr th:only-of-type {\n",
       "        vertical-align: middle;\n",
       "    }\n",
       "\n",
       "    .dataframe tbody tr th {\n",
       "        vertical-align: top;\n",
       "    }\n",
       "\n",
       "    .dataframe thead th {\n",
       "        text-align: right;\n",
       "    }\n",
       "</style>\n",
       "<table border=\"1\" class=\"dataframe\">\n",
       "  <thead>\n",
       "    <tr style=\"text-align: right;\">\n",
       "      <th></th>\n",
       "      <th>cpu_usage</th>\n",
       "      <th>memory_usage</th>\n",
       "      <th>bandwidth_inbound</th>\n",
       "      <th>bandwidth_outbound</th>\n",
       "      <th>tps</th>\n",
       "      <th>tps_error</th>\n",
       "      <th>response_time</th>\n",
       "      <th>Status</th>\n",
       "    </tr>\n",
       "  </thead>\n",
       "  <tbody>\n",
       "    <tr>\n",
       "      <th>count</th>\n",
       "      <td>7189.000000</td>\n",
       "      <td>7189.000000</td>\n",
       "      <td>7189.000000</td>\n",
       "      <td>7189.000000</td>\n",
       "      <td>7189.000000</td>\n",
       "      <td>7189.000000</td>\n",
       "      <td>7189.000000</td>\n",
       "      <td>7189.000000</td>\n",
       "    </tr>\n",
       "    <tr>\n",
       "      <th>mean</th>\n",
       "      <td>0.163090</td>\n",
       "      <td>0.542723</td>\n",
       "      <td>6.318377</td>\n",
       "      <td>5.573617</td>\n",
       "      <td>2.490218</td>\n",
       "      <td>0.170817</td>\n",
       "      <td>1.770724</td>\n",
       "      <td>0.132981</td>\n",
       "    </tr>\n",
       "    <tr>\n",
       "      <th>std</th>\n",
       "      <td>0.069272</td>\n",
       "      <td>0.019356</td>\n",
       "      <td>3.193037</td>\n",
       "      <td>2.728239</td>\n",
       "      <td>0.784028</td>\n",
       "      <td>0.548970</td>\n",
       "      <td>1.024615</td>\n",
       "      <td>0.339578</td>\n",
       "    </tr>\n",
       "    <tr>\n",
       "      <th>min</th>\n",
       "      <td>0.010000</td>\n",
       "      <td>0.497000</td>\n",
       "      <td>0.056055</td>\n",
       "      <td>0.060645</td>\n",
       "      <td>0.600000</td>\n",
       "      <td>0.000000</td>\n",
       "      <td>0.118000</td>\n",
       "      <td>0.000000</td>\n",
       "    </tr>\n",
       "    <tr>\n",
       "      <th>25%</th>\n",
       "      <td>0.118000</td>\n",
       "      <td>0.533000</td>\n",
       "      <td>3.940000</td>\n",
       "      <td>3.540000</td>\n",
       "      <td>2.000000</td>\n",
       "      <td>0.000000</td>\n",
       "      <td>0.952000</td>\n",
       "      <td>0.000000</td>\n",
       "    </tr>\n",
       "    <tr>\n",
       "      <th>50%</th>\n",
       "      <td>0.156000</td>\n",
       "      <td>0.539000</td>\n",
       "      <td>5.910000</td>\n",
       "      <td>5.230000</td>\n",
       "      <td>2.400000</td>\n",
       "      <td>0.000000</td>\n",
       "      <td>1.520000</td>\n",
       "      <td>0.000000</td>\n",
       "    </tr>\n",
       "    <tr>\n",
       "      <th>75%</th>\n",
       "      <td>0.198000</td>\n",
       "      <td>0.549000</td>\n",
       "      <td>8.310000</td>\n",
       "      <td>7.260000</td>\n",
       "      <td>3.000000</td>\n",
       "      <td>0.000000</td>\n",
       "      <td>2.450000</td>\n",
       "      <td>0.000000</td>\n",
       "    </tr>\n",
       "    <tr>\n",
       "      <th>max</th>\n",
       "      <td>1.000000</td>\n",
       "      <td>0.700000</td>\n",
       "      <td>20.400000</td>\n",
       "      <td>17.600000</td>\n",
       "      <td>5.800000</td>\n",
       "      <td>4.600000</td>\n",
       "      <td>7.100000</td>\n",
       "      <td>1.000000</td>\n",
       "    </tr>\n",
       "  </tbody>\n",
       "</table>\n",
       "</div>"
      ],
      "text/plain": [
       "         cpu_usage  memory_usage  bandwidth_inbound  bandwidth_outbound  \\\n",
       "count  7189.000000   7189.000000        7189.000000         7189.000000   \n",
       "mean      0.163090      0.542723           6.318377            5.573617   \n",
       "std       0.069272      0.019356           3.193037            2.728239   \n",
       "min       0.010000      0.497000           0.056055            0.060645   \n",
       "25%       0.118000      0.533000           3.940000            3.540000   \n",
       "50%       0.156000      0.539000           5.910000            5.230000   \n",
       "75%       0.198000      0.549000           8.310000            7.260000   \n",
       "max       1.000000      0.700000          20.400000           17.600000   \n",
       "\n",
       "               tps    tps_error  response_time       Status  \n",
       "count  7189.000000  7189.000000    7189.000000  7189.000000  \n",
       "mean      2.490218     0.170817       1.770724     0.132981  \n",
       "std       0.784028     0.548970       1.024615     0.339578  \n",
       "min       0.600000     0.000000       0.118000     0.000000  \n",
       "25%       2.000000     0.000000       0.952000     0.000000  \n",
       "50%       2.400000     0.000000       1.520000     0.000000  \n",
       "75%       3.000000     0.000000       2.450000     0.000000  \n",
       "max       5.800000     4.600000       7.100000     1.000000  "
      ]
     },
     "execution_count": 6,
     "metadata": {},
     "output_type": "execute_result"
    }
   ],
   "source": [
    "# Pembersihan/Penghapusan data yang tidak dipakai\n",
    "dataset = df.drop(df.columns[[0, 1]], axis=1)\n",
    "\n",
    "dataset.describe()"
   ]
  },
  {
   "cell_type": "code",
   "execution_count": 7,
   "metadata": {},
   "outputs": [],
   "source": [
    "# Encode Status\n",
    "from sklearn.preprocessing import LabelEncoder\n",
    "label_encoder = LabelEncoder()\n",
    "df['Status'] = label_encoder.fit_transform(df['Status'])\n",
    "\n",
    "# %%\n",
    "# Pembersihan dan penghapusan data yang tidak dipakai\n",
    "dataset = df.drop(df.columns[[0, 1]], axis=1)\n"
   ]
  },
  {
   "cell_type": "code",
   "execution_count": 8,
   "metadata": {},
   "outputs": [],
   "source": [
    "# Split data into features and target\n",
    "X = dataset.drop('Status', axis=1)\n",
    "y = dataset['Status']"
   ]
  },
  {
   "cell_type": "code",
   "execution_count": 9,
   "metadata": {},
   "outputs": [],
   "source": [
    "# Normalize the data\n",
    "scaler = MinMaxScaler()\n",
    "X_scaled = scaler.fit_transform(X)"
   ]
  },
  {
   "cell_type": "code",
   "execution_count": 10,
   "metadata": {},
   "outputs": [],
   "source": [
    "\n",
    "# Split into train and test\n",
    "X_train, X_test, y_train, y_test = train_test_split(X_scaled, y, test_size=0.2, random_state=42)"
   ]
  },
  {
   "cell_type": "code",
   "execution_count": 11,
   "metadata": {},
   "outputs": [],
   "source": [
    "# DQN Network\n",
    "class QNetwork(nn.Module):\n",
    "    def __init__(self, input_dim, output_dim):\n",
    "        super(QNetwork, self).__init__()\n",
    "        self.fc1 = nn.Linear(input_dim, 128)\n",
    "        self.fc2 = nn.Linear(128, 128)\n",
    "        self.fc3 = nn.Linear(128, output_dim)\n",
    "\n",
    "    def forward(self, x):\n",
    "        x = torch.relu(self.fc1(x))\n",
    "        x = torch.relu(self.fc2(x))\n",
    "        return self.fc3(x)"
   ]
  },
  {
   "cell_type": "code",
   "execution_count": 12,
   "metadata": {},
   "outputs": [],
   "source": [
    "class DQNAgent:\n",
    "    def __init__(self, state_dim, action_dim, lr=0.001, gamma=0.99, epsilon=1.0, epsilon_decay=0.995, epsilon_min=0.01, batch_size=64):\n",
    "        self.state_dim = state_dim\n",
    "        self.action_dim = action_dim\n",
    "        self.lr = lr\n",
    "        self.gamma = gamma\n",
    "        self.epsilon = epsilon\n",
    "        self.epsilon_decay = epsilon_decay\n",
    "        self.epsilon_min = epsilon_min\n",
    "        self.batch_size = batch_size\n",
    "        self.memory = deque(maxlen=10000)\n",
    "\n",
    "        self.q_network = QNetwork(state_dim, action_dim).to(device)\n",
    "        self.target_network = QNetwork(state_dim, action_dim).to(device)\n",
    "        self.optimizer = optim.Adam(self.q_network.parameters(), lr=lr)\n",
    "        self.loss_fn = nn.MSELoss()\n",
    "        \n",
    "        # Copy the weights to the target network\n",
    "        self.target_network.load_state_dict(self.q_network.state_dict())\n",
    "\n",
    "    def select_action(self, state):\n",
    "        if np.random.rand() < self.epsilon:\n",
    "            return random.choice(range(self.action_dim))\n",
    "        state = torch.FloatTensor(state).unsqueeze(0).to(device)\n",
    "        q_values = self.q_network(state)\n",
    "        return torch.argmax(q_values).item()\n",
    "\n",
    "    def store_transition(self, state, action, reward, next_state, done):\n",
    "        self.memory.append((state, action, reward, next_state, done))\n",
    "\n",
    "    def replay(self):\n",
    "        if len(self.memory) < self.batch_size:\n",
    "            return\n",
    "\n",
    "        batch = random.sample(self.memory, self.batch_size)\n",
    "        states, actions, rewards, next_states, dones = zip(*batch)\n",
    "\n",
    "        states = torch.FloatTensor(states).to(device)\n",
    "        actions = torch.LongTensor(actions).unsqueeze(1).to(device)\n",
    "        rewards = torch.FloatTensor(rewards).to(device)\n",
    "        next_states = torch.FloatTensor(next_states).to(device)\n",
    "        dones = torch.FloatTensor(dones).to(device)\n",
    "\n",
    "        q_values = self.q_network(states).gather(1, actions).squeeze()\n",
    "        with torch.no_grad():\n",
    "            max_next_q_values = self.target_network(next_states).max(1)[0]\n",
    "            target_q_values = rewards + self.gamma * max_next_q_values * (1 - dones)\n",
    "\n",
    "        loss = self.loss_fn(q_values, target_q_values)\n",
    "\n",
    "        self.optimizer.zero_grad()\n",
    "        loss.backward()\n",
    "        self.optimizer.step()\n",
    "\n",
    "        if self.epsilon > self.epsilon_min:\n",
    "            self.epsilon *= self.epsilon_decay\n",
    "\n",
    "    def update_target_network(self):\n",
    "        self.target_network.load_state_dict(self.q_network.state_dict())"
   ]
  },
  {
   "cell_type": "code",
   "execution_count": 13,
   "metadata": {},
   "outputs": [],
   "source": [
    "# Custom Environment\n",
    "class CustomEnv(gym.Env):\n",
    "    def __init__(self):\n",
    "        super(CustomEnv, self).__init__()\n",
    "\n",
    "        # Load data from the dataset\n",
    "        self.df = dataset\n",
    "\n",
    "        # Define action and observation space\n",
    "        self.action_space = spaces.Discrete(2)\n",
    "        self.observation_space = spaces.Box(low=0, high=1, shape=(7,), dtype=np.float64)\n",
    "\n",
    "        self.current_step = 0\n",
    "\n",
    "    def reset(self):\n",
    "        self.current_step = 0\n",
    "        return self._get_observation()\n",
    "    \n",
    "    def step(self, action):\n",
    "        self.current_step += 1\n",
    "        done = self.current_step >= len(self.df) - 1\n",
    "\n",
    "        reward = self._get_reward(action)\n",
    "        next_state = self._get_observation()\n",
    "        \n",
    "        return next_state, reward, done, {}\n",
    "    \n",
    "    def _get_observation(self):\n",
    "        return self.df.iloc[self.current_step][['cpu_usage', 'memory_usage', 'bandwidth_inbound', 'bandwidth_outbound', 'tps', 'tps_error', 'response_time']].values\n",
    "    \n",
    "    def _get_reward(self, action):\n",
    "        if action == self.df.iloc[self.current_step]['Status']:\n",
    "            return 1.0\n",
    "        else:\n",
    "            return -1.0\n"
   ]
  },
  {
   "cell_type": "code",
   "execution_count": 14,
   "metadata": {},
   "outputs": [],
   "source": [
    "# Training DQN\n",
    "env = CustomEnv()\n",
    "state_dim = env.observation_space.shape[0]\n",
    "action_dim = env.action_space.n\n",
    "device = torch.device('cuda' if torch.cuda.is_available() else 'cpu')\n",
    "\n",
    "dqn_agent = DQNAgent(state_dim, action_dim)\n",
    "\n",
    "num_episodes = 100\n",
    "update_target_steps = 10\n",
    "episode_rewards = []"
   ]
  },
  {
   "cell_type": "code",
   "execution_count": 15,
   "metadata": {},
   "outputs": [
    {
     "name": "stderr",
     "output_type": "stream",
     "text": [
      "C:\\Users\\Rizal\\AppData\\Local\\Temp\\ipykernel_3316\\2814233832.py:38: UserWarning: Creating a tensor from a list of numpy.ndarrays is extremely slow. Please consider converting the list to a single numpy.ndarray with numpy.array() before converting to a tensor. (Triggered internally at C:\\actions-runner\\_work\\pytorch\\pytorch\\builder\\windows\\pytorch\\torch\\csrc\\utils\\tensor_new.cpp:277.)\n",
      "  states = torch.FloatTensor(states).to(device)\n"
     ]
    },
    {
     "name": "stdout",
     "output_type": "stream",
     "text": [
      "Episode 0: Total Reward: 5382.0\n",
      "Episode 10: Total Reward: 6052.0\n",
      "Episode 20: Total Reward: 6176.0\n",
      "Episode 30: Total Reward: 6214.0\n",
      "Episode 40: Total Reward: 6314.0\n",
      "Episode 50: Total Reward: 6334.0\n",
      "Episode 60: Total Reward: 6234.0\n",
      "Episode 70: Total Reward: 6330.0\n",
      "Episode 80: Total Reward: 6324.0\n",
      "Episode 90: Total Reward: 6296.0\n"
     ]
    }
   ],
   "source": [
    "for episode in range(num_episodes):\n",
    "    state = env.reset()\n",
    "    total_reward = 0\n",
    "    done = False\n",
    "\n",
    "    while not done:\n",
    "        action = dqn_agent.select_action(state)\n",
    "        next_state, reward, done, _ = env.step(action)\n",
    "        dqn_agent.store_transition(state, action, reward, next_state, done)\n",
    "        state = next_state\n",
    "        total_reward += reward\n",
    "\n",
    "        dqn_agent.replay()\n",
    "\n",
    "    dqn_agent.update_target_network()\n",
    "\n",
    "    episode_rewards.append(total_reward)\n",
    "    if episode % update_target_steps == 0:\n",
    "        print(f\"Episode {episode}: Total Reward: {total_reward}\")\n"
   ]
  },
  {
   "cell_type": "code",
   "execution_count": 16,
   "metadata": {},
   "outputs": [
    {
     "data": {
      "image/png": "[encoded data removed]",
      "text/plain": [
       "<Figure size 640x480 with 1 Axes>"
      ]
     },
     "metadata": {},
     "output_type": "display_data"
    },
    {
     "name": "stdout",
     "output_type": "stream",
     "text": [
      "Mean Reward: 6494.2 +/- 8.121576201698781\n"
     ]
    }
   ],
   "source": [
    "\n",
    "# Plotting rewards\n",
    "plt.plot(range(num_episodes)[:758], episode_rewards)\n",
    "plt.xlabel('Episode')\n",
    "plt.ylabel('Total Reward')\n",
    "plt.title('Training DQN')\n",
    "plt.show()\n",
    "\n",
    "# Evaluating DQN\n",
    "def evaluate_dqn(agent, env, n_eval_episodes=10):\n",
    "    rewards = []\n",
    "    for episode in range(n_eval_episodes):\n",
    "        state = env.reset()\n",
    "        total_reward = 0\n",
    "        done = False\n",
    "        while not done:\n",
    "            action = agent.select_action(state)\n",
    "            state, reward, done, _ = env.step(action)\n",
    "            total_reward += reward\n",
    "        rewards.append(total_reward)\n",
    "    return np.mean(rewards), np.std(rewards)\n",
    "\n",
    "mean_reward, std_reward = evaluate_dqn(dqn_agent, env)\n",
    "print(f\"Mean Reward: {mean_reward} +/- {std_reward}\")\n"
   ]
  },
  {
   "cell_type": "code",
   "execution_count": 17,
   "metadata": {},
   "outputs": [],
   "source": [
    "def evaluate_model(agent, env):\n",
    "    y_true = []\n",
    "    y_pred = []\n",
    "\n",
    "    state = env.reset()\n",
    "    done = False\n",
    "\n",
    "    while not done:\n",
    "        # Dapatkan prediksi dari model\n",
    "        action = agent.select_action(state)\n",
    "        y_pred.append(action)\n",
    "        y_true.append(env.df.iloc[env.current_step]['Status'])\n",
    "\n",
    "        next_state, _, done, _ = env.step(action)\n",
    "        state = next_state\n",
    "\n",
    "    return y_true, y_pred\n",
    "\n",
    "\n",
    "y_true, y_pred = evaluate_model(dqn_agent, env)"
   ]
  },
  {
   "cell_type": "code",
   "execution_count": 18,
   "metadata": {},
   "outputs": [],
   "source": [
    "predicted_labels_df = pd.DataFrame(y_pred, columns=['Status'])"
   ]
  },
  {
   "cell_type": "code",
   "execution_count": 19,
   "metadata": {},
   "outputs": [],
   "source": [
    "# Gabungkan kolom Status dari dataset asli dengan kolom Status dari predicted_labels_df\n",
    "comparison_df = pd.DataFrame([y_true, y_pred]).transpose()\n",
    "comparison_df.columns = ['Actual_Status', 'Predicted_Status']"
   ]
  },
  {
   "cell_type": "code",
   "execution_count": 20,
   "metadata": {},
   "outputs": [],
   "source": [
    "# Hitung jumlah status yang sama dan yang berbeda\n",
    "same_status = comparison_df[comparison_df['Actual_Status'] == comparison_df['Predicted_Status']].shape[0]\n",
    "different_status = comparison_df[comparison_df['Actual_Status'] != comparison_df['Predicted_Status']].shape[0]"
   ]
  },
  {
   "cell_type": "code",
   "execution_count": 21,
   "metadata": {},
   "outputs": [
    {
     "data": {
      "text/plain": [
       "89.259877573734"
      ]
     },
     "execution_count": 21,
     "metadata": {},
     "output_type": "execute_result"
    }
   ],
   "source": [
    "same_status / len(comparison_df) * 100"
   ]
  },
  {
   "cell_type": "code",
   "execution_count": 22,
   "metadata": {},
   "outputs": [
    {
     "data": {
      "image/png": "[encoded data removed]",
      "text/plain": [
       "<Figure size 800x600 with 1 Axes>"
      ]
     },
     "metadata": {},
     "output_type": "display_data"
    }
   ],
   "source": [
    "# Buat visualisasi\n",
    "plt.figure(figsize=(8, 6))\n",
    "labels = ['Same Status', 'Different Status']\n",
    "sizes = [same_status, different_status]\n",
    "colors = ['lightgreen', 'lightcoral']\n",
    "explode = (0, 0.1)  # Pisahkan \"Different Status\"\n",
    "plt.pie(sizes, explode=explode, labels=labels, colors=colors, autopct='%1.1f%%', startangle=90)\n",
    "plt.gca().add_artist(plt.Circle((0,0),0.70,fc='white'))  # Menambahkan lingkaran tengah untuk membuat donut chart\n",
    "plt.axis('equal')  # Memastikan lingkaran berukuran sama sehingga terlihat seperti donut\n",
    "plt.title('Comparison of Actual and Predicted Status')\n",
    "plt.show()"
   ]
  },
  {
   "cell_type": "code",
   "execution_count": 23,
   "metadata": {},
   "outputs": [],
   "source": [
    "# Data untuk plot\n",
    "healthy_count = predicted_labels_df[predicted_labels_df['Status'] == 0].shape[0]\n",
    "unhealthy_count = predicted_labels_df[predicted_labels_df['Status'] == 1].shape[0]\n",
    "status_labels = ['0', '1']\n",
    "status_counts = [healthy_count, unhealthy_count]"
   ]
  },
  {
   "cell_type": "code",
   "execution_count": 24,
   "metadata": {},
   "outputs": [
    {
     "data": {
      "image/png": "[encoded data removed]",
      "text/plain": [
       "<Figure size 640x480 with 1 Axes>"
      ]
     },
     "metadata": {},
     "output_type": "display_data"
    }
   ],
   "source": [
    "# Plot batang\n",
    "plt.bar(status_labels, status_counts, color=['green', 'red'])\n",
    "\n",
    "# Tambahkan label angka di atas setiap batang\n",
    "for i in range(len(status_labels)):\n",
    "    plt.text(i, status_counts[i], str(status_counts[i]), ha='center', va='bottom')\n",
    "\n",
    "# Label sumbu dan judul\n",
    "plt.xlabel('Status')\n",
    "plt.ylabel('Count')\n",
    "plt.title('Jumlah Status 0 dan 1')\n",
    "\n",
    "# Tampilkan plot\n",
    "plt.show()"
   ]
  },
  {
   "cell_type": "code",
   "execution_count": 25,
   "metadata": {},
   "outputs": [
    {
     "data": {
      "image/png": "[encoded data removed]",
      "text/plain": [
       "<Figure size 800x600 with 2 Axes>"
      ]
     },
     "metadata": {},
     "output_type": "display_data"
    },
    {
     "name": "stdout",
     "output_type": "stream",
     "text": [
      "              precision    recall  f1-score   support\n",
      "\n",
      "         0.0       0.92      0.96      0.94      6232\n",
      "         1.0       0.63      0.47      0.54       956\n",
      "\n",
      "    accuracy                           0.89      7188\n",
      "   macro avg       0.78      0.71      0.74      7188\n",
      "weighted avg       0.88      0.89      0.89      7188\n",
      "\n"
     ]
    }
   ],
   "source": [
    "from sklearn.metrics import classification_report, confusion_matrix\n",
    "import seaborn as sns\n",
    "\n",
    "# Buat confusion matrix\n",
    "conf_matrix = confusion_matrix(y_true, y_pred)\n",
    "\n",
    "# Tampilkan confusion matrix\n",
    "plt.figure(figsize=(8, 6))\n",
    "sns.heatmap(conf_matrix, annot=True, fmt='d', cmap='Blues')\n",
    "plt.xlabel('Predicted')\n",
    "plt.ylabel('Actual')\n",
    "plt.title('Confusion Matrix')\n",
    "plt.show()\n",
    "\n",
    "# Classification report\n",
    "print(classification_report(y_true, y_pred))\n"
   ]
  },
  {
   "cell_type": "code",
   "execution_count": 26,
   "metadata": {},
   "outputs": [
    {
     "data": {
      "image/png": "[encoded data removed]",
      "text/plain": [
       "<Figure size 800x600 with 1 Axes>"
      ]
     },
     "metadata": {},
     "output_type": "display_data"
    }
   ],
   "source": [
    "import matplotlib.pyplot as plt\n",
    "# s\n",
    "# Hitung jumlah status 0 dan 1 dari predicted_labels_df\n",
    "healthy_count = predicted_labels_df[predicted_labels_df['Status'] == 0].shape[0]\n",
    "unhealthy_count = predicted_labels_df[predicted_labels_df['Status'] == 1].shape[0]\n",
    "\n",
    "# Data untuk plot\n",
    "status_labels = ['Healthy', 'Unhealthy']\n",
    "status_counts = [healthy_count, unhealthy_count]\n",
    "colors = ['lightgreen', 'lightcoral']\n",
    "\n",
    "# Plot donut chart\n",
    "plt.figure(figsize=(8, 6))\n",
    "plt.pie(status_counts, labels=status_labels, colors=colors, autopct='%1.1f%%', startangle=90, wedgeprops=dict(width=0.4))\n",
    "plt.gca().add_artist(plt.Circle((0, 0), 0.6, fc='white'))  # Menambahkan lingkaran tengah untuk membuat donut chart\n",
    "plt.axis('equal')  # Memastikan lingkaran berukuran sama sehingga terlihat seperti donut\n",
    "plt.title('Jumlah Status Healthy dan Unhealthy setelah DQN')\n",
    "plt.show()"
   ]
  },
  {
   "cell_type": "code",
   "execution_count": 27,
   "metadata": {},
   "outputs": [],
   "source": [
    "import pandas as pd\n",
    "\n",
    "data1 = pd.read_csv(\"metrics-with-output.csv\")\n",
    "data2 = pd.read_csv(\"metrics-with-output scal.csv\")\n",
    "\n"
   ]
  },
  {
   "cell_type": "code",
   "execution_count": 28,
   "metadata": {},
   "outputs": [
    {
     "data": {
      "text/html": [
       "<div>\n",
       "<style scoped>\n",
       "    .dataframe tbody tr th:only-of-type {\n",
       "        vertical-align: middle;\n",
       "    }\n",
       "\n",
       "    .dataframe tbody tr th {\n",
       "        vertical-align: top;\n",
       "    }\n",
       "\n",
       "    .dataframe thead th {\n",
       "        text-align: right;\n",
       "    }\n",
       "</style>\n",
       "<table border=\"1\" class=\"dataframe\">\n",
       "  <thead>\n",
       "    <tr style=\"text-align: right;\">\n",
       "      <th></th>\n",
       "      <th>Time</th>\n",
       "      <th>Timestamp</th>\n",
       "      <th>cpu_usage</th>\n",
       "      <th>memory_usage</th>\n",
       "      <th>bandwidth_inbound</th>\n",
       "      <th>bandwidth_outbound</th>\n",
       "      <th>tps</th>\n",
       "      <th>tps_error</th>\n",
       "      <th>response_time</th>\n",
       "      <th>Status</th>\n",
       "    </tr>\n",
       "  </thead>\n",
       "  <tbody>\n",
       "    <tr>\n",
       "      <th>0</th>\n",
       "      <td>2023-09-08 01:16:00</td>\n",
       "      <td>1694110560000</td>\n",
       "      <td>9.00%</td>\n",
       "      <td>53.5%</td>\n",
       "      <td>7.46 GB/s</td>\n",
       "      <td>6.45 GB/s</td>\n",
       "      <td>2 req/s</td>\n",
       "      <td>0 req/s</td>\n",
       "      <td>607 ms</td>\n",
       "      <td>0</td>\n",
       "    </tr>\n",
       "    <tr>\n",
       "      <th>1</th>\n",
       "      <td>2023-09-08 01:16:05</td>\n",
       "      <td>1694110565000</td>\n",
       "      <td>16.6%</td>\n",
       "      <td>53.3%</td>\n",
       "      <td>5.85 GB/s</td>\n",
       "      <td>5.27 GB/s</td>\n",
       "      <td>2.20 req/s</td>\n",
       "      <td>0 req/s</td>\n",
       "      <td>2.09 s</td>\n",
       "      <td>0</td>\n",
       "    </tr>\n",
       "    <tr>\n",
       "      <th>2</th>\n",
       "      <td>2023-09-08 01:16:10</td>\n",
       "      <td>1694110570000</td>\n",
       "      <td>20.2%</td>\n",
       "      <td>55.3%</td>\n",
       "      <td>9.06 GB/s</td>\n",
       "      <td>7.96 GB/s</td>\n",
       "      <td>3.20 req/s</td>\n",
       "      <td>0 req/s</td>\n",
       "      <td>3.45 s</td>\n",
       "      <td>0</td>\n",
       "    </tr>\n",
       "    <tr>\n",
       "      <th>3</th>\n",
       "      <td>2023-09-08 01:16:15</td>\n",
       "      <td>1694110575000</td>\n",
       "      <td>14.6%</td>\n",
       "      <td>58.0%</td>\n",
       "      <td>8.41 GB/s</td>\n",
       "      <td>7.21 GB/s</td>\n",
       "      <td>3.20 req/s</td>\n",
       "      <td>0 req/s</td>\n",
       "      <td>2.58 s</td>\n",
       "      <td>0</td>\n",
       "    </tr>\n",
       "    <tr>\n",
       "      <th>4</th>\n",
       "      <td>2023-09-08 01:16:20</td>\n",
       "      <td>1694110580000</td>\n",
       "      <td>10.2%</td>\n",
       "      <td>53.5%</td>\n",
       "      <td>4.88 GB/s</td>\n",
       "      <td>4.30 GB/s</td>\n",
       "      <td>2.60 req/s</td>\n",
       "      <td>0 req/s</td>\n",
       "      <td>862 ms</td>\n",
       "      <td>0</td>\n",
       "    </tr>\n",
       "  </tbody>\n",
       "</table>\n",
       "</div>"
      ],
      "text/plain": [
       "                  Time      Timestamp cpu_usage memory_usage  \\\n",
       "0  2023-09-08 01:16:00  1694110560000     9.00%        53.5%   \n",
       "1  2023-09-08 01:16:05  1694110565000     16.6%        53.3%   \n",
       "2  2023-09-08 01:16:10  1694110570000     20.2%        55.3%   \n",
       "3  2023-09-08 01:16:15  1694110575000     14.6%        58.0%   \n",
       "4  2023-09-08 01:16:20  1694110580000     10.2%        53.5%   \n",
       "\n",
       "  bandwidth_inbound bandwidth_outbound         tps tps_error response_time  \\\n",
       "0         7.46 GB/s          6.45 GB/s     2 req/s   0 req/s        607 ms   \n",
       "1         5.85 GB/s          5.27 GB/s  2.20 req/s   0 req/s        2.09 s   \n",
       "2         9.06 GB/s          7.96 GB/s  3.20 req/s   0 req/s        3.45 s   \n",
       "3         8.41 GB/s          7.21 GB/s  3.20 req/s   0 req/s        2.58 s   \n",
       "4         4.88 GB/s          4.30 GB/s  2.60 req/s   0 req/s        862 ms   \n",
       "\n",
       "   Status  \n",
       "0       0  \n",
       "1       0  \n",
       "2       0  \n",
       "3       0  \n",
       "4       0  "
      ]
     },
     "execution_count": 28,
     "metadata": {},
     "output_type": "execute_result"
    }
   ],
   "source": [
    "data1.head()"
   ]
  },
  {
   "cell_type": "code",
   "execution_count": 29,
   "metadata": {},
   "outputs": [
    {
     "data": {
      "text/html": [
       "<div>\n",
       "<style scoped>\n",
       "    .dataframe tbody tr th:only-of-type {\n",
       "        vertical-align: middle;\n",
       "    }\n",
       "\n",
       "    .dataframe tbody tr th {\n",
       "        vertical-align: top;\n",
       "    }\n",
       "\n",
       "    .dataframe thead th {\n",
       "        text-align: right;\n",
       "    }\n",
       "</style>\n",
       "<table border=\"1\" class=\"dataframe\">\n",
       "  <thead>\n",
       "    <tr style=\"text-align: right;\">\n",
       "      <th></th>\n",
       "      <th>Time</th>\n",
       "      <th>Timestamp</th>\n",
       "      <th>cpu_usage</th>\n",
       "      <th>memory_usage</th>\n",
       "      <th>bandwidth_inbound</th>\n",
       "      <th>bandwidth_outbound</th>\n",
       "      <th>tps</th>\n",
       "      <th>tps_error</th>\n",
       "      <th>response_time</th>\n",
       "      <th>Status</th>\n",
       "    </tr>\n",
       "  </thead>\n",
       "  <tbody>\n",
       "    <tr>\n",
       "      <th>0</th>\n",
       "      <td>2023-09-08 01:16:00</td>\n",
       "      <td>1694110560000</td>\n",
       "      <td>9.00%</td>\n",
       "      <td>53.5%</td>\n",
       "      <td>7.46 GB/s</td>\n",
       "      <td>6.45 GB/s</td>\n",
       "      <td>2 req/s</td>\n",
       "      <td>0 req/s</td>\n",
       "      <td>607 ms</td>\n",
       "      <td>0</td>\n",
       "    </tr>\n",
       "    <tr>\n",
       "      <th>1</th>\n",
       "      <td>2023-09-08 01:16:05</td>\n",
       "      <td>1694110565000</td>\n",
       "      <td>16.6%</td>\n",
       "      <td>53.3%</td>\n",
       "      <td>5.85 GB/s</td>\n",
       "      <td>5.27 GB/s</td>\n",
       "      <td>2.20 req/s</td>\n",
       "      <td>0 req/s</td>\n",
       "      <td>2.09 s</td>\n",
       "      <td>0</td>\n",
       "    </tr>\n",
       "    <tr>\n",
       "      <th>2</th>\n",
       "      <td>2023-09-08 01:16:10</td>\n",
       "      <td>1694110570000</td>\n",
       "      <td>20.2%</td>\n",
       "      <td>55.3%</td>\n",
       "      <td>9.06 GB/s</td>\n",
       "      <td>7.96 GB/s</td>\n",
       "      <td>3.20 req/s</td>\n",
       "      <td>0 req/s</td>\n",
       "      <td>3.45 s</td>\n",
       "      <td>0</td>\n",
       "    </tr>\n",
       "    <tr>\n",
       "      <th>3</th>\n",
       "      <td>2023-09-08 01:16:15</td>\n",
       "      <td>1694110575000</td>\n",
       "      <td>14.6%</td>\n",
       "      <td>58.0%</td>\n",
       "      <td>8.41 GB/s</td>\n",
       "      <td>7.21 GB/s</td>\n",
       "      <td>3.20 req/s</td>\n",
       "      <td>0 req/s</td>\n",
       "      <td>2.58 s</td>\n",
       "      <td>0</td>\n",
       "    </tr>\n",
       "    <tr>\n",
       "      <th>4</th>\n",
       "      <td>2023-09-08 01:16:20</td>\n",
       "      <td>1694110580000</td>\n",
       "      <td>10.2%</td>\n",
       "      <td>53.5%</td>\n",
       "      <td>4.88 GB/s</td>\n",
       "      <td>4.30 GB/s</td>\n",
       "      <td>2.60 req/s</td>\n",
       "      <td>0 req/s</td>\n",
       "      <td>862 ms</td>\n",
       "      <td>0</td>\n",
       "    </tr>\n",
       "  </tbody>\n",
       "</table>\n",
       "</div>"
      ],
      "text/plain": [
       "                  Time      Timestamp cpu_usage memory_usage  \\\n",
       "0  2023-09-08 01:16:00  1694110560000     9.00%        53.5%   \n",
       "1  2023-09-08 01:16:05  1694110565000     16.6%        53.3%   \n",
       "2  2023-09-08 01:16:10  1694110570000     20.2%        55.3%   \n",
       "3  2023-09-08 01:16:15  1694110575000     14.6%        58.0%   \n",
       "4  2023-09-08 01:16:20  1694110580000     10.2%        53.5%   \n",
       "\n",
       "  bandwidth_inbound bandwidth_outbound         tps tps_error response_time  \\\n",
       "0         7.46 GB/s          6.45 GB/s     2 req/s   0 req/s        607 ms   \n",
       "1         5.85 GB/s          5.27 GB/s  2.20 req/s   0 req/s        2.09 s   \n",
       "2         9.06 GB/s          7.96 GB/s  3.20 req/s   0 req/s        3.45 s   \n",
       "3         8.41 GB/s          7.21 GB/s  3.20 req/s   0 req/s        2.58 s   \n",
       "4         4.88 GB/s          4.30 GB/s  2.60 req/s   0 req/s        862 ms   \n",
       "\n",
       "   Status  \n",
       "0       0  \n",
       "1       0  \n",
       "2       0  \n",
       "3       0  \n",
       "4       0  "
      ]
     },
     "execution_count": 29,
     "metadata": {},
     "output_type": "execute_result"
    }
   ],
   "source": [
    "data2.head()"
   ]
  },
  {
   "cell_type": "code",
   "execution_count": 30,
   "metadata": {},
   "outputs": [
    {
     "data": {
      "text/plain": [
       "Time                  7189\n",
       "Timestamp             7189\n",
       "cpu_usage             7189\n",
       "memory_usage          7189\n",
       "bandwidth_inbound     7189\n",
       "bandwidth_outbound    7189\n",
       "tps                   7189\n",
       "tps_error             7189\n",
       "response_time         7189\n",
       "Status                7189\n",
       "dtype: int64"
      ]
     },
     "execution_count": 30,
     "metadata": {},
     "output_type": "execute_result"
    }
   ],
   "source": [
    "data1[data1 == data2].count()"
   ]
  },
  {
   "cell_type": "code",
   "execution_count": 31,
   "metadata": {},
   "outputs": [
    {
     "data": {
      "text/plain": [
       "Time                  7189\n",
       "Timestamp             7189\n",
       "cpu_usage             7189\n",
       "memory_usage          7189\n",
       "bandwidth_inbound     7189\n",
       "bandwidth_outbound    7189\n",
       "tps                   7189\n",
       "tps_error             7189\n",
       "response_time         7189\n",
       "Status                7189\n",
       "dtype: int64"
      ]
     },
     "execution_count": 31,
     "metadata": {},
     "output_type": "execute_result"
    }
   ],
   "source": [
    "data1.count()"
   ]
  },
  {
   "cell_type": "code",
   "execution_count": null,
   "metadata": {},
   "outputs": [],
   "source": []
  }
 ],
 "metadata": {
  "kernelspec": {
   "display_name": "Python 3",
   "language": "python",
   "name": "python3"
  },
  "language_info": {
   "codemirror_mode": {
    "name": "ipython",
    "version": 3
   },
   "file_extension": ".py",
   "mimetype": "text/x-python",
   "name": "python",
   "nbconvert_exporter": "python",
   "pygments_lexer": "ipython3",
   "version": "3.12.5"
  }
 },
 "nbformat": 4,
 "nbformat_minor": 2
}

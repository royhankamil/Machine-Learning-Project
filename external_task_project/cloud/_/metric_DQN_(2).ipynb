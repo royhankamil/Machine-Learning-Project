{
  "cells": [
    {
      "cell_type": "code",
      "execution_count": null,
      "metadata": {
        "id": "vcjBXDoDL1Ue"
      },
      "outputs": [],
      "source": [
        "import pandas as pd\n",
        "import numpy as np\n",
        "import matplotlib.pyplot as plt\n",
        "from sklearn.preprocessing import MinMaxScaler\n",
        "from sklearn.model_selection import train_test_split\n",
        "import torch\n",
        "import torch.nn as nn\n",
        "import torch.optim as optim\n",
        "import gym\n",
        "from gym import spaces\n",
        "from collections import deque\n",
        "import random\n",
        "from imblearn.over_sampling import SMOTE"
      ]
    },
    {
      "cell_type": "code",
      "execution_count": null,
      "metadata": {
        "id": "hPBV2qlzL1Ug"
      },
      "outputs": [],
      "source": [
        "df = pd.read_csv(\"metrics-with-output scal.csv\")\n"
      ]
    },
    {
      "cell_type": "code",
      "execution_count": null,
      "metadata": {
        "colab": {
          "base_uri": "https://localhost:8080/",
          "height": 483
        },
        "id": "862q51qZL1Ug",
        "outputId": "67f856be-f61e-47d8-d400-155aafd7193d"
      },
      "outputs": [
        {
          "name": "stderr",
          "output_type": "stream",
          "text": [
            "/usr/local/lib/python3.10/dist-packages/ipykernel/ipkernel.py:283: DeprecationWarning: `should_run_async` will not call `transform_cell` automatically in the future. Please pass the result to `transformed_cell` argument and any exception that happen during thetransform in `preprocessing_exc_tuple` in IPython 7.17 and above.\n",
            "  and should_run_async(code)\n"
          ]
        },
        {
          "data": {
            "image/png": "[encoded data removed]",
            "text/plain": [
              "<Figure size 640x480 with 1 Axes>"
            ]
          },
          "metadata": {},
          "output_type": "display_data"
        }
      ],
      "source": [
        "import matplotlib.pyplot as plt\n",
        "\n",
        "#Membandingkan jumlah status Healthy dan Unhealthy dengan donut chart\n",
        "status_counts = df['Status'].value_counts()\n",
        "\n",
        "colors = ['red','blue']\n",
        "plt.pie(status_counts, labels=status_counts.index, colors=colors, autopct='%1.1f%%', startangle=90)\n",
        "plt.gca().add_artist(plt.Circle((0,0),0.70,fc='white'))  # Menambahkan lingkaran tengah untuk membuat donut chart\n",
        "plt.axis('equal')  # Memastikan lingkaran berukuran sama sehingga terlihat seperti donut\n",
        "plt.title('Distribution of Status')\n",
        "plt.show()"
      ]
    },
    {
      "cell_type": "code",
      "execution_count": null,
      "metadata": {
        "id": "VKxlNAiiL1Uh"
      },
      "outputs": [],
      "source": [
        "# Preprocessing\n",
        "df['cpu_usage'] = df['cpu_usage'].str.rstrip('%').astype(float) / 100.0\n",
        "df['memory_usage'] = df['memory_usage'].str.rstrip('%').astype(float) / 100.0\n",
        "\n",
        "def clean_bandwidth(value):\n",
        "    if 'GB/s' in value:\n",
        "        return float(value.replace('GB/s', ''))\n",
        "    elif 'MB/s' in value:\n",
        "        return float(value.replace('MB/s', '')) / 1024\n",
        "    else:\n",
        "        return float(value)\n",
        "\n",
        "df['bandwidth_inbound'] = df['bandwidth_inbound'].apply(clean_bandwidth)\n",
        "df['bandwidth_outbound'] = df['bandwidth_outbound'].apply(clean_bandwidth)\n",
        "df['tps'] = df['tps'].str.rstrip(' req/s').astype(float)\n",
        "df['tps_error'] = df['tps_error'].str.rstrip(' req/s').astype(float)\n",
        "df['response_time'] = df['response_time'].replace({' ms': '*1e-3', ' s': '*1'}, regex=True).map(pd.eval).astype(float)"
      ]
    },
    {
      "cell_type": "code",
      "execution_count": null,
      "metadata": {
        "colab": {
          "base_uri": "https://localhost:8080/"
        },
        "id": "fzep986qL1Uh",
        "outputId": "4d661ad3-13c3-4f93-b1e4-27ab5b033018"
      },
      "outputs": [
        {
          "name": "stdout",
          "output_type": "stream",
          "text": [
            "<class 'pandas.core.frame.DataFrame'>\n",
            "RangeIndex: 7189 entries, 0 to 7188\n",
            "Data columns (total 10 columns):\n",
            " #   Column              Non-Null Count  Dtype  \n",
            "---  ------              --------------  -----  \n",
            " 0   Time                7189 non-null   object \n",
            " 1   Timestamp           7189 non-null   int64  \n",
            " 2   cpu_usage           7189 non-null   float64\n",
            " 3   memory_usage        7189 non-null   float64\n",
            " 4   bandwidth_inbound   7189 non-null   float64\n",
            " 5   bandwidth_outbound  7189 non-null   float64\n",
            " 6   tps                 7189 non-null   float64\n",
            " 7   tps_error           7189 non-null   float64\n",
            " 8   response_time       7189 non-null   float64\n",
            " 9   Status              7189 non-null   int64  \n",
            "dtypes: float64(7), int64(2), object(1)\n",
            "memory usage: 561.8+ KB\n"
          ]
        },
        {
          "name": "stderr",
          "output_type": "stream",
          "text": [
            "/usr/local/lib/python3.10/dist-packages/ipykernel/ipkernel.py:283: DeprecationWarning: `should_run_async` will not call `transform_cell` automatically in the future. Please pass the result to `transformed_cell` argument and any exception that happen during thetransform in `preprocessing_exc_tuple` in IPython 7.17 and above.\n",
            "  and should_run_async(code)\n"
          ]
        }
      ],
      "source": [
        "df.info()"
      ]
    },
    {
      "cell_type": "code",
      "execution_count": null,
      "metadata": {
        "colab": {
          "base_uri": "https://localhost:8080/",
          "height": 355
        },
        "id": "lGqkTdDSL1Ui",
        "outputId": "a3f964a6-1f84-4b60-e76e-bdc162b93e73"
      },
      "outputs": [
        {
          "name": "stderr",
          "output_type": "stream",
          "text": [
            "/usr/local/lib/python3.10/dist-packages/ipykernel/ipkernel.py:283: DeprecationWarning: `should_run_async` will not call `transform_cell` automatically in the future. Please pass the result to `transformed_cell` argument and any exception that happen during thetransform in `preprocessing_exc_tuple` in IPython 7.17 and above.\n",
            "  and should_run_async(code)\n"
          ]
        },
        {
          "data": {
            "application/vnd.google.colaboratory.intrinsic+json": {
              "summary": "{\n  \"name\": \"dataset\",\n  \"rows\": 8,\n  \"fields\": [\n    {\n      \"column\": \"cpu_usage\",\n      \"properties\": {\n        \"dtype\": \"number\",\n        \"std\": 2541.6087559495572,\n        \"min\": 0.01,\n        \"max\": 7189.0,\n        \"num_unique_values\": 8,\n        \"samples\": [\n          0.16309019335095284,\n          0.156,\n          7189.0\n        ],\n        \"semantic_type\": \"\",\n        \"description\": \"\"\n      }\n    },\n    {\n      \"column\": \"memory_usage\",\n      \"properties\": {\n        \"dtype\": \"number\",\n        \"std\": 2541.52461295516,\n        \"min\": 0.0193559760958669,\n        \"max\": 7189.0,\n        \"num_unique_values\": 8,\n        \"samples\": [\n          0.542723049102796,\n          0.539,\n          7189.0\n        ],\n        \"semantic_type\": \"\",\n        \"description\": \"\"\n      }\n    },\n    {\n      \"column\": \"bandwidth_inbound\",\n      \"properties\": {\n        \"dtype\": \"number\",\n        \"std\": 2539.2716908245466,\n        \"min\": 0.0560546875,\n        \"max\": 7189.0,\n        \"num_unique_values\": 8,\n        \"samples\": [\n          6.318376556196968,\n          5.91,\n          7189.0\n        ],\n        \"semantic_type\": \"\",\n        \"description\": \"\"\n      }\n    },\n    {\n      \"column\": \"bandwidth_outbound\",\n      \"properties\": {\n        \"dtype\": \"number\",\n        \"std\": 2539.5796979842094,\n        \"min\": 0.06064453125,\n        \"max\": 7189.0,\n        \"num_unique_values\": 8,\n        \"samples\": [\n          5.573616530571881,\n          5.23,\n          7189.0\n        ],\n        \"semantic_type\": \"\",\n        \"description\": \"\"\n      }\n    },\n    {\n      \"column\": \"tps\",\n      \"properties\": {\n        \"dtype\": \"number\",\n        \"std\": 2540.8334493228667,\n        \"min\": 0.6,\n        \"max\": 7189.0,\n        \"num_unique_values\": 8,\n        \"samples\": [\n          2.490218389205731,\n          2.4,\n          7189.0\n        ],\n        \"semantic_type\": \"\",\n        \"description\": \"\"\n      }\n    },\n    {\n      \"column\": \"tps_error\",\n      \"properties\": {\n        \"dtype\": \"number\",\n        \"std\": 2541.42712553564,\n        \"min\": 0.0,\n        \"max\": 7189.0,\n        \"num_unique_values\": 5,\n        \"samples\": [\n          0.170816525246905,\n          4.6,\n          0.548970466960141\n        ],\n        \"semantic_type\": \"\",\n        \"description\": \"\"\n      }\n    },\n    {\n      \"column\": \"response_time\",\n      \"properties\": {\n        \"dtype\": \"number\",\n        \"std\": 2540.9418749397437,\n        \"min\": 0.11800000000000001,\n        \"max\": 7189.0,\n        \"num_unique_values\": 8,\n        \"samples\": [\n          1.7707240228126304,\n          1.52,\n          7189.0\n        ],\n        \"semantic_type\": \"\",\n        \"description\": \"\"\n      }\n    },\n    {\n      \"column\": \"Status\",\n      \"properties\": {\n        \"dtype\": \"number\",\n        \"std\": 2541.6209726646644,\n        \"min\": 0.0,\n        \"max\": 7189.0,\n        \"num_unique_values\": 5,\n        \"samples\": [\n          0.1329809431075254,\n          1.0,\n          0.3395777555808237\n        ],\n        \"semantic_type\": \"\",\n        \"description\": \"\"\n      }\n    }\n  ]\n}",
              "type": "dataframe"
            },
            "text/html": [
              "\n",
              "  <div id=\"df-c41fb796-2d4a-408a-810e-723516a69cab\" class=\"colab-df-container\">\n",
              "    <div>\n",
              "<style scoped>\n",
              "    .dataframe tbody tr th:only-of-type {\n",
              "        vertical-align: middle;\n",
              "    }\n",
              "\n",
              "    .dataframe tbody tr th {\n",
              "        vertical-align: top;\n",
              "    }\n",
              "\n",
              "    .dataframe thead th {\n",
              "        text-align: right;\n",
              "    }\n",
              "</style>\n",
              "<table border=\"1\" class=\"dataframe\">\n",
              "  <thead>\n",
              "    <tr style=\"text-align: right;\">\n",
              "      <th></th>\n",
              "      <th>cpu_usage</th>\n",
              "      <th>memory_usage</th>\n",
              "      <th>bandwidth_inbound</th>\n",
              "      <th>bandwidth_outbound</th>\n",
              "      <th>tps</th>\n",
              "      <th>tps_error</th>\n",
              "      <th>response_time</th>\n",
              "      <th>Status</th>\n",
              "    </tr>\n",
              "  </thead>\n",
              "  <tbody>\n",
              "    <tr>\n",
              "      <th>count</th>\n",
              "      <td>7189.000000</td>\n",
              "      <td>7189.000000</td>\n",
              "      <td>7189.000000</td>\n",
              "      <td>7189.000000</td>\n",
              "      <td>7189.000000</td>\n",
              "      <td>7189.000000</td>\n",
              "      <td>7189.000000</td>\n",
              "      <td>7189.000000</td>\n",
              "    </tr>\n",
              "    <tr>\n",
              "      <th>mean</th>\n",
              "      <td>0.163090</td>\n",
              "      <td>0.542723</td>\n",
              "      <td>6.318377</td>\n",
              "      <td>5.573617</td>\n",
              "      <td>2.490218</td>\n",
              "      <td>0.170817</td>\n",
              "      <td>1.770724</td>\n",
              "      <td>0.132981</td>\n",
              "    </tr>\n",
              "    <tr>\n",
              "      <th>std</th>\n",
              "      <td>0.069272</td>\n",
              "      <td>0.019356</td>\n",
              "      <td>3.193037</td>\n",
              "      <td>2.728239</td>\n",
              "      <td>0.784028</td>\n",
              "      <td>0.548970</td>\n",
              "      <td>1.024615</td>\n",
              "      <td>0.339578</td>\n",
              "    </tr>\n",
              "    <tr>\n",
              "      <th>min</th>\n",
              "      <td>0.010000</td>\n",
              "      <td>0.497000</td>\n",
              "      <td>0.056055</td>\n",
              "      <td>0.060645</td>\n",
              "      <td>0.600000</td>\n",
              "      <td>0.000000</td>\n",
              "      <td>0.118000</td>\n",
              "      <td>0.000000</td>\n",
              "    </tr>\n",
              "    <tr>\n",
              "      <th>25%</th>\n",
              "      <td>0.118000</td>\n",
              "      <td>0.533000</td>\n",
              "      <td>3.940000</td>\n",
              "      <td>3.540000</td>\n",
              "      <td>2.000000</td>\n",
              "      <td>0.000000</td>\n",
              "      <td>0.952000</td>\n",
              "      <td>0.000000</td>\n",
              "    </tr>\n",
              "    <tr>\n",
              "      <th>50%</th>\n",
              "      <td>0.156000</td>\n",
              "      <td>0.539000</td>\n",
              "      <td>5.910000</td>\n",
              "      <td>5.230000</td>\n",
              "      <td>2.400000</td>\n",
              "      <td>0.000000</td>\n",
              "      <td>1.520000</td>\n",
              "      <td>0.000000</td>\n",
              "    </tr>\n",
              "    <tr>\n",
              "      <th>75%</th>\n",
              "      <td>0.198000</td>\n",
              "      <td>0.549000</td>\n",
              "      <td>8.310000</td>\n",
              "      <td>7.260000</td>\n",
              "      <td>3.000000</td>\n",
              "      <td>0.000000</td>\n",
              "      <td>2.450000</td>\n",
              "      <td>0.000000</td>\n",
              "    </tr>\n",
              "    <tr>\n",
              "      <th>max</th>\n",
              "      <td>1.000000</td>\n",
              "      <td>0.700000</td>\n",
              "      <td>20.400000</td>\n",
              "      <td>17.600000</td>\n",
              "      <td>5.800000</td>\n",
              "      <td>4.600000</td>\n",
              "      <td>7.100000</td>\n",
              "      <td>1.000000</td>\n",
              "    </tr>\n",
              "  </tbody>\n",
              "</table>\n",
              "</div>\n",
              "    <div class=\"colab-df-buttons\">\n",
              "\n",
              "  <div class=\"colab-df-container\">\n",
              "    <button class=\"colab-df-convert\" onclick=\"convertToInteractive('df-c41fb796-2d4a-408a-810e-723516a69cab')\"\n",
              "            title=\"Convert this dataframe to an interactive table.\"\n",
              "            style=\"display:none;\">\n",
              "\n",
              "  <svg xmlns=\"http://www.w3.org/2000/svg\" height=\"24px\" viewBox=\"0 -960 960 960\">\n",
              "    <path d=\"M120-120v-720h720v720H120Zm60-500h600v-160H180v160Zm220 220h160v-160H400v160Zm0 220h160v-160H400v160ZM180-400h160v-160H180v160Zm440 0h160v-160H620v160ZM180-180h160v-160H180v160Zm440 0h160v-160H620v160Z\"/>\n",
              "  </svg>\n",
              "    </button>\n",
              "\n",
              "  <style>\n",
              "    .colab-df-container {\n",
              "      display:flex;\n",
              "      gap: 12px;\n",
              "    }\n",
              "\n",
              "    .colab-df-convert {\n",
              "      background-color: #E8F0FE;\n",
              "      border: none;\n",
              "      border-radius: 50%;\n",
              "      cursor: pointer;\n",
              "      display: none;\n",
              "      fill: #1967D2;\n",
              "      height: 32px;\n",
              "      padding: 0 0 0 0;\n",
              "      width: 32px;\n",
              "    }\n",
              "\n",
              "    .colab-df-convert:hover {\n",
              "      background-color: #E2EBFA;\n",
              "      box-shadow: 0px 1px 2px rgba(60, 64, 67, 0.3), 0px 1px 3px 1px rgba(60, 64, 67, 0.15);\n",
              "      fill: #174EA6;\n",
              "    }\n",
              "\n",
              "    .colab-df-buttons div {\n",
              "      margin-bottom: 4px;\n",
              "    }\n",
              "\n",
              "    [theme=dark] .colab-df-convert {\n",
              "      background-color: #3B4455;\n",
              "      fill: #D2E3FC;\n",
              "    }\n",
              "\n",
              "    [theme=dark] .colab-df-convert:hover {\n",
              "      background-color: #434B5C;\n",
              "      box-shadow: 0px 1px 3px 1px rgba(0, 0, 0, 0.15);\n",
              "      filter: drop-shadow(0px 1px 2px rgba(0, 0, 0, 0.3));\n",
              "      fill: #FFFFFF;\n",
              "    }\n",
              "  </style>\n",
              "\n",
              "    <script>\n",
              "      const buttonEl =\n",
              "        document.querySelector('#df-c41fb796-2d4a-408a-810e-723516a69cab button.colab-df-convert');\n",
              "      buttonEl.style.display =\n",
              "        google.colab.kernel.accessAllowed ? 'block' : 'none';\n",
              "\n",
              "      async function convertToInteractive(key) {\n",
              "        const element = document.querySelector('#df-c41fb796-2d4a-408a-810e-723516a69cab');\n",
              "        const dataTable =\n",
              "          await google.colab.kernel.invokeFunction('convertToInteractive',\n",
              "                                                    [key], {});\n",
              "        if (!dataTable) return;\n",
              "\n",
              "        const docLinkHtml = 'Like what you see? Visit the ' +\n",
              "          '<a target=\"_blank\" href=https://colab.research.google.com/notebooks/data_table.ipynb>data table notebook</a>'\n",
              "          + ' to learn more about interactive tables.';\n",
              "        element.innerHTML = '';\n",
              "        dataTable['output_type'] = 'display_data';\n",
              "        await google.colab.output.renderOutput(dataTable, element);\n",
              "        const docLink = document.createElement('div');\n",
              "        docLink.innerHTML = docLinkHtml;\n",
              "        element.appendChild(docLink);\n",
              "      }\n",
              "    </script>\n",
              "  </div>\n",
              "\n",
              "\n",
              "<div id=\"df-1bdcc9b9-200d-4bc3-bb9e-6f93aab8bf8e\">\n",
              "  <button class=\"colab-df-quickchart\" onclick=\"quickchart('df-1bdcc9b9-200d-4bc3-bb9e-6f93aab8bf8e')\"\n",
              "            title=\"Suggest charts\"\n",
              "            style=\"display:none;\">\n",
              "\n",
              "<svg xmlns=\"http://www.w3.org/2000/svg\" height=\"24px\"viewBox=\"0 0 24 24\"\n",
              "     width=\"24px\">\n",
              "    <g>\n",
              "        <path d=\"M19 3H5c-1.1 0-2 .9-2 2v14c0 1.1.9 2 2 2h14c1.1 0 2-.9 2-2V5c0-1.1-.9-2-2-2zM9 17H7v-7h2v7zm4 0h-2V7h2v10zm4 0h-2v-4h2v4z\"/>\n",
              "    </g>\n",
              "</svg>\n",
              "  </button>\n",
              "\n",
              "<style>\n",
              "  .colab-df-quickchart {\n",
              "      --bg-color: #E8F0FE;\n",
              "      --fill-color: #1967D2;\n",
              "      --hover-bg-color: #E2EBFA;\n",
              "      --hover-fill-color: #174EA6;\n",
              "      --disabled-fill-color: #AAA;\n",
              "      --disabled-bg-color: #DDD;\n",
              "  }\n",
              "\n",
              "  [theme=dark] .colab-df-quickchart {\n",
              "      --bg-color: #3B4455;\n",
              "      --fill-color: #D2E3FC;\n",
              "      --hover-bg-color: #434B5C;\n",
              "      --hover-fill-color: #FFFFFF;\n",
              "      --disabled-bg-color: #3B4455;\n",
              "      --disabled-fill-color: #666;\n",
              "  }\n",
              "\n",
              "  .colab-df-quickchart {\n",
              "    background-color: var(--bg-color);\n",
              "    border: none;\n",
              "    border-radius: 50%;\n",
              "    cursor: pointer;\n",
              "    display: none;\n",
              "    fill: var(--fill-color);\n",
              "    height: 32px;\n",
              "    padding: 0;\n",
              "    width: 32px;\n",
              "  }\n",
              "\n",
              "  .colab-df-quickchart:hover {\n",
              "    background-color: var(--hover-bg-color);\n",
              "    box-shadow: 0 1px 2px rgba(60, 64, 67, 0.3), 0 1px 3px 1px rgba(60, 64, 67, 0.15);\n",
              "    fill: var(--button-hover-fill-color);\n",
              "  }\n",
              "\n",
              "  .colab-df-quickchart-complete:disabled,\n",
              "  .colab-df-quickchart-complete:disabled:hover {\n",
              "    background-color: var(--disabled-bg-color);\n",
              "    fill: var(--disabled-fill-color);\n",
              "    box-shadow: none;\n",
              "  }\n",
              "\n",
              "  .colab-df-spinner {\n",
              "    border: 2px solid var(--fill-color);\n",
              "    border-color: transparent;\n",
              "    border-bottom-color: var(--fill-color);\n",
              "    animation:\n",
              "      spin 1s steps(1) infinite;\n",
              "  }\n",
              "\n",
              "  @keyframes spin {\n",
              "    0% {\n",
              "      border-color: transparent;\n",
              "      border-bottom-color: var(--fill-color);\n",
              "      border-left-color: var(--fill-color);\n",
              "    }\n",
              "    20% {\n",
              "      border-color: transparent;\n",
              "      border-left-color: var(--fill-color);\n",
              "      border-top-color: var(--fill-color);\n",
              "    }\n",
              "    30% {\n",
              "      border-color: transparent;\n",
              "      border-left-color: var(--fill-color);\n",
              "      border-top-color: var(--fill-color);\n",
              "      border-right-color: var(--fill-color);\n",
              "    }\n",
              "    40% {\n",
              "      border-color: transparent;\n",
              "      border-right-color: var(--fill-color);\n",
              "      border-top-color: var(--fill-color);\n",
              "    }\n",
              "    60% {\n",
              "      border-color: transparent;\n",
              "      border-right-color: var(--fill-color);\n",
              "    }\n",
              "    80% {\n",
              "      border-color: transparent;\n",
              "      border-right-color: var(--fill-color);\n",
              "      border-bottom-color: var(--fill-color);\n",
              "    }\n",
              "    90% {\n",
              "      border-color: transparent;\n",
              "      border-bottom-color: var(--fill-color);\n",
              "    }\n",
              "  }\n",
              "</style>\n",
              "\n",
              "  <script>\n",
              "    async function quickchart(key) {\n",
              "      const quickchartButtonEl =\n",
              "        document.querySelector('#' + key + ' button');\n",
              "      quickchartButtonEl.disabled = true;  // To prevent multiple clicks.\n",
              "      quickchartButtonEl.classList.add('colab-df-spinner');\n",
              "      try {\n",
              "        const charts = await google.colab.kernel.invokeFunction(\n",
              "            'suggestCharts', [key], {});\n",
              "      } catch (error) {\n",
              "        console.error('Error during call to suggestCharts:', error);\n",
              "      }\n",
              "      quickchartButtonEl.classList.remove('colab-df-spinner');\n",
              "      quickchartButtonEl.classList.add('colab-df-quickchart-complete');\n",
              "    }\n",
              "    (() => {\n",
              "      let quickchartButtonEl =\n",
              "        document.querySelector('#df-1bdcc9b9-200d-4bc3-bb9e-6f93aab8bf8e button');\n",
              "      quickchartButtonEl.style.display =\n",
              "        google.colab.kernel.accessAllowed ? 'block' : 'none';\n",
              "    })();\n",
              "  </script>\n",
              "</div>\n",
              "\n",
              "    </div>\n",
              "  </div>\n"
            ],
            "text/plain": [
              "         cpu_usage  memory_usage  bandwidth_inbound  bandwidth_outbound  \\\n",
              "count  7189.000000   7189.000000        7189.000000         7189.000000   \n",
              "mean      0.163090      0.542723           6.318377            5.573617   \n",
              "std       0.069272      0.019356           3.193037            2.728239   \n",
              "min       0.010000      0.497000           0.056055            0.060645   \n",
              "25%       0.118000      0.533000           3.940000            3.540000   \n",
              "50%       0.156000      0.539000           5.910000            5.230000   \n",
              "75%       0.198000      0.549000           8.310000            7.260000   \n",
              "max       1.000000      0.700000          20.400000           17.600000   \n",
              "\n",
              "               tps    tps_error  response_time       Status  \n",
              "count  7189.000000  7189.000000    7189.000000  7189.000000  \n",
              "mean      2.490218     0.170817       1.770724     0.132981  \n",
              "std       0.784028     0.548970       1.024615     0.339578  \n",
              "min       0.600000     0.000000       0.118000     0.000000  \n",
              "25%       2.000000     0.000000       0.952000     0.000000  \n",
              "50%       2.400000     0.000000       1.520000     0.000000  \n",
              "75%       3.000000     0.000000       2.450000     0.000000  \n",
              "max       5.800000     4.600000       7.100000     1.000000  "
            ]
          },
          "execution_count": 21,
          "metadata": {},
          "output_type": "execute_result"
        }
      ],
      "source": [
        "# Pembersihan/Penghapusan data yang tidak dipakai\n",
        "dataset = df.drop(df.columns[[0, 1]], axis=1)\n",
        "\n",
        "dataset.describe()"
      ]
    },
    {
      "cell_type": "code",
      "execution_count": null,
      "metadata": {
        "colab": {
          "base_uri": "https://localhost:8080/"
        },
        "id": "dfL2RF2AL1Ui",
        "outputId": "f70ebda4-0f66-4eaa-d422-4e7a48b56c46"
      },
      "outputs": [
        {
          "name": "stderr",
          "output_type": "stream",
          "text": [
            "/usr/local/lib/python3.10/dist-packages/ipykernel/ipkernel.py:283: DeprecationWarning: `should_run_async` will not call `transform_cell` automatically in the future. Please pass the result to `transformed_cell` argument and any exception that happen during thetransform in `preprocessing_exc_tuple` in IPython 7.17 and above.\n",
            "  and should_run_async(code)\n"
          ]
        }
      ],
      "source": [
        "# Encode Status\n",
        "from sklearn.preprocessing import LabelEncoder\n",
        "label_encoder = LabelEncoder()\n",
        "df['Status'] = label_encoder.fit_transform(df['Status'])\n",
        "\n",
        "# %%\n",
        "# Pembersihan dan penghapusan data yang tidak dipakai\n",
        "dataset = df.drop(df.columns[[0, 1]], axis=1)\n"
      ]
    },
    {
      "cell_type": "code",
      "execution_count": null,
      "metadata": {
        "colab": {
          "base_uri": "https://localhost:8080/"
        },
        "id": "ma1i5UhAL1Ui",
        "outputId": "d771bf76-27b8-4ca2-8454-4f5b8c5ba225"
      },
      "outputs": [
        {
          "name": "stderr",
          "output_type": "stream",
          "text": [
            "/usr/local/lib/python3.10/dist-packages/ipykernel/ipkernel.py:283: DeprecationWarning: `should_run_async` will not call `transform_cell` automatically in the future. Please pass the result to `transformed_cell` argument and any exception that happen during thetransform in `preprocessing_exc_tuple` in IPython 7.17 and above.\n",
            "  and should_run_async(code)\n"
          ]
        }
      ],
      "source": [
        "# Split data into features and target\n",
        "X = dataset.drop('Status', axis=1)\n",
        "y = dataset['Status']"
      ]
    },
    {
      "cell_type": "code",
      "execution_count": null,
      "metadata": {
        "colab": {
          "base_uri": "https://localhost:8080/"
        },
        "id": "JTSb08WnL1Ui",
        "outputId": "0832893f-8330-4f4e-9a6e-dcd6f3ef5167"
      },
      "outputs": [
        {
          "name": "stderr",
          "output_type": "stream",
          "text": [
            "/usr/local/lib/python3.10/dist-packages/ipykernel/ipkernel.py:283: DeprecationWarning: `should_run_async` will not call `transform_cell` automatically in the future. Please pass the result to `transformed_cell` argument and any exception that happen during thetransform in `preprocessing_exc_tuple` in IPython 7.17 and above.\n",
            "  and should_run_async(code)\n"
          ]
        }
      ],
      "source": [
        "# Normalize the data\n",
        "scaler = MinMaxScaler()\n",
        "X_scaled = scaler.fit_transform(X)\n"
      ]
    },
    {
      "cell_type": "code",
      "execution_count": null,
      "metadata": {
        "colab": {
          "base_uri": "https://localhost:8080/"
        },
        "id": "fqvL5om4L1Uj",
        "outputId": "b2428add-5a0b-4ccf-de8d-7ccd9260d329"
      },
      "outputs": [
        {
          "name": "stderr",
          "output_type": "stream",
          "text": [
            "/usr/local/lib/python3.10/dist-packages/ipykernel/ipkernel.py:283: DeprecationWarning: `should_run_async` will not call `transform_cell` automatically in the future. Please pass the result to `transformed_cell` argument and any exception that happen during thetransform in `preprocessing_exc_tuple` in IPython 7.17 and above.\n",
            "  and should_run_async(code)\n"
          ]
        }
      ],
      "source": [
        "# Apply SMOTE to balance the dataset\n",
        "smote = SMOTE(random_state=42)\n",
        "X_resampled, y_resampled = smote.fit_resample(X_scaled, y)\n",
        "\n",
        "# Split into train and test sets\n",
        "X_train, X_test, y_train, y_test = train_test_split(X_resampled, y_resampled, test_size=0.2, random_state=42)"
      ]
    },
    {
      "cell_type": "code",
      "execution_count": null,
      "metadata": {
        "colab": {
          "base_uri": "https://localhost:8080/"
        },
        "id": "ZJ0ZIpc8L1Uj",
        "outputId": "dbef05c3-6b52-48e0-ca2c-ccf63475adce"
      },
      "outputs": [
        {
          "name": "stderr",
          "output_type": "stream",
          "text": [
            "/usr/local/lib/python3.10/dist-packages/ipykernel/ipkernel.py:283: DeprecationWarning: `should_run_async` will not call `transform_cell` automatically in the future. Please pass the result to `transformed_cell` argument and any exception that happen during thetransform in `preprocessing_exc_tuple` in IPython 7.17 and above.\n",
            "  and should_run_async(code)\n"
          ]
        }
      ],
      "source": [
        "# DQN Network\n",
        "class QNetwork(nn.Module):\n",
        "    def __init__(self, input_dim, output_dim):\n",
        "        super(QNetwork, self).__init__()\n",
        "        self.fc1 = nn.Linear(input_dim, 128)\n",
        "        self.fc2 = nn.Linear(128, 128)\n",
        "        self.fc3 = nn.Linear(128, output_dim)\n",
        "\n",
        "    def forward(self, x):\n",
        "        x = torch.relu(self.fc1(x))\n",
        "        x = torch.relu(self.fc2(x))\n",
        "        return self.fc3(x)"
      ]
    },
    {
      "cell_type": "code",
      "execution_count": null,
      "metadata": {
        "id": "AQZ-14rjL1Uj"
      },
      "outputs": [],
      "source": [
        "class DQNAgent:\n",
        "    def __init__(self, state_dim, action_dim, lr=0.001, gamma=0.99, epsilon=1.0, epsilon_decay=0.995, epsilon_min=0.01, batch_size=128):\n",
        "        self.state_dim = state_dim\n",
        "        self.action_dim = action_dim\n",
        "        self.lr = lr\n",
        "        self.gamma = gamma\n",
        "        self.epsilon = epsilon\n",
        "        self.epsilon_decay = epsilon_decay\n",
        "        self.epsilon_min = epsilon_min\n",
        "        self.batch_size = batch_size\n",
        "        self.memory = deque(maxlen=20000)\n",
        "\n",
        "        self.q_network = QNetwork(state_dim, action_dim).to(device)\n",
        "        self.target_network = QNetwork(state_dim, action_dim).to(device)\n",
        "        self.optimizer = optim.Adam(self.q_network.parameters(), lr=lr)\n",
        "        self.loss_fn = nn.MSELoss()\n",
        "\n",
        "        # Copy the weights to the target network\n",
        "        self.target_network.load_state_dict(self.q_network.state_dict())\n",
        "\n",
        "    def select_action(self, state):\n",
        "        if np.random.rand() < self.epsilon:\n",
        "            return random.choice(range(self.action_dim))\n",
        "        state = torch.FloatTensor(state).unsqueeze(0).to(device)\n",
        "        q_values = self.q_network(state)\n",
        "        return torch.argmax(q_values).item()\n",
        "\n",
        "    def store_transition(self, state, action, reward, next_state, done):\n",
        "        self.memory.append((state, action, reward, next_state, done))\n",
        "\n",
        "    def replay(self):\n",
        "        if len(self.memory) < self.batch_size:\n",
        "            return\n",
        "\n",
        "        batch = random.sample(self.memory, self.batch_size)\n",
        "        states, actions, rewards, next_states, dones = zip(*batch)\n",
        "\n",
        "        # Convert to NumPy array first, then to Tensor\n",
        "        states = torch.FloatTensor(np.array(states)).to(device)\n",
        "        actions = torch.LongTensor(actions).unsqueeze(1).to(device)\n",
        "        rewards = torch.FloatTensor(rewards).to(device)\n",
        "        next_states = torch.FloatTensor(np.array(next_states)).to(device)\n",
        "        dones = torch.FloatTensor(dones).to(device)\n",
        "\n",
        "        q_values = self.q_network(states).gather(1, actions).squeeze()\n",
        "        with torch.no_grad():\n",
        "            max_next_q_values = self.target_network(next_states).max(1)[0]\n",
        "            target_q_values = rewards + self.gamma * max_next_q_values * (1 - dones)\n",
        "\n",
        "        loss = self.loss_fn(q_values, target_q_values)\n",
        "\n",
        "        self.optimizer.zero_grad()\n",
        "        loss.backward()\n",
        "        self.optimizer.step()\n",
        "\n",
        "        if self.epsilon > self.epsilon_min:\n",
        "            self.epsilon *= self.epsilon_decay\n",
        "\n",
        "\n",
        "    def update_target_network(self):\n",
        "        self.target_network.load_state_dict(self.q_network.state_dict())"
      ]
    },
    {
      "cell_type": "code",
      "execution_count": null,
      "metadata": {
        "id": "F41fLYQ1L1Uj"
      },
      "outputs": [],
      "source": [
        "# Custom Environment\n",
        "class CustomEnv(gym.Env):\n",
        "    def __init__(self):\n",
        "        super(CustomEnv, self).__init__()\n",
        "\n",
        "        # Load data from the dataset\n",
        "        self.df = dataset\n",
        "\n",
        "        # Define action and observation space\n",
        "        self.action_space = spaces.Discrete(2)\n",
        "        self.observation_space = spaces.Box(low=0, high=1, shape=(7,), dtype=np.float64)\n",
        "\n",
        "        self.current_step = 0\n",
        "\n",
        "    def reset(self):\n",
        "        self.current_step = 0\n",
        "        return self._get_observation()\n",
        "\n",
        "    def step(self, action):\n",
        "        self.current_step += 1\n",
        "        done = self.current_step >= len(self.df) - 1\n",
        "\n",
        "        reward = self._get_reward(action)\n",
        "        next_state = self._get_observation()\n",
        "\n",
        "        return next_state, reward, done, {}\n",
        "\n",
        "    def _get_observation(self):\n",
        "        return self.df.iloc[self.current_step][['cpu_usage', 'memory_usage', 'bandwidth_inbound', 'bandwidth_outbound', 'tps', 'tps_error', 'response_time']].values\n",
        "\n",
        "    def _get_reward(self, action):\n",
        "        if action == self.df.iloc[self.current_step]['Status']:\n",
        "            return 1.0\n",
        "        else:\n",
        "            return -1.0\n"
      ]
    },
    {
      "cell_type": "code",
      "execution_count": null,
      "metadata": {
        "id": "U61YtshvL1Uj"
      },
      "outputs": [],
      "source": [
        "# Training DQN\n",
        "env = CustomEnv()\n",
        "state_dim = env.observation_space.shape[0]\n",
        "action_dim = env.action_space.n\n",
        "device = torch.device('cuda' if torch.cuda.is_available() else 'cpu')\n",
        "\n",
        "dqn_agent = DQNAgent(state_dim, action_dim)\n",
        "\n",
        "num_episodes = 600\n",
        "update_target_steps = 100\n",
        "episode_rewards = []"
      ]
    },
    {
      "cell_type": "code",
      "execution_count": 30,
      "metadata": {
        "colab": {
          "base_uri": "https://localhost:8080/"
        },
        "id": "BNI-cRxVL1Uk",
        "outputId": "6e790398-0476-4e94-bcc2-81413e206f1e"
      },
      "outputs": [
        {
          "output_type": "stream",
          "name": "stdout",
          "text": [
            "Episode 0: Total Reward: 5316.0\n",
            "Episode 100: Total Reward: 6424.0\n",
            "Episode 200: Total Reward: 6392.0\n",
            "Episode 300: Total Reward: 6336.0\n",
            "Episode 400: Total Reward: 6430.0\n",
            "Episode 500: Total Reward: 6332.0\n"
          ]
        }
      ],
      "source": [
        "for episode in range(num_episodes):\n",
        "    state = env.reset()\n",
        "    total_reward = 0\n",
        "    done = False\n",
        "\n",
        "    while not done:\n",
        "        action = dqn_agent.select_action(state)\n",
        "        next_state, reward, done, _ = env.step(action)\n",
        "        dqn_agent.store_transition(state, action, reward, next_state, done)\n",
        "        state = next_state\n",
        "        total_reward += reward\n",
        "\n",
        "        dqn_agent.replay()\n",
        "\n",
        "    dqn_agent.update_target_network()\n",
        "\n",
        "    episode_rewards.append(total_reward)\n",
        "    if episode % update_target_steps == 0:\n",
        "        dqn_agent.update_target_network()\n",
        "        print(f\"Episode {episode}: Total Reward: {total_reward}\")\n"
      ]
    },
    {
      "cell_type": "code",
      "execution_count": 31,
      "metadata": {
        "id": "o3EZFPOtL1Uk",
        "colab": {
          "base_uri": "https://localhost:8080/",
          "height": 529
        },
        "outputId": "98bd50ce-0520-46d5-8ced-a8d1dfe93354"
      },
      "outputs": [
        {
          "output_type": "stream",
          "name": "stderr",
          "text": [
            "/usr/local/lib/python3.10/dist-packages/ipykernel/ipkernel.py:283: DeprecationWarning: `should_run_async` will not call `transform_cell` automatically in the future. Please pass the result to `transformed_cell` argument and any exception that happen during thetransform in `preprocessing_exc_tuple` in IPython 7.17 and above.\n",
            "  and should_run_async(code)\n"
          ]
        },
        {
          "output_type": "display_data",
          "data": {
            "text/plain": [
              "<Figure size 640x480 with 1 Axes>"
            ],
            "image/png": "[encoded data removed]"
          },
          "metadata": {}
        }
      ],
      "source": [
        "\n",
        "# Plotting rewards\n",
        "plt.plot(range(num_episodes)[:758], episode_rewards)\n",
        "plt.xlabel('Episode')\n",
        "plt.ylabel('Total Reward')\n",
        "plt.title('Training DQN')\n",
        "plt.show()\n",
        "\n",
        "# Evaluating DQN\n",
        "def evaluate_dqn(agent, env, num_episodes=10):\n",
        "    total_rewards = []\n",
        "    for episode in range(num_episodes):\n",
        "        state = env.reset()\n",
        "        done = False\n",
        "        total_reward = 0\n",
        "        while not done:\n",
        "            action = agent.select_action(state)\n",
        "            state, reward, done, _ = env.step(action)\n",
        "            total_reward += reward\n",
        "        total_rewards.append(total_reward)\n",
        "    return np.mean(total_rewards), np.std(total_rewards)\n",
        "\n",
        "# Evaluasi setiap 50 episode\n",
        "if episode % 50 == 0:\n",
        "    mean_reward, std_reward = evaluate_dqn(dqn_agent, env)\n",
        "    print(f\"Evaluation after {episode} episodes: Mean Reward = {mean_reward}, Std = {std_reward}\")\n",
        "\n"
      ]
    },
    {
      "cell_type": "code",
      "execution_count": 32,
      "metadata": {
        "id": "jIcZrNTzL1Uk"
      },
      "outputs": [],
      "source": [
        "def evaluate_model(agent, env):\n",
        "    y_true = []\n",
        "    y_pred = []\n",
        "\n",
        "    state = env.reset()\n",
        "    done = False\n",
        "\n",
        "    while not done:\n",
        "        # Dapatkan prediksi dari model\n",
        "        action = agent.select_action(state)\n",
        "        y_pred.append(action)\n",
        "        y_true.append(env.df.iloc[env.current_step]['Status'])\n",
        "\n",
        "        next_state, _, done, _ = env.step(action)\n",
        "        state = next_state\n",
        "\n",
        "    return y_true, y_pred\n",
        "\n",
        "\n",
        "y_true, y_pred = evaluate_model(dqn_agent, env)"
      ]
    },
    {
      "cell_type": "code",
      "execution_count": 33,
      "metadata": {
        "id": "ugZNBkl0L1Uk",
        "colab": {
          "base_uri": "https://localhost:8080/"
        },
        "outputId": "41e2cb7a-9bba-4cd7-8c84-053fe89b2f1b"
      },
      "outputs": [
        {
          "output_type": "stream",
          "name": "stderr",
          "text": [
            "/usr/local/lib/python3.10/dist-packages/ipykernel/ipkernel.py:283: DeprecationWarning: `should_run_async` will not call `transform_cell` automatically in the future. Please pass the result to `transformed_cell` argument and any exception that happen during thetransform in `preprocessing_exc_tuple` in IPython 7.17 and above.\n",
            "  and should_run_async(code)\n"
          ]
        }
      ],
      "source": [
        "predicted_labels_df = pd.DataFrame(y_pred, columns=['Status'])"
      ]
    },
    {
      "cell_type": "code",
      "execution_count": 34,
      "metadata": {
        "id": "2neYIFG_L1Ul"
      },
      "outputs": [],
      "source": [
        "# Gabungkan kolom Status dari dataset asli dengan kolom Status dari predicted_labels_df\n",
        "comparison_df = pd.DataFrame([y_true, y_pred]).transpose()\n",
        "comparison_df.columns = ['Actual_Status', 'Predicted_Status']"
      ]
    },
    {
      "cell_type": "code",
      "execution_count": 35,
      "metadata": {
        "id": "TpRRrxDuL1Ul",
        "colab": {
          "base_uri": "https://localhost:8080/"
        },
        "outputId": "ed596a5a-ca2b-4250-c6ab-1ab02f2195fb"
      },
      "outputs": [
        {
          "output_type": "stream",
          "name": "stderr",
          "text": [
            "/usr/local/lib/python3.10/dist-packages/ipykernel/ipkernel.py:283: DeprecationWarning: `should_run_async` will not call `transform_cell` automatically in the future. Please pass the result to `transformed_cell` argument and any exception that happen during thetransform in `preprocessing_exc_tuple` in IPython 7.17 and above.\n",
            "  and should_run_async(code)\n"
          ]
        }
      ],
      "source": [
        "# Hitung jumlah status yang sama dan yang berbeda\n",
        "same_status = comparison_df[comparison_df['Actual_Status'] == comparison_df['Predicted_Status']].shape[0]\n",
        "different_status = comparison_df[comparison_df['Actual_Status'] != comparison_df['Predicted_Status']].shape[0]"
      ]
    },
    {
      "cell_type": "code",
      "execution_count": 36,
      "metadata": {
        "id": "FrLtf7MaL1Ul",
        "colab": {
          "base_uri": "https://localhost:8080/"
        },
        "outputId": "1e80187a-9915-4566-dae2-014950e2b1a4"
      },
      "outputs": [
        {
          "output_type": "execute_result",
          "data": {
            "text/plain": [
              "87.95214245965498"
            ]
          },
          "metadata": {},
          "execution_count": 36
        }
      ],
      "source": [
        "same_status / len(comparison_df) * 100"
      ]
    },
    {
      "cell_type": "code",
      "execution_count": 37,
      "metadata": {
        "id": "zGfb_M62L1Ul",
        "colab": {
          "base_uri": "https://localhost:8080/",
          "height": 521
        },
        "outputId": "dc8e71dd-73ea-4af1-a67e-212841a081af"
      },
      "outputs": [
        {
          "output_type": "display_data",
          "data": {
            "text/plain": [
              "<Figure size 800x600 with 1 Axes>"
            ],
            "image/png": "[encoded data removed]"
          },
          "metadata": {}
        }
      ],
      "source": [
        "# Buat visualisasi\n",
        "plt.figure(figsize=(8, 6))\n",
        "labels = ['Same Status', 'Different Status']\n",
        "sizes = [same_status, different_status]\n",
        "colors = ['lightgreen', 'lightcoral']\n",
        "explode = (0, 0.1)  # Pisahkan \"Different Status\"\n",
        "plt.pie(sizes, explode=explode, labels=labels, colors=colors, autopct='%1.1f%%', startangle=90)\n",
        "plt.gca().add_artist(plt.Circle((0,0),0.70,fc='white'))  # Menambahkan lingkaran tengah untuk membuat donut chart\n",
        "plt.axis('equal')  # Memastikan lingkaran berukuran sama sehingga terlihat seperti donut\n",
        "plt.title('Comparison of Actual and Predicted Status')\n",
        "plt.show()"
      ]
    },
    {
      "cell_type": "code",
      "execution_count": 38,
      "metadata": {
        "id": "FOFE81KgL1Ul"
      },
      "outputs": [],
      "source": [
        "# Data untuk plot\n",
        "healthy_count = predicted_labels_df[predicted_labels_df['Status'] == 0].shape[0]\n",
        "unhealthy_count = predicted_labels_df[predicted_labels_df['Status'] == 1].shape[0]\n",
        "status_labels = ['0', '1']\n",
        "status_counts = [healthy_count, unhealthy_count]"
      ]
    },
    {
      "cell_type": "code",
      "execution_count": 39,
      "metadata": {
        "id": "-5rhjrE2L1Ul",
        "colab": {
          "base_uri": "https://localhost:8080/",
          "height": 472
        },
        "outputId": "72e78337-f0ab-45e6-b279-cc2b342a5c25"
      },
      "outputs": [
        {
          "output_type": "display_data",
          "data": {
            "text/plain": [
              "<Figure size 640x480 with 1 Axes>"
            ],
            "image/png": "[encoded data removed]"
          },
          "metadata": {}
        }
      ],
      "source": [
        "# Plot batang\n",
        "plt.bar(status_labels, status_counts, color=['green', 'red'])\n",
        "\n",
        "# Tambahkan label angka di atas setiap batang\n",
        "for i in range(len(status_labels)):\n",
        "    plt.text(i, status_counts[i], str(status_counts[i]), ha='center', va='bottom')\n",
        "\n",
        "# Label sumbu dan judul\n",
        "plt.xlabel('Status')\n",
        "plt.ylabel('Count')\n",
        "plt.title('Jumlah Status 0 dan 1')\n",
        "\n",
        "# Tampilkan plot\n",
        "plt.show()"
      ]
    },
    {
      "cell_type": "code",
      "execution_count": 40,
      "metadata": {
        "id": "VyRKaaWnL1Ul",
        "colab": {
          "base_uri": "https://localhost:8080/",
          "height": 728
        },
        "outputId": "344b3905-03b5-4025-9606-504039c8237b"
      },
      "outputs": [
        {
          "output_type": "display_data",
          "data": {
            "text/plain": [
              "<Figure size 800x600 with 2 Axes>"
            ],
            "image/png": "[encoded data removed]"
          },
          "metadata": {}
        },
        {
          "output_type": "stream",
          "name": "stdout",
          "text": [
            "              precision    recall  f1-score   support\n",
            "\n",
            "         0.0       0.92      0.94      0.93      6232\n",
            "         1.0       0.56      0.46      0.51       956\n",
            "\n",
            "    accuracy                           0.88      7188\n",
            "   macro avg       0.74      0.70      0.72      7188\n",
            "weighted avg       0.87      0.88      0.87      7188\n",
            "\n"
          ]
        }
      ],
      "source": [
        "from sklearn.metrics import classification_report, confusion_matrix\n",
        "import seaborn as sns\n",
        "\n",
        "# Buat confusion matrix\n",
        "conf_matrix = confusion_matrix(y_true, y_pred)\n",
        "\n",
        "# Tampilkan confusion matrix\n",
        "plt.figure(figsize=(8, 6))\n",
        "sns.heatmap(conf_matrix, annot=True, fmt='d', cmap='Blues')\n",
        "plt.xlabel('Predicted')\n",
        "plt.ylabel('Actual')\n",
        "plt.title('Confusion Matrix')\n",
        "plt.show()\n",
        "\n",
        "# Classification report\n",
        "print(classification_report(y_true, y_pred))\n"
      ]
    },
    {
      "cell_type": "code",
      "execution_count": 41,
      "metadata": {
        "id": "TA9fLECpL1Um",
        "colab": {
          "base_uri": "https://localhost:8080/",
          "height": 578
        },
        "outputId": "bbf6f238-cb0f-4883-c75e-70def91da8a8"
      },
      "outputs": [
        {
          "output_type": "stream",
          "name": "stderr",
          "text": [
            "/usr/local/lib/python3.10/dist-packages/ipykernel/ipkernel.py:283: DeprecationWarning: `should_run_async` will not call `transform_cell` automatically in the future. Please pass the result to `transformed_cell` argument and any exception that happen during thetransform in `preprocessing_exc_tuple` in IPython 7.17 and above.\n",
            "  and should_run_async(code)\n"
          ]
        },
        {
          "output_type": "display_data",
          "data": {
            "text/plain": [
              "<Figure size 800x600 with 1 Axes>"
            ],
            "image/png": "[encoded data removed]"
          },
          "metadata": {}
        }
      ],
      "source": [
        "import matplotlib.pyplot as plt\n",
        "# s\n",
        "# Hitung jumlah status 0 dan 1 dari predicted_labels_df\n",
        "healthy_count = predicted_labels_df[predicted_labels_df['Status'] == 0].shape[0]\n",
        "unhealthy_count = predicted_labels_df[predicted_labels_df['Status'] == 1].shape[0]\n",
        "\n",
        "# Data untuk plot\n",
        "status_labels = ['Healthy', 'Unhealthy']\n",
        "status_counts = [healthy_count, unhealthy_count]\n",
        "colors = ['lightgreen', 'lightcoral']\n",
        "\n",
        "# Plot donut chart\n",
        "plt.figure(figsize=(8, 6))\n",
        "plt.pie(status_counts, labels=status_labels, colors=colors, autopct='%1.1f%%', startangle=90, wedgeprops=dict(width=0.4))\n",
        "plt.gca().add_artist(plt.Circle((0, 0), 0.6, fc='white'))  # Menambahkan lingkaran tengah untuk membuat donut chart\n",
        "plt.axis('equal')  # Memastikan lingkaran berukuran sama sehingga terlihat seperti donut\n",
        "plt.title('Jumlah Status Healthy dan Unhealthy setelah DQN')\n",
        "plt.show()"
      ]
    },
    {
      "cell_type": "code",
      "execution_count": null,
      "metadata": {
        "id": "iW-HLKtIL1Un"
      },
      "outputs": [],
      "source": []
    }
  ],
  "metadata": {
    "colab": {
      "provenance": []
    },
    "kernelspec": {
      "display_name": "Python 3",
      "language": "python",
      "name": "python3"
    },
    "language_info": {
      "codemirror_mode": {
        "name": "ipython",
        "version": 3
      },
      "file_extension": ".py",
      "mimetype": "text/x-python",
      "name": "python",
      "nbconvert_exporter": "python",
      "pygments_lexer": "ipython3",
      "version": "3.9.6"
    }
  },
  "nbformat": 4,
  "nbformat_minor": 0
}
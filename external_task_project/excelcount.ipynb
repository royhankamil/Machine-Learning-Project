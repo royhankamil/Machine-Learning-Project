{
 "cells": [
  {
   "cell_type": "code",
   "execution_count": 55,
   "metadata": {},
   "outputs": [
    {
     "data": {
      "text/plain": [
       "(PCAR    0.070738\n",
       " ALTO    0.055985\n",
       " IKAN    0.032161\n",
       " dtype: float64,\n",
       "           PCAR      ALTO      IKAN\n",
       " PCAR  0.068164 -0.009087 -0.002879\n",
       " ALTO -0.009087  0.032074 -0.003535\n",
       " IKAN -0.002879 -0.003535  0.018726)"
      ]
     },
     "execution_count": 55,
     "metadata": {},
     "output_type": "execute_result"
    }
   ],
   "source": [
    "import numpy as np\n",
    "import pandas as pd\n",
    "\n",
    "# Data historical return for PCAR, ALTO, IKAN\n",
    "returns = {\n",
    "    \"PCAR\": [0.15446,-0.01961,0.26541,0.44942,-0.12790,-0.06399,0.05296,0.09701,0.26531,1.25806,-0.04286,-0.04478,0.08203,0.03490,-0.30233,0.03333,0.28065,-0.05416,0.00533,-0.03444,0.05761,0.03243,-0.01005,-0.01015,-0.02564,-0.00263,-0.05145,-0.12239,0.08082,-0.02053,-0.02395],\n",
    "    \"ALTO\": [0.17160,-0.04545,0.01587,0.01563,-0.06154,-0.03825,0.01136,-0.08989,-0.05556,-0.10458,0.55474,-0.01878,-0.15789,0.19886,0.04265,0.07727,-0.01266,-0.19231,0.03704,0.04592,0.06829,-0.00913,-0.05530,0.37805,0.60177,0.18232,0.11215,-0.09664,0.02326,0.09091,0.04583],\n",
    "    \"IKAN\": [-0.21613,0.23971,0.03734,-0.02000,0.04898,0.00000,0.10117,0.06360,-0.05980,-0.00353,-0.04255,-0.02963,-0.00763,0.01154,-0.01521,-0.10039,0.12017,0.11494,-0.16495,-0.03292,0.02553,-0.03734,0.00862,-0.01709,0.02609,0.02966,0.02881,0.10400,0.34420,0.50943,-0.06964]\n",
    "}\n",
    "average = {\n",
    "    \"PCAR\": 0.06704,\n",
    "    \"ALTO\": 0.17326,\n",
    "    \"IKAN\": 0.09076\n",
    "}\n",
    "\n",
    "# Convert the data into a pandas DataFrame\n",
    "df = pd.DataFrame(returns)\n",
    "\n",
    "# Step 1: Calculate mean return (expected return) for each stock\n",
    "mean_returns = df.mean()\n",
    "\n",
    "# Step 2: Calculate covariance matrix\n",
    "cov_matrix = df.cov()\n",
    "\n",
    "# Show the results\n",
    "mean_returns, cov_matrix\n"
   ]
  },
  {
   "cell_type": "code",
   "execution_count": 56,
   "metadata": {},
   "outputs": [
    {
     "data": {
      "text/plain": [
       "(array([0.17515033, 0.33613042, 0.48871925]),\n",
       " 0.0863898763747806,\n",
       " 0.04692558094031639)"
      ]
     },
     "execution_count": 56,
     "metadata": {},
     "output_type": "execute_result"
    }
   ],
   "source": [
    "from scipy.optimize import minimize\n",
    "\n",
    "\n",
    "# Number of assets\n",
    "n_assets = len(df.columns)\n",
    "\n",
    "# Function to calculate portfolio standard deviation\n",
    "def portfolio_std(weights, cov_matrix):\n",
    "    return np.sqrt(np.dot(weights.T, np.dot(cov_matrix, weights)))\n",
    "\n",
    "# Constraint: sum of weights must be 1\n",
    "constraints = ({'type': 'eq', 'fun': lambda weights: np.sum(weights) - 1})\n",
    "\n",
    "# Bounds for weights: between 0 and 1 (no short selling)\n",
    "bounds = tuple((0, 1) for asset in range(n_assets))\n",
    "\n",
    "# Initial guess (equal weights)\n",
    "init_guess = [1/n_assets] * n_assets\n",
    "\n",
    "# Minimize the portfolio standard deviation\n",
    "opt_results = minimize(portfolio_std, init_guess, args=cov_matrix, method='SLSQP', bounds=bounds, constraints=constraints)\n",
    "\n",
    "# Optimal weights for minimum standard deviation\n",
    "opt_weights = opt_results.x\n",
    "\n",
    "# Calculate the expected return and standard deviation for the minimum risk portfolio\n",
    "min_std = portfolio_std(opt_weights, cov_matrix)\n",
    "expected_return_min_risk = np.dot(opt_weights, mean_returns)\n",
    "\n",
    "opt_weights, min_std, expected_return_min_risk\n"
   ]
  },
  {
   "cell_type": "code",
   "execution_count": 57,
   "metadata": {},
   "outputs": [
    {
     "data": {
      "text/plain": [
       "0.08498513034892857"
      ]
     },
     "execution_count": 57,
     "metadata": {},
     "output_type": "execute_result"
    }
   ],
   "source": [
    "cov_matrix_values = np.array([\n",
    "    [0.065965597, -0.008793828, -0.002786382],\n",
    "    [-0.008793828, 0.031039499, -0.003421115],\n",
    "    [-0.002786382, -0.003421115, 0.018121749]\n",
    "])\n",
    "\n",
    "# Convert to DataFrame\n",
    "cov_matrix_df = pd.DataFrame(cov_matrix_values)\n",
    "\n",
    "# Convert DataFrame to Series\n",
    "cov_matrix_series = cov_matrix_df.stack()\n",
    "\n",
    "\n",
    "portfolio_std(np.array([0.1750,\t0.3361,\t0.4889]), cov_matrix_df)"
   ]
  },
  {
   "cell_type": "code",
   "execution_count": 54,
   "metadata": {},
   "outputs": [
    {
     "data": {
      "text/plain": [
       "0.11035333333333333"
      ]
     },
     "execution_count": 54,
     "metadata": {},
     "output_type": "execute_result"
    }
   ],
   "source": [
    "np.dot(np.array([1/3,\t1/3,\t1/3]), np.array([0.06704,\t0.17326,\t0.09076]))"
   ]
  },
  {
   "cell_type": "code",
   "execution_count": 30,
   "metadata": {},
   "outputs": [
    {
     "data": {
      "text/html": [
       "<div>\n",
       "<style scoped>\n",
       "    .dataframe tbody tr th:only-of-type {\n",
       "        vertical-align: middle;\n",
       "    }\n",
       "\n",
       "    .dataframe tbody tr th {\n",
       "        vertical-align: top;\n",
       "    }\n",
       "\n",
       "    .dataframe thead th {\n",
       "        text-align: right;\n",
       "    }\n",
       "</style>\n",
       "<table border=\"1\" class=\"dataframe\">\n",
       "  <thead>\n",
       "    <tr style=\"text-align: right;\">\n",
       "      <th></th>\n",
       "      <th>0</th>\n",
       "      <th>1</th>\n",
       "      <th>2</th>\n",
       "    </tr>\n",
       "  </thead>\n",
       "  <tbody>\n",
       "    <tr>\n",
       "      <th>0</th>\n",
       "      <td>0.065966</td>\n",
       "      <td>-0.008794</td>\n",
       "      <td>-0.002786</td>\n",
       "    </tr>\n",
       "    <tr>\n",
       "      <th>1</th>\n",
       "      <td>-0.008794</td>\n",
       "      <td>0.031039</td>\n",
       "      <td>-0.003421</td>\n",
       "    </tr>\n",
       "    <tr>\n",
       "      <th>2</th>\n",
       "      <td>-0.002786</td>\n",
       "      <td>-0.003421</td>\n",
       "      <td>0.018122</td>\n",
       "    </tr>\n",
       "  </tbody>\n",
       "</table>\n",
       "</div>"
      ],
      "text/plain": [
       "          0         1         2\n",
       "0  0.065966 -0.008794 -0.002786\n",
       "1 -0.008794  0.031039 -0.003421\n",
       "2 -0.002786 -0.003421  0.018122"
      ]
     },
     "execution_count": 30,
     "metadata": {},
     "output_type": "execute_result"
    }
   ],
   "source": [
    "cov_matrix_df"
   ]
  },
  {
   "cell_type": "code",
   "execution_count": null,
   "metadata": {},
   "outputs": [],
   "source": []
  },
  {
   "cell_type": "code",
   "execution_count": null,
   "metadata": {},
   "outputs": [],
   "source": []
  }
 ],
 "metadata": {
  "kernelspec": {
   "display_name": "Python 3",
   "language": "python",
   "name": "python3"
  },
  "language_info": {
   "codemirror_mode": {
    "name": "ipython",
    "version": 3
   },
   "file_extension": ".py",
   "mimetype": "text/x-python",
   "name": "python",
   "nbconvert_exporter": "python",
   "pygments_lexer": "ipython3",
   "version": "3.12.5"
  }
 },
 "nbformat": 4,
 "nbformat_minor": 2
}

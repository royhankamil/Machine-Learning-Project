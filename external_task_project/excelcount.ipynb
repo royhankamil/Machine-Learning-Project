{
 "cells": [
  {
   "cell_type": "code",
   "execution_count": 44,
   "metadata": {},
   "outputs": [
    {
     "data": {
      "text/plain": [
       "(PCAR    0.067083\n",
       " ALTO    0.173750\n",
       " IKAN    0.090833\n",
       " dtype: float64,\n",
       "           PCAR      ALTO      IKAN\n",
       " PCAR  0.050030  0.021494 -0.003424\n",
       " ALTO  0.021494  0.310207 -0.010264\n",
       " IKAN -0.003424 -0.010264  0.276338)"
      ]
     },
     "execution_count": 44,
     "metadata": {},
     "output_type": "execute_result"
    }
   ],
   "source": [
    "import numpy as np\n",
    "import pandas as pd\n",
    "\n",
    "# Data historical return for PCAR, ALTO, IKAN\n",
    "returns = {\n",
    "    \"PCAR\": [0.00,0.00,0.00,0.00,0.00,0.00,0.00,0.00,0.00,0.00,0.76,0.00,-0.43,0.00,0.00,0.00,0.00,0.00,0.26,0.14,0.00,0.21,0.60,0.07],\n",
    "    \"ALTO\": [0.00,0.19,-0.26,-0.21,-0.09,0.00,2.40,0.47,0.00,0.00,0.00,0.00,0.00,0.00,0.00,0.00,0.00,0.00,0.00,0.00,0.00,0.00,1.24,0.43],\n",
    "    \"IKAN\": [-0.06,0.24,-0.55,-0.32,2.46,0.11,0.00,0.00,0.00,0.00,0.04,-0.02,0.00,0.06,0.00,0.06,0.05,0.02,0.00,0.03,0.00,-0.06,0.07,0.05]\n",
    "}\n",
    "average = {\n",
    "    \"PCAR\": 0.06704,\n",
    "    \"ALTO\": 0.17326,\n",
    "    \"IKAN\": 0.09076\n",
    "}\n",
    "\n",
    "# Convert the data into a pandas DataFrame\n",
    "df = pd.DataFrame(returns)\n",
    "\n",
    "# Step 1: Calculate mean return (expected return) for each stock\n",
    "mean_returns = df.mean()\n",
    "\n",
    "# Step 2: Calculate covariance matrix\n",
    "cov_matrix = df.cov()\n",
    "\n",
    "# Show the results\n",
    "mean_returns, cov_matrix\n"
   ]
  },
  {
   "cell_type": "code",
   "execution_count": 45,
   "metadata": {},
   "outputs": [
    {
     "data": {
      "text/plain": [
       "(array([0.76574635, 0.07926968, 0.15498397]),\n",
       " 0.19866455076052922,\n",
       " 0.07921963517327393)"
      ]
     },
     "execution_count": 45,
     "metadata": {},
     "output_type": "execute_result"
    }
   ],
   "source": [
    "from scipy.optimize import minimize\n",
    "\n",
    "\n",
    "# Number of assets\n",
    "n_assets = len(df.columns)\n",
    "\n",
    "# Function to calculate portfolio standard deviation\n",
    "def portfolio_std(weights, cov_matrix):\n",
    "    return np.sqrt(np.dot(weights.T, np.dot(cov_matrix, weights)))\n",
    "\n",
    "# Constraint: sum of weights must be 1\n",
    "constraints = ({'type': 'eq', 'fun': lambda weights: np.sum(weights) - 1})\n",
    "\n",
    "# Bounds for weights: between 0 and 1 (no short selling)\n",
    "bounds = tuple((0, 1) for asset in range(n_assets))\n",
    "\n",
    "# Initial guess (equal weights)\n",
    "init_guess = [1/n_assets] * n_assets\n",
    "\n",
    "# Minimize the portfolio standard deviation\n",
    "opt_results = minimize(portfolio_std, init_guess, args=cov_matrix, method='SLSQP', bounds=bounds, constraints=constraints)\n",
    "\n",
    "# Optimal weights for minimum standard deviation\n",
    "opt_weights = opt_results.x\n",
    "\n",
    "# Calculate the expected return and standard deviation for the minimum risk portfolio\n",
    "min_std = portfolio_std(opt_weights, cov_matrix)\n",
    "expected_return_min_risk = np.dot(opt_weights, mean_returns)\n",
    "\n",
    "opt_weights, min_std, expected_return_min_risk\n"
   ]
  },
  {
   "cell_type": "code",
   "execution_count": 46,
   "metadata": {},
   "outputs": [
    {
     "data": {
      "text/plain": [
       "0.08498513034892857"
      ]
     },
     "execution_count": 46,
     "metadata": {},
     "output_type": "execute_result"
    }
   ],
   "source": [
    "cov_matrix_values = np.array([\n",
    "    [0.065965597, -0.008793828, -0.002786382],\n",
    "    [-0.008793828, 0.031039499, -0.003421115],\n",
    "    [-0.002786382, -0.003421115, 0.018121749]\n",
    "])\n",
    "\n",
    "# Convert to DataFrame\n",
    "cov_matrix_df = pd.DataFrame(cov_matrix_values)\n",
    "\n",
    "# Convert DataFrame to Series\n",
    "cov_matrix_series = cov_matrix_df.stack()\n",
    "\n",
    "\n",
    "portfolio_std(np.array([0.1750,\t0.3361,\t0.4889]), cov_matrix_df)"
   ]
  },
  {
   "cell_type": "code",
   "execution_count": 52,
   "metadata": {},
   "outputs": [
    {
     "data": {
      "text/plain": [
       "0.05296333333333333"
      ]
     },
     "execution_count": 52,
     "metadata": {},
     "output_type": "execute_result"
    }
   ],
   "source": [
    "np.dot(np.array([1/3,\t1/3,\t1/3]), np.array([0.07074,\t0.05599,\t0.03216]))"
   ]
  },
  {
   "cell_type": "code",
   "execution_count": 30,
   "metadata": {},
   "outputs": [
    {
     "data": {
      "text/html": [
       "<div>\n",
       "<style scoped>\n",
       "    .dataframe tbody tr th:only-of-type {\n",
       "        vertical-align: middle;\n",
       "    }\n",
       "\n",
       "    .dataframe tbody tr th {\n",
       "        vertical-align: top;\n",
       "    }\n",
       "\n",
       "    .dataframe thead th {\n",
       "        text-align: right;\n",
       "    }\n",
       "</style>\n",
       "<table border=\"1\" class=\"dataframe\">\n",
       "  <thead>\n",
       "    <tr style=\"text-align: right;\">\n",
       "      <th></th>\n",
       "      <th>0</th>\n",
       "      <th>1</th>\n",
       "      <th>2</th>\n",
       "    </tr>\n",
       "  </thead>\n",
       "  <tbody>\n",
       "    <tr>\n",
       "      <th>0</th>\n",
       "      <td>0.065966</td>\n",
       "      <td>-0.008794</td>\n",
       "      <td>-0.002786</td>\n",
       "    </tr>\n",
       "    <tr>\n",
       "      <th>1</th>\n",
       "      <td>-0.008794</td>\n",
       "      <td>0.031039</td>\n",
       "      <td>-0.003421</td>\n",
       "    </tr>\n",
       "    <tr>\n",
       "      <th>2</th>\n",
       "      <td>-0.002786</td>\n",
       "      <td>-0.003421</td>\n",
       "      <td>0.018122</td>\n",
       "    </tr>\n",
       "  </tbody>\n",
       "</table>\n",
       "</div>"
      ],
      "text/plain": [
       "          0         1         2\n",
       "0  0.065966 -0.008794 -0.002786\n",
       "1 -0.008794  0.031039 -0.003421\n",
       "2 -0.002786 -0.003421  0.018122"
      ]
     },
     "execution_count": 30,
     "metadata": {},
     "output_type": "execute_result"
    }
   ],
   "source": [
    "cov_matrix_df"
   ]
  },
  {
   "cell_type": "code",
   "execution_count": null,
   "metadata": {},
   "outputs": [],
   "source": []
  },
  {
   "cell_type": "code",
   "execution_count": null,
   "metadata": {},
   "outputs": [],
   "source": []
  }
 ],
 "metadata": {
  "kernelspec": {
   "display_name": "Python 3",
   "language": "python",
   "name": "python3"
  },
  "language_info": {
   "codemirror_mode": {
    "name": "ipython",
    "version": 3
   },
   "file_extension": ".py",
   "mimetype": "text/x-python",
   "name": "python",
   "nbconvert_exporter": "python",
   "pygments_lexer": "ipython3",
   "version": "3.12.5"
  }
 },
 "nbformat": 4,
 "nbformat_minor": 2
}

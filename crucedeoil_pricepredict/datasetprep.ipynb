{
 "cells": [
  {
   "cell_type": "code",
   "execution_count": 111,
   "id": "0d834c93",
   "metadata": {},
   "outputs": [],
   "source": [
    "import pandas as pd\n",
    "import numpy as np\n",
    "from sklearn.impute import KNNImputer"
   ]
  },
  {
   "cell_type": "markdown",
   "id": "4529f737",
   "metadata": {},
   "source": [
    "# Pengolahan Dataset Harga Emas"
   ]
  },
  {
   "cell_type": "code",
   "execution_count": 87,
   "id": "da7f688f",
   "metadata": {},
   "outputs": [
    {
     "data": {
      "text/html": [
       "<div>\n",
       "<style scoped>\n",
       "    .dataframe tbody tr th:only-of-type {\n",
       "        vertical-align: middle;\n",
       "    }\n",
       "\n",
       "    .dataframe tbody tr th {\n",
       "        vertical-align: top;\n",
       "    }\n",
       "\n",
       "    .dataframe thead th {\n",
       "        text-align: right;\n",
       "    }\n",
       "</style>\n",
       "<table border=\"1\" class=\"dataframe\">\n",
       "  <thead>\n",
       "    <tr style=\"text-align: right;\">\n",
       "      <th></th>\n",
       "      <th>Date</th>\n",
       "      <th>Price</th>\n",
       "      <th>Open</th>\n",
       "      <th>High</th>\n",
       "      <th>Low</th>\n",
       "      <th>Vol.</th>\n",
       "      <th>Change %</th>\n",
       "    </tr>\n",
       "  </thead>\n",
       "  <tbody>\n",
       "    <tr>\n",
       "      <th>0</th>\n",
       "      <td>2019-11-18</td>\n",
       "      <td>1,471.90</td>\n",
       "      <td>1,467.80</td>\n",
       "      <td>1,474.40</td>\n",
       "      <td>1,456.60</td>\n",
       "      <td>331.24K</td>\n",
       "      <td>0.23%</td>\n",
       "    </tr>\n",
       "    <tr>\n",
       "      <th>1</th>\n",
       "      <td>2019-11-15</td>\n",
       "      <td>1,468.50</td>\n",
       "      <td>1,471.90</td>\n",
       "      <td>1,472.10</td>\n",
       "      <td>1,462.80</td>\n",
       "      <td>251.21K</td>\n",
       "      <td>-0.33%</td>\n",
       "    </tr>\n",
       "    <tr>\n",
       "      <th>2</th>\n",
       "      <td>2019-11-14</td>\n",
       "      <td>1,473.40</td>\n",
       "      <td>1,464.00</td>\n",
       "      <td>1,475.50</td>\n",
       "      <td>1,461.70</td>\n",
       "      <td>317.40K</td>\n",
       "      <td>0.69%</td>\n",
       "    </tr>\n",
       "    <tr>\n",
       "      <th>3</th>\n",
       "      <td>2019-11-13</td>\n",
       "      <td>1,463.30</td>\n",
       "      <td>1,456.50</td>\n",
       "      <td>1,467.90</td>\n",
       "      <td>1,456.40</td>\n",
       "      <td>352.33K</td>\n",
       "      <td>0.66%</td>\n",
       "    </tr>\n",
       "    <tr>\n",
       "      <th>4</th>\n",
       "      <td>2019-11-12</td>\n",
       "      <td>1,453.70</td>\n",
       "      <td>1,455.90</td>\n",
       "      <td>1,461.30</td>\n",
       "      <td>1,446.20</td>\n",
       "      <td>429.61K</td>\n",
       "      <td>-0.23%</td>\n",
       "    </tr>\n",
       "  </tbody>\n",
       "</table>\n",
       "</div>"
      ],
      "text/plain": [
       "        Date     Price      Open      High       Low     Vol. Change %\n",
       "0 2019-11-18  1,471.90  1,467.80  1,474.40  1,456.60  331.24K    0.23%\n",
       "1 2019-11-15  1,468.50  1,471.90  1,472.10  1,462.80  251.21K   -0.33%\n",
       "2 2019-11-14  1,473.40  1,464.00  1,475.50  1,461.70  317.40K    0.69%\n",
       "3 2019-11-13  1,463.30  1,456.50  1,467.90  1,456.40  352.33K    0.66%\n",
       "4 2019-11-12  1,453.70  1,455.90  1,461.30  1,446.20  429.61K   -0.23%"
      ]
     },
     "execution_count": 87,
     "metadata": {},
     "output_type": "execute_result"
    }
   ],
   "source": [
    "# Dataset periode Januari 2000 - November 2019\n",
    "dsgold1 = pd.read_csv(\"dataset/dsgold1.csv\")\n",
    "dsgold1['Date'] = pd.to_datetime(dsgold1['Date'])\n",
    "dsgold1.head()"
   ]
  },
  {
   "cell_type": "code",
   "execution_count": 88,
   "id": "af6ec776",
   "metadata": {},
   "outputs": [
    {
     "name": "stdout",
     "output_type": "stream",
     "text": [
      "           Date   Price    Open    High     Low    Vol. Change %\n",
      "4995 2000-01-10  282.70  282.40  283.90  281.80  30.60K   -0.07%\n",
      "4996 2000-01-07  282.90  282.50  284.50  282.00  11.27K    0.18%\n",
      "4997 2000-01-06  282.40  281.60  282.80  280.20  19.06K    0.11%\n",
      "4998 2000-01-05  282.10  283.70  285.00  281.00  25.45K   -0.56%\n",
      "4999 2000-01-04  283.70  289.50  289.50  280.00  21.62K   -2.04%\n"
     ]
    }
   ],
   "source": [
    "print(dsgold1.tail(5))"
   ]
  },
  {
   "cell_type": "code",
   "execution_count": 89,
   "id": "e76c4e5b",
   "metadata": {},
   "outputs": [
    {
     "data": {
      "text/html": [
       "<div>\n",
       "<style scoped>\n",
       "    .dataframe tbody tr th:only-of-type {\n",
       "        vertical-align: middle;\n",
       "    }\n",
       "\n",
       "    .dataframe tbody tr th {\n",
       "        vertical-align: top;\n",
       "    }\n",
       "\n",
       "    .dataframe thead th {\n",
       "        text-align: right;\n",
       "    }\n",
       "</style>\n",
       "<table border=\"1\" class=\"dataframe\">\n",
       "  <thead>\n",
       "    <tr style=\"text-align: right;\">\n",
       "      <th></th>\n",
       "      <th>Date</th>\n",
       "      <th>Price</th>\n",
       "      <th>Open</th>\n",
       "      <th>High</th>\n",
       "      <th>Low</th>\n",
       "      <th>Vol.</th>\n",
       "      <th>Change %</th>\n",
       "    </tr>\n",
       "  </thead>\n",
       "  <tbody>\n",
       "    <tr>\n",
       "      <th>0</th>\n",
       "      <td>2023-12-29</td>\n",
       "      <td>2,071.80</td>\n",
       "      <td>2,076.10</td>\n",
       "      <td>2,084.10</td>\n",
       "      <td>2,067.60</td>\n",
       "      <td>105.72K</td>\n",
       "      <td>-0.56%</td>\n",
       "    </tr>\n",
       "    <tr>\n",
       "      <th>1</th>\n",
       "      <td>2023-12-28</td>\n",
       "      <td>2,083.50</td>\n",
       "      <td>2,089.50</td>\n",
       "      <td>2,098.20</td>\n",
       "      <td>2,074.60</td>\n",
       "      <td>129.54K</td>\n",
       "      <td>-0.46%</td>\n",
       "    </tr>\n",
       "    <tr>\n",
       "      <th>2</th>\n",
       "      <td>2023-12-27</td>\n",
       "      <td>2,093.10</td>\n",
       "      <td>2,079.30</td>\n",
       "      <td>2,095.80</td>\n",
       "      <td>2,072.80</td>\n",
       "      <td>128.18K</td>\n",
       "      <td>1.13%</td>\n",
       "    </tr>\n",
       "    <tr>\n",
       "      <th>3</th>\n",
       "      <td>2023-12-26</td>\n",
       "      <td>2,069.80</td>\n",
       "      <td>2,066.00</td>\n",
       "      <td>2,080.50</td>\n",
       "      <td>2,065.10</td>\n",
       "      <td>79.57K</td>\n",
       "      <td>0.03%</td>\n",
       "    </tr>\n",
       "    <tr>\n",
       "      <th>4</th>\n",
       "      <td>2023-12-22</td>\n",
       "      <td>2,069.10</td>\n",
       "      <td>2,061.20</td>\n",
       "      <td>2,083.00</td>\n",
       "      <td>2,058.20</td>\n",
       "      <td>170.15K</td>\n",
       "      <td>0.87%</td>\n",
       "    </tr>\n",
       "  </tbody>\n",
       "</table>\n",
       "</div>"
      ],
      "text/plain": [
       "        Date     Price      Open      High       Low     Vol. Change %\n",
       "0 2023-12-29  2,071.80  2,076.10  2,084.10  2,067.60  105.72K   -0.56%\n",
       "1 2023-12-28  2,083.50  2,089.50  2,098.20  2,074.60  129.54K   -0.46%\n",
       "2 2023-12-27  2,093.10  2,079.30  2,095.80  2,072.80  128.18K    1.13%\n",
       "3 2023-12-26  2,069.80  2,066.00  2,080.50  2,065.10   79.57K    0.03%\n",
       "4 2023-12-22  2,069.10  2,061.20  2,083.00  2,058.20  170.15K    0.87%"
      ]
     },
     "execution_count": 89,
     "metadata": {},
     "output_type": "execute_result"
    }
   ],
   "source": [
    "dsgold2 = pd.read_csv(\"dataset/dsgold2.csv\")\n",
    "dsgold2['Date'] = pd.to_datetime(dsgold2['Date'])\n",
    "dsgold2.head()"
   ]
  },
  {
   "cell_type": "code",
   "execution_count": 90,
   "id": "6ae95833",
   "metadata": {},
   "outputs": [
    {
     "name": "stdout",
     "output_type": "stream",
     "text": [
      "           Date     Price      Open      High       Low     Vol. Change %\n",
      "1030 2019-11-25  1,456.90  1,461.00  1,462.00  1,453.90  298.71K   -0.46%\n",
      "1031 2019-11-22  1,463.60  1,464.30  1,473.40  1,461.20  320.50K    0.00%\n",
      "1032 2019-11-21  1,463.60  1,475.10  1,475.90  1,462.40  388.34K   -0.72%\n",
      "1033 2019-11-20  1,474.20  1,472.70  1,479.20  1,466.10  369.97K   -0.01%\n",
      "1034 2019-11-19  1,474.30  1,471.90  1,475.80  1,465.10  307.86K    0.16%\n"
     ]
    }
   ],
   "source": [
    "print(dsgold2.tail(5))"
   ]
  },
  {
   "cell_type": "code",
   "execution_count": 91,
   "id": "bef7cb8f",
   "metadata": {},
   "outputs": [],
   "source": [
    "# Penelitian ini akan menggunakan data pada periode 04 Januari 2000 - 29 Desember 2023\n",
    "# Untuk itu dilakukan penggabungan dataset, dan mengurutkannya berdasarkan data terlama hingga terbaru\n",
    "# Setelah digabung dan diurutkan, dataset disimpan di folder yang sama dengan penamaan file yang berbeda\n",
    "gold_ds = pd.concat([dsgold1, dsgold2], ignore_index=True)\n",
    "gold_ds_sorted = gold_ds.sort_values(by='Date', ascending=True)\n",
    "gold_ds_sorted.to_csv('dataset/gold_ds.csv', index=False)"
   ]
  },
  {
   "cell_type": "code",
   "execution_count": 92,
   "id": "4c0ace90",
   "metadata": {},
   "outputs": [
    {
     "data": {
      "text/html": [
       "<div>\n",
       "<style scoped>\n",
       "    .dataframe tbody tr th:only-of-type {\n",
       "        vertical-align: middle;\n",
       "    }\n",
       "\n",
       "    .dataframe tbody tr th {\n",
       "        vertical-align: top;\n",
       "    }\n",
       "\n",
       "    .dataframe thead th {\n",
       "        text-align: right;\n",
       "    }\n",
       "</style>\n",
       "<table border=\"1\" class=\"dataframe\">\n",
       "  <thead>\n",
       "    <tr style=\"text-align: right;\">\n",
       "      <th></th>\n",
       "      <th>Date</th>\n",
       "      <th>Price</th>\n",
       "      <th>Open</th>\n",
       "      <th>High</th>\n",
       "      <th>Low</th>\n",
       "      <th>Vol.</th>\n",
       "      <th>Change %</th>\n",
       "    </tr>\n",
       "  </thead>\n",
       "  <tbody>\n",
       "    <tr>\n",
       "      <th>0</th>\n",
       "      <td>2000-01-04</td>\n",
       "      <td>283.70</td>\n",
       "      <td>289.50</td>\n",
       "      <td>289.50</td>\n",
       "      <td>280.00</td>\n",
       "      <td>21.62K</td>\n",
       "      <td>-2.04%</td>\n",
       "    </tr>\n",
       "    <tr>\n",
       "      <th>1</th>\n",
       "      <td>2000-01-05</td>\n",
       "      <td>282.10</td>\n",
       "      <td>283.70</td>\n",
       "      <td>285.00</td>\n",
       "      <td>281.00</td>\n",
       "      <td>25.45K</td>\n",
       "      <td>-0.56%</td>\n",
       "    </tr>\n",
       "    <tr>\n",
       "      <th>2</th>\n",
       "      <td>2000-01-06</td>\n",
       "      <td>282.40</td>\n",
       "      <td>281.60</td>\n",
       "      <td>282.80</td>\n",
       "      <td>280.20</td>\n",
       "      <td>19.06K</td>\n",
       "      <td>0.11%</td>\n",
       "    </tr>\n",
       "    <tr>\n",
       "      <th>3</th>\n",
       "      <td>2000-01-07</td>\n",
       "      <td>282.90</td>\n",
       "      <td>282.50</td>\n",
       "      <td>284.50</td>\n",
       "      <td>282.00</td>\n",
       "      <td>11.27K</td>\n",
       "      <td>0.18%</td>\n",
       "    </tr>\n",
       "    <tr>\n",
       "      <th>4</th>\n",
       "      <td>2000-01-10</td>\n",
       "      <td>282.70</td>\n",
       "      <td>282.40</td>\n",
       "      <td>283.90</td>\n",
       "      <td>281.80</td>\n",
       "      <td>30.60K</td>\n",
       "      <td>-0.07%</td>\n",
       "    </tr>\n",
       "  </tbody>\n",
       "</table>\n",
       "</div>"
      ],
      "text/plain": [
       "         Date   Price    Open    High     Low    Vol. Change %\n",
       "0  2000-01-04  283.70  289.50  289.50  280.00  21.62K   -2.04%\n",
       "1  2000-01-05  282.10  283.70  285.00  281.00  25.45K   -0.56%\n",
       "2  2000-01-06  282.40  281.60  282.80  280.20  19.06K    0.11%\n",
       "3  2000-01-07  282.90  282.50  284.50  282.00  11.27K    0.18%\n",
       "4  2000-01-10  282.70  282.40  283.90  281.80  30.60K   -0.07%"
      ]
     },
     "execution_count": 92,
     "metadata": {},
     "output_type": "execute_result"
    }
   ],
   "source": [
    "gold_ds = pd.read_csv(\"dataset/gold_ds.csv\")\n",
    "gold_ds.head()"
   ]
  },
  {
   "cell_type": "code",
   "execution_count": 93,
   "id": "5912658e",
   "metadata": {},
   "outputs": [
    {
     "name": "stdout",
     "output_type": "stream",
     "text": [
      "<class 'pandas.core.frame.DataFrame'>\n",
      "RangeIndex: 6035 entries, 0 to 6034\n",
      "Data columns (total 7 columns):\n",
      " #   Column    Non-Null Count  Dtype \n",
      "---  ------    --------------  ----- \n",
      " 0   Date      6035 non-null   object\n",
      " 1   Price     6035 non-null   object\n",
      " 2   Open      6035 non-null   object\n",
      " 3   High      6035 non-null   object\n",
      " 4   Low       6035 non-null   object\n",
      " 5   Vol.      6025 non-null   object\n",
      " 6   Change %  6035 non-null   object\n",
      "dtypes: object(7)\n",
      "memory usage: 330.2+ KB\n"
     ]
    }
   ],
   "source": [
    "gold_ds.info()"
   ]
  },
  {
   "cell_type": "code",
   "execution_count": 94,
   "id": "9772669e",
   "metadata": {},
   "outputs": [],
   "source": [
    "# Dalam penelitian ini, kami membutuhkan harga emas. Untuk itu, kami akan menghapus kolom open, high, low, vol. dan change%\n",
    "ds_gold = gold_ds.drop([\"Open\", \"High\", \"Low\", \"Vol.\", \"Change %\"], axis = 1)\n",
    "ds_gold['Date'] = pd.to_datetime(ds_gold['Date'])\n",
    "ds_gold.to_csv('dataset/ds_gold.csv', index=False)"
   ]
  },
  {
   "cell_type": "code",
   "execution_count": 95,
   "id": "7f36ee43",
   "metadata": {
    "scrolled": true
   },
   "outputs": [],
   "source": [
    "# Menetapkan kolom 'Date' sebagai indeks (index) untuk DataFrame\n",
    "ds_gold = ds_gold.set_index('Date')"
   ]
  },
  {
   "cell_type": "code",
   "execution_count": 96,
   "id": "bbf92818",
   "metadata": {},
   "outputs": [
    {
     "data": {
      "text/html": [
       "<div>\n",
       "<style scoped>\n",
       "    .dataframe tbody tr th:only-of-type {\n",
       "        vertical-align: middle;\n",
       "    }\n",
       "\n",
       "    .dataframe tbody tr th {\n",
       "        vertical-align: top;\n",
       "    }\n",
       "\n",
       "    .dataframe thead th {\n",
       "        text-align: right;\n",
       "    }\n",
       "</style>\n",
       "<table border=\"1\" class=\"dataframe\">\n",
       "  <thead>\n",
       "    <tr style=\"text-align: right;\">\n",
       "      <th></th>\n",
       "      <th>Price</th>\n",
       "    </tr>\n",
       "    <tr>\n",
       "      <th>Date</th>\n",
       "      <th></th>\n",
       "    </tr>\n",
       "  </thead>\n",
       "  <tbody>\n",
       "    <tr>\n",
       "      <th>2000-01-04</th>\n",
       "      <td>283.70</td>\n",
       "    </tr>\n",
       "    <tr>\n",
       "      <th>2000-01-05</th>\n",
       "      <td>282.10</td>\n",
       "    </tr>\n",
       "    <tr>\n",
       "      <th>2000-01-06</th>\n",
       "      <td>282.40</td>\n",
       "    </tr>\n",
       "    <tr>\n",
       "      <th>2000-01-07</th>\n",
       "      <td>282.90</td>\n",
       "    </tr>\n",
       "    <tr>\n",
       "      <th>2000-01-10</th>\n",
       "      <td>282.70</td>\n",
       "    </tr>\n",
       "  </tbody>\n",
       "</table>\n",
       "</div>"
      ],
      "text/plain": [
       "             Price\n",
       "Date              \n",
       "2000-01-04  283.70\n",
       "2000-01-05  282.10\n",
       "2000-01-06  282.40\n",
       "2000-01-07  282.90\n",
       "2000-01-10  282.70"
      ]
     },
     "execution_count": 96,
     "metadata": {},
     "output_type": "execute_result"
    }
   ],
   "source": [
    "#ds_gold.rename(columns = {\"Price\":\"gold_price\"})\n",
    "ds_gold.head()"
   ]
  },
  {
   "cell_type": "code",
   "execution_count": 109,
   "id": "0202d4ca",
   "metadata": {},
   "outputs": [
    {
     "data": {
      "text/plain": [
       "gold_price    0\n",
       "dtype: int64"
      ]
     },
     "execution_count": 109,
     "metadata": {},
     "output_type": "execute_result"
    }
   ],
   "source": [
    "ds_gold.isnull().sum()"
   ]
  },
  {
   "cell_type": "markdown",
   "id": "5300e2a8",
   "metadata": {},
   "source": [
    "# Pengolahan Dataset Harga S&P 500"
   ]
  },
  {
   "cell_type": "code",
   "execution_count": 32,
   "id": "e3700e5c",
   "metadata": {},
   "outputs": [
    {
     "data": {
      "text/html": [
       "<div>\n",
       "<style scoped>\n",
       "    .dataframe tbody tr th:only-of-type {\n",
       "        vertical-align: middle;\n",
       "    }\n",
       "\n",
       "    .dataframe tbody tr th {\n",
       "        vertical-align: top;\n",
       "    }\n",
       "\n",
       "    .dataframe thead th {\n",
       "        text-align: right;\n",
       "    }\n",
       "</style>\n",
       "<table border=\"1\" class=\"dataframe\">\n",
       "  <thead>\n",
       "    <tr style=\"text-align: right;\">\n",
       "      <th></th>\n",
       "      <th>Date</th>\n",
       "      <th>Price</th>\n",
       "      <th>Open</th>\n",
       "      <th>High</th>\n",
       "      <th>Low</th>\n",
       "      <th>Vol.</th>\n",
       "      <th>Change %</th>\n",
       "    </tr>\n",
       "  </thead>\n",
       "  <tbody>\n",
       "    <tr>\n",
       "      <th>0</th>\n",
       "      <td>2019-11-14</td>\n",
       "      <td>3,096.60</td>\n",
       "      <td>3,090.80</td>\n",
       "      <td>3,098.20</td>\n",
       "      <td>3,083.30</td>\n",
       "      <td>NaN</td>\n",
       "      <td>0.08%</td>\n",
       "    </tr>\n",
       "    <tr>\n",
       "      <th>1</th>\n",
       "      <td>2019-11-13</td>\n",
       "      <td>3,094.00</td>\n",
       "      <td>3,084.20</td>\n",
       "      <td>3,098.10</td>\n",
       "      <td>3,078.80</td>\n",
       "      <td>NaN</td>\n",
       "      <td>0.07%</td>\n",
       "    </tr>\n",
       "    <tr>\n",
       "      <th>2</th>\n",
       "      <td>2019-11-12</td>\n",
       "      <td>3,091.80</td>\n",
       "      <td>3,089.30</td>\n",
       "      <td>3,102.60</td>\n",
       "      <td>3,084.70</td>\n",
       "      <td>NaN</td>\n",
       "      <td>0.16%</td>\n",
       "    </tr>\n",
       "    <tr>\n",
       "      <th>3</th>\n",
       "      <td>2019-11-11</td>\n",
       "      <td>3,087.00</td>\n",
       "      <td>3,080.30</td>\n",
       "      <td>3,088.30</td>\n",
       "      <td>3,075.80</td>\n",
       "      <td>NaN</td>\n",
       "      <td>-0.20%</td>\n",
       "    </tr>\n",
       "    <tr>\n",
       "      <th>4</th>\n",
       "      <td>2019-11-08</td>\n",
       "      <td>3,093.10</td>\n",
       "      <td>3,081.20</td>\n",
       "      <td>3,093.10</td>\n",
       "      <td>3,073.60</td>\n",
       "      <td>NaN</td>\n",
       "      <td>0.26%</td>\n",
       "    </tr>\n",
       "  </tbody>\n",
       "</table>\n",
       "</div>"
      ],
      "text/plain": [
       "        Date     Price      Open      High       Low  Vol. Change %\n",
       "0 2019-11-14  3,096.60  3,090.80  3,098.20  3,083.30   NaN    0.08%\n",
       "1 2019-11-13  3,094.00  3,084.20  3,098.10  3,078.80   NaN    0.07%\n",
       "2 2019-11-12  3,091.80  3,089.30  3,102.60  3,084.70   NaN    0.16%\n",
       "3 2019-11-11  3,087.00  3,080.30  3,088.30  3,075.80   NaN   -0.20%\n",
       "4 2019-11-08  3,093.10  3,081.20  3,093.10  3,073.60   NaN    0.26%"
      ]
     },
     "execution_count": 32,
     "metadata": {},
     "output_type": "execute_result"
    }
   ],
   "source": [
    "# Dataset periode Januari 2000 - November 2019\n",
    "dssnp5001 = pd.read_csv(\"dataset/snp5001.csv\")\n",
    "dssnp5001['Date'] = pd.to_datetime(dssnp5001['Date'])\n",
    "dssnp5001.head()"
   ]
  },
  {
   "cell_type": "code",
   "execution_count": 33,
   "id": "f2cecb46",
   "metadata": {},
   "outputs": [
    {
     "data": {
      "text/html": [
       "<div>\n",
       "<style scoped>\n",
       "    .dataframe tbody tr th:only-of-type {\n",
       "        vertical-align: middle;\n",
       "    }\n",
       "\n",
       "    .dataframe tbody tr th {\n",
       "        vertical-align: top;\n",
       "    }\n",
       "\n",
       "    .dataframe thead th {\n",
       "        text-align: right;\n",
       "    }\n",
       "</style>\n",
       "<table border=\"1\" class=\"dataframe\">\n",
       "  <thead>\n",
       "    <tr style=\"text-align: right;\">\n",
       "      <th></th>\n",
       "      <th>Date</th>\n",
       "      <th>Price</th>\n",
       "      <th>Open</th>\n",
       "      <th>High</th>\n",
       "      <th>Low</th>\n",
       "      <th>Vol.</th>\n",
       "      <th>Change %</th>\n",
       "    </tr>\n",
       "  </thead>\n",
       "  <tbody>\n",
       "    <tr>\n",
       "      <th>0</th>\n",
       "      <td>2023-12-29</td>\n",
       "      <td>4,769.83</td>\n",
       "      <td>4,782.88</td>\n",
       "      <td>4,788.43</td>\n",
       "      <td>4,751.99</td>\n",
       "      <td>NaN</td>\n",
       "      <td>-0.28%</td>\n",
       "    </tr>\n",
       "    <tr>\n",
       "      <th>1</th>\n",
       "      <td>2023-12-28</td>\n",
       "      <td>4,783.35</td>\n",
       "      <td>4,786.44</td>\n",
       "      <td>4,793.30</td>\n",
       "      <td>4,780.98</td>\n",
       "      <td>NaN</td>\n",
       "      <td>0.04%</td>\n",
       "    </tr>\n",
       "    <tr>\n",
       "      <th>2</th>\n",
       "      <td>2023-12-27</td>\n",
       "      <td>4,781.58</td>\n",
       "      <td>4,773.45</td>\n",
       "      <td>4,785.39</td>\n",
       "      <td>4,768.90</td>\n",
       "      <td>NaN</td>\n",
       "      <td>0.14%</td>\n",
       "    </tr>\n",
       "    <tr>\n",
       "      <th>3</th>\n",
       "      <td>2023-12-26</td>\n",
       "      <td>4,774.75</td>\n",
       "      <td>4,758.86</td>\n",
       "      <td>4,784.72</td>\n",
       "      <td>4,758.45</td>\n",
       "      <td>NaN</td>\n",
       "      <td>0.42%</td>\n",
       "    </tr>\n",
       "    <tr>\n",
       "      <th>4</th>\n",
       "      <td>2023-12-22</td>\n",
       "      <td>4,754.63</td>\n",
       "      <td>4,753.92</td>\n",
       "      <td>4,772.94</td>\n",
       "      <td>4,736.77</td>\n",
       "      <td>NaN</td>\n",
       "      <td>0.17%</td>\n",
       "    </tr>\n",
       "  </tbody>\n",
       "</table>\n",
       "</div>"
      ],
      "text/plain": [
       "        Date     Price      Open      High       Low  Vol. Change %\n",
       "0 2023-12-29  4,769.83  4,782.88  4,788.43  4,751.99   NaN   -0.28%\n",
       "1 2023-12-28  4,783.35  4,786.44  4,793.30  4,780.98   NaN    0.04%\n",
       "2 2023-12-27  4,781.58  4,773.45  4,785.39  4,768.90   NaN    0.14%\n",
       "3 2023-12-26  4,774.75  4,758.86  4,784.72  4,758.45   NaN    0.42%\n",
       "4 2023-12-22  4,754.63  4,753.92  4,772.94  4,736.77   NaN    0.17%"
      ]
     },
     "execution_count": 33,
     "metadata": {},
     "output_type": "execute_result"
    }
   ],
   "source": [
    "# Dataset periode November 2019 - Desember 2023\n",
    "dssnp5002 = pd.read_csv(\"dataset/snp5002.csv\")\n",
    "dssnp5002['Date'] = pd.to_datetime(dssnp5002['Date'])\n",
    "dssnp5002.head()"
   ]
  },
  {
   "cell_type": "code",
   "execution_count": 48,
   "id": "7ad0e392",
   "metadata": {},
   "outputs": [],
   "source": [
    "# Penelitian ini akan menggunakan data pada periode 04 Januari 2000 - 29 Desember 2023\n",
    "# Untuk itu dilakukan penggabungan dataset, dan mengurutkannya berdasarkan data terlama hingga terbaru\n",
    "# Setelah digabung dan diurutkan, dataset disimpan di folder yang sama dengan penamaan file yang berbeda\n",
    "snp500_ds = pd.concat([dssnp5001, dssnp5002], ignore_index=True)\n",
    "snp500_ds_sorted = snp500_ds.sort_values(by='Date', ascending=True)\n",
    "snp500_ds_sorted.to_csv('dataset/snp500_ds.csv', index=False)"
   ]
  },
  {
   "cell_type": "code",
   "execution_count": 49,
   "id": "77664e72",
   "metadata": {},
   "outputs": [
    {
     "data": {
      "text/html": [
       "<div>\n",
       "<style scoped>\n",
       "    .dataframe tbody tr th:only-of-type {\n",
       "        vertical-align: middle;\n",
       "    }\n",
       "\n",
       "    .dataframe tbody tr th {\n",
       "        vertical-align: top;\n",
       "    }\n",
       "\n",
       "    .dataframe thead th {\n",
       "        text-align: right;\n",
       "    }\n",
       "</style>\n",
       "<table border=\"1\" class=\"dataframe\">\n",
       "  <thead>\n",
       "    <tr style=\"text-align: right;\">\n",
       "      <th></th>\n",
       "      <th>Date</th>\n",
       "      <th>Price</th>\n",
       "      <th>Open</th>\n",
       "      <th>High</th>\n",
       "      <th>Low</th>\n",
       "      <th>Vol.</th>\n",
       "      <th>Change %</th>\n",
       "    </tr>\n",
       "  </thead>\n",
       "  <tbody>\n",
       "    <tr>\n",
       "      <th>0</th>\n",
       "      <td>2000-01-03</td>\n",
       "      <td>1,455.20</td>\n",
       "      <td>1,469.20</td>\n",
       "      <td>1,478.00</td>\n",
       "      <td>1,438.40</td>\n",
       "      <td>NaN</td>\n",
       "      <td>-0.95%</td>\n",
       "    </tr>\n",
       "    <tr>\n",
       "      <th>1</th>\n",
       "      <td>2000-01-04</td>\n",
       "      <td>1,399.40</td>\n",
       "      <td>1,455.20</td>\n",
       "      <td>1,455.20</td>\n",
       "      <td>1,397.40</td>\n",
       "      <td>NaN</td>\n",
       "      <td>-3.83%</td>\n",
       "    </tr>\n",
       "    <tr>\n",
       "      <th>2</th>\n",
       "      <td>2000-01-05</td>\n",
       "      <td>1,402.10</td>\n",
       "      <td>1,399.40</td>\n",
       "      <td>1,413.30</td>\n",
       "      <td>1,377.70</td>\n",
       "      <td>NaN</td>\n",
       "      <td>0.19%</td>\n",
       "    </tr>\n",
       "    <tr>\n",
       "      <th>3</th>\n",
       "      <td>2000-01-06</td>\n",
       "      <td>1,403.50</td>\n",
       "      <td>1,402.10</td>\n",
       "      <td>1,411.90</td>\n",
       "      <td>1,392.00</td>\n",
       "      <td>NaN</td>\n",
       "      <td>0.10%</td>\n",
       "    </tr>\n",
       "    <tr>\n",
       "      <th>4</th>\n",
       "      <td>2000-01-07</td>\n",
       "      <td>1,441.50</td>\n",
       "      <td>1,403.50</td>\n",
       "      <td>1,441.50</td>\n",
       "      <td>1,400.50</td>\n",
       "      <td>NaN</td>\n",
       "      <td>2.71%</td>\n",
       "    </tr>\n",
       "  </tbody>\n",
       "</table>\n",
       "</div>"
      ],
      "text/plain": [
       "         Date     Price      Open      High       Low  Vol. Change %\n",
       "0  2000-01-03  1,455.20  1,469.20  1,478.00  1,438.40   NaN   -0.95%\n",
       "1  2000-01-04  1,399.40  1,455.20  1,455.20  1,397.40   NaN   -3.83%\n",
       "2  2000-01-05  1,402.10  1,399.40  1,413.30  1,377.70   NaN    0.19%\n",
       "3  2000-01-06  1,403.50  1,402.10  1,411.90  1,392.00   NaN    0.10%\n",
       "4  2000-01-07  1,441.50  1,403.50  1,441.50  1,400.50   NaN    2.71%"
      ]
     },
     "execution_count": 49,
     "metadata": {},
     "output_type": "execute_result"
    }
   ],
   "source": [
    "snp500_ds = pd.read_csv(\"dataset/snp500_ds.csv\")\n",
    "snp500_ds.head()"
   ]
  },
  {
   "cell_type": "code",
   "execution_count": 50,
   "id": "6a22707d",
   "metadata": {},
   "outputs": [],
   "source": [
    "# Dalam penelitian ini, kami membutuhkan harga emas. Untuk itu, kami akan menghapus kolom open, high, low, vol. dan change%\n",
    "ds_snp500 = snp500_ds.drop([\"Open\", \"High\", \"Low\", \"Vol.\", \"Change %\"], axis = 1)\n",
    "ds_snp500['Date'] = pd.to_datetime(ds_snp500['Date'])\n",
    "ds_snp500_sorted = ds_snp500.sort_values(by='Date', ascending=True)\n",
    "ds_snp500_sorted.to_csv('dataset/ds_snp500.csv', index=False)"
   ]
  },
  {
   "cell_type": "code",
   "execution_count": 71,
   "id": "28690697",
   "metadata": {},
   "outputs": [
    {
     "data": {
      "text/html": [
       "<div>\n",
       "<style scoped>\n",
       "    .dataframe tbody tr th:only-of-type {\n",
       "        vertical-align: middle;\n",
       "    }\n",
       "\n",
       "    .dataframe tbody tr th {\n",
       "        vertical-align: top;\n",
       "    }\n",
       "\n",
       "    .dataframe thead th {\n",
       "        text-align: right;\n",
       "    }\n",
       "</style>\n",
       "<table border=\"1\" class=\"dataframe\">\n",
       "  <thead>\n",
       "    <tr style=\"text-align: right;\">\n",
       "      <th></th>\n",
       "      <th>Price</th>\n",
       "    </tr>\n",
       "    <tr>\n",
       "      <th>Date</th>\n",
       "      <th></th>\n",
       "    </tr>\n",
       "  </thead>\n",
       "  <tbody>\n",
       "    <tr>\n",
       "      <th>2000-01-03</th>\n",
       "      <td>1,455.20</td>\n",
       "    </tr>\n",
       "    <tr>\n",
       "      <th>2000-01-04</th>\n",
       "      <td>1,399.40</td>\n",
       "    </tr>\n",
       "    <tr>\n",
       "      <th>2000-01-05</th>\n",
       "      <td>1,402.10</td>\n",
       "    </tr>\n",
       "    <tr>\n",
       "      <th>2000-01-06</th>\n",
       "      <td>1,403.50</td>\n",
       "    </tr>\n",
       "    <tr>\n",
       "      <th>2000-01-07</th>\n",
       "      <td>1,441.50</td>\n",
       "    </tr>\n",
       "  </tbody>\n",
       "</table>\n",
       "</div>"
      ],
      "text/plain": [
       "               Price\n",
       "Date                \n",
       "2000-01-03  1,455.20\n",
       "2000-01-04  1,399.40\n",
       "2000-01-05  1,402.10\n",
       "2000-01-06  1,403.50\n",
       "2000-01-07  1,441.50"
      ]
     },
     "execution_count": 71,
     "metadata": {},
     "output_type": "execute_result"
    }
   ],
   "source": [
    "# Menetapkan kolom 'Date' sebagai indeks (index) untuk DataFrame\n",
    "ds_snp500 = ds_snp500.set_index('Date')\n",
    "ds_snp500.head()"
   ]
  },
  {
   "cell_type": "markdown",
   "id": "cc69ec03",
   "metadata": {},
   "source": [
    "# Pengolahan Dataset Index Nilai Dollar US"
   ]
  },
  {
   "cell_type": "code",
   "execution_count": 58,
   "id": "85ddc250",
   "metadata": {},
   "outputs": [
    {
     "data": {
      "text/html": [
       "<div>\n",
       "<style scoped>\n",
       "    .dataframe tbody tr th:only-of-type {\n",
       "        vertical-align: middle;\n",
       "    }\n",
       "\n",
       "    .dataframe tbody tr th {\n",
       "        vertical-align: top;\n",
       "    }\n",
       "\n",
       "    .dataframe thead th {\n",
       "        text-align: right;\n",
       "    }\n",
       "</style>\n",
       "<table border=\"1\" class=\"dataframe\">\n",
       "  <thead>\n",
       "    <tr style=\"text-align: right;\">\n",
       "      <th></th>\n",
       "      <th>Date</th>\n",
       "      <th>Price</th>\n",
       "      <th>Open</th>\n",
       "      <th>High</th>\n",
       "      <th>Low</th>\n",
       "      <th>Vol.</th>\n",
       "      <th>Change %</th>\n",
       "    </tr>\n",
       "  </thead>\n",
       "  <tbody>\n",
       "    <tr>\n",
       "      <th>0</th>\n",
       "      <td>2019-05-10</td>\n",
       "      <td>97.33</td>\n",
       "      <td>97.43</td>\n",
       "      <td>97.45</td>\n",
       "      <td>97.13</td>\n",
       "      <td>NaN</td>\n",
       "      <td>-0.04%</td>\n",
       "    </tr>\n",
       "    <tr>\n",
       "      <th>1</th>\n",
       "      <td>2019-05-09</td>\n",
       "      <td>97.37</td>\n",
       "      <td>97.58</td>\n",
       "      <td>97.70</td>\n",
       "      <td>97.24</td>\n",
       "      <td>NaN</td>\n",
       "      <td>-0.26%</td>\n",
       "    </tr>\n",
       "    <tr>\n",
       "      <th>2</th>\n",
       "      <td>2019-05-08</td>\n",
       "      <td>97.62</td>\n",
       "      <td>97.57</td>\n",
       "      <td>97.68</td>\n",
       "      <td>97.42</td>\n",
       "      <td>NaN</td>\n",
       "      <td>-0.01%</td>\n",
       "    </tr>\n",
       "    <tr>\n",
       "      <th>3</th>\n",
       "      <td>2019-05-07</td>\n",
       "      <td>97.63</td>\n",
       "      <td>97.52</td>\n",
       "      <td>97.74</td>\n",
       "      <td>97.38</td>\n",
       "      <td>NaN</td>\n",
       "      <td>0.11%</td>\n",
       "    </tr>\n",
       "    <tr>\n",
       "      <th>4</th>\n",
       "      <td>2019-05-06</td>\n",
       "      <td>97.52</td>\n",
       "      <td>97.56</td>\n",
       "      <td>97.70</td>\n",
       "      <td>97.46</td>\n",
       "      <td>NaN</td>\n",
       "      <td>0.00%</td>\n",
       "    </tr>\n",
       "  </tbody>\n",
       "</table>\n",
       "</div>"
      ],
      "text/plain": [
       "        Date  Price   Open   High    Low  Vol. Change %\n",
       "0 2019-05-10  97.33  97.43  97.45  97.13   NaN   -0.04%\n",
       "1 2019-05-09  97.37  97.58  97.70  97.24   NaN   -0.26%\n",
       "2 2019-05-08  97.62  97.57  97.68  97.42   NaN   -0.01%\n",
       "3 2019-05-07  97.63  97.52  97.74  97.38   NaN    0.11%\n",
       "4 2019-05-06  97.52  97.56  97.70  97.46   NaN    0.00%"
      ]
     },
     "execution_count": 58,
     "metadata": {},
     "output_type": "execute_result"
    }
   ],
   "source": [
    "# Dataset periode Januari 2000 - November 2019\n",
    "usdollarindex1 = pd.read_csv(\"dataset/usdollarindex1.csv\")\n",
    "usdollarindex1['Date'] = pd.to_datetime(usdollarindex1['Date'])\n",
    "usdollarindex1.head()"
   ]
  },
  {
   "cell_type": "code",
   "execution_count": 59,
   "id": "f2648921",
   "metadata": {},
   "outputs": [
    {
     "data": {
      "text/html": [
       "<div>\n",
       "<style scoped>\n",
       "    .dataframe tbody tr th:only-of-type {\n",
       "        vertical-align: middle;\n",
       "    }\n",
       "\n",
       "    .dataframe tbody tr th {\n",
       "        vertical-align: top;\n",
       "    }\n",
       "\n",
       "    .dataframe thead th {\n",
       "        text-align: right;\n",
       "    }\n",
       "</style>\n",
       "<table border=\"1\" class=\"dataframe\">\n",
       "  <thead>\n",
       "    <tr style=\"text-align: right;\">\n",
       "      <th></th>\n",
       "      <th>Date</th>\n",
       "      <th>Price</th>\n",
       "      <th>Open</th>\n",
       "      <th>High</th>\n",
       "      <th>Low</th>\n",
       "      <th>Vol.</th>\n",
       "      <th>Change %</th>\n",
       "    </tr>\n",
       "  </thead>\n",
       "  <tbody>\n",
       "    <tr>\n",
       "      <th>0</th>\n",
       "      <td>2023-12-31</td>\n",
       "      <td>101.38</td>\n",
       "      <td>101.38</td>\n",
       "      <td>101.38</td>\n",
       "      <td>101.38</td>\n",
       "      <td>NaN</td>\n",
       "      <td>0.05%</td>\n",
       "    </tr>\n",
       "    <tr>\n",
       "      <th>1</th>\n",
       "      <td>2023-12-29</td>\n",
       "      <td>101.33</td>\n",
       "      <td>101.20</td>\n",
       "      <td>101.42</td>\n",
       "      <td>101.07</td>\n",
       "      <td>NaN</td>\n",
       "      <td>0.10%</td>\n",
       "    </tr>\n",
       "    <tr>\n",
       "      <th>2</th>\n",
       "      <td>2023-12-28</td>\n",
       "      <td>101.23</td>\n",
       "      <td>100.87</td>\n",
       "      <td>101.30</td>\n",
       "      <td>100.62</td>\n",
       "      <td>NaN</td>\n",
       "      <td>0.24%</td>\n",
       "    </tr>\n",
       "    <tr>\n",
       "      <th>3</th>\n",
       "      <td>2023-12-27</td>\n",
       "      <td>100.99</td>\n",
       "      <td>101.55</td>\n",
       "      <td>101.57</td>\n",
       "      <td>100.83</td>\n",
       "      <td>NaN</td>\n",
       "      <td>-0.47%</td>\n",
       "    </tr>\n",
       "    <tr>\n",
       "      <th>4</th>\n",
       "      <td>2023-12-26</td>\n",
       "      <td>101.47</td>\n",
       "      <td>101.65</td>\n",
       "      <td>101.77</td>\n",
       "      <td>101.44</td>\n",
       "      <td>NaN</td>\n",
       "      <td>-0.24%</td>\n",
       "    </tr>\n",
       "  </tbody>\n",
       "</table>\n",
       "</div>"
      ],
      "text/plain": [
       "        Date   Price    Open    High     Low  Vol. Change %\n",
       "0 2023-12-31  101.38  101.38  101.38  101.38   NaN    0.05%\n",
       "1 2023-12-29  101.33  101.20  101.42  101.07   NaN    0.10%\n",
       "2 2023-12-28  101.23  100.87  101.30  100.62   NaN    0.24%\n",
       "3 2023-12-27  100.99  101.55  101.57  100.83   NaN   -0.47%\n",
       "4 2023-12-26  101.47  101.65  101.77  101.44   NaN   -0.24%"
      ]
     },
     "execution_count": 59,
     "metadata": {},
     "output_type": "execute_result"
    }
   ],
   "source": [
    "# Dataset periode November 2019 - Desember 2023\n",
    "usdollarindex2 = pd.read_csv(\"dataset/usdollarindex2.csv\")\n",
    "usdollarindex2['Date'] = pd.to_datetime(usdollarindex2['Date'])\n",
    "usdollarindex2.head()"
   ]
  },
  {
   "cell_type": "code",
   "execution_count": 60,
   "id": "53cd81ee",
   "metadata": {},
   "outputs": [],
   "source": [
    "# Penelitian ini akan menggunakan data pada periode 04 Januari 2000 - 29 Desember 2023\n",
    "# Untuk itu dilakukan penggabungan dataset, dan mengurutkannya berdasarkan data terlama hingga terbaru\n",
    "# Setelah digabung dan diurutkan, dataset disimpan di folder yang sama dengan penamaan file yang berbeda\n",
    "usdollarindex_ds = pd.concat([usdollarindex1, usdollarindex2], ignore_index=True)\n",
    "usdollarindex_ds_sorted = usdollarindex_ds.sort_values(by='Date', ascending=True)\n",
    "usdollarindex_ds_sorted.to_csv('dataset/usdollarindex_ds.csv', index=False)"
   ]
  },
  {
   "cell_type": "code",
   "execution_count": 61,
   "id": "508d0c1c",
   "metadata": {},
   "outputs": [
    {
     "data": {
      "text/html": [
       "<div>\n",
       "<style scoped>\n",
       "    .dataframe tbody tr th:only-of-type {\n",
       "        vertical-align: middle;\n",
       "    }\n",
       "\n",
       "    .dataframe tbody tr th {\n",
       "        vertical-align: top;\n",
       "    }\n",
       "\n",
       "    .dataframe thead th {\n",
       "        text-align: right;\n",
       "    }\n",
       "</style>\n",
       "<table border=\"1\" class=\"dataframe\">\n",
       "  <thead>\n",
       "    <tr style=\"text-align: right;\">\n",
       "      <th></th>\n",
       "      <th>Date</th>\n",
       "      <th>Price</th>\n",
       "      <th>Open</th>\n",
       "      <th>High</th>\n",
       "      <th>Low</th>\n",
       "      <th>Vol.</th>\n",
       "      <th>Change %</th>\n",
       "    </tr>\n",
       "  </thead>\n",
       "  <tbody>\n",
       "    <tr>\n",
       "      <th>0</th>\n",
       "      <td>2000-01-03</td>\n",
       "      <td>100.22</td>\n",
       "      <td>101.67</td>\n",
       "      <td>101.83</td>\n",
       "      <td>100.19</td>\n",
       "      <td>NaN</td>\n",
       "      <td>-1.62%</td>\n",
       "    </tr>\n",
       "    <tr>\n",
       "      <th>1</th>\n",
       "      <td>2000-01-04</td>\n",
       "      <td>100.41</td>\n",
       "      <td>100.55</td>\n",
       "      <td>100.86</td>\n",
       "      <td>100.01</td>\n",
       "      <td>NaN</td>\n",
       "      <td>0.19%</td>\n",
       "    </tr>\n",
       "    <tr>\n",
       "      <th>2</th>\n",
       "      <td>2000-01-05</td>\n",
       "      <td>100.38</td>\n",
       "      <td>100.42</td>\n",
       "      <td>100.47</td>\n",
       "      <td>99.71</td>\n",
       "      <td>NaN</td>\n",
       "      <td>-0.03%</td>\n",
       "    </tr>\n",
       "    <tr>\n",
       "      <th>3</th>\n",
       "      <td>2000-01-06</td>\n",
       "      <td>100.65</td>\n",
       "      <td>100.31</td>\n",
       "      <td>100.81</td>\n",
       "      <td>99.81</td>\n",
       "      <td>NaN</td>\n",
       "      <td>0.27%</td>\n",
       "    </tr>\n",
       "    <tr>\n",
       "      <th>4</th>\n",
       "      <td>2000-01-07</td>\n",
       "      <td>100.80</td>\n",
       "      <td>100.49</td>\n",
       "      <td>100.93</td>\n",
       "      <td>100.44</td>\n",
       "      <td>NaN</td>\n",
       "      <td>0.15%</td>\n",
       "    </tr>\n",
       "  </tbody>\n",
       "</table>\n",
       "</div>"
      ],
      "text/plain": [
       "         Date   Price    Open    High     Low  Vol. Change %\n",
       "0  2000-01-03  100.22  101.67  101.83  100.19   NaN   -1.62%\n",
       "1  2000-01-04  100.41  100.55  100.86  100.01   NaN    0.19%\n",
       "2  2000-01-05  100.38  100.42  100.47   99.71   NaN   -0.03%\n",
       "3  2000-01-06  100.65  100.31  100.81   99.81   NaN    0.27%\n",
       "4  2000-01-07  100.80  100.49  100.93  100.44   NaN    0.15%"
      ]
     },
     "execution_count": 61,
     "metadata": {},
     "output_type": "execute_result"
    }
   ],
   "source": [
    "usdollarindex_ds = pd.read_csv(\"dataset/usdollarindex_ds.csv\")\n",
    "usdollarindex_ds.head()"
   ]
  },
  {
   "cell_type": "code",
   "execution_count": 62,
   "id": "111c1e04",
   "metadata": {},
   "outputs": [],
   "source": [
    "# Dalam penelitian ini, kami membutuhkan harga emas. Untuk itu, kami akan menghapus kolom open, high, low, vol. dan change%\n",
    "ds_usdollarindex = usdollarindex_ds.drop([\"Open\", \"High\", \"Low\", \"Vol.\", \"Change %\"], axis = 1)\n",
    "ds_usdollarindex['Date'] = pd.to_datetime(ds_usdollarindex['Date'])\n",
    "ds_usdollarindex_sorted = ds_usdollarindex.sort_values(by='Date', ascending=True)\n",
    "ds_usdollarindex_sorted.to_csv('dataset/ds_usdollarindex.csv', index=False)"
   ]
  },
  {
   "cell_type": "code",
   "execution_count": 73,
   "id": "67cbccc1",
   "metadata": {},
   "outputs": [
    {
     "data": {
      "text/html": [
       "<div>\n",
       "<style scoped>\n",
       "    .dataframe tbody tr th:only-of-type {\n",
       "        vertical-align: middle;\n",
       "    }\n",
       "\n",
       "    .dataframe tbody tr th {\n",
       "        vertical-align: top;\n",
       "    }\n",
       "\n",
       "    .dataframe thead th {\n",
       "        text-align: right;\n",
       "    }\n",
       "</style>\n",
       "<table border=\"1\" class=\"dataframe\">\n",
       "  <thead>\n",
       "    <tr style=\"text-align: right;\">\n",
       "      <th></th>\n",
       "      <th>Price</th>\n",
       "    </tr>\n",
       "    <tr>\n",
       "      <th>Date</th>\n",
       "      <th></th>\n",
       "    </tr>\n",
       "  </thead>\n",
       "  <tbody>\n",
       "    <tr>\n",
       "      <th>2000-01-03</th>\n",
       "      <td>100.22</td>\n",
       "    </tr>\n",
       "    <tr>\n",
       "      <th>2000-01-04</th>\n",
       "      <td>100.41</td>\n",
       "    </tr>\n",
       "    <tr>\n",
       "      <th>2000-01-05</th>\n",
       "      <td>100.38</td>\n",
       "    </tr>\n",
       "    <tr>\n",
       "      <th>2000-01-06</th>\n",
       "      <td>100.65</td>\n",
       "    </tr>\n",
       "    <tr>\n",
       "      <th>2000-01-07</th>\n",
       "      <td>100.80</td>\n",
       "    </tr>\n",
       "  </tbody>\n",
       "</table>\n",
       "</div>"
      ],
      "text/plain": [
       "             Price\n",
       "Date              \n",
       "2000-01-03  100.22\n",
       "2000-01-04  100.41\n",
       "2000-01-05  100.38\n",
       "2000-01-06  100.65\n",
       "2000-01-07  100.80"
      ]
     },
     "execution_count": 73,
     "metadata": {},
     "output_type": "execute_result"
    }
   ],
   "source": [
    "# Menetapkan kolom 'Date' sebagai indeks (index) untuk DataFrame\n",
    "ds_usdollarindex = ds_usdollarindex.set_index('Date')\n",
    "ds_usdollarindex.head()"
   ]
  },
  {
   "cell_type": "markdown",
   "id": "3ac42c18",
   "metadata": {},
   "source": [
    "# Pengolahan Dataset Harga Minyak Mentah"
   ]
  },
  {
   "cell_type": "code",
   "execution_count": 64,
   "id": "4fbeff38",
   "metadata": {},
   "outputs": [],
   "source": [
    "# Dataset periode 04 Januari 2000 - 21 Agustus 2019\n",
    "ds1 = pd.read_csv(\"dataset/ds1.csv\")\n",
    "ds1['Date'] = pd.to_datetime(ds1['Date'])"
   ]
  },
  {
   "cell_type": "code",
   "execution_count": 65,
   "id": "4dff929f",
   "metadata": {},
   "outputs": [],
   "source": [
    "# Dataset periode 22 Agustus 2019 - 29 Desember 2023\n",
    "ds2 = pd.read_csv(\"dataset/ds2.csv\")\n",
    "ds2['Date'] = pd.to_datetime(ds2['Date'])"
   ]
  },
  {
   "cell_type": "code",
   "execution_count": 66,
   "id": "6061516b",
   "metadata": {},
   "outputs": [],
   "source": [
    "# Penelitian ini akan menggunakan data pada periode 04 Januari 2000 - 29 Desember 2023\n",
    "# Untuk itu dilakukan penggabungan dataset, dan mengurutkannya berdasarkan data terlama hingga terbaru\n",
    "# Setelah digabung dan diurutkan, dataset disimpan di folder yang sama dengan penamaan file yang berbeda\n",
    "crudeoil_ds = pd.concat([ds1, ds2], ignore_index=True)\n",
    "crudeoil_ds_sorted = crudeoil_ds.sort_values(by='Date', ascending=True)\n",
    "crudeoil_ds_sorted.to_csv('dataset/crudeoil_ds.csv', index=False)"
   ]
  },
  {
   "cell_type": "code",
   "execution_count": 67,
   "id": "4bf1fb3c",
   "metadata": {},
   "outputs": [
    {
     "data": {
      "text/html": [
       "<div>\n",
       "<style scoped>\n",
       "    .dataframe tbody tr th:only-of-type {\n",
       "        vertical-align: middle;\n",
       "    }\n",
       "\n",
       "    .dataframe tbody tr th {\n",
       "        vertical-align: top;\n",
       "    }\n",
       "\n",
       "    .dataframe thead th {\n",
       "        text-align: right;\n",
       "    }\n",
       "</style>\n",
       "<table border=\"1\" class=\"dataframe\">\n",
       "  <thead>\n",
       "    <tr style=\"text-align: right;\">\n",
       "      <th></th>\n",
       "      <th>Date</th>\n",
       "      <th>Price</th>\n",
       "      <th>Open</th>\n",
       "      <th>High</th>\n",
       "      <th>Low</th>\n",
       "      <th>Vol.</th>\n",
       "      <th>Change %</th>\n",
       "    </tr>\n",
       "  </thead>\n",
       "  <tbody>\n",
       "    <tr>\n",
       "      <th>0</th>\n",
       "      <td>2000-01-04</td>\n",
       "      <td>25.55</td>\n",
       "      <td>25.20</td>\n",
       "      <td>25.69</td>\n",
       "      <td>24.71</td>\n",
       "      <td>74.79K</td>\n",
       "      <td>-0.20%</td>\n",
       "    </tr>\n",
       "    <tr>\n",
       "      <th>1</th>\n",
       "      <td>2000-01-05</td>\n",
       "      <td>24.91</td>\n",
       "      <td>25.50</td>\n",
       "      <td>25.61</td>\n",
       "      <td>24.87</td>\n",
       "      <td>70.94K</td>\n",
       "      <td>-2.50%</td>\n",
       "    </tr>\n",
       "    <tr>\n",
       "      <th>2</th>\n",
       "      <td>2000-01-06</td>\n",
       "      <td>24.78</td>\n",
       "      <td>24.80</td>\n",
       "      <td>25.34</td>\n",
       "      <td>24.51</td>\n",
       "      <td>85.25K</td>\n",
       "      <td>-0.52%</td>\n",
       "    </tr>\n",
       "    <tr>\n",
       "      <th>3</th>\n",
       "      <td>2000-01-07</td>\n",
       "      <td>24.22</td>\n",
       "      <td>24.65</td>\n",
       "      <td>25.00</td>\n",
       "      <td>24.15</td>\n",
       "      <td>91.83K</td>\n",
       "      <td>-2.26%</td>\n",
       "    </tr>\n",
       "    <tr>\n",
       "      <th>4</th>\n",
       "      <td>2000-01-10</td>\n",
       "      <td>24.67</td>\n",
       "      <td>24.22</td>\n",
       "      <td>24.75</td>\n",
       "      <td>24.02</td>\n",
       "      <td>68.90K</td>\n",
       "      <td>1.86%</td>\n",
       "    </tr>\n",
       "  </tbody>\n",
       "</table>\n",
       "</div>"
      ],
      "text/plain": [
       "         Date  Price   Open   High    Low    Vol. Change %\n",
       "0  2000-01-04  25.55  25.20  25.69  24.71  74.79K   -0.20%\n",
       "1  2000-01-05  24.91  25.50  25.61  24.87  70.94K   -2.50%\n",
       "2  2000-01-06  24.78  24.80  25.34  24.51  85.25K   -0.52%\n",
       "3  2000-01-07  24.22  24.65  25.00  24.15  91.83K   -2.26%\n",
       "4  2000-01-10  24.67  24.22  24.75  24.02  68.90K    1.86%"
      ]
     },
     "execution_count": 67,
     "metadata": {},
     "output_type": "execute_result"
    }
   ],
   "source": [
    "# Menampilkan dataset terbaru\n",
    "crudeoil_ds = pd.read_csv(\"dataset/crudeoil_ds.csv\")\n",
    "crudeoil_ds.head()"
   ]
  },
  {
   "cell_type": "code",
   "execution_count": 68,
   "id": "95c6a319",
   "metadata": {},
   "outputs": [],
   "source": [
    "# Dalam penelitian ini, kami membutuhkan harga emas. Untuk itu, kami akan menghapus kolom open, high, low, vol. dan change%\n",
    "ds_crudeoil = crudeoil_ds.drop([\"Open\", \"High\", \"Low\", \"Vol.\", \"Change %\"], axis = 1)\n",
    "ds_crudeoil['Date'] = pd.to_datetime(ds_crudeoil['Date'])\n",
    "ds_crudeoil_sorted = ds_crudeoil.sort_values(by='Date', ascending=True)\n",
    "ds_crudeoil_sorted.to_csv('dataset/ds_crudeoil.csv', index=False)"
   ]
  },
  {
   "cell_type": "code",
   "execution_count": 74,
   "id": "f6b9ba58",
   "metadata": {},
   "outputs": [
    {
     "data": {
      "text/html": [
       "<div>\n",
       "<style scoped>\n",
       "    .dataframe tbody tr th:only-of-type {\n",
       "        vertical-align: middle;\n",
       "    }\n",
       "\n",
       "    .dataframe tbody tr th {\n",
       "        vertical-align: top;\n",
       "    }\n",
       "\n",
       "    .dataframe thead th {\n",
       "        text-align: right;\n",
       "    }\n",
       "</style>\n",
       "<table border=\"1\" class=\"dataframe\">\n",
       "  <thead>\n",
       "    <tr style=\"text-align: right;\">\n",
       "      <th></th>\n",
       "      <th>Price</th>\n",
       "    </tr>\n",
       "    <tr>\n",
       "      <th>Date</th>\n",
       "      <th></th>\n",
       "    </tr>\n",
       "  </thead>\n",
       "  <tbody>\n",
       "    <tr>\n",
       "      <th>2000-01-04</th>\n",
       "      <td>25.55</td>\n",
       "    </tr>\n",
       "    <tr>\n",
       "      <th>2000-01-05</th>\n",
       "      <td>24.91</td>\n",
       "    </tr>\n",
       "    <tr>\n",
       "      <th>2000-01-06</th>\n",
       "      <td>24.78</td>\n",
       "    </tr>\n",
       "    <tr>\n",
       "      <th>2000-01-07</th>\n",
       "      <td>24.22</td>\n",
       "    </tr>\n",
       "    <tr>\n",
       "      <th>2000-01-10</th>\n",
       "      <td>24.67</td>\n",
       "    </tr>\n",
       "  </tbody>\n",
       "</table>\n",
       "</div>"
      ],
      "text/plain": [
       "            Price\n",
       "Date             \n",
       "2000-01-04  25.55\n",
       "2000-01-05  24.91\n",
       "2000-01-06  24.78\n",
       "2000-01-07  24.22\n",
       "2000-01-10  24.67"
      ]
     },
     "execution_count": 74,
     "metadata": {},
     "output_type": "execute_result"
    }
   ],
   "source": [
    "# Menetapkan kolom 'Date' sebagai indeks (index) untuk DataFrame\n",
    "ds_crudeoil = ds_crudeoil.set_index('Date')\n",
    "ds_crudeoil.head()"
   ]
  },
  {
   "cell_type": "markdown",
   "id": "f25f84f2",
   "metadata": {},
   "source": [
    "Saat ini, kami memiliki 4 data price yakni harga emas, harga S&P 500, harga index us dollar, dan harga minyak mentah.\n",
    "Langkah selanjutnya adalah menggabungkan masing-masing data ke dalam 1 dataset untuk melakukan penelitian lebih lanjut"
   ]
  },
  {
   "cell_type": "code",
   "execution_count": 122,
   "id": "1e862196",
   "metadata": {},
   "outputs": [
    {
     "data": {
      "text/html": [
       "<div>\n",
       "<style scoped>\n",
       "    .dataframe tbody tr th:only-of-type {\n",
       "        vertical-align: middle;\n",
       "    }\n",
       "\n",
       "    .dataframe tbody tr th {\n",
       "        vertical-align: top;\n",
       "    }\n",
       "\n",
       "    .dataframe thead th {\n",
       "        text-align: right;\n",
       "    }\n",
       "</style>\n",
       "<table border=\"1\" class=\"dataframe\">\n",
       "  <thead>\n",
       "    <tr style=\"text-align: right;\">\n",
       "      <th></th>\n",
       "      <th>gold_price</th>\n",
       "      <th>snp500_price</th>\n",
       "      <th>usdollarindex_price</th>\n",
       "      <th>crudeoil_price</th>\n",
       "    </tr>\n",
       "    <tr>\n",
       "      <th>Date</th>\n",
       "      <th></th>\n",
       "      <th></th>\n",
       "      <th></th>\n",
       "      <th></th>\n",
       "    </tr>\n",
       "  </thead>\n",
       "  <tbody>\n",
       "    <tr>\n",
       "      <th>2000-01-03</th>\n",
       "      <td>NaN</td>\n",
       "      <td>1,455.20</td>\n",
       "      <td>100.22</td>\n",
       "      <td>NaN</td>\n",
       "    </tr>\n",
       "    <tr>\n",
       "      <th>2000-01-04</th>\n",
       "      <td>283.70</td>\n",
       "      <td>1,399.40</td>\n",
       "      <td>100.41</td>\n",
       "      <td>25.55</td>\n",
       "    </tr>\n",
       "    <tr>\n",
       "      <th>2000-01-05</th>\n",
       "      <td>282.10</td>\n",
       "      <td>1,402.10</td>\n",
       "      <td>100.38</td>\n",
       "      <td>24.91</td>\n",
       "    </tr>\n",
       "    <tr>\n",
       "      <th>2000-01-06</th>\n",
       "      <td>282.40</td>\n",
       "      <td>1,403.50</td>\n",
       "      <td>100.65</td>\n",
       "      <td>24.78</td>\n",
       "    </tr>\n",
       "    <tr>\n",
       "      <th>2000-01-07</th>\n",
       "      <td>282.90</td>\n",
       "      <td>1,441.50</td>\n",
       "      <td>100.80</td>\n",
       "      <td>24.22</td>\n",
       "    </tr>\n",
       "  </tbody>\n",
       "</table>\n",
       "</div>"
      ],
      "text/plain": [
       "           gold_price snp500_price  usdollarindex_price  crudeoil_price\n",
       "Date                                                                   \n",
       "2000-01-03        NaN     1,455.20               100.22             NaN\n",
       "2000-01-04     283.70     1,399.40               100.41           25.55\n",
       "2000-01-05     282.10     1,402.10               100.38           24.91\n",
       "2000-01-06     282.40     1,403.50               100.65           24.78\n",
       "2000-01-07     282.90     1,441.50               100.80           24.22"
      ]
     },
     "execution_count": 122,
     "metadata": {},
     "output_type": "execute_result"
    }
   ],
   "source": [
    "ds_gold.rename(columns = {\"Price\":\"gold_price\"}, inplace = True)\n",
    "ds_snp500.rename(columns = {\"Price\":\"snp500_price\"}, inplace = True)\n",
    "ds_usdollarindex.rename(columns = {\"Price\":\"usdollarindex_price\"}, inplace = True)\n",
    "ds_crudeoil.rename(columns = {\"Price\":\"crudeoil_price\"}, inplace = True)\n",
    "\n",
    "\n",
    "# Penggabungan data dengan index date\n",
    "ds_predict = pd.concat([ds_gold, ds_snp500, ds_usdollarindex, ds_crudeoil], axis = 1, join='outer')\n",
    "ds_predict.head()"
   ]
  },
  {
   "cell_type": "code",
   "execution_count": 123,
   "id": "2869d8b0",
   "metadata": {},
   "outputs": [
    {
     "name": "stdout",
     "output_type": "stream",
     "text": [
      "           gold_price snp500_price  usdollarindex_price  crudeoil_price\n",
      "Date                                                                   \n",
      "2023-12-26   2,069.80     4,774.75               101.47           75.57\n",
      "2023-12-27   2,093.10     4,781.58               100.99           74.11\n",
      "2023-12-28   2,083.50     4,783.35               101.23           71.77\n",
      "2023-12-29   2,071.80     4,769.83               101.33           71.65\n",
      "2023-12-31        NaN          NaN               101.38             NaN\n"
     ]
    }
   ],
   "source": [
    "print(ds_predict.tail(5))"
   ]
  },
  {
   "cell_type": "code",
   "execution_count": 124,
   "id": "82ef2a2d",
   "metadata": {},
   "outputs": [],
   "source": [
    "# Menghapus baris 03012000 dan 31122023\n",
    "ds_predict.drop([\"2000-01-03\", \"2023-12-31\"], inplace=True)"
   ]
  },
  {
   "cell_type": "code",
   "execution_count": 125,
   "id": "8b9613ab",
   "metadata": {},
   "outputs": [
    {
     "data": {
      "text/html": [
       "<div>\n",
       "<style scoped>\n",
       "    .dataframe tbody tr th:only-of-type {\n",
       "        vertical-align: middle;\n",
       "    }\n",
       "\n",
       "    .dataframe tbody tr th {\n",
       "        vertical-align: top;\n",
       "    }\n",
       "\n",
       "    .dataframe thead th {\n",
       "        text-align: right;\n",
       "    }\n",
       "</style>\n",
       "<table border=\"1\" class=\"dataframe\">\n",
       "  <thead>\n",
       "    <tr style=\"text-align: right;\">\n",
       "      <th></th>\n",
       "      <th>gold_price</th>\n",
       "      <th>snp500_price</th>\n",
       "      <th>usdollarindex_price</th>\n",
       "      <th>crudeoil_price</th>\n",
       "    </tr>\n",
       "    <tr>\n",
       "      <th>Date</th>\n",
       "      <th></th>\n",
       "      <th></th>\n",
       "      <th></th>\n",
       "      <th></th>\n",
       "    </tr>\n",
       "  </thead>\n",
       "  <tbody>\n",
       "    <tr>\n",
       "      <th>2000-01-04</th>\n",
       "      <td>283.70</td>\n",
       "      <td>1,399.40</td>\n",
       "      <td>100.41</td>\n",
       "      <td>25.55</td>\n",
       "    </tr>\n",
       "    <tr>\n",
       "      <th>2000-01-05</th>\n",
       "      <td>282.10</td>\n",
       "      <td>1,402.10</td>\n",
       "      <td>100.38</td>\n",
       "      <td>24.91</td>\n",
       "    </tr>\n",
       "    <tr>\n",
       "      <th>2000-01-06</th>\n",
       "      <td>282.40</td>\n",
       "      <td>1,403.50</td>\n",
       "      <td>100.65</td>\n",
       "      <td>24.78</td>\n",
       "    </tr>\n",
       "    <tr>\n",
       "      <th>2000-01-07</th>\n",
       "      <td>282.90</td>\n",
       "      <td>1,441.50</td>\n",
       "      <td>100.80</td>\n",
       "      <td>24.22</td>\n",
       "    </tr>\n",
       "    <tr>\n",
       "      <th>2000-01-10</th>\n",
       "      <td>282.70</td>\n",
       "      <td>1,457.60</td>\n",
       "      <td>100.99</td>\n",
       "      <td>24.67</td>\n",
       "    </tr>\n",
       "  </tbody>\n",
       "</table>\n",
       "</div>"
      ],
      "text/plain": [
       "           gold_price snp500_price  usdollarindex_price  crudeoil_price\n",
       "Date                                                                   \n",
       "2000-01-04     283.70     1,399.40               100.41           25.55\n",
       "2000-01-05     282.10     1,402.10               100.38           24.91\n",
       "2000-01-06     282.40     1,403.50               100.65           24.78\n",
       "2000-01-07     282.90     1,441.50               100.80           24.22\n",
       "2000-01-10     282.70     1,457.60               100.99           24.67"
      ]
     },
     "execution_count": 125,
     "metadata": {},
     "output_type": "execute_result"
    }
   ],
   "source": [
    "ds_predict.head()"
   ]
  },
  {
   "cell_type": "code",
   "execution_count": 130,
   "id": "d4c37e8e",
   "metadata": {},
   "outputs": [
    {
     "data": {
      "text/plain": [
       "gold_price  snp500_price  usdollarindex_price  crudeoil_price\n",
       "1,000.70    1029.8        77.19                70.82             1\n",
       "286.70      1081.0        113.70               22.53             1\n",
       "287.70      1145.6        116.64               19.68             1\n",
       "287.60      1127.6        117.59               18.86             1\n",
       "287.50      1450.5        107.36               32.06             1\n",
       "                                                                ..\n",
       "1,482.60    1339.7        74.35                94.94             1\n",
       "1,481.40    1335.1        74.19                99.80             1\n",
       "1,481.20    3168.8        97.17                60.07             1\n",
       "1,480.90    3221.2        97.69                60.44             1\n",
       "999.50      1288.1        71.66                110.21            1\n",
       "Length: 5931, dtype: int64"
      ]
     },
     "execution_count": 130,
     "metadata": {},
     "output_type": "execute_result"
    }
   ],
   "source": [
    "ds_predict.value_counts()"
   ]
  },
  {
   "cell_type": "code",
   "execution_count": 127,
   "id": "0c3a250d",
   "metadata": {},
   "outputs": [],
   "source": [
    "ds_predict['snp500_price'] = ds_predict['snp500_price'].str.replace(',','').astype(float)"
   ]
  },
  {
   "cell_type": "code",
   "execution_count": 131,
   "id": "8a81da38",
   "metadata": {},
   "outputs": [],
   "source": [
    "ds_predict['gold_price'] = ds_predict['gold_price'].str.replace(',','').astype(float)"
   ]
  },
  {
   "cell_type": "code",
   "execution_count": 132,
   "id": "b1978532",
   "metadata": {},
   "outputs": [
    {
     "data": {
      "text/plain": [
       "gold_price             225\n",
       "snp500_price           224\n",
       "usdollarindex_price     52\n",
       "crudeoil_price         107\n",
       "dtype: int64"
      ]
     },
     "execution_count": 132,
     "metadata": {},
     "output_type": "execute_result"
    }
   ],
   "source": [
    "ds_predict.isnull().sum()"
   ]
  },
  {
   "cell_type": "code",
   "execution_count": 133,
   "id": "63503dc0",
   "metadata": {},
   "outputs": [
    {
     "name": "stdout",
     "output_type": "stream",
     "text": [
      "<class 'pandas.core.frame.DataFrame'>\n",
      "DatetimeIndex: 6260 entries, 2000-01-04 to 2023-12-29\n",
      "Data columns (total 4 columns):\n",
      " #   Column               Non-Null Count  Dtype  \n",
      "---  ------               --------------  -----  \n",
      " 0   gold_price           6035 non-null   float64\n",
      " 1   snp500_price         6036 non-null   float64\n",
      " 2   usdollarindex_price  6208 non-null   float64\n",
      " 3   crudeoil_price       6153 non-null   float64\n",
      "dtypes: float64(4)\n",
      "memory usage: 244.5 KB\n"
     ]
    }
   ],
   "source": [
    "ds_predict.info()"
   ]
  },
  {
   "cell_type": "code",
   "execution_count": 134,
   "id": "e23c9750",
   "metadata": {},
   "outputs": [],
   "source": [
    "# Pembuatan objek imputer dengan menggunakan 5 tetangga terdekat\n",
    "imputer = KNNImputer(n_neighbors = 5)"
   ]
  },
  {
   "cell_type": "code",
   "execution_count": 136,
   "id": "c587b1a0",
   "metadata": {},
   "outputs": [],
   "source": [
    "# Penentuan kolom yang akan di analisis\n",
    "col_to_analyze = ['gold_price','snp500_price', 'usdollarindex_price', 'crudeoil_price']\n",
    "\n",
    "# Pembuatan subset dataframe\n",
    "subset_df = ds_predict[col_to_analyze]"
   ]
  },
  {
   "cell_type": "code",
   "execution_count": 137,
   "id": "1cf13948",
   "metadata": {},
   "outputs": [],
   "source": [
    "# Melakukan imputasi pada subset Dataframe\n",
    "imputed_data = imputer.fit_transform(subset_df)"
   ]
  },
  {
   "cell_type": "code",
   "execution_count": 138,
   "id": "9ad1eb52",
   "metadata": {},
   "outputs": [],
   "source": [
    "# Pembuatan DataFrame yang diimputasi dan menetapkan index yang sama pada dataframe ini dan index pada dataframe asli\n",
    "imputed_df = pd.DataFrame(imputed_data, columns=subset_df.columns, index=ds_predict.index)"
   ]
  },
  {
   "cell_type": "code",
   "execution_count": 139,
   "id": "d93abd71",
   "metadata": {},
   "outputs": [
    {
     "data": {
      "text/plain": [
       "gold_price             0\n",
       "snp500_price           0\n",
       "usdollarindex_price    0\n",
       "crudeoil_price         0\n",
       "dtype: int64"
      ]
     },
     "execution_count": 139,
     "metadata": {},
     "output_type": "execute_result"
    }
   ],
   "source": [
    "# Pengecekkan Missing Value Subset\n",
    "imputed_df.isnull().sum()"
   ]
  },
  {
   "cell_type": "code",
   "execution_count": 140,
   "id": "0573d38d",
   "metadata": {},
   "outputs": [
    {
     "name": "stdout",
     "output_type": "stream",
     "text": [
      "            gold_price  snp500_price  usdollarindex_price  crudeoil_price\n",
      "Date                                                                     \n",
      "2000-01-04      283.70       1399.40              100.410           25.55\n",
      "2000-01-05      282.10       1402.10              100.380           24.91\n",
      "2000-01-06      282.40       1403.50              100.650           24.78\n",
      "2000-01-07      282.90       1441.50              100.800           24.22\n",
      "2000-01-10      282.70       1457.60              100.990           24.67\n",
      "...                ...           ...                  ...             ...\n",
      "2023-12-25     1198.58       2183.32               88.814           73.79\n",
      "2023-12-26     2069.80       4774.75              101.470           75.57\n",
      "2023-12-27     2093.10       4781.58              100.990           74.11\n",
      "2023-12-28     2083.50       4783.35              101.230           71.77\n",
      "2023-12-29     2071.80       4769.83              101.330           71.65\n",
      "\n",
      "[6260 rows x 4 columns]\n"
     ]
    }
   ],
   "source": [
    "# Melakukan imputasi pada DataFrame crudeoil_ds dengan menggunakan nilai dari imputed_df\n",
    "for column in col_to_analyze:\n",
    "    # Mengisi nilai-nilai yang hilang dalam DataFrame crudeoil_ds dengan nilai dari imputed_df\n",
    "    ds_predict[column].fillna(imputed_df[column], inplace=True)\n",
    "\n",
    "# Menampilkan DataFrame crudeoil_ds dengan indeks 'Date'\n",
    "print(ds_predict)"
   ]
  },
  {
   "cell_type": "code",
   "execution_count": 141,
   "id": "89e3ba02",
   "metadata": {},
   "outputs": [
    {
     "data": {
      "text/plain": [
       "gold_price             0\n",
       "snp500_price           0\n",
       "usdollarindex_price    0\n",
       "crudeoil_price         0\n",
       "dtype: int64"
      ]
     },
     "execution_count": 141,
     "metadata": {},
     "output_type": "execute_result"
    }
   ],
   "source": [
    "ds_predict.isnull().sum()"
   ]
  },
  {
   "cell_type": "code",
   "execution_count": 142,
   "id": "d531cd72",
   "metadata": {},
   "outputs": [],
   "source": [
    "ds_predict = ds_predict.sort_values(by='Date', ascending=True)\n",
    "ds_predict.to_csv('dataset/ds_predict.csv', index=True)"
   ]
  },
  {
   "cell_type": "code",
   "execution_count": null,
   "id": "673e910f",
   "metadata": {},
   "outputs": [],
   "source": []
  }
 ],
 "metadata": {
  "kernelspec": {
   "display_name": "Python 3 (ipykernel)",
   "language": "python",
   "name": "python3"
  },
  "language_info": {
   "codemirror_mode": {
    "name": "ipython",
    "version": 3
   },
   "file_extension": ".py",
   "mimetype": "text/x-python",
   "name": "python",
   "nbconvert_exporter": "python",
   "pygments_lexer": "ipython3",
   "version": "3.11.5"
  }
 },
 "nbformat": 4,
 "nbformat_minor": 5
}

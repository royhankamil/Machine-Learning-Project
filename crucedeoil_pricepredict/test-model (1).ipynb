{
 "cells": [
  {
   "cell_type": "raw",
   "id": "a084990f-856a-4239-b902-f203e7012a26",
   "metadata": {
    "id": "a084990f-856a-4239-b902-f203e7012a26"
   },
   "source": [
    "Import Library yang dibutuhkan"
   ]
  },
  {
   "cell_type": "code",
   "execution_count": 1,
   "id": "481aeb74-5143-42cf-94a8-470a626339f3",
   "metadata": {
    "id": "481aeb74-5143-42cf-94a8-470a626339f3",
    "outputId": "4c59706e-a76f-446c-eebf-adaf2e3a54c6",
    "scrolled": true
   },
   "outputs": [
    {
     "name": "stdout",
     "output_type": "stream",
     "text": [
      "Requirement already satisfied: yfinance in d:\\mentahan\\anaconda3\\lib\\site-packages (0.2.41)\n",
      "Requirement already satisfied: pandas>=1.3.0 in d:\\mentahan\\anaconda3\\lib\\site-packages (from yfinance) (2.1.4)\n",
      "Requirement already satisfied: numpy>=1.16.5 in c:\\users\\hendra rauf alfansur\\appdata\\roaming\\python\\python311\\site-packages (from yfinance) (1.26.4)\n",
      "Requirement already satisfied: requests>=2.31 in d:\\mentahan\\anaconda3\\lib\\site-packages (from yfinance) (2.31.0)\n",
      "Requirement already satisfied: multitasking>=0.0.7 in d:\\mentahan\\anaconda3\\lib\\site-packages (from yfinance) (0.0.11)\n",
      "Requirement already satisfied: lxml>=4.9.1 in d:\\mentahan\\anaconda3\\lib\\site-packages (from yfinance) (4.9.3)\n",
      "Requirement already satisfied: platformdirs>=2.0.0 in d:\\mentahan\\anaconda3\\lib\\site-packages (from yfinance) (3.10.0)\n",
      "Requirement already satisfied: pytz>=2022.5 in d:\\mentahan\\anaconda3\\lib\\site-packages (from yfinance) (2023.3.post1)\n",
      "Requirement already satisfied: frozendict>=2.3.4 in d:\\mentahan\\anaconda3\\lib\\site-packages (from yfinance) (2.4.4)\n",
      "Requirement already satisfied: peewee>=3.16.2 in d:\\mentahan\\anaconda3\\lib\\site-packages (from yfinance) (3.17.6)\n",
      "Requirement already satisfied: beautifulsoup4>=4.11.1 in d:\\mentahan\\anaconda3\\lib\\site-packages (from yfinance) (4.12.2)\n",
      "Requirement already satisfied: html5lib>=1.1 in d:\\mentahan\\anaconda3\\lib\\site-packages (from yfinance) (1.1)\n",
      "Requirement already satisfied: soupsieve>1.2 in d:\\mentahan\\anaconda3\\lib\\site-packages (from beautifulsoup4>=4.11.1->yfinance) (2.5)\n",
      "Requirement already satisfied: six>=1.9 in d:\\mentahan\\anaconda3\\lib\\site-packages (from html5lib>=1.1->yfinance) (1.16.0)\n",
      "Requirement already satisfied: webencodings in d:\\mentahan\\anaconda3\\lib\\site-packages (from html5lib>=1.1->yfinance) (0.5.1)\n",
      "Requirement already satisfied: python-dateutil>=2.8.2 in d:\\mentahan\\anaconda3\\lib\\site-packages (from pandas>=1.3.0->yfinance) (2.8.2)\n",
      "Requirement already satisfied: tzdata>=2022.1 in d:\\mentahan\\anaconda3\\lib\\site-packages (from pandas>=1.3.0->yfinance) (2023.3)\n",
      "Requirement already satisfied: charset-normalizer<4,>=2 in d:\\mentahan\\anaconda3\\lib\\site-packages (from requests>=2.31->yfinance) (2.0.4)\n",
      "Requirement already satisfied: idna<4,>=2.5 in d:\\mentahan\\anaconda3\\lib\\site-packages (from requests>=2.31->yfinance) (3.4)\n",
      "Requirement already satisfied: urllib3<3,>=1.21.1 in d:\\mentahan\\anaconda3\\lib\\site-packages (from requests>=2.31->yfinance) (2.0.7)\n",
      "Requirement already satisfied: certifi>=2017.4.17 in d:\\mentahan\\anaconda3\\lib\\site-packages (from requests>=2.31->yfinance) (2024.2.2)\n",
      "Note: you may need to restart the kernel to use updated packages.\n"
     ]
    }
   ],
   "source": [
    "pip install yfinance"
   ]
  },
  {
   "cell_type": "code",
   "execution_count": 40,
   "id": "ee116a3a-602c-47f3-85ca-38453ee691f5",
   "metadata": {
    "id": "ee116a3a-602c-47f3-85ca-38453ee691f5"
   },
   "outputs": [],
   "source": [
    "import pandas as pd\n",
    "import numpy as np\n",
    "import pickle\n",
    "import yfinance as yf\n",
    "import datetime\n",
    "from datetime import timedelta\n",
    "import matplotlib.pyplot as plt\n",
    "from sklearn.preprocessing import MinMaxScaler"
   ]
  },
  {
   "cell_type": "code",
   "execution_count": 41,
   "id": "337c7427-1ea2-4a87-a17d-d70430036df5",
   "metadata": {
    "id": "337c7427-1ea2-4a87-a17d-d70430036df5",
    "outputId": "d038195d-655e-457f-a84a-044a48bc4b9c"
   },
   "outputs": [
    {
     "name": "stderr",
     "output_type": "stream",
     "text": [
      "[*********************100%%**********************]  1 of 1 completed\n"
     ]
    }
   ],
   "source": [
    "# Mengambil data harga minyak mentah WTI dari Yahoo Finance\n",
    "wti_data = yf.download('CL=F', start='2000-01-01', end='2023-12-29')\n",
    "wti_data = wti_data[['Close']]\n",
    "wti_data = wti_data.dropna()"
   ]
  },
  {
   "cell_type": "code",
   "execution_count": 42,
   "id": "d504b1f6-9196-424c-944c-26af94bd6662",
   "metadata": {
    "id": "d504b1f6-9196-424c-944c-26af94bd6662",
    "outputId": "9f6944c2-0acd-4df5-d728-b643f6612141"
   },
   "outputs": [
    {
     "data": {
      "text/html": [
       "<div>\n",
       "<style scoped>\n",
       "    .dataframe tbody tr th:only-of-type {\n",
       "        vertical-align: middle;\n",
       "    }\n",
       "\n",
       "    .dataframe tbody tr th {\n",
       "        vertical-align: top;\n",
       "    }\n",
       "\n",
       "    .dataframe thead th {\n",
       "        text-align: right;\n",
       "    }\n",
       "</style>\n",
       "<table border=\"1\" class=\"dataframe\">\n",
       "  <thead>\n",
       "    <tr style=\"text-align: right;\">\n",
       "      <th></th>\n",
       "      <th>Close</th>\n",
       "    </tr>\n",
       "    <tr>\n",
       "      <th>Date</th>\n",
       "      <th></th>\n",
       "    </tr>\n",
       "  </thead>\n",
       "  <tbody>\n",
       "    <tr>\n",
       "      <th>2023-12-21</th>\n",
       "      <td>73.889999</td>\n",
       "    </tr>\n",
       "    <tr>\n",
       "      <th>2023-12-22</th>\n",
       "      <td>73.559998</td>\n",
       "    </tr>\n",
       "    <tr>\n",
       "      <th>2023-12-26</th>\n",
       "      <td>75.570000</td>\n",
       "    </tr>\n",
       "    <tr>\n",
       "      <th>2023-12-27</th>\n",
       "      <td>74.110001</td>\n",
       "    </tr>\n",
       "    <tr>\n",
       "      <th>2023-12-28</th>\n",
       "      <td>71.769997</td>\n",
       "    </tr>\n",
       "  </tbody>\n",
       "</table>\n",
       "</div>"
      ],
      "text/plain": [
       "                Close\n",
       "Date                 \n",
       "2023-12-21  73.889999\n",
       "2023-12-22  73.559998\n",
       "2023-12-26  75.570000\n",
       "2023-12-27  74.110001\n",
       "2023-12-28  71.769997"
      ]
     },
     "execution_count": 42,
     "metadata": {},
     "output_type": "execute_result"
    }
   ],
   "source": [
    "wti_data.tail()"
   ]
  },
  {
   "cell_type": "code",
   "execution_count": 43,
   "id": "78155a33-419e-4dc2-95b6-f6e5007ea81d",
   "metadata": {
    "id": "78155a33-419e-4dc2-95b6-f6e5007ea81d",
    "outputId": "2382ca99-0a4a-4028-bf6e-044c583b8821"
   },
   "outputs": [
    {
     "name": "stderr",
     "output_type": "stream",
     "text": [
      "D:\\Mentahan\\anaconda3\\Lib\\site-packages\\keras\\src\\saving\\saving_lib.py:415: UserWarning: Skipping variable loading for optimizer 'rmsprop', because it has 16 variables whereas the saved optimizer has 30 variables. \n",
      "  saveable.load_own_variables(weights_store.get(inner_path))\n"
     ]
    }
   ],
   "source": [
    "#Memuat model\n",
    "with open('model/crude-oil-lstm-fix2.pkl', 'rb') as f:\n",
    "    lstm_model = pickle.load(f)\n",
    "#Memuat model\n",
    "with open('model/crude-oil-gru-fix2.pkl', 'rb') as f:\n",
    "    gru_model = pickle.load(f)\n",
    "#Memuat model\n",
    "with open('model/crude-oil-prophet-fix.pkl', 'rb') as f:\n",
    "    prophet_model = pickle.load(f)"
   ]
  },
  {
   "cell_type": "code",
   "execution_count": 44,
   "id": "d40e3e76-922b-4be4-95ba-0dd13b30d8cc",
   "metadata": {
    "id": "d40e3e76-922b-4be4-95ba-0dd13b30d8cc"
   },
   "outputs": [],
   "source": [
    "# Menyimpan data untuk model LSTM dan GRU\n",
    "\n",
    "#Mengubah data menjadi arrya numpy dan menskalanya\n",
    "scaler = MinMaxScaler(feature_range=(0,1))\n",
    "scaled_data = scaler.fit_transform(wti_data)\n",
    "\n",
    "#fungsi untuk membuat dataset dengan sliding window\n",
    "def create_dataset(data, time_step):\n",
    "    X, Y = [],[]\n",
    "    for i in range(len(data)-time_step-1):\n",
    "        a = data[i:(i+time_step),0]\n",
    "        X.append(a)\n",
    "        Y.append(data[i + time_step,0])\n",
    "    return np.array(X), np.array(Y)\n",
    "\n",
    "#menyiapkan data untuk LSTM dan GRU\n",
    "time_step = 60 #misalnya menggunakan 60 hari terakhir untuk memprediksi\n",
    "X, y = create_dataset(scaled_data, time_step)\n",
    "\n",
    "#mengubha bentuk data menjadi [samples, time steps, features]\n",
    "X = X.reshape(X.shape[0], X.shape[1],1)"
   ]
  },
  {
   "cell_type": "code",
   "execution_count": 45,
   "id": "ad8448b0-7810-4e25-a300-6103a958d03b",
   "metadata": {
    "id": "ad8448b0-7810-4e25-a300-6103a958d03b",
    "outputId": "7df65681-45e9-4817-83a1-97345d02e098",
    "scrolled": true
   },
   "outputs": [
    {
     "name": "stdout",
     "output_type": "stream",
     "text": [
      "\u001b[1m1/1\u001b[0m \u001b[32m━━━━━━━━━━━━━━━━━━━━\u001b[0m\u001b[37m\u001b[0m \u001b[1m3s\u001b[0m 3s/step\n",
      "\u001b[1m1/1\u001b[0m \u001b[32m━━━━━━━━━━━━━━━━━━━━\u001b[0m\u001b[37m\u001b[0m \u001b[1m0s\u001b[0m 111ms/step\n",
      "\u001b[1m1/1\u001b[0m \u001b[32m━━━━━━━━━━━━━━━━━━━━\u001b[0m\u001b[37m\u001b[0m \u001b[1m0s\u001b[0m 163ms/step\n",
      "\u001b[1m1/1\u001b[0m \u001b[32m━━━━━━━━━━━━━━━━━━━━\u001b[0m\u001b[37m\u001b[0m \u001b[1m0s\u001b[0m 84ms/step\n",
      "\u001b[1m1/1\u001b[0m \u001b[32m━━━━━━━━━━━━━━━━━━━━\u001b[0m\u001b[37m\u001b[0m \u001b[1m0s\u001b[0m 76ms/step\n",
      "\u001b[1m1/1\u001b[0m \u001b[32m━━━━━━━━━━━━━━━━━━━━\u001b[0m\u001b[37m\u001b[0m \u001b[1m0s\u001b[0m 319ms/step\n",
      "\u001b[1m1/1\u001b[0m \u001b[32m━━━━━━━━━━━━━━━━━━━━\u001b[0m\u001b[37m\u001b[0m \u001b[1m0s\u001b[0m 57ms/step\n",
      "\u001b[1m1/1\u001b[0m \u001b[32m━━━━━━━━━━━━━━━━━━━━\u001b[0m\u001b[37m\u001b[0m \u001b[1m0s\u001b[0m 94ms/step\n",
      "\u001b[1m1/1\u001b[0m \u001b[32m━━━━━━━━━━━━━━━━━━━━\u001b[0m\u001b[37m\u001b[0m \u001b[1m0s\u001b[0m 45ms/step\n",
      "\u001b[1m1/1\u001b[0m \u001b[32m━━━━━━━━━━━━━━━━━━━━\u001b[0m\u001b[37m\u001b[0m \u001b[1m0s\u001b[0m 81ms/step\n",
      "\u001b[1m1/1\u001b[0m \u001b[32m━━━━━━━━━━━━━━━━━━━━\u001b[0m\u001b[37m\u001b[0m \u001b[1m0s\u001b[0m 149ms/step\n",
      "\u001b[1m1/1\u001b[0m \u001b[32m━━━━━━━━━━━━━━━━━━━━\u001b[0m\u001b[37m\u001b[0m \u001b[1m0s\u001b[0m 53ms/step\n",
      "\u001b[1m1/1\u001b[0m \u001b[32m━━━━━━━━━━━━━━━━━━━━\u001b[0m\u001b[37m\u001b[0m \u001b[1m0s\u001b[0m 178ms/step\n",
      "\u001b[1m1/1\u001b[0m \u001b[32m━━━━━━━━━━━━━━━━━━━━\u001b[0m\u001b[37m\u001b[0m \u001b[1m0s\u001b[0m 56ms/step\n",
      "\u001b[1m1/1\u001b[0m \u001b[32m━━━━━━━━━━━━━━━━━━━━\u001b[0m\u001b[37m\u001b[0m \u001b[1m0s\u001b[0m 58ms/step\n",
      "\u001b[1m1/1\u001b[0m \u001b[32m━━━━━━━━━━━━━━━━━━━━\u001b[0m\u001b[37m\u001b[0m \u001b[1m0s\u001b[0m 152ms/step\n",
      "\u001b[1m1/1\u001b[0m \u001b[32m━━━━━━━━━━━━━━━━━━━━\u001b[0m\u001b[37m\u001b[0m \u001b[1m0s\u001b[0m 83ms/step\n",
      "\u001b[1m1/1\u001b[0m \u001b[32m━━━━━━━━━━━━━━━━━━━━\u001b[0m\u001b[37m\u001b[0m \u001b[1m0s\u001b[0m 111ms/step\n",
      "\u001b[1m1/1\u001b[0m \u001b[32m━━━━━━━━━━━━━━━━━━━━\u001b[0m\u001b[37m\u001b[0m \u001b[1m0s\u001b[0m 92ms/step\n",
      "\u001b[1m1/1\u001b[0m \u001b[32m━━━━━━━━━━━━━━━━━━━━\u001b[0m\u001b[37m\u001b[0m \u001b[1m0s\u001b[0m 216ms/step\n",
      "\u001b[1m1/1\u001b[0m \u001b[32m━━━━━━━━━━━━━━━━━━━━\u001b[0m\u001b[37m\u001b[0m \u001b[1m0s\u001b[0m 72ms/step\n",
      "\u001b[1m1/1\u001b[0m \u001b[32m━━━━━━━━━━━━━━━━━━━━\u001b[0m\u001b[37m\u001b[0m \u001b[1m3s\u001b[0m 3s/step\n",
      "\u001b[1m1/1\u001b[0m \u001b[32m━━━━━━━━━━━━━━━━━━━━\u001b[0m\u001b[37m\u001b[0m \u001b[1m0s\u001b[0m 199ms/step\n",
      "\u001b[1m1/1\u001b[0m \u001b[32m━━━━━━━━━━━━━━━━━━━━\u001b[0m\u001b[37m\u001b[0m \u001b[1m0s\u001b[0m 51ms/step\n",
      "\u001b[1m1/1\u001b[0m \u001b[32m━━━━━━━━━━━━━━━━━━━━\u001b[0m\u001b[37m\u001b[0m \u001b[1m0s\u001b[0m 53ms/step\n",
      "\u001b[1m1/1\u001b[0m \u001b[32m━━━━━━━━━━━━━━━━━━━━\u001b[0m\u001b[37m\u001b[0m \u001b[1m0s\u001b[0m 50ms/step\n",
      "\u001b[1m1/1\u001b[0m \u001b[32m━━━━━━━━━━━━━━━━━━━━\u001b[0m\u001b[37m\u001b[0m \u001b[1m0s\u001b[0m 47ms/step\n",
      "\u001b[1m1/1\u001b[0m \u001b[32m━━━━━━━━━━━━━━━━━━━━\u001b[0m\u001b[37m\u001b[0m \u001b[1m0s\u001b[0m 49ms/step\n",
      "\u001b[1m1/1\u001b[0m \u001b[32m━━━━━━━━━━━━━━━━━━━━\u001b[0m\u001b[37m\u001b[0m \u001b[1m0s\u001b[0m 80ms/step\n",
      "\u001b[1m1/1\u001b[0m \u001b[32m━━━━━━━━━━━━━━━━━━━━\u001b[0m\u001b[37m\u001b[0m \u001b[1m0s\u001b[0m 59ms/step\n",
      "\u001b[1m1/1\u001b[0m \u001b[32m━━━━━━━━━━━━━━━━━━━━\u001b[0m\u001b[37m\u001b[0m \u001b[1m0s\u001b[0m 83ms/step\n",
      "\u001b[1m1/1\u001b[0m \u001b[32m━━━━━━━━━━━━━━━━━━━━\u001b[0m\u001b[37m\u001b[0m \u001b[1m0s\u001b[0m 170ms/step\n",
      "\u001b[1m1/1\u001b[0m \u001b[32m━━━━━━━━━━━━━━━━━━━━\u001b[0m\u001b[37m\u001b[0m \u001b[1m0s\u001b[0m 57ms/step\n",
      "\u001b[1m1/1\u001b[0m \u001b[32m━━━━━━━━━━━━━━━━━━━━\u001b[0m\u001b[37m\u001b[0m \u001b[1m0s\u001b[0m 70ms/step\n",
      "\u001b[1m1/1\u001b[0m \u001b[32m━━━━━━━━━━━━━━━━━━━━\u001b[0m\u001b[37m\u001b[0m \u001b[1m0s\u001b[0m 89ms/step\n",
      "\u001b[1m1/1\u001b[0m \u001b[32m━━━━━━━━━━━━━━━━━━━━\u001b[0m\u001b[37m\u001b[0m \u001b[1m0s\u001b[0m 204ms/step\n",
      "\u001b[1m1/1\u001b[0m \u001b[32m━━━━━━━━━━━━━━━━━━━━\u001b[0m\u001b[37m\u001b[0m \u001b[1m0s\u001b[0m 119ms/step\n",
      "\u001b[1m1/1\u001b[0m \u001b[32m━━━━━━━━━━━━━━━━━━━━\u001b[0m\u001b[37m\u001b[0m \u001b[1m0s\u001b[0m 182ms/step\n",
      "\u001b[1m1/1\u001b[0m \u001b[32m━━━━━━━━━━━━━━━━━━━━\u001b[0m\u001b[37m\u001b[0m \u001b[1m0s\u001b[0m 85ms/step\n",
      "\u001b[1m1/1\u001b[0m \u001b[32m━━━━━━━━━━━━━━━━━━━━\u001b[0m\u001b[37m\u001b[0m \u001b[1m0s\u001b[0m 52ms/step\n",
      "\u001b[1m1/1\u001b[0m \u001b[32m━━━━━━━━━━━━━━━━━━━━\u001b[0m\u001b[37m\u001b[0m \u001b[1m0s\u001b[0m 60ms/step\n",
      "\u001b[1m1/1\u001b[0m \u001b[32m━━━━━━━━━━━━━━━━━━━━\u001b[0m\u001b[37m\u001b[0m \u001b[1m0s\u001b[0m 71ms/step\n"
     ]
    }
   ],
   "source": [
    "# Melakukan prediksi\n",
    "def predict_future(model, data, n_days, time_step):\n",
    "    predictions = []\n",
    "    last_data = data[-time_step:]\n",
    "\n",
    "    for i in range(n_days):\n",
    "        last_data = last_data.reshape((1, time_step,1))\n",
    "        pred = model.predict(last_data)\n",
    "        predictions.append(pred[0,0])\n",
    "\n",
    "        pred = np.array([pred[0, 0]]).reshape(1, 1, 1)\n",
    "        last_data = np.append(last_data[:, 1:, :], pred, axis=1)\n",
    "\n",
    "    return predictions\n",
    "\n",
    "#prediksi untuk 7 dan 14 hari ke depan\n",
    "lstm_predictions_7 = predict_future(lstm_model, scaled_data, 7, time_step)\n",
    "lstm_predictions_14 = predict_future(lstm_model, scaled_data, 14, time_step)\n",
    "\n",
    "gru_predictions_7 = predict_future(gru_model, scaled_data, 7, time_step)\n",
    "gru_predictions_14 = predict_future(gru_model, scaled_data, 14, time_step)\n",
    "\n",
    "#menginversi skala prediksi ke bentuk aslinya\n",
    "lstm_predictions_7 = scaler.inverse_transform(np.array(lstm_predictions_7).reshape(-1,1))\n",
    "lstm_predictions_14 = scaler.inverse_transform(np.array(lstm_predictions_14).reshape(-1,1))\n",
    "\n",
    "gru_predictions_7 = scaler.inverse_transform(np.array(gru_predictions_7).reshape(-1,1))\n",
    "gru_predictions_14 = scaler.inverse_transform(np.array(gru_predictions_14).reshape(-1,1))\n"
   ]
  },
  {
   "cell_type": "code",
   "execution_count": 46,
   "id": "8f6edb94-3ced-4b16-b28c-42539478e0e7",
   "metadata": {
    "id": "8f6edb94-3ced-4b16-b28c-42539478e0e7",
    "outputId": "a4f635f9-83c6-4df8-b6bd-0542736c8efc"
   },
   "outputs": [
    {
     "data": {
      "text/plain": [
       "array([[82.0665  ],\n",
       "       [81.42896 ],\n",
       "       [80.77598 ],\n",
       "       [80.15267 ],\n",
       "       [79.60764 ],\n",
       "       [79.158356],\n",
       "       [78.804375]], dtype=float32)"
      ]
     },
     "execution_count": 46,
     "metadata": {},
     "output_type": "execute_result"
    }
   ],
   "source": [
    "lstm_predictions_7"
   ]
  },
  {
   "cell_type": "code",
   "execution_count": 47,
   "id": "fac328be-3f57-423b-816f-e9bdc2e67af1",
   "metadata": {
    "id": "fac328be-3f57-423b-816f-e9bdc2e67af1",
    "outputId": "f174cb2a-a662-4a1d-9fb9-9249143f1430"
   },
   "outputs": [],
   "source": [
    "dates_7 = pd.date_range(start=wti_data.index[-1] + pd.Timedelta(days=1), periods=7, freq='D')\n",
    "dates_14 = pd.date_range(start=wti_data.index[-1] + pd.Timedelta(days=1), periods=14, freq='D')\n",
    "\n",
    "# Membuat DataFrame untuk prediksi\n",
    "lstm_predictions_df_7 = pd.DataFrame(lstm_predictions_7, columns=['Predicted'], index=dates_7)\n",
    "lstm_predictions_df_14 = pd.DataFrame(lstm_predictions_14, columns=['Predicted'], index=dates_14)\n",
    "\n",
    "gru_predictions_df_7 = pd.DataFrame(gru_predictions_7, columns=['Predicted'], index=dates_7)\n",
    "gru_predictions_df_14 = pd.DataFrame(gru_predictions_14, columns=['Predicted'], index=dates_14)"
   ]
  },
  {
   "cell_type": "code",
   "execution_count": 48,
   "id": "f5ec829a-9b8b-4741-b832-74e0385075b5",
   "metadata": {},
   "outputs": [
    {
     "data": {
      "text/html": [
       "<div>\n",
       "<style scoped>\n",
       "    .dataframe tbody tr th:only-of-type {\n",
       "        vertical-align: middle;\n",
       "    }\n",
       "\n",
       "    .dataframe tbody tr th {\n",
       "        vertical-align: top;\n",
       "    }\n",
       "\n",
       "    .dataframe thead th {\n",
       "        text-align: right;\n",
       "    }\n",
       "</style>\n",
       "<table border=\"1\" class=\"dataframe\">\n",
       "  <thead>\n",
       "    <tr style=\"text-align: right;\">\n",
       "      <th></th>\n",
       "      <th>Predicted</th>\n",
       "    </tr>\n",
       "  </thead>\n",
       "  <tbody>\n",
       "    <tr>\n",
       "      <th>2023-12-29</th>\n",
       "      <td>82.066498</td>\n",
       "    </tr>\n",
       "    <tr>\n",
       "      <th>2023-12-30</th>\n",
       "      <td>81.428963</td>\n",
       "    </tr>\n",
       "    <tr>\n",
       "      <th>2023-12-31</th>\n",
       "      <td>80.775978</td>\n",
       "    </tr>\n",
       "    <tr>\n",
       "      <th>2024-01-01</th>\n",
       "      <td>80.152672</td>\n",
       "    </tr>\n",
       "    <tr>\n",
       "      <th>2024-01-02</th>\n",
       "      <td>79.607643</td>\n",
       "    </tr>\n",
       "    <tr>\n",
       "      <th>2024-01-03</th>\n",
       "      <td>79.158356</td>\n",
       "    </tr>\n",
       "    <tr>\n",
       "      <th>2024-01-04</th>\n",
       "      <td>78.804375</td>\n",
       "    </tr>\n",
       "  </tbody>\n",
       "</table>\n",
       "</div>"
      ],
      "text/plain": [
       "            Predicted\n",
       "2023-12-29  82.066498\n",
       "2023-12-30  81.428963\n",
       "2023-12-31  80.775978\n",
       "2024-01-01  80.152672\n",
       "2024-01-02  79.607643\n",
       "2024-01-03  79.158356\n",
       "2024-01-04  78.804375"
      ]
     },
     "execution_count": 48,
     "metadata": {},
     "output_type": "execute_result"
    }
   ],
   "source": [
    "lstm_predictions_df_7"
   ]
  },
  {
   "cell_type": "code",
   "execution_count": 49,
   "id": "c8f6d66f-ce97-4098-8046-94da20bfa7c5",
   "metadata": {},
   "outputs": [
    {
     "data": {
      "text/html": [
       "<div>\n",
       "<style scoped>\n",
       "    .dataframe tbody tr th:only-of-type {\n",
       "        vertical-align: middle;\n",
       "    }\n",
       "\n",
       "    .dataframe tbody tr th {\n",
       "        vertical-align: top;\n",
       "    }\n",
       "\n",
       "    .dataframe thead th {\n",
       "        text-align: right;\n",
       "    }\n",
       "</style>\n",
       "<table border=\"1\" class=\"dataframe\">\n",
       "  <thead>\n",
       "    <tr style=\"text-align: right;\">\n",
       "      <th></th>\n",
       "      <th>Predicted</th>\n",
       "    </tr>\n",
       "  </thead>\n",
       "  <tbody>\n",
       "    <tr>\n",
       "      <th>2023-12-29</th>\n",
       "      <td>82.066498</td>\n",
       "    </tr>\n",
       "    <tr>\n",
       "      <th>2023-12-30</th>\n",
       "      <td>81.428963</td>\n",
       "    </tr>\n",
       "    <tr>\n",
       "      <th>2023-12-31</th>\n",
       "      <td>80.775978</td>\n",
       "    </tr>\n",
       "    <tr>\n",
       "      <th>2024-01-01</th>\n",
       "      <td>80.152672</td>\n",
       "    </tr>\n",
       "    <tr>\n",
       "      <th>2024-01-02</th>\n",
       "      <td>79.607643</td>\n",
       "    </tr>\n",
       "    <tr>\n",
       "      <th>2024-01-03</th>\n",
       "      <td>79.158356</td>\n",
       "    </tr>\n",
       "    <tr>\n",
       "      <th>2024-01-04</th>\n",
       "      <td>78.804375</td>\n",
       "    </tr>\n",
       "    <tr>\n",
       "      <th>2024-01-05</th>\n",
       "      <td>78.536118</td>\n",
       "    </tr>\n",
       "    <tr>\n",
       "      <th>2024-01-06</th>\n",
       "      <td>78.340225</td>\n",
       "    </tr>\n",
       "    <tr>\n",
       "      <th>2024-01-07</th>\n",
       "      <td>78.202591</td>\n",
       "    </tr>\n",
       "    <tr>\n",
       "      <th>2024-01-08</th>\n",
       "      <td>78.109993</td>\n",
       "    </tr>\n",
       "    <tr>\n",
       "      <th>2024-01-09</th>\n",
       "      <td>78.050941</td>\n",
       "    </tr>\n",
       "    <tr>\n",
       "      <th>2024-01-10</th>\n",
       "      <td>78.015831</td>\n",
       "    </tr>\n",
       "    <tr>\n",
       "      <th>2024-01-11</th>\n",
       "      <td>77.997192</td>\n",
       "    </tr>\n",
       "  </tbody>\n",
       "</table>\n",
       "</div>"
      ],
      "text/plain": [
       "            Predicted\n",
       "2023-12-29  82.066498\n",
       "2023-12-30  81.428963\n",
       "2023-12-31  80.775978\n",
       "2024-01-01  80.152672\n",
       "2024-01-02  79.607643\n",
       "2024-01-03  79.158356\n",
       "2024-01-04  78.804375\n",
       "2024-01-05  78.536118\n",
       "2024-01-06  78.340225\n",
       "2024-01-07  78.202591\n",
       "2024-01-08  78.109993\n",
       "2024-01-09  78.050941\n",
       "2024-01-10  78.015831\n",
       "2024-01-11  77.997192"
      ]
     },
     "execution_count": 49,
     "metadata": {},
     "output_type": "execute_result"
    }
   ],
   "source": [
    "lstm_predictions_df_14"
   ]
  },
  {
   "cell_type": "code",
   "execution_count": 50,
   "id": "6e83a71e-85b1-480f-9bfa-6798a11aaf1c",
   "metadata": {},
   "outputs": [
    {
     "data": {
      "text/html": [
       "<div>\n",
       "<style scoped>\n",
       "    .dataframe tbody tr th:only-of-type {\n",
       "        vertical-align: middle;\n",
       "    }\n",
       "\n",
       "    .dataframe tbody tr th {\n",
       "        vertical-align: top;\n",
       "    }\n",
       "\n",
       "    .dataframe thead th {\n",
       "        text-align: right;\n",
       "    }\n",
       "</style>\n",
       "<table border=\"1\" class=\"dataframe\">\n",
       "  <thead>\n",
       "    <tr style=\"text-align: right;\">\n",
       "      <th></th>\n",
       "      <th>Predicted</th>\n",
       "    </tr>\n",
       "  </thead>\n",
       "  <tbody>\n",
       "    <tr>\n",
       "      <th>2023-12-29</th>\n",
       "      <td>598.442078</td>\n",
       "    </tr>\n",
       "    <tr>\n",
       "      <th>2023-12-30</th>\n",
       "      <td>604.420166</td>\n",
       "    </tr>\n",
       "    <tr>\n",
       "      <th>2023-12-31</th>\n",
       "      <td>608.546570</td>\n",
       "    </tr>\n",
       "    <tr>\n",
       "      <th>2024-01-01</th>\n",
       "      <td>612.438416</td>\n",
       "    </tr>\n",
       "    <tr>\n",
       "      <th>2024-01-02</th>\n",
       "      <td>616.240417</td>\n",
       "    </tr>\n",
       "    <tr>\n",
       "      <th>2024-01-03</th>\n",
       "      <td>619.983154</td>\n",
       "    </tr>\n",
       "    <tr>\n",
       "      <th>2024-01-04</th>\n",
       "      <td>623.674927</td>\n",
       "    </tr>\n",
       "  </tbody>\n",
       "</table>\n",
       "</div>"
      ],
      "text/plain": [
       "             Predicted\n",
       "2023-12-29  598.442078\n",
       "2023-12-30  604.420166\n",
       "2023-12-31  608.546570\n",
       "2024-01-01  612.438416\n",
       "2024-01-02  616.240417\n",
       "2024-01-03  619.983154\n",
       "2024-01-04  623.674927"
      ]
     },
     "execution_count": 50,
     "metadata": {},
     "output_type": "execute_result"
    }
   ],
   "source": [
    "gru_predictions_df_7"
   ]
  },
  {
   "cell_type": "code",
   "execution_count": 51,
   "id": "905c62dd-5078-4945-95a8-deb2df7f3b10",
   "metadata": {},
   "outputs": [
    {
     "data": {
      "text/html": [
       "<div>\n",
       "<style scoped>\n",
       "    .dataframe tbody tr th:only-of-type {\n",
       "        vertical-align: middle;\n",
       "    }\n",
       "\n",
       "    .dataframe tbody tr th {\n",
       "        vertical-align: top;\n",
       "    }\n",
       "\n",
       "    .dataframe thead th {\n",
       "        text-align: right;\n",
       "    }\n",
       "</style>\n",
       "<table border=\"1\" class=\"dataframe\">\n",
       "  <thead>\n",
       "    <tr style=\"text-align: right;\">\n",
       "      <th></th>\n",
       "      <th>Predicted</th>\n",
       "    </tr>\n",
       "  </thead>\n",
       "  <tbody>\n",
       "    <tr>\n",
       "      <th>2023-12-29</th>\n",
       "      <td>598.442078</td>\n",
       "    </tr>\n",
       "    <tr>\n",
       "      <th>2023-12-30</th>\n",
       "      <td>604.420166</td>\n",
       "    </tr>\n",
       "    <tr>\n",
       "      <th>2023-12-31</th>\n",
       "      <td>608.546570</td>\n",
       "    </tr>\n",
       "    <tr>\n",
       "      <th>2024-01-01</th>\n",
       "      <td>612.438416</td>\n",
       "    </tr>\n",
       "    <tr>\n",
       "      <th>2024-01-02</th>\n",
       "      <td>616.240417</td>\n",
       "    </tr>\n",
       "    <tr>\n",
       "      <th>2024-01-03</th>\n",
       "      <td>619.983154</td>\n",
       "    </tr>\n",
       "    <tr>\n",
       "      <th>2024-01-04</th>\n",
       "      <td>623.674927</td>\n",
       "    </tr>\n",
       "    <tr>\n",
       "      <th>2024-01-05</th>\n",
       "      <td>627.317932</td>\n",
       "    </tr>\n",
       "    <tr>\n",
       "      <th>2024-01-06</th>\n",
       "      <td>630.915649</td>\n",
       "    </tr>\n",
       "    <tr>\n",
       "      <th>2024-01-07</th>\n",
       "      <td>634.469177</td>\n",
       "    </tr>\n",
       "    <tr>\n",
       "      <th>2024-01-08</th>\n",
       "      <td>637.979126</td>\n",
       "    </tr>\n",
       "    <tr>\n",
       "      <th>2024-01-09</th>\n",
       "      <td>641.445618</td>\n",
       "    </tr>\n",
       "    <tr>\n",
       "      <th>2024-01-10</th>\n",
       "      <td>644.869995</td>\n",
       "    </tr>\n",
       "    <tr>\n",
       "      <th>2024-01-11</th>\n",
       "      <td>648.254761</td>\n",
       "    </tr>\n",
       "  </tbody>\n",
       "</table>\n",
       "</div>"
      ],
      "text/plain": [
       "             Predicted\n",
       "2023-12-29  598.442078\n",
       "2023-12-30  604.420166\n",
       "2023-12-31  608.546570\n",
       "2024-01-01  612.438416\n",
       "2024-01-02  616.240417\n",
       "2024-01-03  619.983154\n",
       "2024-01-04  623.674927\n",
       "2024-01-05  627.317932\n",
       "2024-01-06  630.915649\n",
       "2024-01-07  634.469177\n",
       "2024-01-08  637.979126\n",
       "2024-01-09  641.445618\n",
       "2024-01-10  644.869995\n",
       "2024-01-11  648.254761"
      ]
     },
     "execution_count": 51,
     "metadata": {},
     "output_type": "execute_result"
    }
   ],
   "source": [
    "gru_predictions_df_14"
   ]
  },
  {
   "cell_type": "code",
   "execution_count": 60,
   "id": "ea5432a5-d16e-46e5-a628-42d309f6d55f",
   "metadata": {
    "id": "ea5432a5-d16e-46e5-a628-42d309f6d55f"
   },
   "outputs": [],
   "source": [
    "# Melakukan prediksi dengan prophet mode;\n",
    "import prophet\n",
    "from prophet import Prophet\n",
    "\n",
    "wti_data.reset_index(inplace=True)\n",
    "wti_data.rename(columns={'Date' : 'ds', 'Close' : 'y'}, inplace=True)\n",
    "\n",
    "# Pastikan data asli memiliki frekuensi harian\n",
    "wti_data.set_index('ds', inplace=True)\n",
    "wti_data = wti_data.asfreq('D')\n",
    "\n",
    "# Melakukan prediksi dengan Prophet\n",
    "#prophet_model.fit(wti_data)\n",
    "\n",
    "# Tentukan tanggal awal untuk prediksi\n",
    "#last_date = wti_data.index[-1]\n",
    "last_date = wti_data.index[-1]\n",
    "future_7 = pd.date_range(start=last_date + pd.DateOffset(days=1), periods=24, freq='M')\n",
    "future_14 = pd.date_range(start=last_date + pd.DateOffset(days=1), periods=48, freq='M')\n",
    "future_7 = prophet_model.make_future_dataframe(periods=24, freq='M')#, include_history=False, start_date=last_date + pd.DateOffset(days=1))\n",
    "future_14 = prophet_model.make_future_dataframe(periods=48, freq='M')#, include_history=False, start_date=last_date + pd.DateOffset(days=1))\n",
    "\n",
    "forecast_7 = prophet_model.predict(future_7)\n",
    "forecast_14 = prophet_model.predict(future_14)\n",
    "\n",
    "# Mengambil nilai prediksi\n",
    "prophet_predictions_7 = forecast_7[['ds','yhat']].tail()\n",
    "prophet_predictions_14 = forecast_14[['ds','yhat']].tail()"
   ]
  },
  {
   "cell_type": "code",
   "execution_count": 61,
   "id": "7e482e07-2e8b-499d-9b22-9294763aa012",
   "metadata": {
    "id": "7e482e07-2e8b-499d-9b22-9294763aa012",
    "outputId": "8787c5cf-8bf3-477d-8dd3-bde171080e6c"
   },
   "outputs": [
    {
     "data": {
      "text/html": [
       "<div>\n",
       "<style scoped>\n",
       "    .dataframe tbody tr th:only-of-type {\n",
       "        vertical-align: middle;\n",
       "    }\n",
       "\n",
       "    .dataframe tbody tr th {\n",
       "        vertical-align: top;\n",
       "    }\n",
       "\n",
       "    .dataframe thead th {\n",
       "        text-align: right;\n",
       "    }\n",
       "</style>\n",
       "<table border=\"1\" class=\"dataframe\">\n",
       "  <thead>\n",
       "    <tr style=\"text-align: right;\">\n",
       "      <th></th>\n",
       "      <th>ds</th>\n",
       "      <th>yhat</th>\n",
       "    </tr>\n",
       "  </thead>\n",
       "  <tbody>\n",
       "    <tr>\n",
       "      <th>5170</th>\n",
       "      <td>2021-08-31</td>\n",
       "      <td>75.459519</td>\n",
       "    </tr>\n",
       "    <tr>\n",
       "      <th>5171</th>\n",
       "      <td>2021-09-30</td>\n",
       "      <td>74.953226</td>\n",
       "    </tr>\n",
       "    <tr>\n",
       "      <th>5172</th>\n",
       "      <td>2021-10-31</td>\n",
       "      <td>72.622345</td>\n",
       "    </tr>\n",
       "    <tr>\n",
       "      <th>5173</th>\n",
       "      <td>2021-11-30</td>\n",
       "      <td>72.521451</td>\n",
       "    </tr>\n",
       "    <tr>\n",
       "      <th>5174</th>\n",
       "      <td>2021-12-31</td>\n",
       "      <td>73.344871</td>\n",
       "    </tr>\n",
       "  </tbody>\n",
       "</table>\n",
       "</div>"
      ],
      "text/plain": [
       "             ds       yhat\n",
       "5170 2021-08-31  75.459519\n",
       "5171 2021-09-30  74.953226\n",
       "5172 2021-10-31  72.622345\n",
       "5173 2021-11-30  72.521451\n",
       "5174 2021-12-31  73.344871"
      ]
     },
     "execution_count": 61,
     "metadata": {},
     "output_type": "execute_result"
    }
   ],
   "source": [
    "prophet_predictions_7"
   ]
  },
  {
   "cell_type": "code",
   "execution_count": 62,
   "id": "ad7d7114-d31e-4d35-afc1-48a534bcc953",
   "metadata": {
    "id": "ad7d7114-d31e-4d35-afc1-48a534bcc953",
    "outputId": "71de248f-b200-49bd-aa72-cf91fed7919a"
   },
   "outputs": [
    {
     "data": {
      "text/html": [
       "<div>\n",
       "<style scoped>\n",
       "    .dataframe tbody tr th:only-of-type {\n",
       "        vertical-align: middle;\n",
       "    }\n",
       "\n",
       "    .dataframe tbody tr th {\n",
       "        vertical-align: top;\n",
       "    }\n",
       "\n",
       "    .dataframe thead th {\n",
       "        text-align: right;\n",
       "    }\n",
       "</style>\n",
       "<table border=\"1\" class=\"dataframe\">\n",
       "  <thead>\n",
       "    <tr style=\"text-align: right;\">\n",
       "      <th></th>\n",
       "      <th>ds</th>\n",
       "      <th>yhat</th>\n",
       "    </tr>\n",
       "  </thead>\n",
       "  <tbody>\n",
       "    <tr>\n",
       "      <th>5194</th>\n",
       "      <td>2023-08-31</td>\n",
       "      <td>86.567884</td>\n",
       "    </tr>\n",
       "    <tr>\n",
       "      <th>5195</th>\n",
       "      <td>2023-09-30</td>\n",
       "      <td>81.871999</td>\n",
       "    </tr>\n",
       "    <tr>\n",
       "      <th>5196</th>\n",
       "      <td>2023-10-31</td>\n",
       "      <td>84.271190</td>\n",
       "    </tr>\n",
       "    <tr>\n",
       "      <th>5197</th>\n",
       "      <td>2023-11-30</td>\n",
       "      <td>83.707025</td>\n",
       "    </tr>\n",
       "    <tr>\n",
       "      <th>5198</th>\n",
       "      <td>2023-12-31</td>\n",
       "      <td>82.941685</td>\n",
       "    </tr>\n",
       "  </tbody>\n",
       "</table>\n",
       "</div>"
      ],
      "text/plain": [
       "             ds       yhat\n",
       "5194 2023-08-31  86.567884\n",
       "5195 2023-09-30  81.871999\n",
       "5196 2023-10-31  84.271190\n",
       "5197 2023-11-30  83.707025\n",
       "5198 2023-12-31  82.941685"
      ]
     },
     "execution_count": 62,
     "metadata": {},
     "output_type": "execute_result"
    }
   ],
   "source": [
    "prophet_predictions_14"
   ]
  },
  {
   "cell_type": "code",
   "execution_count": null,
   "id": "b158f2f2-ad12-4398-a823-d8f7e53211c2",
   "metadata": {
    "id": "b158f2f2-ad12-4398-a823-d8f7e53211c2"
   },
   "outputs": [],
   "source": []
  }
 ],
 "metadata": {
  "colab": {
   "provenance": []
  },
  "kernelspec": {
   "display_name": "Python 3 (ipykernel)",
   "language": "python",
   "name": "python3"
  },
  "language_info": {
   "codemirror_mode": {
    "name": "ipython",
    "version": 3
   },
   "file_extension": ".py",
   "mimetype": "text/x-python",
   "name": "python",
   "nbconvert_exporter": "python",
   "pygments_lexer": "ipython3",
   "version": "3.11.7"
  }
 },
 "nbformat": 4,
 "nbformat_minor": 5
}

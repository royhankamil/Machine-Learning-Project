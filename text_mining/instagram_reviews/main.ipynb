{
 "cells": [
  {
   "cell_type": "markdown",
   "metadata": {},
   "source": [
    "# **Preprocesing**"
   ]
  },
  {
   "cell_type": "markdown",
   "metadata": {},
   "source": [
    "### **Exploring Dataset**"
   ]
  },
  {
   "cell_type": "markdown",
   "metadata": {},
   "source": [
    "Dalam tahapan ini kita akan melakukan importing beberapa asset yang dibutuhkan seperti library yang dibutuhkan, dataset yang dibutuhkan"
   ]
  },
  {
   "cell_type": "code",
   "execution_count": 5,
   "metadata": {},
   "outputs": [],
   "source": [
    "# import library yang dibutuhkan\n",
    "import numpy as np\n",
    "import matplotlib.pyplot as plt\n",
    "import pandas as pd\n",
    "import string\n",
    "import re\n",
    "from nltk.tokenize import word_tokenize\n",
    "from nltk.corpus import stopwords\n",
    "from nltk.stem import PorterStemmer\n",
    "from wordcloud.wordcloud import WordCloud\n"
   ]
  },
  {
   "cell_type": "code",
   "execution_count": 6,
   "metadata": {},
   "outputs": [
    {
     "data": {
      "text/html": [
       "<div>\n",
       "<style scoped>\n",
       "    .dataframe tbody tr th:only-of-type {\n",
       "        vertical-align: middle;\n",
       "    }\n",
       "\n",
       "    .dataframe tbody tr th {\n",
       "        vertical-align: top;\n",
       "    }\n",
       "\n",
       "    .dataframe thead th {\n",
       "        text-align: right;\n",
       "    }\n",
       "</style>\n",
       "<table border=\"1\" class=\"dataframe\">\n",
       "  <thead>\n",
       "    <tr style=\"text-align: right;\">\n",
       "      <th></th>\n",
       "      <th>date</th>\n",
       "      <th>title</th>\n",
       "      <th>review</th>\n",
       "      <th>rating</th>\n",
       "    </tr>\n",
       "  </thead>\n",
       "  <tbody>\n",
       "    <tr>\n",
       "      <th>0</th>\n",
       "      <td>2023-05-21 16:42:24</td>\n",
       "      <td>Much more accessible for blind users than the ...</td>\n",
       "      <td>Up to this point I’ve mostly been using ChatGP...</td>\n",
       "      <td>4</td>\n",
       "    </tr>\n",
       "    <tr>\n",
       "      <th>1</th>\n",
       "      <td>2023-07-11 12:24:19</td>\n",
       "      <td>Much anticipated, wasn’t let down.</td>\n",
       "      <td>I’ve been a user since it’s initial roll out a...</td>\n",
       "      <td>4</td>\n",
       "    </tr>\n",
       "    <tr>\n",
       "      <th>2</th>\n",
       "      <td>2023-05-19 10:16:22</td>\n",
       "      <td>Almost 5 stars, but… no search function</td>\n",
       "      <td>This app would almost be perfect if it wasn’t ...</td>\n",
       "      <td>4</td>\n",
       "    </tr>\n",
       "    <tr>\n",
       "      <th>3</th>\n",
       "      <td>2023-05-27 21:57:27</td>\n",
       "      <td>4.5 stars, here’s why</td>\n",
       "      <td>I recently downloaded the app and overall, it'...</td>\n",
       "      <td>4</td>\n",
       "    </tr>\n",
       "    <tr>\n",
       "      <th>4</th>\n",
       "      <td>2023-06-09 07:49:36</td>\n",
       "      <td>Good, but Siri support would take it to the ne...</td>\n",
       "      <td>I appreciate the devs implementing Siri suppor...</td>\n",
       "      <td>4</td>\n",
       "    </tr>\n",
       "  </tbody>\n",
       "</table>\n",
       "</div>"
      ],
      "text/plain": [
       "                  date                                              title  \\\n",
       "0  2023-05-21 16:42:24  Much more accessible for blind users than the ...   \n",
       "1  2023-07-11 12:24:19                 Much anticipated, wasn’t let down.   \n",
       "2  2023-05-19 10:16:22            Almost 5 stars, but… no search function   \n",
       "3  2023-05-27 21:57:27                              4.5 stars, here’s why   \n",
       "4  2023-06-09 07:49:36  Good, but Siri support would take it to the ne...   \n",
       "\n",
       "                                              review  rating  \n",
       "0  Up to this point I’ve mostly been using ChatGP...       4  \n",
       "1  I’ve been a user since it’s initial roll out a...       4  \n",
       "2  This app would almost be perfect if it wasn’t ...       4  \n",
       "3  I recently downloaded the app and overall, it'...       4  \n",
       "4  I appreciate the devs implementing Siri suppor...       4  "
      ]
     },
     "execution_count": 6,
     "metadata": {},
     "output_type": "execute_result"
    }
   ],
   "source": [
    "# untuk mengimport dataset\n",
    "df = pd.read_csv(\"chatgpt_reviews.csv\")\n",
    "\n",
    "# untuk melihat isi data\n",
    "df.head()"
   ]
  },
  {
   "cell_type": "markdown",
   "metadata": {},
   "source": [
    "setelah itu kita akan melakukan perhitungan ada berapa banyak review untuk masing masing rating "
   ]
  },
  {
   "cell_type": "code",
   "execution_count": 7,
   "metadata": {},
   "outputs": [
    {
     "data": {
      "text/plain": [
       "rating\n",
       "5    1134\n",
       "1     495\n",
       "4     304\n",
       "3     220\n",
       "2     139\n",
       "Name: count, dtype: int64"
      ]
     },
     "execution_count": 7,
     "metadata": {},
     "output_type": "execute_result"
    }
   ],
   "source": [
    "# untuk menghitung nilai unik\n",
    "df[\"rating\"].value_counts()"
   ]
  },
  {
   "cell_type": "markdown",
   "metadata": {},
   "source": [
    "berdasarkan dari data di atas, kita dapat menyimpulkan untuk komentar positif itu pada rating 5 dan untuk komentar negatif itu pada rating 1. Mengapa hanya rating 1 dan 5 ? karena kalau komentar 2 - 4 itu masih termasuk pendapat. \n",
    "\n",
    "Dan juga kita dapat melihat banyaknya data yang rating 5 dengan data dengan rating 1 sangatlah berbeda jauh perbedaannya, maka kita perlu menyeimbangkan data ini untuk menghindari potensi overfitting"
   ]
  },
  {
   "cell_type": "markdown",
   "metadata": {
    "vscode": {
     "languageId": "plaintext"
    }
   },
   "source": [
    "### **Feature Selection**"
   ]
  },
  {
   "cell_type": "markdown",
   "metadata": {},
   "source": [
    "dalam tahapan ini kita akan memilih fitur yang berguna saja. Jadi kita dapat membuang fitur yang tidak digunakan. Dalam kasus ini kita hanya membutuhkan text komentar sebagai x nya dan label (rating) sebagai y nya"
   ]
  },
  {
   "cell_type": "code",
   "execution_count": 8,
   "metadata": {},
   "outputs": [
    {
     "data": {
      "text/html": [
       "<div>\n",
       "<style scoped>\n",
       "    .dataframe tbody tr th:only-of-type {\n",
       "        vertical-align: middle;\n",
       "    }\n",
       "\n",
       "    .dataframe tbody tr th {\n",
       "        vertical-align: top;\n",
       "    }\n",
       "\n",
       "    .dataframe thead th {\n",
       "        text-align: right;\n",
       "    }\n",
       "</style>\n",
       "<table border=\"1\" class=\"dataframe\">\n",
       "  <thead>\n",
       "    <tr style=\"text-align: right;\">\n",
       "      <th></th>\n",
       "      <th>review</th>\n",
       "      <th>rating</th>\n",
       "    </tr>\n",
       "  </thead>\n",
       "  <tbody>\n",
       "    <tr>\n",
       "      <th>0</th>\n",
       "      <td>Up to this point I’ve mostly been using ChatGP...</td>\n",
       "      <td>4</td>\n",
       "    </tr>\n",
       "    <tr>\n",
       "      <th>1</th>\n",
       "      <td>I’ve been a user since it’s initial roll out a...</td>\n",
       "      <td>4</td>\n",
       "    </tr>\n",
       "    <tr>\n",
       "      <th>2</th>\n",
       "      <td>This app would almost be perfect if it wasn’t ...</td>\n",
       "      <td>4</td>\n",
       "    </tr>\n",
       "    <tr>\n",
       "      <th>3</th>\n",
       "      <td>I recently downloaded the app and overall, it'...</td>\n",
       "      <td>4</td>\n",
       "    </tr>\n",
       "    <tr>\n",
       "      <th>4</th>\n",
       "      <td>I appreciate the devs implementing Siri suppor...</td>\n",
       "      <td>4</td>\n",
       "    </tr>\n",
       "    <tr>\n",
       "      <th>...</th>\n",
       "      <td>...</td>\n",
       "      <td>...</td>\n",
       "    </tr>\n",
       "    <tr>\n",
       "      <th>2287</th>\n",
       "      <td>This has to be a beginning to something crazy ...</td>\n",
       "      <td>5</td>\n",
       "    </tr>\n",
       "    <tr>\n",
       "      <th>2288</th>\n",
       "      <td>I’ve been using chat and have been a proud pre...</td>\n",
       "      <td>5</td>\n",
       "    </tr>\n",
       "    <tr>\n",
       "      <th>2289</th>\n",
       "      <td>The ChatGPT iOS app is an outstanding product....</td>\n",
       "      <td>5</td>\n",
       "    </tr>\n",
       "    <tr>\n",
       "      <th>2290</th>\n",
       "      <td>Sam Altman’s blatant attempt at regulatory cap...</td>\n",
       "      <td>2</td>\n",
       "    </tr>\n",
       "    <tr>\n",
       "      <th>2291</th>\n",
       "      <td>.</td>\n",
       "      <td>5</td>\n",
       "    </tr>\n",
       "  </tbody>\n",
       "</table>\n",
       "<p>2292 rows × 2 columns</p>\n",
       "</div>"
      ],
      "text/plain": [
       "                                                 review  rating\n",
       "0     Up to this point I’ve mostly been using ChatGP...       4\n",
       "1     I’ve been a user since it’s initial roll out a...       4\n",
       "2     This app would almost be perfect if it wasn’t ...       4\n",
       "3     I recently downloaded the app and overall, it'...       4\n",
       "4     I appreciate the devs implementing Siri suppor...       4\n",
       "...                                                 ...     ...\n",
       "2287  This has to be a beginning to something crazy ...       5\n",
       "2288  I’ve been using chat and have been a proud pre...       5\n",
       "2289  The ChatGPT iOS app is an outstanding product....       5\n",
       "2290  Sam Altman’s blatant attempt at regulatory cap...       2\n",
       "2291                                                  .       5\n",
       "\n",
       "[2292 rows x 2 columns]"
      ]
     },
     "execution_count": 8,
     "metadata": {},
     "output_type": "execute_result"
    }
   ],
   "source": [
    "# menghapus fitur\n",
    "df.drop(columns=[\"date\", \"title\"], inplace=True)\n",
    "\n",
    "df"
   ]
  },
  {
   "cell_type": "markdown",
   "metadata": {},
   "source": [
    "### **Duplicated Data**"
   ]
  },
  {
   "cell_type": "markdown",
   "metadata": {},
   "source": [
    "pada tahapan ini kita akan menghapuskan untuk data yang tak diperlukan lagi. Tujuannya adalah agar tidak terjadi nya pembelajaran yang sama pada model kita. Jika hal ini dipaksakan, hal ini akan berpotensi terjadinya overfitting"
   ]
  },
  {
   "cell_type": "code",
   "execution_count": 9,
   "metadata": {},
   "outputs": [
    {
     "data": {
      "text/html": [
       "<div>\n",
       "<style scoped>\n",
       "    .dataframe tbody tr th:only-of-type {\n",
       "        vertical-align: middle;\n",
       "    }\n",
       "\n",
       "    .dataframe tbody tr th {\n",
       "        vertical-align: top;\n",
       "    }\n",
       "\n",
       "    .dataframe thead th {\n",
       "        text-align: right;\n",
       "    }\n",
       "</style>\n",
       "<table border=\"1\" class=\"dataframe\">\n",
       "  <thead>\n",
       "    <tr style=\"text-align: right;\">\n",
       "      <th></th>\n",
       "      <th>review</th>\n",
       "      <th>rating</th>\n",
       "    </tr>\n",
       "  </thead>\n",
       "  <tbody>\n",
       "    <tr>\n",
       "      <th>1351</th>\n",
       "      <td>Thanks</td>\n",
       "      <td>5</td>\n",
       "    </tr>\n",
       "    <tr>\n",
       "      <th>1508</th>\n",
       "      <td>Please</td>\n",
       "      <td>5</td>\n",
       "    </tr>\n",
       "    <tr>\n",
       "      <th>1783</th>\n",
       "      <td>Love it</td>\n",
       "      <td>5</td>\n",
       "    </tr>\n",
       "    <tr>\n",
       "      <th>1800</th>\n",
       "      <td>First</td>\n",
       "      <td>5</td>\n",
       "    </tr>\n",
       "    <tr>\n",
       "      <th>1801</th>\n",
       "      <td>First</td>\n",
       "      <td>5</td>\n",
       "    </tr>\n",
       "    <tr>\n",
       "      <th>1802</th>\n",
       "      <td>First</td>\n",
       "      <td>5</td>\n",
       "    </tr>\n",
       "    <tr>\n",
       "      <th>1827</th>\n",
       "      <td>Why?</td>\n",
       "      <td>1</td>\n",
       "    </tr>\n",
       "    <tr>\n",
       "      <th>1853</th>\n",
       "      <td>Very good</td>\n",
       "      <td>5</td>\n",
       "    </tr>\n",
       "    <tr>\n",
       "      <th>1866</th>\n",
       "      <td>Pretty good</td>\n",
       "      <td>5</td>\n",
       "    </tr>\n",
       "    <tr>\n",
       "      <th>1869</th>\n",
       "      <td>Great</td>\n",
       "      <td>5</td>\n",
       "    </tr>\n",
       "    <tr>\n",
       "      <th>1871</th>\n",
       "      <td>Great</td>\n",
       "      <td>5</td>\n",
       "    </tr>\n",
       "    <tr>\n",
       "      <th>1872</th>\n",
       "      <td>Great</td>\n",
       "      <td>5</td>\n",
       "    </tr>\n",
       "    <tr>\n",
       "      <th>1873</th>\n",
       "      <td>Great</td>\n",
       "      <td>5</td>\n",
       "    </tr>\n",
       "    <tr>\n",
       "      <th>1876</th>\n",
       "      <td>Great</td>\n",
       "      <td>5</td>\n",
       "    </tr>\n",
       "    <tr>\n",
       "      <th>1877</th>\n",
       "      <td>Great</td>\n",
       "      <td>5</td>\n",
       "    </tr>\n",
       "    <tr>\n",
       "      <th>1887</th>\n",
       "      <td>Thanks</td>\n",
       "      <td>5</td>\n",
       "    </tr>\n",
       "    <tr>\n",
       "      <th>1904</th>\n",
       "      <td>Thanks</td>\n",
       "      <td>5</td>\n",
       "    </tr>\n",
       "    <tr>\n",
       "      <th>1914</th>\n",
       "      <td>Nice</td>\n",
       "      <td>5</td>\n",
       "    </tr>\n",
       "    <tr>\n",
       "      <th>1915</th>\n",
       "      <td>Nice</td>\n",
       "      <td>5</td>\n",
       "    </tr>\n",
       "    <tr>\n",
       "      <th>1917</th>\n",
       "      <td>Nice</td>\n",
       "      <td>5</td>\n",
       "    </tr>\n",
       "    <tr>\n",
       "      <th>1921</th>\n",
       "      <td>Good</td>\n",
       "      <td>5</td>\n",
       "    </tr>\n",
       "    <tr>\n",
       "      <th>1933</th>\n",
       "      <td>FIRST</td>\n",
       "      <td>5</td>\n",
       "    </tr>\n",
       "    <tr>\n",
       "      <th>2000</th>\n",
       "      <td>…</td>\n",
       "      <td>4</td>\n",
       "    </tr>\n",
       "    <tr>\n",
       "      <th>2057</th>\n",
       "      <td>很好</td>\n",
       "      <td>5</td>\n",
       "    </tr>\n",
       "    <tr>\n",
       "      <th>2075</th>\n",
       "      <td>good</td>\n",
       "      <td>5</td>\n",
       "    </tr>\n",
       "    <tr>\n",
       "      <th>2104</th>\n",
       "      <td>好</td>\n",
       "      <td>5</td>\n",
       "    </tr>\n",
       "    <tr>\n",
       "      <th>2135</th>\n",
       "      <td>很好</td>\n",
       "      <td>5</td>\n",
       "    </tr>\n",
       "    <tr>\n",
       "      <th>2145</th>\n",
       "      <td>I like it</td>\n",
       "      <td>5</td>\n",
       "    </tr>\n",
       "    <tr>\n",
       "      <th>2172</th>\n",
       "      <td>牛</td>\n",
       "      <td>5</td>\n",
       "    </tr>\n",
       "    <tr>\n",
       "      <th>2175</th>\n",
       "      <td>good</td>\n",
       "      <td>5</td>\n",
       "    </tr>\n",
       "  </tbody>\n",
       "</table>\n",
       "</div>"
      ],
      "text/plain": [
       "           review  rating\n",
       "1351       Thanks       5\n",
       "1508       Please       5\n",
       "1783      Love it       5\n",
       "1800        First       5\n",
       "1801        First       5\n",
       "1802        First       5\n",
       "1827         Why?       1\n",
       "1853    Very good       5\n",
       "1866  Pretty good       5\n",
       "1869        Great       5\n",
       "1871        Great       5\n",
       "1872        Great       5\n",
       "1873        Great       5\n",
       "1876        Great       5\n",
       "1877        Great       5\n",
       "1887       Thanks       5\n",
       "1904       Thanks       5\n",
       "1914         Nice       5\n",
       "1915         Nice       5\n",
       "1917         Nice       5\n",
       "1921         Good       5\n",
       "1933        FIRST       5\n",
       "2000            …       4\n",
       "2057           很好       5\n",
       "2075         good       5\n",
       "2104            好       5\n",
       "2135           很好       5\n",
       "2145    I like it       5\n",
       "2172            牛       5\n",
       "2175         good       5"
      ]
     },
     "execution_count": 9,
     "metadata": {},
     "output_type": "execute_result"
    }
   ],
   "source": [
    "# menampilkan data yang terduplikasi\n",
    "df[df.duplicated()]"
   ]
  },
  {
   "cell_type": "markdown",
   "metadata": {},
   "source": [
    "dari tampilan di atas sangat jelas kalau ada data yang terduplikasi. Maka kita perlu membiarkan satu data saja pada data yang terduplikasi tersebut"
   ]
  },
  {
   "cell_type": "code",
   "execution_count": 10,
   "metadata": {},
   "outputs": [
    {
     "data": {
      "text/html": [
       "<div>\n",
       "<style scoped>\n",
       "    .dataframe tbody tr th:only-of-type {\n",
       "        vertical-align: middle;\n",
       "    }\n",
       "\n",
       "    .dataframe tbody tr th {\n",
       "        vertical-align: top;\n",
       "    }\n",
       "\n",
       "    .dataframe thead th {\n",
       "        text-align: right;\n",
       "    }\n",
       "</style>\n",
       "<table border=\"1\" class=\"dataframe\">\n",
       "  <thead>\n",
       "    <tr style=\"text-align: right;\">\n",
       "      <th></th>\n",
       "      <th>review</th>\n",
       "      <th>rating</th>\n",
       "    </tr>\n",
       "  </thead>\n",
       "  <tbody>\n",
       "  </tbody>\n",
       "</table>\n",
       "</div>"
      ],
      "text/plain": [
       "Empty DataFrame\n",
       "Columns: [review, rating]\n",
       "Index: []"
      ]
     },
     "execution_count": 10,
     "metadata": {},
     "output_type": "execute_result"
    }
   ],
   "source": [
    "# menghilangkan data terduplikasi\n",
    "df.drop_duplicates(inplace=True)\n",
    "\n",
    "# melihat apakah ada data yang terduplikasi\n",
    "df[df.duplicated()]"
   ]
  },
  {
   "cell_type": "markdown",
   "metadata": {},
   "source": [
    "### **Missing Value**"
   ]
  },
  {
   "cell_type": "markdown",
   "metadata": {},
   "source": [
    "Pada tahapan ini kita akan mencari apakah ada data yang kosong atau tidak. Hal ini bertujuan untuk menghindari terjadinya error pada proses modeling dan juga menghindari kesalah pahaman pada model (misal Nan akan dianggap dokumen yang berisi kata Nan)"
   ]
  },
  {
   "cell_type": "code",
   "execution_count": 11,
   "metadata": {},
   "outputs": [
    {
     "data": {
      "text/plain": [
       "review    0\n",
       "rating    0\n",
       "dtype: int64"
      ]
     },
     "execution_count": 11,
     "metadata": {},
     "output_type": "execute_result"
    }
   ],
   "source": [
    "# melihat missing jenis Nan\n",
    "df.isna().sum()"
   ]
  },
  {
   "cell_type": "code",
   "execution_count": 12,
   "metadata": {},
   "outputs": [
    {
     "data": {
      "text/plain": [
       "review    0\n",
       "rating    0\n",
       "dtype: int64"
      ]
     },
     "execution_count": 12,
     "metadata": {},
     "output_type": "execute_result"
    }
   ],
   "source": [
    "# melihat missing jenis null\n",
    "df.isnull().sum()"
   ]
  },
  {
   "cell_type": "markdown",
   "metadata": {},
   "source": [
    "Tidak ditemukan data yang hilang, maka kita bisa mengabaikannya saja"
   ]
  },
  {
   "cell_type": "markdown",
   "metadata": {},
   "source": [
    "setelah dilakukan cleaning, maka kita perlu menyeimbangkan banyaknya data agar tidak menjadi overfitting"
   ]
  },
  {
   "cell_type": "code",
   "execution_count": 13,
   "metadata": {},
   "outputs": [
    {
     "data": {
      "text/html": [
       "<div>\n",
       "<style scoped>\n",
       "    .dataframe tbody tr th:only-of-type {\n",
       "        vertical-align: middle;\n",
       "    }\n",
       "\n",
       "    .dataframe tbody tr th {\n",
       "        vertical-align: top;\n",
       "    }\n",
       "\n",
       "    .dataframe thead th {\n",
       "        text-align: right;\n",
       "    }\n",
       "</style>\n",
       "<table border=\"1\" class=\"dataframe\">\n",
       "  <thead>\n",
       "    <tr style=\"text-align: right;\">\n",
       "      <th></th>\n",
       "      <th>review</th>\n",
       "      <th>rating</th>\n",
       "    </tr>\n",
       "  </thead>\n",
       "  <tbody>\n",
       "    <tr>\n",
       "      <th>282</th>\n",
       "      <td>Can’t thank the OpenAI Team enough for the bea...</td>\n",
       "      <td>5</td>\n",
       "    </tr>\n",
       "    <tr>\n",
       "      <th>709</th>\n",
       "      <td>Surprised apple let this through its approval ...</td>\n",
       "      <td>1</td>\n",
       "    </tr>\n",
       "    <tr>\n",
       "      <th>2272</th>\n",
       "      <td>Beware!!! This app requires personal info to u...</td>\n",
       "      <td>1</td>\n",
       "    </tr>\n",
       "    <tr>\n",
       "      <th>2251</th>\n",
       "      <td>It's not sending me the code to verify my number</td>\n",
       "      <td>1</td>\n",
       "    </tr>\n",
       "    <tr>\n",
       "      <th>293</th>\n",
       "      <td>The UI is clean and the haptic feedback is app...</td>\n",
       "      <td>5</td>\n",
       "    </tr>\n",
       "    <tr>\n",
       "      <th>1378</th>\n",
       "      <td>Thinks my cell number is a landline. No way ar...</td>\n",
       "      <td>1</td>\n",
       "    </tr>\n",
       "    <tr>\n",
       "      <th>1404</th>\n",
       "      <td>I updated chatgpt but it wont answer to my que...</td>\n",
       "      <td>1</td>\n",
       "    </tr>\n",
       "    <tr>\n",
       "      <th>701</th>\n",
       "      <td>Hello, do you guys have a timeline of when wou...</td>\n",
       "      <td>5</td>\n",
       "    </tr>\n",
       "    <tr>\n",
       "      <th>555</th>\n",
       "      <td>This Mobile App works very well and is effecti...</td>\n",
       "      <td>5</td>\n",
       "    </tr>\n",
       "    <tr>\n",
       "      <th>456</th>\n",
       "      <td>This app is an absolute game changer and I abs...</td>\n",
       "      <td>5</td>\n",
       "    </tr>\n",
       "  </tbody>\n",
       "</table>\n",
       "</div>"
      ],
      "text/plain": [
       "                                                 review  rating\n",
       "282   Can’t thank the OpenAI Team enough for the bea...       5\n",
       "709   Surprised apple let this through its approval ...       1\n",
       "2272  Beware!!! This app requires personal info to u...       1\n",
       "2251   It's not sending me the code to verify my number       1\n",
       "293   The UI is clean and the haptic feedback is app...       5\n",
       "1378  Thinks my cell number is a landline. No way ar...       1\n",
       "1404  I updated chatgpt but it wont answer to my que...       1\n",
       "701   Hello, do you guys have a timeline of when wou...       5\n",
       "555   This Mobile App works very well and is effecti...       5\n",
       "456   This app is an absolute game changer and I abs...       5"
      ]
     },
     "execution_count": 13,
     "metadata": {},
     "output_type": "execute_result"
    }
   ],
   "source": [
    "# mengambil data yang diperlukan\n",
    "df = pd.concat([df[df[\"rating\"] == 5].iloc[:500], df[df[\"rating\"] == 1]])\\\n",
    "    .sample(frac=1, random_state=123)\n",
    "\n",
    "# menampilkan data\n",
    "df.head(10)"
   ]
  },
  {
   "cell_type": "markdown",
   "metadata": {},
   "source": [
    "### **Train Test Split**"
   ]
  },
  {
   "cell_type": "markdown",
   "metadata": {},
   "source": [
    "Pada tahapan ini kita akan memisahkan data yang hanya digunakan untuk test (data test) dan data yang digunakan untuk training (data train). Tujuan dari splitting ini adalah agar kita mengetahui performa dari model kita"
   ]
  },
  {
   "cell_type": "code",
   "execution_count": 14,
   "metadata": {},
   "outputs": [
    {
     "data": {
      "text/plain": [
       "1525            This app is asking for your phone number.\n",
       "2002          有病吧，突破重重困难才下载了它，满怀欣喜得去登录，居然不给过，那又何必开放这破软件呢？\n",
       "823     I pay for plus and can access browsing and plu...\n",
       "37      I don’t typically write review but this offici...\n",
       "1832    It agrees with letting children be forced into...\n",
       "                              ...                        \n",
       "171     Please make the ipad version fit the screen. C...\n",
       "655     Works as it should but drains battery fast and...\n",
       "1656                          Fails right out of the box.\n",
       "1498                  Heating problems when ask something\n",
       "1355    Simple as that. It works about 1 out of 7 time...\n",
       "Name: review, Length: 796, dtype: object"
      ]
     },
     "execution_count": 14,
     "metadata": {},
     "output_type": "execute_result"
    }
   ],
   "source": [
    "# mengembalikan data yang sudah di split train dengan test\n",
    "def Train_Test_Split(x, y, test_size=0.2, random_seed=None):\n",
    "    # banyaknya data\n",
    "    n = len(x)\n",
    "\n",
    "    # jika ada random seed\n",
    "    if random_seed:\n",
    "        np.random.seed(random_seed)\n",
    "\n",
    "    # menentukan banyaknya data test\n",
    "    test_size = int(test_size * n)\n",
    "\n",
    "    # matrix random\n",
    "    indices = np.random.permutation(n)\n",
    "\n",
    "    # menentukan train dan test \n",
    "    train_indices, test_indices = indices[test_size:], indices[:test_size]\n",
    "    return x.iloc[train_indices], x.iloc[test_indices], y.iloc[train_indices], y.iloc[test_indices]\n",
    "\n",
    "# menentukan x dan y nya\n",
    "x = df[\"review\"]\n",
    "y = df[\"rating\"]\n",
    "\n",
    "# mengimplementasikan pada dataset\n",
    "X_train, X_test, y_train, y_test = Train_Test_Split(x, y, test_size=0.2, random_seed=123)\n",
    "\n",
    "X_train"
   ]
  },
  {
   "cell_type": "markdown",
   "metadata": {},
   "source": [
    "### **Case Folding**"
   ]
  },
  {
   "cell_type": "markdown",
   "metadata": {},
   "source": [
    "Pada tahapan ini kita akan melakukan seleksi dalam kata atau karakter yang mengganggu seperti tag, hastag, emoji, tanda baca, dan lain lain akan kita hapus. Karena karakter seperti ini akan mengganggu dalam makna suatu kata"
   ]
  },
  {
   "cell_type": "code",
   "execution_count": 26,
   "metadata": {},
   "outputs": [
    {
     "data": {
      "text/plain": [
       "1525             this app is asking for your phone number\n",
       "2002          有病吧，突破重重困难才下载了它，满怀欣喜得去登录，居然不给过，那又何必开放这破软件呢？\n",
       "823     i pay for plus and can access browsing and plu...\n",
       "37      i don’t typically write review but this offici...\n",
       "1832    it agrees with letting children be forced into...\n",
       "                              ...                        \n",
       "171     please make the ipad version fit the screen cu...\n",
       "655     works as it should but drains battery fast and...\n",
       "1656                           fails right out of the box\n",
       "1498                  heating problems when ask something\n",
       "1355    simple as that it works about  out of  times w...\n",
       "Name: review, Length: 796, dtype: object"
      ]
     },
     "execution_count": 26,
     "metadata": {},
     "output_type": "execute_result"
    }
   ],
   "source": [
    "# mengembalikan text yang sudah di case\n",
    "def case_folding(text):\n",
    "    # untuk menghilangkan tag \"@\"\n",
    "    text = re.sub(r\"@[A-Za-z0-9_]+\", \"\", text)\n",
    "\n",
    "    # untuk menghilangkan hashtag \"#\"\n",
    "    text = re.sub(r\"#\\w+\", \"\", text)\n",
    "\n",
    "    # untuk menghilangkan new line atau enter\n",
    "    text = re.sub(r\"\\n+\", \"\", text)\n",
    "\n",
    "    # untuk menghilangkan karakter angka\n",
    "    text = re.sub(r\"\\d+\", \"\", text)\n",
    "\n",
    "    # untuk menghilangkan karakter RT\n",
    "    text = re.sub(r\"RT[\\s]+\", \"\", text)\n",
    "\n",
    "    # untuk menghilangkan link\n",
    "    text = re.sub(r\"https?://\\S+\", \"\", text)\n",
    "    \n",
    "    # untuk menghilangkan tanda baca\n",
    "    text = text.translate(str.maketrans(\"\", \"\", string.punctuation))\n",
    "\n",
    "    # untuk menghilangkan emoji\n",
    "    emoji_pattern = re.compile(\"[\"\n",
    "                               u\"\\U0001F600-\\U0001F64F\"\n",
    "                               u\"\\U0001F300-\\U0001F5FF\"\n",
    "                               u\"\\U0001F680-\\U0001F6FF\"\n",
    "                               u\"\\U00010000-\\U0010ffff\"\n",
    "                               \"]+\", flags=re.UNICODE)\n",
    "    text = emoji_pattern.sub(r\"\", text)\n",
    "\n",
    "    # mengembalikan bentuk string yang sudah huruf kecil \n",
    "    return text.lower()\n",
    "    \n",
    "\n",
    "# men case folding untuk setiap dokumen\n",
    "X_train = X_train.apply(case_folding)\n",
    "\n",
    "X_train"
   ]
  },
  {
   "cell_type": "code",
   "execution_count": 27,
   "metadata": {},
   "outputs": [
    {
     "data": {
      "text/plain": [
       "\"For now, I only managed to get it using the US store. This is a game-changer for how we interact with AI technology. 📱\\n\\nThe app syncs your history across devices and includes the latest model improvements. What's more, it has integrated Whisper, OpenAI's open-source speech-recognition system, for voice input, and a cool haptic response for when an answer is generated. This is a huge step forward in making AI more accessible and user-friendly. 🗣️\""
      ]
     },
     "execution_count": 27,
     "metadata": {},
     "output_type": "execute_result"
    }
   ],
   "source": [
    "# sebelum dilakukan case folding\n",
    "df[\"review\"].loc[121]"
   ]
  },
  {
   "cell_type": "code",
   "execution_count": 28,
   "metadata": {},
   "outputs": [
    {
     "data": {
      "text/plain": [
       "'for now i only managed to get it using the us store this is a gamechanger for how we interact with ai technology the app syncs your history across devices and includes the latest model improvements whats more it has integrated whisper openais opensource speechrecognition system for voice input and a cool haptic response for when an answer is generated this is a huge step forward in making ai more accessible and userfriendly ️'"
      ]
     },
     "execution_count": 28,
     "metadata": {},
     "output_type": "execute_result"
    }
   ],
   "source": [
    "# setelah dilakukan case folding\n",
    "X_train.loc[121]"
   ]
  },
  {
   "cell_type": "markdown",
   "metadata": {},
   "source": [
    "### **Tokenize**"
   ]
  },
  {
   "cell_type": "markdown",
   "metadata": {},
   "source": [
    "Pada tahapan ini kita akan melakukan pemisahan text menjadi per kata. Jadi kita akan jadikan satu dokumen memiliki list yang berisi kata. Kata ini lah yang nantinya akan jadi fitur"
   ]
  },
  {
   "cell_type": "code",
   "execution_count": 30,
   "metadata": {},
   "outputs": [
    {
     "data": {
      "text/plain": [
       "1525    [this, app, is, asking, for, your, phone, number]\n",
       "2002        [有病吧，突破重重困难才下载了它，满怀欣喜得去登录，居然不给过，那又何必开放这破软件呢？]\n",
       "823     [i, pay, for, plus, and, can, access, browsing...\n",
       "37      [i, don, ’, t, typically, write, review, but, ...\n",
       "1832    [it, agrees, with, letting, children, be, forc...\n",
       "                              ...                        \n",
       "171     [please, make, the, ipad, version, fit, the, s...\n",
       "655     [works, as, it, should, but, drains, battery, ...\n",
       "1656                    [fails, right, out, of, the, box]\n",
       "1498            [heating, problems, when, ask, something]\n",
       "1355    [simple, as, that, it, works, about, out, of, ...\n",
       "Name: review, Length: 796, dtype: object"
      ]
     },
     "execution_count": 30,
     "metadata": {},
     "output_type": "execute_result"
    }
   ],
   "source": [
    "# akan mengembalikan text yang sudah ditokenize\n",
    "def tokenize(text):\n",
    "    return word_tokenize(text)\n",
    "\n",
    "# mengimplemantasikan untuk setiap dokumen\n",
    "X_train = X_train.apply(tokenize)\n",
    "\n",
    "X_train"
   ]
  },
  {
   "cell_type": "markdown",
   "metadata": {},
   "source": [
    "### **Stopwords**"
   ]
  },
  {
   "cell_type": "markdown",
   "metadata": {},
   "source": [
    "Pada tahapan stopwords ini kita akan melakukan seleksi kata lagi. Untuk kata yang memiliki makna dependent akan dihapus, karena kata di dalamnya harus independent. Hal ini disebabkan pembobotan kata akan melibatkan satu kata menjadi satu term / feature"
   ]
  },
  {
   "cell_type": "code",
   "execution_count": 37,
   "metadata": {},
   "outputs": [
    {
     "data": {
      "text/plain": [
       "1525                                 [app, phone, number]\n",
       "2002        [有病吧，突破重重困难才下载了它，满怀欣喜得去登录，居然不给过，那又何必开放这破软件呢？]\n",
       "823     [pay, access, browsing, plugins, search, app, ...\n",
       "37      [’, typically, write, review, official, app, o...\n",
       "1832    [agrees, letting, children, forced, pride, hom...\n",
       "                              ...                        \n",
       "171     [make, ipad, version, fit, screen, currently, ...\n",
       "655          [works, drains, battery, fast, heats, phone]\n",
       "1656                                         [fails, box]\n",
       "1498                                  [heating, problems]\n",
       "1355           [simple, works, times, webpage, work, app]\n",
       "Name: review, Length: 796, dtype: object"
      ]
     },
     "execution_count": 37,
     "metadata": {},
     "output_type": "execute_result"
    }
   ],
   "source": [
    "# kata yang harus dihilangkan\n",
    "stopword_var = stopwords.words()\n",
    "\n",
    "# menghilangkan kata yang harus dihilangkan\n",
    "def stopword(doc):\n",
    "    return [text for text in doc if text not in stopword_var]\n",
    "\n",
    "# mengimplementasikan untuk setiap dokumen\n",
    "X_train = X_train.apply(stopword)\n",
    "\n",
    "X_train"
   ]
  },
  {
   "cell_type": "markdown",
   "metadata": {},
   "source": [
    "### **Stemming**"
   ]
  },
  {
   "cell_type": "markdown",
   "metadata": {},
   "source": [
    "Pada tahapan ini kita akan melakukan pengubahan pada kata yang bukan kata asli menjadi kata aslinya. Yang ada kata imbuhannya menjadi kata yang asli. Hal ini bertujuan agar suatu kata memiliki makna yang sama itu akan tetap dianggap sama"
   ]
  },
  {
   "cell_type": "code",
   "execution_count": 38,
   "metadata": {},
   "outputs": [
    {
     "data": {
      "text/plain": [
       "1525                                 [app, phone, number]\n",
       "2002        [有病吧，突破重重困难才下载了它，满怀欣喜得去登录，居然不给过，那又何必开放这破软件呢？]\n",
       "823     [pay, access, brows, plugin, search, app, make...\n",
       "37      [’, typic, write, review, offici, app, openai,...\n",
       "1832         [agre, let, children, forc, pride, homosexu]\n",
       "                              ...                        \n",
       "171     [make, ipad, version, fit, screen, current, ’,...\n",
       "655             [work, drain, batteri, fast, heat, phone]\n",
       "1656                                          [fail, box]\n",
       "1498                                      [heat, problem]\n",
       "1355               [simpl, work, time, webpag, work, app]\n",
       "Name: review, Length: 796, dtype: object"
      ]
     },
     "execution_count": 38,
     "metadata": {},
     "output_type": "execute_result"
    }
   ],
   "source": [
    "# fungsi yang akan melakukan stem\n",
    "stemmer = PorterStemmer()\n",
    "\n",
    "# melakukan stemming setip dokumen\n",
    "def stemming(doc):\n",
    "    return [stemmer.stem(text) for text in doc]\n",
    "\n",
    "# implementasikan untuk setiap dokumen\n",
    "X_train = X_train.apply(stemming)\n",
    "\n",
    "X_train"
   ]
  },
  {
   "cell_type": "markdown",
   "metadata": {},
   "source": [
    "# **Pembobotan Kata**"
   ]
  },
  {
   "cell_type": "markdown",
   "metadata": {},
   "source": [
    "### **Analize Frequency Words**"
   ]
  },
  {
   "cell_type": "markdown",
   "metadata": {},
   "source": [
    "### **Document Frequency**"
   ]
  },
  {
   "cell_type": "markdown",
   "metadata": {},
   "source": [
    "### **Term Frequency**"
   ]
  },
  {
   "cell_type": "markdown",
   "metadata": {},
   "source": [
    "### **Inverse Document Frequency**"
   ]
  },
  {
   "cell_type": "markdown",
   "metadata": {},
   "source": [
    "### **TF - IDF**"
   ]
  },
  {
   "cell_type": "markdown",
   "metadata": {},
   "source": [
    "### **Feature Selection**"
   ]
  },
  {
   "cell_type": "markdown",
   "metadata": {},
   "source": [
    "# **Modeling**"
   ]
  },
  {
   "cell_type": "markdown",
   "metadata": {},
   "source": [
    "### **Create Class**"
   ]
  },
  {
   "cell_type": "markdown",
   "metadata": {},
   "source": [
    "### **Training**"
   ]
  },
  {
   "cell_type": "markdown",
   "metadata": {},
   "source": [
    "### **Testing**"
   ]
  },
  {
   "cell_type": "markdown",
   "metadata": {},
   "source": [
    "### **Conclusion**"
   ]
  }
 ],
 "metadata": {
  "kernelspec": {
   "display_name": "Python 3",
   "language": "python",
   "name": "python3"
  },
  "language_info": {
   "codemirror_mode": {
    "name": "ipython",
    "version": 3
   },
   "file_extension": ".py",
   "mimetype": "text/x-python",
   "name": "python",
   "nbconvert_exporter": "python",
   "pygments_lexer": "ipython3",
   "version": "3.9.6"
  }
 },
 "nbformat": 4,
 "nbformat_minor": 2
}

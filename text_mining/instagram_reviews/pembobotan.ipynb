{
 "cells": [
  {
   "cell_type": "code",
   "execution_count": 1,
   "metadata": {},
   "outputs": [],
   "source": [
    "%run preprocessing.ipynb"
   ]
  },
  {
   "cell_type": "code",
   "execution_count": 4,
   "metadata": {},
   "outputs": [],
   "source": [
    "import math"
   ]
  },
  {
   "cell_type": "code",
   "execution_count": 35,
   "metadata": {},
   "outputs": [],
   "source": [
    "\n",
    "class TFIDFVectorizer:\n",
    "    def __init__(self):\n",
    "        self.documents = {}\n",
    "        self.documents_length = {}\n",
    "\n",
    "        self.tf = {}\n",
    "        self.idf = {}\n",
    "        self.idf_tokens = []\n",
    "\n",
    "    def TermFrequency(self):\n",
    "        for index, document in self.documents.items():\n",
    "            document_length = len(document)\n",
    "            self.tf[index] = {}\n",
    "            for word in document:\n",
    "                if word in self.tf:\n",
    "                    self.tf[index][word] +=1\n",
    "                else:\n",
    "                    self.tf[index][word] = 1\n",
    "            self.tf[index] = {key: value/document_length for key, value in self.tf[index].items()}\n",
    "\n",
    "\n",
    "    def InverseDocumentFrequency(self):\n",
    "        self.idf_tokens = set()\n",
    "        for document in self.documents().values():\n",
    "            self.idf_tokens.update(document)\n",
    "        \n",
    "\n",
    "    def Train(self, documents = {}):\n",
    "        self.documents = documents\n",
    "        self.TermFrequency()\n",
    "        return self.idf_tokens"
   ]
  },
  {
   "cell_type": "code",
   "execution_count": 36,
   "metadata": {},
   "outputs": [
    {
     "name": "stdout",
     "output_type": "stream",
     "text": [
      "[]\n"
     ]
    }
   ],
   "source": [
    "vectorizer = TFIDFVectorizer()\n",
    "\n",
    "print(vectorizer.Train(documents = df.review))"
   ]
  },
  {
   "cell_type": "code",
   "execution_count": null,
   "metadata": {},
   "outputs": [],
   "source": []
  }
 ],
 "metadata": {
  "kernelspec": {
   "display_name": "Python 3",
   "language": "python",
   "name": "python3"
  },
  "language_info": {
   "codemirror_mode": {
    "name": "ipython",
    "version": 3
   },
   "file_extension": ".py",
   "mimetype": "text/x-python",
   "name": "python",
   "nbconvert_exporter": "python",
   "pygments_lexer": "ipython3",
   "version": "3.9.6"
  }
 },
 "nbformat": 4,
 "nbformat_minor": 2
}

{
 "cells": [
  {
   "cell_type": "markdown",
   "metadata": {},
   "source": [
    "# Preprocessing"
   ]
  },
  {
   "cell_type": "markdown",
   "metadata": {},
   "source": [
    "## importing dataset"
   ]
  },
  {
   "cell_type": "markdown",
   "metadata": {},
   "source": [
    "disini kita akan menyiapkan dataset yang ada untuk diimplementasikan di kode nya"
   ]
  },
  {
   "cell_type": "code",
   "execution_count": 135,
   "metadata": {},
   "outputs": [],
   "source": [
    "import numpy as np\n",
    "from nltk.tokenize import  word_tokenize \n",
    "import pandas as pd\n",
    "import re\n",
    "import seaborn as sns\n",
    "import matplotlib.pyplot as plt\n",
    "from nltk.stem import PorterStemmer\n",
    "from nltk.corpus import stopwords\n",
    "import string"
   ]
  },
  {
   "cell_type": "code",
   "execution_count": 136,
   "metadata": {},
   "outputs": [
    {
     "data": {
      "text/html": [
       "<div>\n",
       "<style scoped>\n",
       "    .dataframe tbody tr th:only-of-type {\n",
       "        vertical-align: middle;\n",
       "    }\n",
       "\n",
       "    .dataframe tbody tr th {\n",
       "        vertical-align: top;\n",
       "    }\n",
       "\n",
       "    .dataframe thead th {\n",
       "        text-align: right;\n",
       "    }\n",
       "</style>\n",
       "<table border=\"1\" class=\"dataframe\">\n",
       "  <thead>\n",
       "    <tr style=\"text-align: right;\">\n",
       "      <th></th>\n",
       "      <th>Time_submitted</th>\n",
       "      <th>Review</th>\n",
       "      <th>Rating</th>\n",
       "      <th>Total_thumbsup</th>\n",
       "      <th>Reply</th>\n",
       "    </tr>\n",
       "  </thead>\n",
       "  <tbody>\n",
       "    <tr>\n",
       "      <th>0</th>\n",
       "      <td>2022-07-09 15:00:00</td>\n",
       "      <td>Great music service, the audio is high quality...</td>\n",
       "      <td>5</td>\n",
       "      <td>2</td>\n",
       "      <td>NaN</td>\n",
       "    </tr>\n",
       "    <tr>\n",
       "      <th>1</th>\n",
       "      <td>2022-07-09 14:21:22</td>\n",
       "      <td>Please ignore previous negative rating. This a...</td>\n",
       "      <td>5</td>\n",
       "      <td>1</td>\n",
       "      <td>NaN</td>\n",
       "    </tr>\n",
       "    <tr>\n",
       "      <th>2</th>\n",
       "      <td>2022-07-09 13:27:32</td>\n",
       "      <td>This pop-up \"Get the best Spotify experience o...</td>\n",
       "      <td>4</td>\n",
       "      <td>0</td>\n",
       "      <td>NaN</td>\n",
       "    </tr>\n",
       "    <tr>\n",
       "      <th>3</th>\n",
       "      <td>2022-07-09 13:26:45</td>\n",
       "      <td>Really buggy and terrible to use as of recently</td>\n",
       "      <td>1</td>\n",
       "      <td>1</td>\n",
       "      <td>NaN</td>\n",
       "    </tr>\n",
       "    <tr>\n",
       "      <th>4</th>\n",
       "      <td>2022-07-09 13:20:49</td>\n",
       "      <td>Dear Spotify why do I get songs that I didn't ...</td>\n",
       "      <td>1</td>\n",
       "      <td>1</td>\n",
       "      <td>NaN</td>\n",
       "    </tr>\n",
       "  </tbody>\n",
       "</table>\n",
       "</div>"
      ],
      "text/plain": [
       "        Time_submitted                                             Review  \\\n",
       "0  2022-07-09 15:00:00  Great music service, the audio is high quality...   \n",
       "1  2022-07-09 14:21:22  Please ignore previous negative rating. This a...   \n",
       "2  2022-07-09 13:27:32  This pop-up \"Get the best Spotify experience o...   \n",
       "3  2022-07-09 13:26:45    Really buggy and terrible to use as of recently   \n",
       "4  2022-07-09 13:20:49  Dear Spotify why do I get songs that I didn't ...   \n",
       "\n",
       "   Rating  Total_thumbsup Reply  \n",
       "0       5               2   NaN  \n",
       "1       5               1   NaN  \n",
       "2       4               0   NaN  \n",
       "3       1               1   NaN  \n",
       "4       1               1   NaN  "
      ]
     },
     "execution_count": 136,
     "metadata": {},
     "output_type": "execute_result"
    }
   ],
   "source": [
    "data = pd.read_csv(\"reviews.csv\")\n",
    "\n",
    "data.head()"
   ]
  },
  {
   "cell_type": "markdown",
   "metadata": {},
   "source": []
  },
  {
   "cell_type": "code",
   "execution_count": 137,
   "metadata": {},
   "outputs": [
    {
     "data": {
      "text/plain": [
       "Rating\n",
       "5    22095\n",
       "1    17653\n",
       "4     7842\n",
       "2     7118\n",
       "3     6886\n",
       "Name: count, dtype: int64"
      ]
     },
     "execution_count": 137,
     "metadata": {},
     "output_type": "execute_result"
    }
   ],
   "source": [
    "data[\"Rating\"].value_counts()"
   ]
  },
  {
   "cell_type": "markdown",
   "metadata": {},
   "source": [
    "## feature selection\n"
   ]
  },
  {
   "cell_type": "markdown",
   "metadata": {},
   "source": [
    "\n",
    "kita akan memilih lagi untuk kolom apa saja yang diperlukan. Untuk kasus ini kolom yang penting adalah review sebagai x nya nanti dan rating sebagai y nya atau labelnya nanti. Selain dari itu akan kita hapus. Selain itu kita akan mengubah rating menjadi label encoding dengan makna negatif = 0 positif = 1. "
   ]
  },
  {
   "cell_type": "code",
   "execution_count": 138,
   "metadata": {},
   "outputs": [
    {
     "data": {
      "text/html": [
       "<div>\n",
       "<style scoped>\n",
       "    .dataframe tbody tr th:only-of-type {\n",
       "        vertical-align: middle;\n",
       "    }\n",
       "\n",
       "    .dataframe tbody tr th {\n",
       "        vertical-align: top;\n",
       "    }\n",
       "\n",
       "    .dataframe thead th {\n",
       "        text-align: right;\n",
       "    }\n",
       "</style>\n",
       "<table border=\"1\" class=\"dataframe\">\n",
       "  <thead>\n",
       "    <tr style=\"text-align: right;\">\n",
       "      <th></th>\n",
       "      <th>Review</th>\n",
       "      <th>Rating</th>\n",
       "    </tr>\n",
       "  </thead>\n",
       "  <tbody>\n",
       "    <tr>\n",
       "      <th>0</th>\n",
       "      <td>Great music service, the audio is high quality...</td>\n",
       "      <td>5</td>\n",
       "    </tr>\n",
       "    <tr>\n",
       "      <th>1</th>\n",
       "      <td>Please ignore previous negative rating. This a...</td>\n",
       "      <td>5</td>\n",
       "    </tr>\n",
       "    <tr>\n",
       "      <th>2</th>\n",
       "      <td>This pop-up \"Get the best Spotify experience o...</td>\n",
       "      <td>4</td>\n",
       "    </tr>\n",
       "    <tr>\n",
       "      <th>3</th>\n",
       "      <td>Really buggy and terrible to use as of recently</td>\n",
       "      <td>1</td>\n",
       "    </tr>\n",
       "    <tr>\n",
       "      <th>4</th>\n",
       "      <td>Dear Spotify why do I get songs that I didn't ...</td>\n",
       "      <td>1</td>\n",
       "    </tr>\n",
       "  </tbody>\n",
       "</table>\n",
       "</div>"
      ],
      "text/plain": [
       "                                              Review  Rating\n",
       "0  Great music service, the audio is high quality...       5\n",
       "1  Please ignore previous negative rating. This a...       5\n",
       "2  This pop-up \"Get the best Spotify experience o...       4\n",
       "3    Really buggy and terrible to use as of recently       1\n",
       "4  Dear Spotify why do I get songs that I didn't ...       1"
      ]
     },
     "execution_count": 138,
     "metadata": {},
     "output_type": "execute_result"
    }
   ],
   "source": [
    "data.drop(columns=[\"Time_submitted\", \"Total_thumbsup\", \"Reply\"], inplace=True)\n",
    "\n",
    "data.head()"
   ]
  },
  {
   "cell_type": "markdown",
   "metadata": {},
   "source": [
    "kita akan memilih komentar positif dan negatif berdasarkan rating 1 dan rating 5, karena ini rating 1 dan 5 adalah sesuatu hal yang general. "
   ]
  },
  {
   "cell_type": "code",
   "execution_count": 139,
   "metadata": {},
   "outputs": [
    {
     "data": {
      "text/html": [
       "<div>\n",
       "<style scoped>\n",
       "    .dataframe tbody tr th:only-of-type {\n",
       "        vertical-align: middle;\n",
       "    }\n",
       "\n",
       "    .dataframe tbody tr th {\n",
       "        vertical-align: top;\n",
       "    }\n",
       "\n",
       "    .dataframe thead th {\n",
       "        text-align: right;\n",
       "    }\n",
       "</style>\n",
       "<table border=\"1\" class=\"dataframe\">\n",
       "  <thead>\n",
       "    <tr style=\"text-align: right;\">\n",
       "      <th></th>\n",
       "      <th>Review</th>\n",
       "      <th>Rating</th>\n",
       "    </tr>\n",
       "  </thead>\n",
       "  <tbody>\n",
       "    <tr>\n",
       "      <th>0</th>\n",
       "      <td>Great music service, the audio is high quality...</td>\n",
       "      <td>5</td>\n",
       "    </tr>\n",
       "    <tr>\n",
       "      <th>1</th>\n",
       "      <td>Please ignore previous negative rating. This a...</td>\n",
       "      <td>5</td>\n",
       "    </tr>\n",
       "    <tr>\n",
       "      <th>3</th>\n",
       "      <td>Really buggy and terrible to use as of recently</td>\n",
       "      <td>1</td>\n",
       "    </tr>\n",
       "    <tr>\n",
       "      <th>4</th>\n",
       "      <td>Dear Spotify why do I get songs that I didn't ...</td>\n",
       "      <td>1</td>\n",
       "    </tr>\n",
       "    <tr>\n",
       "      <th>6</th>\n",
       "      <td>I love the selection and the lyrics are provid...</td>\n",
       "      <td>5</td>\n",
       "    </tr>\n",
       "    <tr>\n",
       "      <th>...</th>\n",
       "      <td>...</td>\n",
       "      <td>...</td>\n",
       "    </tr>\n",
       "    <tr>\n",
       "      <th>61586</th>\n",
       "      <td>One day I was able to switch between songs and...</td>\n",
       "      <td>1</td>\n",
       "    </tr>\n",
       "    <tr>\n",
       "      <th>61587</th>\n",
       "      <td>It was my favourite app. I feel sorry for arti...</td>\n",
       "      <td>1</td>\n",
       "    </tr>\n",
       "    <tr>\n",
       "      <th>61588</th>\n",
       "      <td>Back to one frkng star. First of all there's t...</td>\n",
       "      <td>1</td>\n",
       "    </tr>\n",
       "    <tr>\n",
       "      <th>61589</th>\n",
       "      <td>Even though it was communicated that lyrics fe...</td>\n",
       "      <td>1</td>\n",
       "    </tr>\n",
       "    <tr>\n",
       "      <th>61590</th>\n",
       "      <td>Use to be sooo good back when I had it, and wh...</td>\n",
       "      <td>1</td>\n",
       "    </tr>\n",
       "  </tbody>\n",
       "</table>\n",
       "<p>39748 rows × 2 columns</p>\n",
       "</div>"
      ],
      "text/plain": [
       "                                                  Review  Rating\n",
       "0      Great music service, the audio is high quality...       5\n",
       "1      Please ignore previous negative rating. This a...       5\n",
       "3        Really buggy and terrible to use as of recently       1\n",
       "4      Dear Spotify why do I get songs that I didn't ...       1\n",
       "6      I love the selection and the lyrics are provid...       5\n",
       "...                                                  ...     ...\n",
       "61586  One day I was able to switch between songs and...       1\n",
       "61587  It was my favourite app. I feel sorry for arti...       1\n",
       "61588  Back to one frkng star. First of all there's t...       1\n",
       "61589  Even though it was communicated that lyrics fe...       1\n",
       "61590  Use to be sooo good back when I had it, and wh...       1\n",
       "\n",
       "[39748 rows x 2 columns]"
      ]
     },
     "execution_count": 139,
     "metadata": {},
     "output_type": "execute_result"
    }
   ],
   "source": [
    "data = data[(data[\"Rating\"] == 5) | (data[\"Rating\"] == 1)]\n",
    "\n",
    "data\n"
   ]
  },
  {
   "cell_type": "markdown",
   "metadata": {},
   "source": [
    "0 = negatif\n",
    "\n",
    "1 = positif"
   ]
  },
  {
   "cell_type": "code",
   "execution_count": 140,
   "metadata": {},
   "outputs": [
    {
     "data": {
      "text/html": [
       "<div>\n",
       "<style scoped>\n",
       "    .dataframe tbody tr th:only-of-type {\n",
       "        vertical-align: middle;\n",
       "    }\n",
       "\n",
       "    .dataframe tbody tr th {\n",
       "        vertical-align: top;\n",
       "    }\n",
       "\n",
       "    .dataframe thead th {\n",
       "        text-align: right;\n",
       "    }\n",
       "</style>\n",
       "<table border=\"1\" class=\"dataframe\">\n",
       "  <thead>\n",
       "    <tr style=\"text-align: right;\">\n",
       "      <th></th>\n",
       "      <th>Review</th>\n",
       "      <th>Rating</th>\n",
       "      <th>labels</th>\n",
       "    </tr>\n",
       "  </thead>\n",
       "  <tbody>\n",
       "    <tr>\n",
       "      <th>0</th>\n",
       "      <td>Great music service, the audio is high quality...</td>\n",
       "      <td>5</td>\n",
       "      <td>1</td>\n",
       "    </tr>\n",
       "    <tr>\n",
       "      <th>1</th>\n",
       "      <td>Please ignore previous negative rating. This a...</td>\n",
       "      <td>5</td>\n",
       "      <td>1</td>\n",
       "    </tr>\n",
       "    <tr>\n",
       "      <th>3</th>\n",
       "      <td>Really buggy and terrible to use as of recently</td>\n",
       "      <td>1</td>\n",
       "      <td>0</td>\n",
       "    </tr>\n",
       "    <tr>\n",
       "      <th>4</th>\n",
       "      <td>Dear Spotify why do I get songs that I didn't ...</td>\n",
       "      <td>1</td>\n",
       "      <td>0</td>\n",
       "    </tr>\n",
       "    <tr>\n",
       "      <th>6</th>\n",
       "      <td>I love the selection and the lyrics are provid...</td>\n",
       "      <td>5</td>\n",
       "      <td>1</td>\n",
       "    </tr>\n",
       "  </tbody>\n",
       "</table>\n",
       "</div>"
      ],
      "text/plain": [
       "                                              Review  Rating  labels\n",
       "0  Great music service, the audio is high quality...       5       1\n",
       "1  Please ignore previous negative rating. This a...       5       1\n",
       "3    Really buggy and terrible to use as of recently       1       0\n",
       "4  Dear Spotify why do I get songs that I didn't ...       1       0\n",
       "6  I love the selection and the lyrics are provid...       5       1"
      ]
     },
     "execution_count": 140,
     "metadata": {},
     "output_type": "execute_result"
    }
   ],
   "source": [
    "labels = [1 if i==5 else 0 for i in data[\"Rating\"]]\n",
    "\n",
    "data.loc[:, \"labels\"] = labels\n",
    "data.head()"
   ]
  },
  {
   "cell_type": "markdown",
   "metadata": {},
   "source": [
    "untuk memperingankan proses prediksi dan proses tf-idf maka kita batasi untuk setiap kelas itu memiliki 3000 data (sebelum di cleaning), total 6000 data untuk seluruh kelas."
   ]
  },
  {
   "cell_type": "code",
   "execution_count": 141,
   "metadata": {},
   "outputs": [],
   "source": [
    "data = pd.concat([data[data.labels == 1].iloc[:3000, :], data[data.labels == 0].iloc[:3000, :]])\n"
   ]
  },
  {
   "cell_type": "code",
   "execution_count": 142,
   "metadata": {},
   "outputs": [
    {
     "data": {
      "text/plain": [
       "(6000, 3)"
      ]
     },
     "execution_count": 142,
     "metadata": {},
     "output_type": "execute_result"
    }
   ],
   "source": [
    "data.shape"
   ]
  },
  {
   "cell_type": "markdown",
   "metadata": {},
   "source": [
    "## duplicated data"
   ]
  },
  {
   "cell_type": "markdown",
   "metadata": {},
   "source": [
    "\n",
    "disini kita akan mencari apakah ada data yang terduplikasi atau tidak. Karena duplikasi data akan dapat menyebabkan pengaruh overfitting"
   ]
  },
  {
   "cell_type": "code",
   "execution_count": 143,
   "metadata": {},
   "outputs": [
    {
     "data": {
      "text/html": [
       "<div>\n",
       "<style scoped>\n",
       "    .dataframe tbody tr th:only-of-type {\n",
       "        vertical-align: middle;\n",
       "    }\n",
       "\n",
       "    .dataframe tbody tr th {\n",
       "        vertical-align: top;\n",
       "    }\n",
       "\n",
       "    .dataframe thead th {\n",
       "        text-align: right;\n",
       "    }\n",
       "</style>\n",
       "<table border=\"1\" class=\"dataframe\">\n",
       "  <thead>\n",
       "    <tr style=\"text-align: right;\">\n",
       "      <th></th>\n",
       "      <th>Review</th>\n",
       "      <th>Rating</th>\n",
       "      <th>labels</th>\n",
       "    </tr>\n",
       "  </thead>\n",
       "  <tbody>\n",
       "    <tr>\n",
       "      <th>2495</th>\n",
       "      <td>Good app for songs</td>\n",
       "      <td>5</td>\n",
       "      <td>1</td>\n",
       "    </tr>\n",
       "    <tr>\n",
       "      <th>2996</th>\n",
       "      <td>I love Spotify.</td>\n",
       "      <td>5</td>\n",
       "      <td>1</td>\n",
       "    </tr>\n",
       "    <tr>\n",
       "      <th>3261</th>\n",
       "      <td>Amazing music app</td>\n",
       "      <td>5</td>\n",
       "      <td>1</td>\n",
       "    </tr>\n",
       "    <tr>\n",
       "      <th>4457</th>\n",
       "      <td>Great app tons of music</td>\n",
       "      <td>5</td>\n",
       "      <td>1</td>\n",
       "    </tr>\n",
       "    <tr>\n",
       "      <th>5023</th>\n",
       "      <td>Best music experience ever</td>\n",
       "      <td>5</td>\n",
       "      <td>1</td>\n",
       "    </tr>\n",
       "    <tr>\n",
       "      <th>5827</th>\n",
       "      <td>The best music app ever</td>\n",
       "      <td>5</td>\n",
       "      <td>1</td>\n",
       "    </tr>\n",
       "    <tr>\n",
       "      <th>6246</th>\n",
       "      <td>The best music app ever</td>\n",
       "      <td>5</td>\n",
       "      <td>1</td>\n",
       "    </tr>\n",
       "    <tr>\n",
       "      <th>6297</th>\n",
       "      <td>Best music app by far</td>\n",
       "      <td>5</td>\n",
       "      <td>1</td>\n",
       "    </tr>\n",
       "    <tr>\n",
       "      <th>6302</th>\n",
       "      <td>I love Spotify!</td>\n",
       "      <td>5</td>\n",
       "      <td>1</td>\n",
       "    </tr>\n",
       "    <tr>\n",
       "      <th>6532</th>\n",
       "      <td>Great Music App.</td>\n",
       "      <td>5</td>\n",
       "      <td>1</td>\n",
       "    </tr>\n",
       "    <tr>\n",
       "      <th>3008</th>\n",
       "      <td>Too many ads</td>\n",
       "      <td>1</td>\n",
       "      <td>0</td>\n",
       "    </tr>\n",
       "    <tr>\n",
       "      <th>3308</th>\n",
       "      <td>Too many ads</td>\n",
       "      <td>1</td>\n",
       "      <td>0</td>\n",
       "    </tr>\n",
       "    <tr>\n",
       "      <th>3722</th>\n",
       "      <td>Too much ads</td>\n",
       "      <td>1</td>\n",
       "      <td>0</td>\n",
       "    </tr>\n",
       "    <tr>\n",
       "      <th>4723</th>\n",
       "      <td>Too many ads</td>\n",
       "      <td>1</td>\n",
       "      <td>0</td>\n",
       "    </tr>\n",
       "    <tr>\n",
       "      <th>5133</th>\n",
       "      <td>Too much ads</td>\n",
       "      <td>1</td>\n",
       "      <td>0</td>\n",
       "    </tr>\n",
       "    <tr>\n",
       "      <th>5365</th>\n",
       "      <td>Too many ads</td>\n",
       "      <td>1</td>\n",
       "      <td>0</td>\n",
       "    </tr>\n",
       "    <tr>\n",
       "      <th>6027</th>\n",
       "      <td>Too many ads</td>\n",
       "      <td>1</td>\n",
       "      <td>0</td>\n",
       "    </tr>\n",
       "    <tr>\n",
       "      <th>7082</th>\n",
       "      <td>Too many ads.</td>\n",
       "      <td>1</td>\n",
       "      <td>0</td>\n",
       "    </tr>\n",
       "    <tr>\n",
       "      <th>7083</th>\n",
       "      <td>Not working properly</td>\n",
       "      <td>1</td>\n",
       "      <td>0</td>\n",
       "    </tr>\n",
       "    <tr>\n",
       "      <th>7311</th>\n",
       "      <td>Too many ads</td>\n",
       "      <td>1</td>\n",
       "      <td>0</td>\n",
       "    </tr>\n",
       "    <tr>\n",
       "      <th>7777</th>\n",
       "      <td>Too many ads</td>\n",
       "      <td>1</td>\n",
       "      <td>0</td>\n",
       "    </tr>\n",
       "    <tr>\n",
       "      <th>8384</th>\n",
       "      <td>Too many adds</td>\n",
       "      <td>1</td>\n",
       "      <td>0</td>\n",
       "    </tr>\n",
       "    <tr>\n",
       "      <th>8513</th>\n",
       "      <td>Too many ads</td>\n",
       "      <td>1</td>\n",
       "      <td>0</td>\n",
       "    </tr>\n",
       "    <tr>\n",
       "      <th>9349</th>\n",
       "      <td>Too many adds</td>\n",
       "      <td>1</td>\n",
       "      <td>0</td>\n",
       "    </tr>\n",
       "    <tr>\n",
       "      <th>9396</th>\n",
       "      <td>Too many ads</td>\n",
       "      <td>1</td>\n",
       "      <td>0</td>\n",
       "    </tr>\n",
       "    <tr>\n",
       "      <th>10382</th>\n",
       "      <td>Too much ads</td>\n",
       "      <td>1</td>\n",
       "      <td>0</td>\n",
       "    </tr>\n",
       "  </tbody>\n",
       "</table>\n",
       "</div>"
      ],
      "text/plain": [
       "                           Review  Rating  labels\n",
       "2495           Good app for songs       5       1\n",
       "2996              I love Spotify.       5       1\n",
       "3261            Amazing music app       5       1\n",
       "4457      Great app tons of music       5       1\n",
       "5023   Best music experience ever       5       1\n",
       "5827      The best music app ever       5       1\n",
       "6246      The best music app ever       5       1\n",
       "6297        Best music app by far       5       1\n",
       "6302              I love Spotify!       5       1\n",
       "6532             Great Music App.       5       1\n",
       "3008                 Too many ads       1       0\n",
       "3308                 Too many ads       1       0\n",
       "3722                 Too much ads       1       0\n",
       "4723                 Too many ads       1       0\n",
       "5133                 Too much ads       1       0\n",
       "5365                 Too many ads       1       0\n",
       "6027                 Too many ads       1       0\n",
       "7082                Too many ads.       1       0\n",
       "7083         Not working properly       1       0\n",
       "7311                 Too many ads       1       0\n",
       "7777                 Too many ads       1       0\n",
       "8384                Too many adds       1       0\n",
       "8513                 Too many ads       1       0\n",
       "9349                Too many adds       1       0\n",
       "9396                 Too many ads       1       0\n",
       "10382                Too much ads       1       0"
      ]
     },
     "execution_count": 143,
     "metadata": {},
     "output_type": "execute_result"
    }
   ],
   "source": [
    "data[data.duplicated()]"
   ]
  },
  {
   "cell_type": "markdown",
   "metadata": {},
   "source": [
    "berhubung dari data di atas kita memiliki data yang terduplikasi, maka kita perlu menghilangkan salah satunya (jika dua)"
   ]
  },
  {
   "cell_type": "code",
   "execution_count": 144,
   "metadata": {},
   "outputs": [
    {
     "data": {
      "text/html": [
       "<div>\n",
       "<style scoped>\n",
       "    .dataframe tbody tr th:only-of-type {\n",
       "        vertical-align: middle;\n",
       "    }\n",
       "\n",
       "    .dataframe tbody tr th {\n",
       "        vertical-align: top;\n",
       "    }\n",
       "\n",
       "    .dataframe thead th {\n",
       "        text-align: right;\n",
       "    }\n",
       "</style>\n",
       "<table border=\"1\" class=\"dataframe\">\n",
       "  <thead>\n",
       "    <tr style=\"text-align: right;\">\n",
       "      <th></th>\n",
       "      <th>Review</th>\n",
       "      <th>Rating</th>\n",
       "      <th>labels</th>\n",
       "    </tr>\n",
       "  </thead>\n",
       "  <tbody>\n",
       "  </tbody>\n",
       "</table>\n",
       "</div>"
      ],
      "text/plain": [
       "Empty DataFrame\n",
       "Columns: [Review, Rating, labels]\n",
       "Index: []"
      ]
     },
     "execution_count": 144,
     "metadata": {},
     "output_type": "execute_result"
    }
   ],
   "source": [
    "data = data.drop_duplicates()\n",
    "\n",
    "data[data.duplicated()]"
   ]
  },
  {
   "cell_type": "markdown",
   "metadata": {},
   "source": [
    "## missing value\n"
   ]
  },
  {
   "cell_type": "markdown",
   "metadata": {},
   "source": [
    "\n",
    "dalam tahapan ini, kita akan mencari apakah ada data yang kosong atau tidak. Data yang kosong akan mengganggu proses modeling."
   ]
  },
  {
   "cell_type": "code",
   "execution_count": 145,
   "metadata": {},
   "outputs": [
    {
     "data": {
      "text/plain": [
       "Review    0\n",
       "Rating    0\n",
       "labels    0\n",
       "dtype: int64"
      ]
     },
     "execution_count": 145,
     "metadata": {},
     "output_type": "execute_result"
    }
   ],
   "source": [
    "data.isna().sum()"
   ]
  },
  {
   "cell_type": "code",
   "execution_count": 146,
   "metadata": {},
   "outputs": [
    {
     "data": {
      "text/plain": [
       "Review    0\n",
       "Rating    0\n",
       "labels    0\n",
       "dtype: int64"
      ]
     },
     "execution_count": 146,
     "metadata": {},
     "output_type": "execute_result"
    }
   ],
   "source": [
    "data.isnull().sum()"
   ]
  },
  {
   "cell_type": "markdown",
   "metadata": {},
   "source": [
    "dapat disimpulkan bahwa tidak ada data yang kosong di atas"
   ]
  },
  {
   "cell_type": "markdown",
   "metadata": {},
   "source": [
    "Bagaimana caranya untuk melihat data outlier pada kasus text mining ? "
   ]
  },
  {
   "cell_type": "code",
   "execution_count": 147,
   "metadata": {},
   "outputs": [
    {
     "data": {
      "text/html": [
       "<div>\n",
       "<style scoped>\n",
       "    .dataframe tbody tr th:only-of-type {\n",
       "        vertical-align: middle;\n",
       "    }\n",
       "\n",
       "    .dataframe tbody tr th {\n",
       "        vertical-align: top;\n",
       "    }\n",
       "\n",
       "    .dataframe thead th {\n",
       "        text-align: right;\n",
       "    }\n",
       "</style>\n",
       "<table border=\"1\" class=\"dataframe\">\n",
       "  <thead>\n",
       "    <tr style=\"text-align: right;\">\n",
       "      <th></th>\n",
       "      <th>Review</th>\n",
       "      <th>Rating</th>\n",
       "      <th>labels</th>\n",
       "    </tr>\n",
       "  </thead>\n",
       "  <tbody>\n",
       "    <tr>\n",
       "      <th>0</th>\n",
       "      <td>Great music service, the audio is high quality...</td>\n",
       "      <td>5</td>\n",
       "      <td>1</td>\n",
       "    </tr>\n",
       "    <tr>\n",
       "      <th>1</th>\n",
       "      <td>Please ignore previous negative rating. This a...</td>\n",
       "      <td>5</td>\n",
       "      <td>1</td>\n",
       "    </tr>\n",
       "    <tr>\n",
       "      <th>6</th>\n",
       "      <td>I love the selection and the lyrics are provid...</td>\n",
       "      <td>5</td>\n",
       "      <td>1</td>\n",
       "    </tr>\n",
       "    <tr>\n",
       "      <th>8</th>\n",
       "      <td>It's a great app and the best mp3 music app I ...</td>\n",
       "      <td>5</td>\n",
       "      <td>1</td>\n",
       "    </tr>\n",
       "    <tr>\n",
       "      <th>14</th>\n",
       "      <td>i hav any music that i like it is super🙌</td>\n",
       "      <td>5</td>\n",
       "      <td>1</td>\n",
       "    </tr>\n",
       "  </tbody>\n",
       "</table>\n",
       "</div>"
      ],
      "text/plain": [
       "                                               Review  Rating  labels\n",
       "0   Great music service, the audio is high quality...       5       1\n",
       "1   Please ignore previous negative rating. This a...       5       1\n",
       "6   I love the selection and the lyrics are provid...       5       1\n",
       "8   It's a great app and the best mp3 music app I ...       5       1\n",
       "14           i hav any music that i like it is super🙌       5       1"
      ]
     },
     "execution_count": 147,
     "metadata": {},
     "output_type": "execute_result"
    }
   ],
   "source": [
    "data.head()"
   ]
  },
  {
   "cell_type": "code",
   "execution_count": 148,
   "metadata": {},
   "outputs": [
    {
     "data": {
      "text/plain": [
       "(5974, 3)"
      ]
     },
     "execution_count": 148,
     "metadata": {},
     "output_type": "execute_result"
    }
   ],
   "source": [
    "data.shape"
   ]
  },
  {
   "cell_type": "markdown",
   "metadata": {},
   "source": [
    "Lalu kita akan pisahkan antara data train yang dikhususkan untuk training dengan datatest yang digunakan untuk testing"
   ]
  },
  {
   "cell_type": "code",
   "execution_count": 149,
   "metadata": {},
   "outputs": [],
   "source": [
    "def Train_Test_Split(x, y, random_seed=None, test_size=0.2):\n",
    "    n = len(x)\n",
    "    if random_seed:\n",
    "        np.random.seed(random_seed)\n",
    "    \n",
    "    test_size = int(test_size * n)\n",
    "    indices = np.random.permutation(n)\n",
    "    train_indices, test_indices = indices[test_size:], indices[:test_size]\n",
    "    return x.iloc[train_indices], x.iloc[test_indices], y.iloc[train_indices], y.iloc[test_indices]\n",
    "\n",
    "\n",
    "X_train, X_test, y_train, y_test = Train_Test_Split(data, data[\"labels\"], random_seed=42)"
   ]
  },
  {
   "cell_type": "markdown",
   "metadata": {},
   "source": [
    "## case folding\n"
   ]
  },
  {
   "cell_type": "markdown",
   "metadata": {},
   "source": [
    "\n",
    "dalam tahapan ini, kita akan melakukan penyeleksi an, untuk karakter tambahan tertentu seperti tag, hastag, huruf (karena tidak memberikan makna yang jelas), link, dan karakter lainnya"
   ]
  },
  {
   "cell_type": "code",
   "execution_count": 150,
   "metadata": {},
   "outputs": [
    {
     "name": "stderr",
     "output_type": "stream",
     "text": [
      "C:\\Users\\Rizal\\AppData\\Local\\Temp\\ipykernel_13496\\2351168957.py:11: SettingWithCopyWarning: \n",
      "A value is trying to be set on a copy of a slice from a DataFrame.\n",
      "Try using .loc[row_indexer,col_indexer] = value instead\n",
      "\n",
      "See the caveats in the documentation: https://pandas.pydata.org/pandas-docs/stable/user_guide/indexing.html#returning-a-view-versus-a-copy\n",
      "  X_train[\"Review\"] = X_train[\"Review\"].apply(cleaning_text).str.lower()\n"
     ]
    },
    {
     "data": {
      "text/html": [
       "<div>\n",
       "<style scoped>\n",
       "    .dataframe tbody tr th:only-of-type {\n",
       "        vertical-align: middle;\n",
       "    }\n",
       "\n",
       "    .dataframe tbody tr th {\n",
       "        vertical-align: top;\n",
       "    }\n",
       "\n",
       "    .dataframe thead th {\n",
       "        text-align: right;\n",
       "    }\n",
       "</style>\n",
       "<table border=\"1\" class=\"dataframe\">\n",
       "  <thead>\n",
       "    <tr style=\"text-align: right;\">\n",
       "      <th></th>\n",
       "      <th>Review</th>\n",
       "      <th>Rating</th>\n",
       "      <th>labels</th>\n",
       "    </tr>\n",
       "  </thead>\n",
       "  <tbody>\n",
       "    <tr>\n",
       "      <th>6001</th>\n",
       "      <td>what the hell spotify i didnt ask you to add m...</td>\n",
       "      <td>1</td>\n",
       "      <td>0</td>\n",
       "    </tr>\n",
       "    <tr>\n",
       "      <th>4744</th>\n",
       "      <td>in love with the new update the song recommend...</td>\n",
       "      <td>5</td>\n",
       "      <td>1</td>\n",
       "    </tr>\n",
       "    <tr>\n",
       "      <th>6945</th>\n",
       "      <td>for me its very cool music app</td>\n",
       "      <td>5</td>\n",
       "      <td>1</td>\n",
       "    </tr>\n",
       "    <tr>\n",
       "      <th>4024</th>\n",
       "      <td>lyrics arent available for any of the songs la...</td>\n",
       "      <td>1</td>\n",
       "      <td>0</td>\n",
       "    </tr>\n",
       "    <tr>\n",
       "      <th>3111</th>\n",
       "      <td>amazing 👏 absolutely cant live without my spot...</td>\n",
       "      <td>5</td>\n",
       "      <td>1</td>\n",
       "    </tr>\n",
       "  </tbody>\n",
       "</table>\n",
       "</div>"
      ],
      "text/plain": [
       "                                                 Review  Rating  labels\n",
       "6001  what the hell spotify i didnt ask you to add m...       1       0\n",
       "4744  in love with the new update the song recommend...       5       1\n",
       "6945                     for me its very cool music app       5       1\n",
       "4024  lyrics arent available for any of the songs la...       1       0\n",
       "3111  amazing 👏 absolutely cant live without my spot...       5       1"
      ]
     },
     "execution_count": 150,
     "metadata": {},
     "output_type": "execute_result"
    }
   ],
   "source": [
    "def cleaning_text(text):\n",
    "    text = re.sub(r'@[A-Za-z0-9_]+', '', text)\n",
    "    text = re.sub(r'#\\w+', '', text)\n",
    "    text = re.sub(r\"\\d+\", \"\", text)\n",
    "    text = re.sub(r'RT[\\s]+', '', text)\n",
    "    text = re.sub(r'https?://\\S+', '', text)\n",
    "    text = text.translate(str.maketrans(\"\",\"\", string.punctuation))\n",
    "\n",
    "    return text\n",
    "\n",
    "X_train[\"Review\"] = X_train[\"Review\"].apply(cleaning_text).str.lower()\n",
    "\n",
    "X_train.head()"
   ]
  },
  {
   "cell_type": "markdown",
   "metadata": {},
   "source": [
    "kita akan coba lihat untuk hasilnya"
   ]
  },
  {
   "cell_type": "code",
   "execution_count": 151,
   "metadata": {},
   "outputs": [
    {
     "data": {
      "text/plain": [
       "'worst lost of ad play one by one after one song 🤬🤬😡😡'"
      ]
     },
     "execution_count": 151,
     "metadata": {},
     "output_type": "execute_result"
    }
   ],
   "source": [
    "X_train.iloc[39].Review"
   ]
  },
  {
   "cell_type": "markdown",
   "metadata": {},
   "source": [
    "apakah normalisasi perlu ?"
   ]
  },
  {
   "cell_type": "markdown",
   "metadata": {},
   "source": []
  },
  {
   "cell_type": "markdown",
   "metadata": {},
   "source": [
    "## Tokenized\n"
   ]
  },
  {
   "cell_type": "markdown",
   "metadata": {},
   "source": [
    "\n",
    "dalam tahapan ini, kita akan jadikan suatu kalimat atau dokumen terpisah pisah menjadi perkata"
   ]
  },
  {
   "cell_type": "code",
   "execution_count": 152,
   "metadata": {},
   "outputs": [
    {
     "data": {
      "text/plain": [
       "6001    [what, the, hell, spotify, i, didnt, ask, you,...\n",
       "4744    [in, love, with, the, new, update, the, song, ...\n",
       "6945               [for, me, its, very, cool, music, app]\n",
       "4024    [lyrics, arent, available, for, any, of, the, ...\n",
       "3111    [amazing, 👏, absolutely, cant, live, without, ...\n",
       "                              ...                        \n",
       "2695    [if, i, dont, have, premium, and, i, try, to, ...\n",
       "8602    [they, are, giving, soo, much, ad, hardly, you...\n",
       "8735    [the, new, update, is, annoying, i, like, the,...\n",
       "9551    [the, application, was, telling, me, to, enter...\n",
       "2390                        [fabulous, except, for, ads😅]\n",
       "Name: Review, Length: 4780, dtype: object"
      ]
     },
     "execution_count": 152,
     "metadata": {},
     "output_type": "execute_result"
    }
   ],
   "source": [
    "tokenized = X_train[\"Review\"].apply(lambda x: word_tokenize(x))\n",
    "\n",
    "tokenized"
   ]
  },
  {
   "cell_type": "markdown",
   "metadata": {},
   "source": [
    "## Stopwords\n"
   ]
  },
  {
   "cell_type": "markdown",
   "metadata": {},
   "source": [
    "\n",
    "dalam tahapan ini, kita akan menghilangkan kata kata yang tidak terlalu bermakna dan yang dependen seperti konjungsi, kata sifat, dan lain sebagainya"
   ]
  },
  {
   "cell_type": "code",
   "execution_count": 153,
   "metadata": {},
   "outputs": [
    {
     "data": {
      "text/plain": [
       "6001    [hell, spotify, didnt, ask, add, songs, playli...\n",
       "4744    [love, new, update, song, recommendations, cro...\n",
       "6945                                   [cool, music, app]\n",
       "4024    [lyrics, arent, available, songs, latest, upda...\n",
       "3111    [amazing, 👏, absolutely, cant, live, without, ...\n",
       "                              ...                        \n",
       "2695    [dont, premium, try, listen, songs, playlist, ...\n",
       "8602    [giving, soo, much, ad, hardly, listen, song, ...\n",
       "8735          [new, update, annoying, like, old, spotify]\n",
       "9551    [application, telling, enter, accounti, accoun...\n",
       "2390                             [fabulous, except, ads😅]\n",
       "Name: Review, Length: 4780, dtype: object"
      ]
     },
     "execution_count": 153,
     "metadata": {},
     "output_type": "execute_result"
    }
   ],
   "source": [
    "stops = set(stopwords.words('english'))\n",
    "\n",
    "def stopword(text):\n",
    "    text = [word for word in text if word not in stops]\n",
    "    return text\n",
    "\n",
    "tokenized = tokenized.apply(lambda x: stopword(x))\n",
    "\n",
    "tokenized"
   ]
  },
  {
   "cell_type": "markdown",
   "metadata": {},
   "source": [
    "## Stemming\n"
   ]
  },
  {
   "cell_type": "markdown",
   "metadata": {},
   "source": [
    "\n",
    "dalam proses stemming kita akan jadikan setiap kata yang memiliki imbuhan akan kita jadikan kata aslinya misalnya membaca menjadi baca, driving menjadi drive"
   ]
  },
  {
   "cell_type": "code",
   "execution_count": 154,
   "metadata": {},
   "outputs": [
    {
     "data": {
      "text/plain": [
       "6001    [hell, spotifi, didnt, ask, add, song, playlis...\n",
       "4744    [love, new, updat, song, recommend, cross, fad...\n",
       "6945                                   [cool, music, app]\n",
       "4024           [lyric, arent, avail, song, latest, updat]\n",
       "3111    [amaz, 👏, absolut, cant, live, without, spotif...\n",
       "                              ...                        \n",
       "2695    [dont, premium, tri, listen, song, playlist, p...\n",
       "8602    [give, soo, much, ad, hardli, listen, song, so...\n",
       "8735              [new, updat, annoy, like, old, spotifi]\n",
       "9551    [applic, tell, enter, accounti, account, conne...\n",
       "2390                                [fabul, except, ads😅]\n",
       "Name: Review, Length: 4780, dtype: object"
      ]
     },
     "execution_count": 154,
     "metadata": {},
     "output_type": "execute_result"
    }
   ],
   "source": [
    "stemmer = PorterStemmer()\n",
    "\n",
    "def stemming(text):\n",
    "    text = [stemmer.stem(token) for token in text]\n",
    "    \n",
    "    return text\n",
    "\n",
    "stemmed_token = tokenized.apply(lambda x: stemming(x))\n",
    "\n",
    "stemmed_token"
   ]
  },
  {
   "cell_type": "markdown",
   "metadata": {},
   "source": []
  },
  {
   "cell_type": "markdown",
   "metadata": {},
   "source": [
    "# Pembobotan kata"
   ]
  },
  {
   "cell_type": "markdown",
   "metadata": {},
   "source": [
    "## Perhitungan jumlah kata yang muncul"
   ]
  },
  {
   "cell_type": "markdown",
   "metadata": {},
   "source": [
    "untuk mempersiapkan TF-IDF kita perlu menghitung dalam setiap dokumen, kata yang muncul pada dokumen tersebut akan dihitung berapa kali muncul dalam dokumen tersebut."
   ]
  },
  {
   "cell_type": "code",
   "execution_count": 155,
   "metadata": {},
   "outputs": [],
   "source": [
    "combined_text = [' '.join(text) for text in stemmed_token]\n",
    "sentences = []\n",
    "word_set = []\n",
    " \n",
    "for sent in combined_text:\n",
    "    x = [i for i in word_tokenize(sent) if i.isalpha()]\n",
    "    sentences.append(x)\n",
    "    for word in x:\n",
    "        if word not in word_set:\n",
    "            word_set.append(word)\n",
    " \n",
    "#Set of vocab \n",
    "word_set = set(word_set)\n",
    "#Total documents in our corpus\n",
    "total_documents = len(sentences)\n",
    " \n",
    "#Creating an index for each word in our vocab.\n",
    "index_dict = {} #Dictionary to store index for each word\n",
    "i = 0\n",
    "for word in word_set:\n",
    "    index_dict[word] = i\n",
    "    i += 1\n"
   ]
  },
  {
   "cell_type": "code",
   "execution_count": 156,
   "metadata": {},
   "outputs": [],
   "source": [
    "def count_dict(sentences):\n",
    "    word_count = {}\n",
    "    for word in word_set:\n",
    "        word_count[word] = 0\n",
    "        for sent in sentences:\n",
    "            if word in sent:\n",
    "                word_count[word] += 1\n",
    "    return word_count\n",
    " \n",
    "word_count = count_dict(sentences)"
   ]
  },
  {
   "cell_type": "markdown",
   "metadata": {},
   "source": [
    "## Term Frequency"
   ]
  },
  {
   "cell_type": "markdown",
   "metadata": {},
   "source": [
    "dalam term frequency atau TF kita akan menghitung di setiap dokumen dari banyaknya suatu term t dalam dokumen d banding banyaknya kata n dalam dokumen d"
   ]
  },
  {
   "cell_type": "code",
   "execution_count": 157,
   "metadata": {},
   "outputs": [],
   "source": [
    "#Term Frequency\n",
    "def termfreq(document, word):\n",
    "    N = len(document)\n",
    "    occurance = len([token for token in document if token == word])\n",
    "    return occurance/N"
   ]
  },
  {
   "cell_type": "markdown",
   "metadata": {},
   "source": [
    "## Inverse Document Frequently"
   ]
  },
  {
   "cell_type": "markdown",
   "metadata": {},
   "source": [
    "Lalu selanjutnya adalah kita akan melakukan perhitungan IDF yakni perhitungan perbandingan antara banyaknya dokumen n dengan banyak dokumen yang mengandung term t"
   ]
  },
  {
   "cell_type": "code",
   "execution_count": 158,
   "metadata": {},
   "outputs": [],
   "source": [
    "def inverse_doc_freq(word):\n",
    "    try:\n",
    "        word_occurance = word_count[word] + 1\n",
    "    except:\n",
    "        word_occurance = 1\n",
    "    return np.log(total_documents/word_occurance)"
   ]
  },
  {
   "cell_type": "markdown",
   "metadata": {},
   "source": [
    "## TF-IDF"
   ]
  },
  {
   "cell_type": "markdown",
   "metadata": {},
   "source": [
    "dalam tahapan ini, kita akan menggabungkan TF IDF untuk digunakan sebagai acuan bobot dalam setiap data"
   ]
  },
  {
   "cell_type": "code",
   "execution_count": 159,
   "metadata": {},
   "outputs": [],
   "source": [
    "def tf_idf(sentence):\n",
    "    tf_idf_vec = np.zeros((len(word_set),))\n",
    "    for word in sentence:\n",
    "        tf = termfreq(sentence,word)\n",
    "        idf = inverse_doc_freq(word)\n",
    "         \n",
    "        value = tf*idf\n",
    "        tf_idf_vec[index_dict[word]] = value \n",
    "    return tf_idf_vec"
   ]
  },
  {
   "cell_type": "code",
   "execution_count": 160,
   "metadata": {},
   "outputs": [
    {
     "data": {
      "text/plain": [
       "4526"
      ]
     },
     "execution_count": 160,
     "metadata": {},
     "output_type": "execute_result"
    }
   ],
   "source": [
    "len(word_set)"
   ]
  },
  {
   "cell_type": "markdown",
   "metadata": {},
   "source": [
    "menjadikan hasil tf idf menjadi dataframe agar bisa diolah dengan class"
   ]
  },
  {
   "cell_type": "code",
   "execution_count": 161,
   "metadata": {},
   "outputs": [
    {
     "data": {
      "text/html": [
       "<div>\n",
       "<style scoped>\n",
       "    .dataframe tbody tr th:only-of-type {\n",
       "        vertical-align: middle;\n",
       "    }\n",
       "\n",
       "    .dataframe tbody tr th {\n",
       "        vertical-align: top;\n",
       "    }\n",
       "\n",
       "    .dataframe thead th {\n",
       "        text-align: right;\n",
       "    }\n",
       "</style>\n",
       "<table border=\"1\" class=\"dataframe\">\n",
       "  <thead>\n",
       "    <tr style=\"text-align: right;\">\n",
       "      <th></th>\n",
       "      <th>learn</th>\n",
       "      <th>mode</th>\n",
       "      <th>bandartist</th>\n",
       "      <th>funni</th>\n",
       "      <th>suddenlyback</th>\n",
       "      <th>recommand</th>\n",
       "      <th>ala</th>\n",
       "      <th>willi</th>\n",
       "      <th>religion</th>\n",
       "      <th>realiz</th>\n",
       "      <th>...</th>\n",
       "      <th>shareabl</th>\n",
       "      <th>top</th>\n",
       "      <th>devicesassum</th>\n",
       "      <th>abound</th>\n",
       "      <th>problemi</th>\n",
       "      <th>unstal</th>\n",
       "      <th>messag</th>\n",
       "      <th>merch</th>\n",
       "      <th>wherev</th>\n",
       "      <th>structur</th>\n",
       "    </tr>\n",
       "  </thead>\n",
       "  <tbody>\n",
       "    <tr>\n",
       "      <th>0</th>\n",
       "      <td>0.0</td>\n",
       "      <td>0.0</td>\n",
       "      <td>0.0</td>\n",
       "      <td>0.0</td>\n",
       "      <td>0.0</td>\n",
       "      <td>0.0</td>\n",
       "      <td>0.0</td>\n",
       "      <td>0.0</td>\n",
       "      <td>0.0</td>\n",
       "      <td>0.0</td>\n",
       "      <td>...</td>\n",
       "      <td>0.0</td>\n",
       "      <td>0.0</td>\n",
       "      <td>0.0</td>\n",
       "      <td>0.0</td>\n",
       "      <td>0.0</td>\n",
       "      <td>0.0</td>\n",
       "      <td>0.0</td>\n",
       "      <td>0.0</td>\n",
       "      <td>0.0</td>\n",
       "      <td>0.0</td>\n",
       "    </tr>\n",
       "    <tr>\n",
       "      <th>1</th>\n",
       "      <td>0.0</td>\n",
       "      <td>0.0</td>\n",
       "      <td>0.0</td>\n",
       "      <td>0.0</td>\n",
       "      <td>0.0</td>\n",
       "      <td>0.0</td>\n",
       "      <td>0.0</td>\n",
       "      <td>0.0</td>\n",
       "      <td>0.0</td>\n",
       "      <td>0.0</td>\n",
       "      <td>...</td>\n",
       "      <td>0.0</td>\n",
       "      <td>0.0</td>\n",
       "      <td>0.0</td>\n",
       "      <td>0.0</td>\n",
       "      <td>0.0</td>\n",
       "      <td>0.0</td>\n",
       "      <td>0.0</td>\n",
       "      <td>0.0</td>\n",
       "      <td>0.0</td>\n",
       "      <td>0.0</td>\n",
       "    </tr>\n",
       "    <tr>\n",
       "      <th>2</th>\n",
       "      <td>0.0</td>\n",
       "      <td>0.0</td>\n",
       "      <td>0.0</td>\n",
       "      <td>0.0</td>\n",
       "      <td>0.0</td>\n",
       "      <td>0.0</td>\n",
       "      <td>0.0</td>\n",
       "      <td>0.0</td>\n",
       "      <td>0.0</td>\n",
       "      <td>0.0</td>\n",
       "      <td>...</td>\n",
       "      <td>0.0</td>\n",
       "      <td>0.0</td>\n",
       "      <td>0.0</td>\n",
       "      <td>0.0</td>\n",
       "      <td>0.0</td>\n",
       "      <td>0.0</td>\n",
       "      <td>0.0</td>\n",
       "      <td>0.0</td>\n",
       "      <td>0.0</td>\n",
       "      <td>0.0</td>\n",
       "    </tr>\n",
       "    <tr>\n",
       "      <th>3</th>\n",
       "      <td>0.0</td>\n",
       "      <td>0.0</td>\n",
       "      <td>0.0</td>\n",
       "      <td>0.0</td>\n",
       "      <td>0.0</td>\n",
       "      <td>0.0</td>\n",
       "      <td>0.0</td>\n",
       "      <td>0.0</td>\n",
       "      <td>0.0</td>\n",
       "      <td>0.0</td>\n",
       "      <td>...</td>\n",
       "      <td>0.0</td>\n",
       "      <td>0.0</td>\n",
       "      <td>0.0</td>\n",
       "      <td>0.0</td>\n",
       "      <td>0.0</td>\n",
       "      <td>0.0</td>\n",
       "      <td>0.0</td>\n",
       "      <td>0.0</td>\n",
       "      <td>0.0</td>\n",
       "      <td>0.0</td>\n",
       "    </tr>\n",
       "    <tr>\n",
       "      <th>4</th>\n",
       "      <td>0.0</td>\n",
       "      <td>0.0</td>\n",
       "      <td>0.0</td>\n",
       "      <td>0.0</td>\n",
       "      <td>0.0</td>\n",
       "      <td>0.0</td>\n",
       "      <td>0.0</td>\n",
       "      <td>0.0</td>\n",
       "      <td>0.0</td>\n",
       "      <td>0.0</td>\n",
       "      <td>...</td>\n",
       "      <td>0.0</td>\n",
       "      <td>0.0</td>\n",
       "      <td>0.0</td>\n",
       "      <td>0.0</td>\n",
       "      <td>0.0</td>\n",
       "      <td>0.0</td>\n",
       "      <td>0.0</td>\n",
       "      <td>0.0</td>\n",
       "      <td>0.0</td>\n",
       "      <td>0.0</td>\n",
       "    </tr>\n",
       "    <tr>\n",
       "      <th>...</th>\n",
       "      <td>...</td>\n",
       "      <td>...</td>\n",
       "      <td>...</td>\n",
       "      <td>...</td>\n",
       "      <td>...</td>\n",
       "      <td>...</td>\n",
       "      <td>...</td>\n",
       "      <td>...</td>\n",
       "      <td>...</td>\n",
       "      <td>...</td>\n",
       "      <td>...</td>\n",
       "      <td>...</td>\n",
       "      <td>...</td>\n",
       "      <td>...</td>\n",
       "      <td>...</td>\n",
       "      <td>...</td>\n",
       "      <td>...</td>\n",
       "      <td>...</td>\n",
       "      <td>...</td>\n",
       "      <td>...</td>\n",
       "      <td>...</td>\n",
       "    </tr>\n",
       "    <tr>\n",
       "      <th>4775</th>\n",
       "      <td>0.0</td>\n",
       "      <td>0.0</td>\n",
       "      <td>0.0</td>\n",
       "      <td>0.0</td>\n",
       "      <td>0.0</td>\n",
       "      <td>0.0</td>\n",
       "      <td>0.0</td>\n",
       "      <td>0.0</td>\n",
       "      <td>0.0</td>\n",
       "      <td>0.0</td>\n",
       "      <td>...</td>\n",
       "      <td>0.0</td>\n",
       "      <td>0.0</td>\n",
       "      <td>0.0</td>\n",
       "      <td>0.0</td>\n",
       "      <td>0.0</td>\n",
       "      <td>0.0</td>\n",
       "      <td>0.0</td>\n",
       "      <td>0.0</td>\n",
       "      <td>0.0</td>\n",
       "      <td>0.0</td>\n",
       "    </tr>\n",
       "    <tr>\n",
       "      <th>4776</th>\n",
       "      <td>0.0</td>\n",
       "      <td>0.0</td>\n",
       "      <td>0.0</td>\n",
       "      <td>0.0</td>\n",
       "      <td>0.0</td>\n",
       "      <td>0.0</td>\n",
       "      <td>0.0</td>\n",
       "      <td>0.0</td>\n",
       "      <td>0.0</td>\n",
       "      <td>0.0</td>\n",
       "      <td>...</td>\n",
       "      <td>0.0</td>\n",
       "      <td>0.0</td>\n",
       "      <td>0.0</td>\n",
       "      <td>0.0</td>\n",
       "      <td>0.0</td>\n",
       "      <td>0.0</td>\n",
       "      <td>0.0</td>\n",
       "      <td>0.0</td>\n",
       "      <td>0.0</td>\n",
       "      <td>0.0</td>\n",
       "    </tr>\n",
       "    <tr>\n",
       "      <th>4777</th>\n",
       "      <td>0.0</td>\n",
       "      <td>0.0</td>\n",
       "      <td>0.0</td>\n",
       "      <td>0.0</td>\n",
       "      <td>0.0</td>\n",
       "      <td>0.0</td>\n",
       "      <td>0.0</td>\n",
       "      <td>0.0</td>\n",
       "      <td>0.0</td>\n",
       "      <td>0.0</td>\n",
       "      <td>...</td>\n",
       "      <td>0.0</td>\n",
       "      <td>0.0</td>\n",
       "      <td>0.0</td>\n",
       "      <td>0.0</td>\n",
       "      <td>0.0</td>\n",
       "      <td>0.0</td>\n",
       "      <td>0.0</td>\n",
       "      <td>0.0</td>\n",
       "      <td>0.0</td>\n",
       "      <td>0.0</td>\n",
       "    </tr>\n",
       "    <tr>\n",
       "      <th>4778</th>\n",
       "      <td>0.0</td>\n",
       "      <td>0.0</td>\n",
       "      <td>0.0</td>\n",
       "      <td>0.0</td>\n",
       "      <td>0.0</td>\n",
       "      <td>0.0</td>\n",
       "      <td>0.0</td>\n",
       "      <td>0.0</td>\n",
       "      <td>0.0</td>\n",
       "      <td>0.0</td>\n",
       "      <td>...</td>\n",
       "      <td>0.0</td>\n",
       "      <td>0.0</td>\n",
       "      <td>0.0</td>\n",
       "      <td>0.0</td>\n",
       "      <td>0.0</td>\n",
       "      <td>0.0</td>\n",
       "      <td>0.0</td>\n",
       "      <td>0.0</td>\n",
       "      <td>0.0</td>\n",
       "      <td>0.0</td>\n",
       "    </tr>\n",
       "    <tr>\n",
       "      <th>4779</th>\n",
       "      <td>0.0</td>\n",
       "      <td>0.0</td>\n",
       "      <td>0.0</td>\n",
       "      <td>0.0</td>\n",
       "      <td>0.0</td>\n",
       "      <td>0.0</td>\n",
       "      <td>0.0</td>\n",
       "      <td>0.0</td>\n",
       "      <td>0.0</td>\n",
       "      <td>0.0</td>\n",
       "      <td>...</td>\n",
       "      <td>0.0</td>\n",
       "      <td>0.0</td>\n",
       "      <td>0.0</td>\n",
       "      <td>0.0</td>\n",
       "      <td>0.0</td>\n",
       "      <td>0.0</td>\n",
       "      <td>0.0</td>\n",
       "      <td>0.0</td>\n",
       "      <td>0.0</td>\n",
       "      <td>0.0</td>\n",
       "    </tr>\n",
       "  </tbody>\n",
       "</table>\n",
       "<p>4780 rows × 4526 columns</p>\n",
       "</div>"
      ],
      "text/plain": [
       "      learn  mode  bandartist  funni  suddenlyback  recommand  ala  willi  \\\n",
       "0       0.0   0.0         0.0    0.0           0.0        0.0  0.0    0.0   \n",
       "1       0.0   0.0         0.0    0.0           0.0        0.0  0.0    0.0   \n",
       "2       0.0   0.0         0.0    0.0           0.0        0.0  0.0    0.0   \n",
       "3       0.0   0.0         0.0    0.0           0.0        0.0  0.0    0.0   \n",
       "4       0.0   0.0         0.0    0.0           0.0        0.0  0.0    0.0   \n",
       "...     ...   ...         ...    ...           ...        ...  ...    ...   \n",
       "4775    0.0   0.0         0.0    0.0           0.0        0.0  0.0    0.0   \n",
       "4776    0.0   0.0         0.0    0.0           0.0        0.0  0.0    0.0   \n",
       "4777    0.0   0.0         0.0    0.0           0.0        0.0  0.0    0.0   \n",
       "4778    0.0   0.0         0.0    0.0           0.0        0.0  0.0    0.0   \n",
       "4779    0.0   0.0         0.0    0.0           0.0        0.0  0.0    0.0   \n",
       "\n",
       "      religion  realiz  ...  shareabl  top  devicesassum  abound  problemi  \\\n",
       "0          0.0     0.0  ...       0.0  0.0           0.0     0.0       0.0   \n",
       "1          0.0     0.0  ...       0.0  0.0           0.0     0.0       0.0   \n",
       "2          0.0     0.0  ...       0.0  0.0           0.0     0.0       0.0   \n",
       "3          0.0     0.0  ...       0.0  0.0           0.0     0.0       0.0   \n",
       "4          0.0     0.0  ...       0.0  0.0           0.0     0.0       0.0   \n",
       "...        ...     ...  ...       ...  ...           ...     ...       ...   \n",
       "4775       0.0     0.0  ...       0.0  0.0           0.0     0.0       0.0   \n",
       "4776       0.0     0.0  ...       0.0  0.0           0.0     0.0       0.0   \n",
       "4777       0.0     0.0  ...       0.0  0.0           0.0     0.0       0.0   \n",
       "4778       0.0     0.0  ...       0.0  0.0           0.0     0.0       0.0   \n",
       "4779       0.0     0.0  ...       0.0  0.0           0.0     0.0       0.0   \n",
       "\n",
       "      unstal  messag  merch  wherev  structur  \n",
       "0        0.0     0.0    0.0     0.0       0.0  \n",
       "1        0.0     0.0    0.0     0.0       0.0  \n",
       "2        0.0     0.0    0.0     0.0       0.0  \n",
       "3        0.0     0.0    0.0     0.0       0.0  \n",
       "4        0.0     0.0    0.0     0.0       0.0  \n",
       "...      ...     ...    ...     ...       ...  \n",
       "4775     0.0     0.0    0.0     0.0       0.0  \n",
       "4776     0.0     0.0    0.0     0.0       0.0  \n",
       "4777     0.0     0.0    0.0     0.0       0.0  \n",
       "4778     0.0     0.0    0.0     0.0       0.0  \n",
       "4779     0.0     0.0    0.0     0.0       0.0  \n",
       "\n",
       "[4780 rows x 4526 columns]"
      ]
     },
     "execution_count": 161,
     "metadata": {},
     "output_type": "execute_result"
    }
   ],
   "source": [
    "#TF-IDF Encoded text corpus\n",
    "vectors = []\n",
    "for sent in sentences:\n",
    "    vec = tf_idf(sent)\n",
    "    vectors.append(vec)\n",
    " \n",
    "tfidf = pd.DataFrame(vectors, columns=list(word_set))\n",
    "tfidf"
   ]
  },
  {
   "cell_type": "markdown",
   "metadata": {},
   "source": [
    "melihat jika hasilnya numpy"
   ]
  },
  {
   "cell_type": "code",
   "execution_count": 162,
   "metadata": {},
   "outputs": [
    {
     "data": {
      "text/plain": [
       "array([[0., 0., 0., ..., 0., 0., 0.],\n",
       "       [0., 0., 0., ..., 0., 0., 0.],\n",
       "       [0., 0., 0., ..., 0., 0., 0.],\n",
       "       ...,\n",
       "       [0., 0., 0., ..., 0., 0., 0.],\n",
       "       [0., 0., 0., ..., 0., 0., 0.],\n",
       "       [0., 0., 0., ..., 0., 0., 0.]])"
      ]
     },
     "execution_count": 162,
     "metadata": {},
     "output_type": "execute_result"
    }
   ],
   "source": [
    "tfidf.to_numpy()"
   ]
  },
  {
   "cell_type": "markdown",
   "metadata": {},
   "source": [
    "lalu kita akan cari untuk hasil TF IDF yang mendekati angka 0. Karena jika angkanya mendekati angka 0 artinya term tersebut jarang keluar (uncommon)"
   ]
  },
  {
   "cell_type": "code",
   "execution_count": 163,
   "metadata": {},
   "outputs": [
    {
     "data": {
      "text/plain": [
       "['bandartist',\n",
       " 'willi',\n",
       " 'primeum',\n",
       " 'sharehold',\n",
       " 'wsusnsn',\n",
       " 'hostil',\n",
       " 'commect',\n",
       " 'writer',\n",
       " 'yn',\n",
       " 'hourthat',\n",
       " 'februari',\n",
       " 'ig',\n",
       " 'disjoint',\n",
       " 'hoursnon',\n",
       " 'qa',\n",
       " 'afficianado',\n",
       " 'rediscoveri',\n",
       " 'appwhen',\n",
       " 'whack',\n",
       " 'vododkdmdlsokkcodldlxmidn',\n",
       " 'evil',\n",
       " 'law',\n",
       " 'remedi',\n",
       " 'specifc',\n",
       " 'rifl',\n",
       " 'ac',\n",
       " 'grotesqu',\n",
       " 'detent',\n",
       " 'recap',\n",
       " 'smother',\n",
       " '𝐭𝐡𝐚𝐭',\n",
       " 'aforement',\n",
       " 'trapland',\n",
       " 'citi',\n",
       " 'likelihood',\n",
       " 'listenedto',\n",
       " 'exchang',\n",
       " 'stikl',\n",
       " 'induct',\n",
       " 'coursedidnt',\n",
       " 'incom',\n",
       " 'uudidjdjddn',\n",
       " 'jukebox',\n",
       " 'remak',\n",
       " 'intel',\n",
       " 'cowboy',\n",
       " 'patoto',\n",
       " 'heari',\n",
       " 'nightmarish',\n",
       " 'oml',\n",
       " 'food',\n",
       " 'fineeven',\n",
       " 'commercialfre',\n",
       " 'gim',\n",
       " 'perus',\n",
       " 'dunno',\n",
       " 'bandomkpop',\n",
       " 'premier',\n",
       " 'patienc',\n",
       " 'covers',\n",
       " 'surround',\n",
       " 'nose',\n",
       " '𝐧𝐨',\n",
       " 'imput',\n",
       " 'weav',\n",
       " 'belief',\n",
       " 'slightli',\n",
       " 'rear',\n",
       " 'prevu',\n",
       " 'listthen',\n",
       " 'feehop',\n",
       " 'font',\n",
       " 'stuf',\n",
       " 'dumbest',\n",
       " 'installerrrrr',\n",
       " 'strip',\n",
       " 'renewingmi',\n",
       " 'landmark',\n",
       " 'umm',\n",
       " 'acceptalso',\n",
       " 'dropout',\n",
       " 'ware',\n",
       " 'safeti',\n",
       " 'rise',\n",
       " 'bsrebon',\n",
       " 'linespotifi',\n",
       " 'sooooo',\n",
       " 'consider',\n",
       " '𝐬𝐚𝐲𝐢𝐧𝐠',\n",
       " 'starjust',\n",
       " 'misconcept',\n",
       " 'conceal',\n",
       " 'cusp',\n",
       " 'stunt',\n",
       " 'republ',\n",
       " 'php',\n",
       " 'claim',\n",
       " 'drastic',\n",
       " 'didi',\n",
       " 'flash',\n",
       " 'viewer',\n",
       " 'huggee',\n",
       " 'rant',\n",
       " 'ammount',\n",
       " 'adsthi',\n",
       " '𝐭𝐡𝐞𝐫𝐞𝐬',\n",
       " 'queuefrom',\n",
       " '𝐟𝐢𝐱',\n",
       " '𝐭𝐡𝐞',\n",
       " 'restrictr',\n",
       " 'dusiskf',\n",
       " 'songartist',\n",
       " 'funnel',\n",
       " 'disk',\n",
       " 'shufflepauseplay',\n",
       " 'execut',\n",
       " 'bail',\n",
       " 'shuffel',\n",
       " 'revert',\n",
       " 'wothout',\n",
       " 'whe',\n",
       " 'membershipi',\n",
       " 'ssjsnn',\n",
       " 'dude',\n",
       " 'entireti',\n",
       " 'unhiden',\n",
       " 'grade',\n",
       " '𝐦𝐮𝐬𝐢𝐜',\n",
       " 'appani',\n",
       " 'dudnc',\n",
       " 'makemi',\n",
       " 'clickabl',\n",
       " 'onlow',\n",
       " 'buch',\n",
       " 'elswher',\n",
       " 'solo',\n",
       " '𝐤𝐧𝐨𝐰',\n",
       " 'easytocr',\n",
       " 'ddkdmnexisusu',\n",
       " 'hazard',\n",
       " 'theyd',\n",
       " 'somebodi',\n",
       " 'novemb',\n",
       " 'zuissjddb',\n",
       " 'dot',\n",
       " 'yearsbut',\n",
       " 'undesir',\n",
       " 'industri',\n",
       " 'playar',\n",
       " 'ivi',\n",
       " 'dnlg',\n",
       " 'unusu',\n",
       " 'mdiddisnefidhddndmdidnaj',\n",
       " 'pressur',\n",
       " 'betteranoth',\n",
       " 'ifnejd',\n",
       " 'influenc',\n",
       " 'redund',\n",
       " 'float',\n",
       " 'courier',\n",
       " 'dig',\n",
       " 'truth',\n",
       " 'mainstream',\n",
       " 'insult',\n",
       " 'placement',\n",
       " 'songlist',\n",
       " 'fecal',\n",
       " 'uninst',\n",
       " 'anxieti',\n",
       " 'extern',\n",
       " 'albulm',\n",
       " 'kkdme',\n",
       " 'bibuh',\n",
       " 'essex',\n",
       " 'ratio',\n",
       " 'issjsbdidndbndidjdishdu',\n",
       " 'useaft',\n",
       " 'maker',\n",
       " 'drnosleep',\n",
       " 'nervesif',\n",
       " 'abysm',\n",
       " 'nibgjk',\n",
       " 'upcom',\n",
       " 'retain',\n",
       " 'punctual',\n",
       " 'own',\n",
       " 'pat',\n",
       " 'vu',\n",
       " 'deliber',\n",
       " 'yearli',\n",
       " '𝐰𝐡𝐞𝐧',\n",
       " 'irritatedand',\n",
       " 'manipul',\n",
       " 'pref',\n",
       " 'tought',\n",
       " 'fame',\n",
       " 'offshor',\n",
       " 'autogener',\n",
       " 'shoukd',\n",
       " 'fnk',\n",
       " 'key',\n",
       " 'scummi',\n",
       " 'saniti',\n",
       " 'ihav',\n",
       " 'reviewprob',\n",
       " 'housework',\n",
       " 'steadili',\n",
       " 'frustratingli',\n",
       " 'luxuri',\n",
       " 'freeload',\n",
       " '𝐬𝐨𝐧𝐠',\n",
       " 'dueusndi',\n",
       " 'patmentsth',\n",
       " 'averag',\n",
       " 'unnecisarysong',\n",
       " 'eveyth',\n",
       " 'djjdddm',\n",
       " 'groov',\n",
       " '𝐬𝐨𝐦𝐞',\n",
       " 'nownot',\n",
       " 'disallow',\n",
       " 'trivial',\n",
       " 'nxt',\n",
       " 'iex',\n",
       " 'youtubepro',\n",
       " 'blog',\n",
       " 'nono',\n",
       " 'ge',\n",
       " 'sponsorship',\n",
       " 'ushsnsjsj',\n",
       " 'casual',\n",
       " 'nitpick',\n",
       " 'turnt',\n",
       " 'twenti',\n",
       " 'pet',\n",
       " 'patient',\n",
       " 'listenit',\n",
       " 'fyi',\n",
       " 'getpin',\n",
       " 'palm',\n",
       " 'jen',\n",
       " 'upd',\n",
       " 'attemp',\n",
       " 'supermarketmr',\n",
       " 'betti',\n",
       " 'auditi',\n",
       " 'ownplaylistsi',\n",
       " 'boutta',\n",
       " 'plete',\n",
       " 'hannah',\n",
       " 'fixedihav',\n",
       " 'camp',\n",
       " 'capitalist',\n",
       " 'walter',\n",
       " 'ss',\n",
       " '𝐦𝐲',\n",
       " 'mislead',\n",
       " 'fascism',\n",
       " 'gripe',\n",
       " 'spotfi',\n",
       " 'memebership',\n",
       " 'inspect',\n",
       " 'dusnw',\n",
       " 'sayin',\n",
       " 'iriat',\n",
       " 'goodjut',\n",
       " 'wayyy',\n",
       " 'junction',\n",
       " 'someday',\n",
       " 'strict',\n",
       " 'annoyedattimesalso',\n",
       " 'gfde',\n",
       " 'dlsong',\n",
       " 'frankli',\n",
       " 'nation',\n",
       " 'bruen',\n",
       " 'crowd',\n",
       " 'blocker',\n",
       " 'onlisten',\n",
       " 'didsshshmsudjdxjc',\n",
       " 'lay',\n",
       " 'tosort',\n",
       " 'premiumatleast',\n",
       " 'overestim',\n",
       " 'restartedreset',\n",
       " 'dilig',\n",
       " 'goal',\n",
       " 'sli',\n",
       " 'sixth',\n",
       " 'mouth',\n",
       " 'belong',\n",
       " 'playlistand',\n",
       " 'transact',\n",
       " 'savedplaylist',\n",
       " 'bias',\n",
       " 'adsalthough',\n",
       " 'reba',\n",
       " 'ovo',\n",
       " 'grabber',\n",
       " 'alphabet',\n",
       " '𝐬𝐨𝐮𝐧𝐝',\n",
       " 'highr',\n",
       " 'supplement',\n",
       " 'digit',\n",
       " 'unconstitut',\n",
       " 'bubbi',\n",
       " 'await',\n",
       " 'offlinedownload',\n",
       " 'insight',\n",
       " 'playlistpleasethat',\n",
       " 'firstli',\n",
       " 'bubbl',\n",
       " 'thread',\n",
       " '𝐭𝐡𝐢𝐬𝐚𝐩𝐩',\n",
       " 'ventur',\n",
       " 'phonespotifi',\n",
       " 'tank',\n",
       " 'lowest',\n",
       " 'ceo',\n",
       " 'workabl',\n",
       " 'tooth',\n",
       " 'diagnost',\n",
       " 'adequ',\n",
       " 'peak',\n",
       " 'botton',\n",
       " 'cloth',\n",
       " 'dl',\n",
       " 'af',\n",
       " 'trashi',\n",
       " 'diari',\n",
       " 'isk',\n",
       " 'honesti',\n",
       " 'zone',\n",
       " 'racism',\n",
       " 'worstit',\n",
       " 'fastest',\n",
       " 'changingshuffl',\n",
       " 'definetl',\n",
       " 'convini',\n",
       " 'dat',\n",
       " 'predefin',\n",
       " 'waylon',\n",
       " 'mjx',\n",
       " 'absolutley',\n",
       " 'midway',\n",
       " 'satisfactori',\n",
       " 'recordsetcbottom',\n",
       " 'wrongbut',\n",
       " 'pour',\n",
       " 'unforgiv',\n",
       " 'clueless',\n",
       " 'ballan',\n",
       " 'context',\n",
       " 'adand',\n",
       " 'portray',\n",
       " 'dic',\n",
       " 'albumssingl',\n",
       " 'screenshot',\n",
       " '𝐩𝐚𝐲𝐦𝐞𝐧𝐭',\n",
       " 'ador',\n",
       " 'pfttt',\n",
       " 'rins',\n",
       " 'thinq',\n",
       " 'jill',\n",
       " 'didjsn',\n",
       " 'hupdat',\n",
       " 'numb',\n",
       " 'rotat',\n",
       " 'tecnic',\n",
       " 'mandatori',\n",
       " 'ny',\n",
       " 'appbut',\n",
       " 'ukkkkkkmmmkkkkkkkk',\n",
       " 'songsalbumslyr',\n",
       " 'lemon',\n",
       " 'molass',\n",
       " 'jack',\n",
       " 'fam',\n",
       " 'rethink',\n",
       " 'affirm',\n",
       " 'accross',\n",
       " '𝐢𝐭',\n",
       " 'greatad',\n",
       " '𝐝𝐨𝐰𝐧𝐥𝐨𝐚𝐝',\n",
       " 'zusjsx',\n",
       " 'med',\n",
       " 'dayspotifi',\n",
       " 'peev',\n",
       " 'advic',\n",
       " '𝐈𝐭𝐡𝐢𝐧𝐤',\n",
       " 'rhyme',\n",
       " 'unlessiwabtedb',\n",
       " 'quell',\n",
       " 'stonli',\n",
       " 'vex',\n",
       " 'presav',\n",
       " 'evwryth',\n",
       " '𝐟𝐚𝐯𝐨𝐫𝐢𝐭𝐞',\n",
       " 'automaticallyand',\n",
       " 'songatleast',\n",
       " 'shoe',\n",
       " 'mxlslwlf',\n",
       " 'nut',\n",
       " 'gum',\n",
       " 'soptifi',\n",
       " 'mandatoryobvsli',\n",
       " 'larger',\n",
       " 'premiumi',\n",
       " 'teach',\n",
       " '𝐣𝐮𝐬𝐭',\n",
       " 'techniqu',\n",
       " 'isiwish',\n",
       " 'occupi',\n",
       " 'pausingbuff',\n",
       " 'playlistthes',\n",
       " 'vinyl',\n",
       " 'taunt',\n",
       " 'indonesia',\n",
       " 'adswherea',\n",
       " '𝐦𝐨𝐧𝐞𝐲',\n",
       " 'prop',\n",
       " 'meber',\n",
       " 'remad',\n",
       " 'eit',\n",
       " 'spectrum',\n",
       " 'earnt',\n",
       " 'clario',\n",
       " 'unpleas',\n",
       " 'clike',\n",
       " 'livabl',\n",
       " 'uöò',\n",
       " 'prison',\n",
       " 'blame',\n",
       " 'onof',\n",
       " 'overoptim',\n",
       " 'pistol',\n",
       " 'gym',\n",
       " 'mtn',\n",
       " 'diddxixdjxjdjddkdddisnsdmdcisj',\n",
       " 'motion',\n",
       " 'punish',\n",
       " 'freemium',\n",
       " 'ytube',\n",
       " 'obsolet',\n",
       " 'eveb',\n",
       " 'nonexist',\n",
       " 'vomit',\n",
       " 'coincident',\n",
       " 'versionupd',\n",
       " 'awson',\n",
       " 'ismvvisianddcixiasisjcànæufifjf',\n",
       " 'iv',\n",
       " 'carit',\n",
       " 'sustain',\n",
       " 'mia',\n",
       " 'spiral',\n",
       " 'boat',\n",
       " 'spiritu',\n",
       " 'unamus',\n",
       " 'gopay',\n",
       " 'qrue',\n",
       " 'lisen',\n",
       " 'playlisti',\n",
       " 'lotspotifi',\n",
       " 'rape',\n",
       " 'anway',\n",
       " 'rain',\n",
       " 'nelson',\n",
       " 'dent',\n",
       " 'dare',\n",
       " 'songand',\n",
       " 'problemspotifi',\n",
       " 'accounta',\n",
       " 'intric',\n",
       " 'possiblei',\n",
       " 'youd',\n",
       " 'acces',\n",
       " 'jj',\n",
       " 'itand',\n",
       " 'insanealso',\n",
       " 'autoplaylistrecommend',\n",
       " 'enjoyedspotifymostlybeengreatli',\n",
       " 'appth',\n",
       " 'unisntalledreinstal',\n",
       " 'african',\n",
       " '𝐛𝐞𝐜𝐚𝐮𝐬𝐞',\n",
       " 'ciddnsmxi',\n",
       " 'wonki',\n",
       " 'asinin',\n",
       " 'counterintuit',\n",
       " 'uhhh',\n",
       " 'udghoshak',\n",
       " '𝐚',\n",
       " 'starter',\n",
       " 'structur']"
      ]
     },
     "execution_count": 163,
     "metadata": {},
     "output_type": "execute_result"
    }
   ],
   "source": [
    "uncommon_word = []\n",
    "index_word = []\n",
    "\n",
    "for i, col in enumerate(tfidf.columns):\n",
    "    if tfidf[col].sum() < 0.2:\n",
    "        index_word.append(i)\n",
    "        uncommon_word.append(col)\n",
    "\n",
    "\n",
    "uncommon_word"
   ]
  },
  {
   "cell_type": "code",
   "execution_count": 164,
   "metadata": {},
   "outputs": [],
   "source": [
    "tfidf.drop(columns=uncommon_word, inplace=True)"
   ]
  },
  {
   "cell_type": "markdown",
   "metadata": {},
   "source": [
    "# Modeling"
   ]
  },
  {
   "cell_type": "markdown",
   "metadata": {},
   "source": [
    "untuk modeling ini saya akan membuat class dengan menggunakan algopritma KNN ytang berisi train, predict, dan melihat akurasi"
   ]
  },
  {
   "cell_type": "code",
   "execution_count": 165,
   "metadata": {},
   "outputs": [],
   "source": [
    "class KNN:\n",
    "    def __init__(self, n_neighbors=3):\n",
    "        self.n_neighbors = n_neighbors\n",
    "        self.x = None\n",
    "        self.y = None\n",
    "        self.total_iteration = 0\n",
    "        self.iteration = 0\n",
    "\n",
    "    def fit(self, x,  y):\n",
    "        if x.shape[0] != y.shape[0]:\n",
    "            raise f\"error cannot fit with different size x ({x.shape[0]}) and y({y.shape[0]})\"\n",
    "        \n",
    "        self.x = np.array(x)\n",
    "        self.y = np.array(y)\n",
    "\n",
    "    def _predict(self, x_predict):\n",
    "        self.iteration += 1\n",
    "        print(self.iteration, \"/\", self.total_iteration)\n",
    "        print(\"counting distance . . .\")\n",
    "        distance = np.array([np.sum((x_train-x_predict)**2) for x_train in self.x])\n",
    "\n",
    "        max_distance = np.argsort(distance)[:self.n_neighbors]\n",
    "        print(\"labeling . . .\")\n",
    "        label = [self.y[i] for i in max_distance]\n",
    "        return np.bincount(label).argmax()\n",
    "\n",
    "        \n",
    "    def predict(self, x_predict):\n",
    "        self.total_iteration = len(x_predict)\n",
    "        self.iteration = 0\n",
    "        x_predict = np.array(x_predict)\n",
    "        predicted = [self._predict(x) for x in x_predict]\n",
    "        return np.array(predicted)\n",
    "    \n",
    "    def accuracy(self, y_true, y_pred):\n",
    "        intersection = 0\n",
    "        for i in range(len(y_true)):\n",
    "            if y_true[i] == y_pred[i]:\n",
    "                intersection += 1\n",
    "\n",
    "        return intersection / len(y_true)\n",
    "        "
   ]
  },
  {
   "cell_type": "markdown",
   "metadata": {},
   "source": [
    "## Training"
   ]
  },
  {
   "cell_type": "code",
   "execution_count": 166,
   "metadata": {},
   "outputs": [],
   "source": [
    "model = KNN(n_neighbors=5)\n"
   ]
  },
  {
   "cell_type": "code",
   "execution_count": 167,
   "metadata": {},
   "outputs": [],
   "source": [
    "model.fit(tfidf, y_train)"
   ]
  },
  {
   "cell_type": "markdown",
   "metadata": {},
   "source": [
    "## Testing"
   ]
  },
  {
   "cell_type": "code",
   "execution_count": 168,
   "metadata": {},
   "outputs": [],
   "source": [
    "# y_predict = model.predict(X_test)#.iloc[:50])\n",
    "\n",
    "# y_predict"
   ]
  },
  {
   "cell_type": "code",
   "execution_count": 169,
   "metadata": {},
   "outputs": [],
   "source": [
    "# model.accuracy(y_test.to_numpy(), y_predict)"
   ]
  },
  {
   "cell_type": "markdown",
   "metadata": {},
   "source": [
    "dalam percobaan yang telah saya lakukan dalam pergantian nilai k menghasilkan nilai akurasi yang seperti ini\n",
    "\n",
    "Ketika dataset 20% test 80% train dengan 8000 data (non-cleaning)\n",
    "- k = 3, akurasi = 80.6026 %\n",
    "- k = 5, akurasi = 80.7909 %\n",
    "- k = 7, akurasi = 80.2887 %\n",
    "- k = 9, akurasi = 79.5354 %\n",
    "\n",
    "jadi untuk nilai k dengan nilai akurasi paling tinggi adalah k = 5"
   ]
  },
  {
   "cell_type": "code",
   "execution_count": 178,
   "metadata": {},
   "outputs": [],
   "source": [
    "# input_text = \"I love being able to find and listen to all my favorite music, And discover new music! I also love how I can categorize my Playlists and que lists!\"\n",
    "def predict(input_text):\n",
    "    global total_documents, word_count, word_set, new_sentence, vectors, index_dict\n",
    "    # preproccess data\n",
    "    input_text = cleaning_text(input_text)\n",
    "    input_text = word_tokenize(input_text)\n",
    "    input_text = stopword(input_text)\n",
    "    input_text = stemming(input_text)\n",
    "\n",
    "    # tf-idf\n",
    "    new_sentence = sentences.copy()\n",
    "    new_sentence.append(input_text)\n",
    "    total_documents = len(new_sentence)\n",
    "    word_count = count_dict(new_sentence)\n",
    "\n",
    "    word_set = []\n",
    "    \n",
    "    for sent in new_sentence:\n",
    "        for word in sent:\n",
    "            if word not in word_set:\n",
    "                word_set.append(word)\n",
    "    \n",
    "    #Set of vocab \n",
    "    word_set = set(word_set)\n",
    "    \n",
    "    index_dict = {} #Dictionary to store index for each word\n",
    "    i = 0\n",
    "    for word in word_set:\n",
    "        index_dict[word] = i\n",
    "        i += 1\n",
    "\n",
    "    vectors = []\n",
    "    for sent in new_sentence:\n",
    "        vec = tf_idf(sent)\n",
    "        vectors.append(vec)\n",
    "    \n",
    "    train = np.array(vectors[:-1])\n",
    "    tfidf_input = np.array([vectors[-1]])\n",
    "\n",
    "    return train, tfidf_input\n"
   ]
  },
  {
   "cell_type": "code",
   "execution_count": 179,
   "metadata": {},
   "outputs": [
    {
     "name": "stdout",
     "output_type": "stream",
     "text": [
      "1 / 1\n",
      "counting distance . . .\n",
      "labeling . . .\n"
     ]
    },
    {
     "data": {
      "text/plain": [
       "array([0], dtype=int64)"
      ]
     },
     "execution_count": 179,
     "metadata": {},
     "output_type": "execute_result"
    }
   ],
   "source": [
    "\n",
    "xtrain, tfidf_inputm = predict(X_test['Review'].iloc[0])\n",
    "model.fit(xtrain, y_train)\n",
    "\n",
    "predicted_class = model.predict(tfidf_inputm)\n",
    "predicted_class"
   ]
  },
  {
   "cell_type": "code",
   "execution_count": 182,
   "metadata": {},
   "outputs": [
    {
     "data": {
      "text/plain": [
       "(array([0], dtype=int64), 0)"
      ]
     },
     "execution_count": 182,
     "metadata": {},
     "output_type": "execute_result"
    }
   ],
   "source": [
    "predicted_class, y_test.iloc[0]"
   ]
  },
  {
   "cell_type": "code",
   "execution_count": 190,
   "metadata": {},
   "outputs": [
    {
     "name": "stdout",
     "output_type": "stream",
     "text": [
      "iteration- 0\n"
     ]
    },
    {
     "name": "stdout",
     "output_type": "stream",
     "text": [
      "1 / 1\n",
      "counting distance . . .\n",
      "labeling . . .\n",
      "iteration- 1\n",
      "1 / 1\n",
      "counting distance . . .\n",
      "labeling . . .\n",
      "iteration- 2\n",
      "1 / 1\n",
      "counting distance . . .\n",
      "labeling . . .\n",
      "iteration- 3\n",
      "1 / 1\n",
      "counting distance . . .\n",
      "labeling . . .\n",
      "iteration- 4\n",
      "1 / 1\n",
      "counting distance . . .\n",
      "labeling . . .\n",
      "iteration- 5\n",
      "1 / 1\n",
      "counting distance . . .\n",
      "labeling . . .\n",
      "iteration- 6\n",
      "1 / 1\n",
      "counting distance . . .\n",
      "labeling . . .\n",
      "iteration- 7\n",
      "1 / 1\n",
      "counting distance . . .\n",
      "labeling . . .\n",
      "iteration- 8\n",
      "1 / 1\n",
      "counting distance . . .\n",
      "labeling . . .\n",
      "iteration- 9\n",
      "1 / 1\n",
      "counting distance . . .\n",
      "labeling . . .\n",
      "iteration- 10\n",
      "1 / 1\n",
      "counting distance . . .\n",
      "labeling . . .\n",
      "iteration- 11\n",
      "1 / 1\n",
      "counting distance . . .\n",
      "labeling . . .\n",
      "iteration- 12\n",
      "1 / 1\n",
      "counting distance . . .\n",
      "labeling . . .\n",
      "iteration- 13\n",
      "1 / 1\n",
      "counting distance . . .\n",
      "labeling . . .\n",
      "iteration- 14\n",
      "1 / 1\n",
      "counting distance . . .\n",
      "labeling . . .\n",
      "iteration- 15\n",
      "1 / 1\n",
      "counting distance . . .\n",
      "labeling . . .\n",
      "iteration- 16\n",
      "1 / 1\n",
      "counting distance . . .\n",
      "labeling . . .\n",
      "iteration- 17\n",
      "1 / 1\n",
      "counting distance . . .\n",
      "labeling . . .\n",
      "iteration- 18\n",
      "1 / 1\n",
      "counting distance . . .\n",
      "labeling . . .\n",
      "iteration- 19\n",
      "1 / 1\n",
      "counting distance . . .\n",
      "labeling . . .\n",
      "iteration- 20\n",
      "1 / 1\n",
      "counting distance . . .\n",
      "labeling . . .\n",
      "iteration- 21\n",
      "1 / 1\n",
      "counting distance . . .\n",
      "labeling . . .\n",
      "iteration- 22\n",
      "1 / 1\n",
      "counting distance . . .\n",
      "labeling . . .\n",
      "iteration- 23\n",
      "1 / 1\n",
      "counting distance . . .\n",
      "labeling . . .\n",
      "iteration- 24\n",
      "1 / 1\n",
      "counting distance . . .\n",
      "labeling . . .\n",
      "iteration- 25\n",
      "1 / 1\n",
      "counting distance . . .\n",
      "labeling . . .\n",
      "iteration- 26\n",
      "1 / 1\n",
      "counting distance . . .\n",
      "labeling . . .\n",
      "iteration- 27\n",
      "1 / 1\n",
      "counting distance . . .\n",
      "labeling . . .\n",
      "iteration- 28\n",
      "1 / 1\n",
      "counting distance . . .\n",
      "labeling . . .\n",
      "iteration- 29\n",
      "1 / 1\n",
      "counting distance . . .\n",
      "labeling . . .\n"
     ]
    },
    {
     "data": {
      "text/plain": [
       "[array([0], dtype=int64),\n",
       " array([0], dtype=int64),\n",
       " array([0], dtype=int64),\n",
       " array([0], dtype=int64),\n",
       " array([0], dtype=int64),\n",
       " array([0], dtype=int64),\n",
       " array([0], dtype=int64),\n",
       " array([0], dtype=int64),\n",
       " array([0], dtype=int64),\n",
       " array([0], dtype=int64),\n",
       " array([0], dtype=int64),\n",
       " array([0], dtype=int64),\n",
       " array([0], dtype=int64),\n",
       " array([0], dtype=int64),\n",
       " array([0], dtype=int64),\n",
       " array([0], dtype=int64),\n",
       " array([0], dtype=int64),\n",
       " array([0], dtype=int64),\n",
       " array([0], dtype=int64),\n",
       " array([0], dtype=int64),\n",
       " array([0], dtype=int64),\n",
       " array([0], dtype=int64),\n",
       " array([0], dtype=int64),\n",
       " array([0], dtype=int64),\n",
       " array([0], dtype=int64),\n",
       " array([0], dtype=int64),\n",
       " array([0], dtype=int64),\n",
       " array([0], dtype=int64),\n",
       " array([0], dtype=int64),\n",
       " array([0], dtype=int64)]"
      ]
     },
     "execution_count": 190,
     "metadata": {},
     "output_type": "execute_result"
    }
   ],
   "source": [
    "test_predict = []\n",
    "for i, x in enumerate(X_test.Review.iloc[:30]):\n",
    "    print(\"iteration-\", i)\n",
    "    xtrain, _input = predict(X_test['Review'].iloc[0])\n",
    "    model.fit(xtrain, y_train)\n",
    "\n",
    "    test_predict.append(model.predict(_input))\n",
    "test_predict"
   ]
  },
  {
   "cell_type": "code",
   "execution_count": 191,
   "metadata": {},
   "outputs": [
    {
     "data": {
      "text/html": [
       "<div>\n",
       "<style scoped>\n",
       "    .dataframe tbody tr th:only-of-type {\n",
       "        vertical-align: middle;\n",
       "    }\n",
       "\n",
       "    .dataframe tbody tr th {\n",
       "        vertical-align: top;\n",
       "    }\n",
       "\n",
       "    .dataframe thead th {\n",
       "        text-align: right;\n",
       "    }\n",
       "</style>\n",
       "<table border=\"1\" class=\"dataframe\">\n",
       "  <thead>\n",
       "    <tr style=\"text-align: right;\">\n",
       "      <th></th>\n",
       "      <th>Review</th>\n",
       "      <th>Rating</th>\n",
       "      <th>labels</th>\n",
       "    </tr>\n",
       "  </thead>\n",
       "  <tbody>\n",
       "    <tr>\n",
       "      <th>11969</th>\n",
       "      <td>Just uninstalled.. 1st u have to sign-up with ...</td>\n",
       "      <td>1</td>\n",
       "      <td>0</td>\n",
       "    </tr>\n",
       "    <tr>\n",
       "      <th>5027</th>\n",
       "      <td>Just ads ads and ads . Ads &gt; music 🤮</td>\n",
       "      <td>1</td>\n",
       "      <td>0</td>\n",
       "    </tr>\n",
       "    <tr>\n",
       "      <th>6309</th>\n",
       "      <td>Great music, better price. It's free😁</td>\n",
       "      <td>5</td>\n",
       "      <td>1</td>\n",
       "    </tr>\n",
       "    <tr>\n",
       "      <th>4433</th>\n",
       "      <td>Great Stufft It's, my kind of music so far kee...</td>\n",
       "      <td>5</td>\n",
       "      <td>1</td>\n",
       "    </tr>\n",
       "    <tr>\n",
       "      <th>6517</th>\n",
       "      <td>The shuffle play update for free user is usele...</td>\n",
       "      <td>1</td>\n",
       "      <td>0</td>\n",
       "    </tr>\n",
       "    <tr>\n",
       "      <th>...</th>\n",
       "      <td>...</td>\n",
       "      <td>...</td>\n",
       "      <td>...</td>\n",
       "    </tr>\n",
       "    <tr>\n",
       "      <th>1797</th>\n",
       "      <td>Best app in the world for music lovers1♥️</td>\n",
       "      <td>5</td>\n",
       "      <td>1</td>\n",
       "    </tr>\n",
       "    <tr>\n",
       "      <th>10405</th>\n",
       "      <td>Autoplay won't turn off so I have to listen to...</td>\n",
       "      <td>1</td>\n",
       "      <td>0</td>\n",
       "    </tr>\n",
       "    <tr>\n",
       "      <th>3885</th>\n",
       "      <td>good app latest &amp; Old song</td>\n",
       "      <td>5</td>\n",
       "      <td>1</td>\n",
       "    </tr>\n",
       "    <tr>\n",
       "      <th>2566</th>\n",
       "      <td>It's a really good app and I love it! The only...</td>\n",
       "      <td>5</td>\n",
       "      <td>1</td>\n",
       "    </tr>\n",
       "    <tr>\n",
       "      <th>527</th>\n",
       "      <td>this app is useless! so many times listening a...</td>\n",
       "      <td>1</td>\n",
       "      <td>0</td>\n",
       "    </tr>\n",
       "  </tbody>\n",
       "</table>\n",
       "<p>1194 rows × 3 columns</p>\n",
       "</div>"
      ],
      "text/plain": [
       "                                                  Review  Rating  labels\n",
       "11969  Just uninstalled.. 1st u have to sign-up with ...       1       0\n",
       "5027                Just ads ads and ads . Ads > music 🤮       1       0\n",
       "6309               Great music, better price. It's free😁       5       1\n",
       "4433   Great Stufft It's, my kind of music so far kee...       5       1\n",
       "6517   The shuffle play update for free user is usele...       1       0\n",
       "...                                                  ...     ...     ...\n",
       "1797           Best app in the world for music lovers1♥️       5       1\n",
       "10405  Autoplay won't turn off so I have to listen to...       1       0\n",
       "3885                          good app latest & Old song       5       1\n",
       "2566   It's a really good app and I love it! The only...       5       1\n",
       "527    this app is useless! so many times listening a...       1       0\n",
       "\n",
       "[1194 rows x 3 columns]"
      ]
     },
     "execution_count": 191,
     "metadata": {},
     "output_type": "execute_result"
    }
   ],
   "source": [
    "X_test"
   ]
  },
  {
   "cell_type": "code",
   "execution_count": 195,
   "metadata": {},
   "outputs": [
    {
     "name": "stdout",
     "output_type": "stream",
     "text": [
      "1 / 1\n",
      "counting distance . . .\n",
      "labeling . . .\n"
     ]
    },
    {
     "data": {
      "text/plain": [
       "(array([0], dtype=int64), 0)"
      ]
     },
     "execution_count": 195,
     "metadata": {},
     "output_type": "execute_result"
    }
   ],
   "source": [
    "xtrain, _input = predict(X_test.Review.iloc[32])\n",
    "model.fit(xtrain, y_train)\n",
    "\n",
    "model.predict(_input), y_test.iloc[32]"
   ]
  },
  {
   "cell_type": "code",
   "execution_count": 197,
   "metadata": {},
   "outputs": [
    {
     "name": "stdout",
     "output_type": "stream",
     "text": [
      "1 / 1\n",
      "counting distance . . .\n",
      "labeling . . .\n"
     ]
    },
    {
     "data": {
      "text/plain": [
       "(array([1], dtype=int64), 1)"
      ]
     },
     "execution_count": 197,
     "metadata": {},
     "output_type": "execute_result"
    }
   ],
   "source": [
    "xtrain, _input = predict(X_test.Review.iloc[3])\n",
    "model.fit(xtrain, y_train)\n",
    "\n",
    "model.predict(_input), y_test.iloc[3]"
   ]
  },
  {
   "cell_type": "code",
   "execution_count": 198,
   "metadata": {},
   "outputs": [
    {
     "name": "stdout",
     "output_type": "stream",
     "text": [
      "1 / 1\n",
      "counting distance . . .\n",
      "labeling . . .\n"
     ]
    },
    {
     "data": {
      "text/plain": [
       "array([1], dtype=int64)"
      ]
     },
     "execution_count": 198,
     "metadata": {},
     "output_type": "execute_result"
    }
   ],
   "source": [
    "xtrain, _input = predict(\"good app latest & Old song\")\n",
    "model.fit(xtrain, y_train)\n",
    "\n",
    "model.predict(_input)"
   ]
  },
  {
   "cell_type": "code",
   "execution_count": null,
   "metadata": {},
   "outputs": [],
   "source": []
  }
 ],
 "metadata": {
  "kernelspec": {
   "display_name": "Python 3",
   "language": "python",
   "name": "python3"
  },
  "language_info": {
   "codemirror_mode": {
    "name": "ipython",
    "version": 3
   },
   "file_extension": ".py",
   "mimetype": "text/x-python",
   "name": "python",
   "nbconvert_exporter": "python",
   "pygments_lexer": "ipython3",
   "version": "3.9.6"
  }
 },
 "nbformat": 4,
 "nbformat_minor": 2
}

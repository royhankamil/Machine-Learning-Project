{
 "cells": [
  {
   "cell_type": "markdown",
   "metadata": {},
   "source": [
    "# **Preproccessing**"
   ]
  },
  {
   "cell_type": "markdown",
   "metadata": {},
   "source": [
    "### Importing Asset"
   ]
  },
  {
   "cell_type": "markdown",
   "metadata": {},
   "source": [
    "Dalam tahapan ini kita akan melakukan pengimportan terhadap hal hal yang memang diperlukan. Seperti kita akan mengimport library uyang akan dibutuhkan. Dan juga kita akn melakukan import pada datset kita. Selain itu kita akan melihat sedikit tentang isi datasetnya."
   ]
  },
  {
   "cell_type": "code",
   "execution_count": 33,
   "metadata": {},
   "outputs": [],
   "source": [
    "# import library\n",
    "import matplotlib.pyplot as plt\n",
    "from nltk.tokenize import word_tokenize\n",
    "from Sastrawi.Stemmer.StemmerFactory import StemmerFactory\n",
    "from Sastrawi.StopWordRemover.StopWordRemoverFactory import StopWordRemoverFactory\n",
    "import re\n",
    "import string\n",
    "import pandas as pd\n",
    "import numpy as np"
   ]
  },
  {
   "cell_type": "code",
   "execution_count": 34,
   "metadata": {},
   "outputs": [
    {
     "data": {
      "text/html": [
       "<div>\n",
       "<style scoped>\n",
       "    .dataframe tbody tr th:only-of-type {\n",
       "        vertical-align: middle;\n",
       "    }\n",
       "\n",
       "    .dataframe tbody tr th {\n",
       "        vertical-align: top;\n",
       "    }\n",
       "\n",
       "    .dataframe thead th {\n",
       "        text-align: right;\n",
       "    }\n",
       "</style>\n",
       "<table border=\"1\" class=\"dataframe\">\n",
       "  <thead>\n",
       "    <tr style=\"text-align: right;\">\n",
       "      <th></th>\n",
       "      <th>Date</th>\n",
       "      <th>User</th>\n",
       "      <th>Tweet</th>\n",
       "      <th>sentiment</th>\n",
       "    </tr>\n",
       "  </thead>\n",
       "  <tbody>\n",
       "    <tr>\n",
       "      <th>0</th>\n",
       "      <td>2022-03-31 14:32:04+00:00</td>\n",
       "      <td>pikobar_jabar</td>\n",
       "      <td>Ketahui informasi pembagian #PPKM di wilayah J...</td>\n",
       "      <td>1</td>\n",
       "    </tr>\n",
       "    <tr>\n",
       "      <th>1</th>\n",
       "      <td>2022-03-31 09:26:00+00:00</td>\n",
       "      <td>inewsdotid</td>\n",
       "      <td>Tempat Ibadah di Wilayah PPKM Level 1 Boleh Be...</td>\n",
       "      <td>1</td>\n",
       "    </tr>\n",
       "    <tr>\n",
       "      <th>2</th>\n",
       "      <td>2022-03-31 05:02:34+00:00</td>\n",
       "      <td>vdvc_talk</td>\n",
       "      <td>Juru bicara Satgas Covid-19, Wiku Adisasmito m...</td>\n",
       "      <td>1</td>\n",
       "    </tr>\n",
       "    <tr>\n",
       "      <th>3</th>\n",
       "      <td>2022-03-30 14:23:10+00:00</td>\n",
       "      <td>pikobar_jabar</td>\n",
       "      <td>Ketahui informasi pembagian #PPKM di wilayah J...</td>\n",
       "      <td>1</td>\n",
       "    </tr>\n",
       "    <tr>\n",
       "      <th>4</th>\n",
       "      <td>2022-03-30 11:28:57+00:00</td>\n",
       "      <td>tvOneNews</td>\n",
       "      <td>Kementerian Agama menerbitkan Surat Edaran Nom...</td>\n",
       "      <td>1</td>\n",
       "    </tr>\n",
       "  </tbody>\n",
       "</table>\n",
       "</div>"
      ],
      "text/plain": [
       "                        Date           User  \\\n",
       "0  2022-03-31 14:32:04+00:00  pikobar_jabar   \n",
       "1  2022-03-31 09:26:00+00:00     inewsdotid   \n",
       "2  2022-03-31 05:02:34+00:00      vdvc_talk   \n",
       "3  2022-03-30 14:23:10+00:00  pikobar_jabar   \n",
       "4  2022-03-30 11:28:57+00:00      tvOneNews   \n",
       "\n",
       "                                               Tweet  sentiment  \n",
       "0  Ketahui informasi pembagian #PPKM di wilayah J...          1  \n",
       "1  Tempat Ibadah di Wilayah PPKM Level 1 Boleh Be...          1  \n",
       "2  Juru bicara Satgas Covid-19, Wiku Adisasmito m...          1  \n",
       "3  Ketahui informasi pembagian #PPKM di wilayah J...          1  \n",
       "4  Kementerian Agama menerbitkan Surat Edaran Nom...          1  "
      ]
     },
     "execution_count": 34,
     "metadata": {},
     "output_type": "execute_result"
    }
   ],
   "source": [
    "# mengambil dataset\n",
    "df = pd.read_csv(\"dataset\\INA_TweetsPPKM_Labeled_Pure.csv\", sep=\"\\t\")\n",
    "\n",
    "# menampilkan dataset\n",
    "df.head()"
   ]
  },
  {
   "cell_type": "markdown",
   "metadata": {},
   "source": [
    "**0 = positif, 1 = netral, 2 = negatif**\n",
    "\n",
    "lalu kita juga akan menelusuri berapa banyak data pada setiap label"
   ]
  },
  {
   "cell_type": "code",
   "execution_count": 35,
   "metadata": {},
   "outputs": [
    {
     "data": {
      "text/plain": [
       "sentiment\n",
       "1    17706\n",
       "2     3980\n",
       "0     1958\n",
       "Name: count, dtype: int64"
      ]
     },
     "execution_count": 35,
     "metadata": {},
     "output_type": "execute_result"
    }
   ],
   "source": [
    "# untuk menghitung banyaknya data pada setiap label\n",
    "df[\"sentiment\"].value_counts()"
   ]
  },
  {
   "cell_type": "markdown",
   "metadata": {},
   "source": [
    "dari pengamatan di atas, kita dapat melihat bahwa tweet yang memiliki label netral jauh lebih banyak yang disusul dengan tweet negatif. Maka langkah yang kita akan ambil nantinya adalah dengan menyeimbangkan lagi untuk banyaknya data pada setiap label"
   ]
  },
  {
   "cell_type": "markdown",
   "metadata": {},
   "source": [
    "### Feature Selection"
   ]
  },
  {
   "cell_type": "markdown",
   "metadata": {},
   "source": [
    "dalam tahapan ini kita akan melakukan pengambilan fitur yang dibutuhkan saja. Untuk kasus text mining kita perlu komentarnya dan labelnya saja. Komentar sebagai x dan label sebagai y. Selain itu kita juga akan menyeimbangkan banyaknya data pada setiap label"
   ]
  },
  {
   "cell_type": "code",
   "execution_count": 36,
   "metadata": {},
   "outputs": [
    {
     "data": {
      "text/html": [
       "<div>\n",
       "<style scoped>\n",
       "    .dataframe tbody tr th:only-of-type {\n",
       "        vertical-align: middle;\n",
       "    }\n",
       "\n",
       "    .dataframe tbody tr th {\n",
       "        vertical-align: top;\n",
       "    }\n",
       "\n",
       "    .dataframe thead th {\n",
       "        text-align: right;\n",
       "    }\n",
       "</style>\n",
       "<table border=\"1\" class=\"dataframe\">\n",
       "  <thead>\n",
       "    <tr style=\"text-align: right;\">\n",
       "      <th></th>\n",
       "      <th>Tweet</th>\n",
       "      <th>sentiment</th>\n",
       "    </tr>\n",
       "  </thead>\n",
       "  <tbody>\n",
       "    <tr>\n",
       "      <th>0</th>\n",
       "      <td>Ketahui informasi pembagian #PPKM di wilayah J...</td>\n",
       "      <td>1</td>\n",
       "    </tr>\n",
       "    <tr>\n",
       "      <th>1</th>\n",
       "      <td>Tempat Ibadah di Wilayah PPKM Level 1 Boleh Be...</td>\n",
       "      <td>1</td>\n",
       "    </tr>\n",
       "    <tr>\n",
       "      <th>2</th>\n",
       "      <td>Juru bicara Satgas Covid-19, Wiku Adisasmito m...</td>\n",
       "      <td>1</td>\n",
       "    </tr>\n",
       "    <tr>\n",
       "      <th>3</th>\n",
       "      <td>Ketahui informasi pembagian #PPKM di wilayah J...</td>\n",
       "      <td>1</td>\n",
       "    </tr>\n",
       "    <tr>\n",
       "      <th>4</th>\n",
       "      <td>Kementerian Agama menerbitkan Surat Edaran Nom...</td>\n",
       "      <td>1</td>\n",
       "    </tr>\n",
       "  </tbody>\n",
       "</table>\n",
       "</div>"
      ],
      "text/plain": [
       "                                               Tweet  sentiment\n",
       "0  Ketahui informasi pembagian #PPKM di wilayah J...          1\n",
       "1  Tempat Ibadah di Wilayah PPKM Level 1 Boleh Be...          1\n",
       "2  Juru bicara Satgas Covid-19, Wiku Adisasmito m...          1\n",
       "3  Ketahui informasi pembagian #PPKM di wilayah J...          1\n",
       "4  Kementerian Agama menerbitkan Surat Edaran Nom...          1"
      ]
     },
     "execution_count": 36,
     "metadata": {},
     "output_type": "execute_result"
    }
   ],
   "source": [
    "# unuk menghilangkan kolom yang tidak diperlukan\n",
    "df.drop(columns=[\"Date\", \"User\"], inplace=True)\n",
    "\n",
    "df.head()"
   ]
  },
  {
   "cell_type": "markdown",
   "metadata": {},
   "source": [
    "lalu kita akan melakukan pengecilan size. Agar seimbang kita tentukan banyaknya data pada setiap label adalh 1900, mengambil dari nilai terendah pada jenis label. Tujuan dari penyeimbangan data adalah untuk menghindari terjadinya overfitting pada label tertentu (cenderung menebak pada label yang banyak)"
   ]
  },
  {
   "cell_type": "code",
   "execution_count": 37,
   "metadata": {},
   "outputs": [
    {
     "data": {
      "text/html": [
       "<div>\n",
       "<style scoped>\n",
       "    .dataframe tbody tr th:only-of-type {\n",
       "        vertical-align: middle;\n",
       "    }\n",
       "\n",
       "    .dataframe tbody tr th {\n",
       "        vertical-align: top;\n",
       "    }\n",
       "\n",
       "    .dataframe thead th {\n",
       "        text-align: right;\n",
       "    }\n",
       "</style>\n",
       "<table border=\"1\" class=\"dataframe\">\n",
       "  <thead>\n",
       "    <tr style=\"text-align: right;\">\n",
       "      <th></th>\n",
       "      <th>Tweet</th>\n",
       "      <th>sentiment</th>\n",
       "    </tr>\n",
       "  </thead>\n",
       "  <tbody>\n",
       "    <tr>\n",
       "      <th>0</th>\n",
       "      <td>Tak Terima Kota Malang Masuk PPKM Level 2, Wal...</td>\n",
       "      <td>1</td>\n",
       "    </tr>\n",
       "    <tr>\n",
       "      <th>1</th>\n",
       "      <td>PPKM Dicabut, Booking Hotel Tetap Nihil https:...</td>\n",
       "      <td>1</td>\n",
       "    </tr>\n",
       "    <tr>\n",
       "      <th>2</th>\n",
       "      <td>Inilah Sistem Kerja Baru 2022 Bagi ASN Selama ...</td>\n",
       "      <td>1</td>\n",
       "    </tr>\n",
       "    <tr>\n",
       "      <th>3</th>\n",
       "      <td>JKW : Pak LBP nanti umumkan #PPKM #diperpanjan...</td>\n",
       "      <td>2</td>\n",
       "    </tr>\n",
       "    <tr>\n",
       "      <th>4</th>\n",
       "      <td>KABAR PANDEMI - Berpergian Sehat Pada Saat Pan...</td>\n",
       "      <td>1</td>\n",
       "    </tr>\n",
       "    <tr>\n",
       "      <th>...</th>\n",
       "      <td>...</td>\n",
       "      <td>...</td>\n",
       "    </tr>\n",
       "    <tr>\n",
       "      <th>5695</th>\n",
       "      <td>#PPKM LEVEL 1000 yes , membagongkan</td>\n",
       "      <td>2</td>\n",
       "    </tr>\n",
       "    <tr>\n",
       "      <th>5696</th>\n",
       "      <td>PPKM level 4 diperpanjang, sampai kapan? Nanti...</td>\n",
       "      <td>2</td>\n",
       "    </tr>\n",
       "    <tr>\n",
       "      <th>5697</th>\n",
       "      <td>Mendagri Tito Karnavian mengatakan, PPKM Level...</td>\n",
       "      <td>1</td>\n",
       "    </tr>\n",
       "    <tr>\n",
       "      <th>5698</th>\n",
       "      <td>Program gagal kok yaa dilanjutin terus #PPKM #...</td>\n",
       "      <td>2</td>\n",
       "    </tr>\n",
       "    <tr>\n",
       "      <th>5699</th>\n",
       "      <td>Badai Pasti Berlalu...\\nSemoga kita sehat sela...</td>\n",
       "      <td>0</td>\n",
       "    </tr>\n",
       "  </tbody>\n",
       "</table>\n",
       "<p>5700 rows × 2 columns</p>\n",
       "</div>"
      ],
      "text/plain": [
       "                                                  Tweet  sentiment\n",
       "0     Tak Terima Kota Malang Masuk PPKM Level 2, Wal...          1\n",
       "1     PPKM Dicabut, Booking Hotel Tetap Nihil https:...          1\n",
       "2     Inilah Sistem Kerja Baru 2022 Bagi ASN Selama ...          1\n",
       "3     JKW : Pak LBP nanti umumkan #PPKM #diperpanjan...          2\n",
       "4     KABAR PANDEMI - Berpergian Sehat Pada Saat Pan...          1\n",
       "...                                                 ...        ...\n",
       "5695                #PPKM LEVEL 1000 yes , membagongkan          2\n",
       "5696  PPKM level 4 diperpanjang, sampai kapan? Nanti...          2\n",
       "5697  Mendagri Tito Karnavian mengatakan, PPKM Level...          1\n",
       "5698  Program gagal kok yaa dilanjutin terus #PPKM #...          2\n",
       "5699  Badai Pasti Berlalu...\\nSemoga kita sehat sela...          0\n",
       "\n",
       "[5700 rows x 2 columns]"
      ]
     },
     "execution_count": 37,
     "metadata": {},
     "output_type": "execute_result"
    }
   ],
   "source": [
    "# untuk mengambil data 1900 dari masing2 jenis label\n",
    "df = pd.concat([df[df.sentiment==0][:1900], df[df.sentiment==1][:1900], df[df.sentiment==2][:1900]])\\\n",
    "    .sample(frac=1, random_state=134).reset_index(drop=True)\n",
    "\n",
    "df\n"
   ]
  },
  {
   "cell_type": "markdown",
   "metadata": {},
   "source": [
    "### Missing Value"
   ]
  },
  {
   "cell_type": "markdown",
   "metadata": {},
   "source": [
    "Pada tahapan ini kita akan memeriksa apakah data kita terdapat yang kosong atau tidak. Tujuannya adalah untuk menghindari terjadinya error pada saat modeling algoritma"
   ]
  },
  {
   "cell_type": "code",
   "execution_count": 38,
   "metadata": {},
   "outputs": [
    {
     "data": {
      "text/plain": [
       "Tweet        0\n",
       "sentiment    0\n",
       "dtype: int64"
      ]
     },
     "execution_count": 38,
     "metadata": {},
     "output_type": "execute_result"
    }
   ],
   "source": [
    "# mencari data kosong jenis Nan\n",
    "df.isna().sum()"
   ]
  },
  {
   "cell_type": "code",
   "execution_count": 39,
   "metadata": {},
   "outputs": [
    {
     "data": {
      "text/plain": [
       "Tweet        0\n",
       "sentiment    0\n",
       "dtype: int64"
      ]
     },
     "execution_count": 39,
     "metadata": {},
     "output_type": "execute_result"
    }
   ],
   "source": [
    "# mencari data kosong jenis Null\n",
    "df.isnull().sum()"
   ]
  },
  {
   "cell_type": "markdown",
   "metadata": {},
   "source": [
    "berhubungan tidak ada data yang kosong maka kita bisa langsung lanjut"
   ]
  },
  {
   "cell_type": "markdown",
   "metadata": {},
   "source": [
    "### Duplicated Data"
   ]
  },
  {
   "cell_type": "markdown",
   "metadata": {},
   "source": [
    "Selanjutnya kita juga akan melihat apakah ada data yang terduplikasi tujuannya adalah untuk menghindari overfitting. Model akan belajar hal yang sama secara berulang pada data yang terduplikasi sehingga model cenderung menghapal dan lebih mengingat data yang terduplikasi"
   ]
  },
  {
   "cell_type": "code",
   "execution_count": 40,
   "metadata": {},
   "outputs": [
    {
     "data": {
      "text/html": [
       "<div>\n",
       "<style scoped>\n",
       "    .dataframe tbody tr th:only-of-type {\n",
       "        vertical-align: middle;\n",
       "    }\n",
       "\n",
       "    .dataframe tbody tr th {\n",
       "        vertical-align: top;\n",
       "    }\n",
       "\n",
       "    .dataframe thead th {\n",
       "        text-align: right;\n",
       "    }\n",
       "</style>\n",
       "<table border=\"1\" class=\"dataframe\">\n",
       "  <thead>\n",
       "    <tr style=\"text-align: right;\">\n",
       "      <th></th>\n",
       "      <th>Tweet</th>\n",
       "      <th>sentiment</th>\n",
       "    </tr>\n",
       "  </thead>\n",
       "  <tbody>\n",
       "    <tr>\n",
       "      <th>898</th>\n",
       "      <td>#PPKM</td>\n",
       "      <td>2</td>\n",
       "    </tr>\n",
       "    <tr>\n",
       "      <th>1258</th>\n",
       "      <td>Pemerintah Siapkan 3 Skenario Antisipasi Lonja...</td>\n",
       "      <td>1</td>\n",
       "    </tr>\n",
       "    <tr>\n",
       "      <th>1681</th>\n",
       "      <td>#semangat #ppkm</td>\n",
       "      <td>0</td>\n",
       "    </tr>\n",
       "    <tr>\n",
       "      <th>1691</th>\n",
       "      <td>Pemerintah Siapkan 3 Skenario Antisipasi Lonja...</td>\n",
       "      <td>1</td>\n",
       "    </tr>\n",
       "    <tr>\n",
       "      <th>1898</th>\n",
       "      <td>#ghostparade #ghostparadecomic #tidaktakuthant...</td>\n",
       "      <td>0</td>\n",
       "    </tr>\n",
       "    <tr>\n",
       "      <th>2108</th>\n",
       "      <td>#PPKM</td>\n",
       "      <td>2</td>\n",
       "    </tr>\n",
       "    <tr>\n",
       "      <th>2189</th>\n",
       "      <td>Pemerintah klo bikin acara rame2 di bolehin ti...</td>\n",
       "      <td>2</td>\n",
       "    </tr>\n",
       "    <tr>\n",
       "      <th>2286</th>\n",
       "      <td>#semangat #ppkm</td>\n",
       "      <td>0</td>\n",
       "    </tr>\n",
       "    <tr>\n",
       "      <th>2315</th>\n",
       "      <td>Hasil Pengeluaran BULLSEYE\\nHari Ini : Selasa ...</td>\n",
       "      <td>1</td>\n",
       "    </tr>\n",
       "    <tr>\n",
       "      <th>2431</th>\n",
       "      <td>Pasti ada yang siap dan nggak siap dengan perp...</td>\n",
       "      <td>2</td>\n",
       "    </tr>\n",
       "    <tr>\n",
       "      <th>2466</th>\n",
       "      <td>https://t.co/4ur9cGJ627 Link daftar untuk perm...</td>\n",
       "      <td>1</td>\n",
       "    </tr>\n",
       "    <tr>\n",
       "      <th>2471</th>\n",
       "      <td>Pasti ada yang siap dan nggak siap dengan perp...</td>\n",
       "      <td>2</td>\n",
       "    </tr>\n",
       "    <tr>\n",
       "      <th>2777</th>\n",
       "      <td>#semangat #ppkm</td>\n",
       "      <td>0</td>\n",
       "    </tr>\n",
       "    <tr>\n",
       "      <th>2850</th>\n",
       "      <td>#PPKM</td>\n",
       "      <td>2</td>\n",
       "    </tr>\n",
       "    <tr>\n",
       "      <th>3215</th>\n",
       "      <td>Endhasku Mumeeett #ppkm\\nhttps://t.co/5TXgfM2VQX</td>\n",
       "      <td>0</td>\n",
       "    </tr>\n",
       "    <tr>\n",
       "      <th>3242</th>\n",
       "      <td>Akibat hectic maka efeknya akan spt efek domin...</td>\n",
       "      <td>0</td>\n",
       "    </tr>\n",
       "    <tr>\n",
       "      <th>3434</th>\n",
       "      <td>#semangat #ppkm</td>\n",
       "      <td>0</td>\n",
       "    </tr>\n",
       "    <tr>\n",
       "      <th>3457</th>\n",
       "      <td>Pemerintah klo bikin acara rame2 di bolehin ti...</td>\n",
       "      <td>2</td>\n",
       "    </tr>\n",
       "    <tr>\n",
       "      <th>3458</th>\n",
       "      <td>#PPKM</td>\n",
       "      <td>2</td>\n",
       "    </tr>\n",
       "    <tr>\n",
       "      <th>3474</th>\n",
       "      <td>https://t.co/4ur9cGJ627 Link daftar untuk perm...</td>\n",
       "      <td>1</td>\n",
       "    </tr>\n",
       "    <tr>\n",
       "      <th>3498</th>\n",
       "      <td>@anteraja_id Bahagia aja kalo paket d d kirim ...</td>\n",
       "      <td>0</td>\n",
       "    </tr>\n",
       "    <tr>\n",
       "      <th>3517</th>\n",
       "      <td>Jaga selalu imunitas dengan mengonsumsi makana...</td>\n",
       "      <td>1</td>\n",
       "    </tr>\n",
       "    <tr>\n",
       "      <th>3740</th>\n",
       "      <td>Pasti ada yang siap dan nggak siap dengan perp...</td>\n",
       "      <td>2</td>\n",
       "    </tr>\n",
       "    <tr>\n",
       "      <th>3769</th>\n",
       "      <td>Pasti ada yang siap dan nggak siap dengan perp...</td>\n",
       "      <td>2</td>\n",
       "    </tr>\n",
       "    <tr>\n",
       "      <th>3810</th>\n",
       "      <td>KIta semua udah pada tau ya, saat ini fasilita...</td>\n",
       "      <td>0</td>\n",
       "    </tr>\n",
       "    <tr>\n",
       "      <th>3836</th>\n",
       "      <td>#semangat #ppkm</td>\n",
       "      <td>0</td>\n",
       "    </tr>\n",
       "    <tr>\n",
       "      <th>4080</th>\n",
       "      <td>#anakberkebutuhankhusus tidak optimal jika dil...</td>\n",
       "      <td>1</td>\n",
       "    </tr>\n",
       "    <tr>\n",
       "      <th>4468</th>\n",
       "      <td>PUSAT SEWA MOBIL % TERMURAH SE-JAKARTA. #sewam...</td>\n",
       "      <td>0</td>\n",
       "    </tr>\n",
       "    <tr>\n",
       "      <th>4568</th>\n",
       "      <td>Karena stimulasi untuk #anakberkebutuhankhusus...</td>\n",
       "      <td>2</td>\n",
       "    </tr>\n",
       "    <tr>\n",
       "      <th>4635</th>\n",
       "      <td>Pemerintah klo bikin acara rame2 di bolehin ti...</td>\n",
       "      <td>2</td>\n",
       "    </tr>\n",
       "    <tr>\n",
       "      <th>4693</th>\n",
       "      <td>PUSAT SEWA MOBIL % TERMURAH SE-JAKARTA. #sewam...</td>\n",
       "      <td>0</td>\n",
       "    </tr>\n",
       "    <tr>\n",
       "      <th>4788</th>\n",
       "      <td>Menjadi relawan kemanusiaan tak hanya handal d...</td>\n",
       "      <td>1</td>\n",
       "    </tr>\n",
       "    <tr>\n",
       "      <th>4822</th>\n",
       "      <td>Endhasku Mumeeett #ppkm\\nhttps://t.co/5TXgfM2VQX</td>\n",
       "      <td>0</td>\n",
       "    </tr>\n",
       "    <tr>\n",
       "      <th>4954</th>\n",
       "      <td>#PPKM</td>\n",
       "      <td>2</td>\n",
       "    </tr>\n",
       "    <tr>\n",
       "      <th>4964</th>\n",
       "      <td>Pemerintah Siapkan 3 Skenario Antisipasi Lonja...</td>\n",
       "      <td>1</td>\n",
       "    </tr>\n",
       "    <tr>\n",
       "      <th>5003</th>\n",
       "      <td>Mengerem Laju Penularan COVID-19 Dengan Nama #...</td>\n",
       "      <td>1</td>\n",
       "    </tr>\n",
       "    <tr>\n",
       "      <th>5250</th>\n",
       "      <td>Teman-teman, tetap disiplin protokol kesehatan...</td>\n",
       "      <td>1</td>\n",
       "    </tr>\n",
       "    <tr>\n",
       "      <th>5263</th>\n",
       "      <td>Pemerintah klo bikin acara rame2 di bolehin ti...</td>\n",
       "      <td>2</td>\n",
       "    </tr>\n",
       "    <tr>\n",
       "      <th>5362</th>\n",
       "      <td>PUSAT SEWA MOBIL % TERMURAH SE-JAKARTA. #sewam...</td>\n",
       "      <td>1</td>\n",
       "    </tr>\n",
       "    <tr>\n",
       "      <th>5420</th>\n",
       "      <td>Salam sehat. Tetap tabah, optimis dan berkolab...</td>\n",
       "      <td>0</td>\n",
       "    </tr>\n",
       "    <tr>\n",
       "      <th>5465</th>\n",
       "      <td>Karena stimulasi untuk #anakberkebutuhankhusus...</td>\n",
       "      <td>2</td>\n",
       "    </tr>\n",
       "    <tr>\n",
       "      <th>5515</th>\n",
       "      <td>tinggal 6 slot aja ni guys #netflixpremium nya...</td>\n",
       "      <td>0</td>\n",
       "    </tr>\n",
       "  </tbody>\n",
       "</table>\n",
       "</div>"
      ],
      "text/plain": [
       "                                                  Tweet  sentiment\n",
       "898                                               #PPKM          2\n",
       "1258  Pemerintah Siapkan 3 Skenario Antisipasi Lonja...          1\n",
       "1681                                    #semangat #ppkm          0\n",
       "1691  Pemerintah Siapkan 3 Skenario Antisipasi Lonja...          1\n",
       "1898  #ghostparade #ghostparadecomic #tidaktakuthant...          0\n",
       "2108                                              #PPKM          2\n",
       "2189  Pemerintah klo bikin acara rame2 di bolehin ti...          2\n",
       "2286                                    #semangat #ppkm          0\n",
       "2315  Hasil Pengeluaran BULLSEYE\\nHari Ini : Selasa ...          1\n",
       "2431  Pasti ada yang siap dan nggak siap dengan perp...          2\n",
       "2466  https://t.co/4ur9cGJ627 Link daftar untuk perm...          1\n",
       "2471  Pasti ada yang siap dan nggak siap dengan perp...          2\n",
       "2777                                    #semangat #ppkm          0\n",
       "2850                                              #PPKM          2\n",
       "3215   Endhasku Mumeeett #ppkm\\nhttps://t.co/5TXgfM2VQX          0\n",
       "3242  Akibat hectic maka efeknya akan spt efek domin...          0\n",
       "3434                                    #semangat #ppkm          0\n",
       "3457  Pemerintah klo bikin acara rame2 di bolehin ti...          2\n",
       "3458                                              #PPKM          2\n",
       "3474  https://t.co/4ur9cGJ627 Link daftar untuk perm...          1\n",
       "3498  @anteraja_id Bahagia aja kalo paket d d kirim ...          0\n",
       "3517  Jaga selalu imunitas dengan mengonsumsi makana...          1\n",
       "3740  Pasti ada yang siap dan nggak siap dengan perp...          2\n",
       "3769  Pasti ada yang siap dan nggak siap dengan perp...          2\n",
       "3810  KIta semua udah pada tau ya, saat ini fasilita...          0\n",
       "3836                                    #semangat #ppkm          0\n",
       "4080  #anakberkebutuhankhusus tidak optimal jika dil...          1\n",
       "4468  PUSAT SEWA MOBIL % TERMURAH SE-JAKARTA. #sewam...          0\n",
       "4568  Karena stimulasi untuk #anakberkebutuhankhusus...          2\n",
       "4635  Pemerintah klo bikin acara rame2 di bolehin ti...          2\n",
       "4693  PUSAT SEWA MOBIL % TERMURAH SE-JAKARTA. #sewam...          0\n",
       "4788  Menjadi relawan kemanusiaan tak hanya handal d...          1\n",
       "4822   Endhasku Mumeeett #ppkm\\nhttps://t.co/5TXgfM2VQX          0\n",
       "4954                                              #PPKM          2\n",
       "4964  Pemerintah Siapkan 3 Skenario Antisipasi Lonja...          1\n",
       "5003  Mengerem Laju Penularan COVID-19 Dengan Nama #...          1\n",
       "5250  Teman-teman, tetap disiplin protokol kesehatan...          1\n",
       "5263  Pemerintah klo bikin acara rame2 di bolehin ti...          2\n",
       "5362  PUSAT SEWA MOBIL % TERMURAH SE-JAKARTA. #sewam...          1\n",
       "5420  Salam sehat. Tetap tabah, optimis dan berkolab...          0\n",
       "5465  Karena stimulasi untuk #anakberkebutuhankhusus...          2\n",
       "5515  tinggal 6 slot aja ni guys #netflixpremium nya...          0"
      ]
     },
     "execution_count": 40,
     "metadata": {},
     "output_type": "execute_result"
    }
   ],
   "source": [
    "# untuk menampilkan data yang terduplikasi\n",
    "df[df.duplicated()]"
   ]
  },
  {
   "cell_type": "markdown",
   "metadata": {},
   "source": [
    "di atas merupakan beberapa data yang terduplikasi, maka kita perlu menghilangkan saja untuk data yang terduplikasi ini"
   ]
  },
  {
   "cell_type": "code",
   "execution_count": 41,
   "metadata": {},
   "outputs": [
    {
     "data": {
      "text/html": [
       "<div>\n",
       "<style scoped>\n",
       "    .dataframe tbody tr th:only-of-type {\n",
       "        vertical-align: middle;\n",
       "    }\n",
       "\n",
       "    .dataframe tbody tr th {\n",
       "        vertical-align: top;\n",
       "    }\n",
       "\n",
       "    .dataframe thead th {\n",
       "        text-align: right;\n",
       "    }\n",
       "</style>\n",
       "<table border=\"1\" class=\"dataframe\">\n",
       "  <thead>\n",
       "    <tr style=\"text-align: right;\">\n",
       "      <th></th>\n",
       "      <th>Tweet</th>\n",
       "      <th>sentiment</th>\n",
       "    </tr>\n",
       "  </thead>\n",
       "  <tbody>\n",
       "  </tbody>\n",
       "</table>\n",
       "</div>"
      ],
      "text/plain": [
       "Empty DataFrame\n",
       "Columns: [Tweet, sentiment]\n",
       "Index: []"
      ]
     },
     "execution_count": 41,
     "metadata": {},
     "output_type": "execute_result"
    }
   ],
   "source": [
    "# untuk menghilangkan data yang terduplikasi\n",
    "df.drop_duplicates(inplace=True)\n",
    "\n",
    "# untuk menampilkan data yang terduplikasi\n",
    "df[df.duplicated]"
   ]
  },
  {
   "cell_type": "markdown",
   "metadata": {},
   "source": [
    "### Train Test Split"
   ]
  },
  {
   "cell_type": "markdown",
   "metadata": {},
   "source": [
    "### Case Folding"
   ]
  },
  {
   "cell_type": "markdown",
   "metadata": {},
   "source": [
    "### Tokenize"
   ]
  },
  {
   "cell_type": "markdown",
   "metadata": {},
   "source": [
    "### Stopword"
   ]
  },
  {
   "cell_type": "markdown",
   "metadata": {},
   "source": [
    "### Stemming"
   ]
  },
  {
   "cell_type": "markdown",
   "metadata": {},
   "source": [
    "# **Pembobotan Kata**"
   ]
  },
  {
   "cell_type": "markdown",
   "metadata": {},
   "source": [
    "### Analize Frequency Word"
   ]
  },
  {
   "cell_type": "markdown",
   "metadata": {},
   "source": [
    "### Word Frequency on Document"
   ]
  },
  {
   "cell_type": "markdown",
   "metadata": {},
   "source": [
    "### Term Frequency"
   ]
  },
  {
   "cell_type": "markdown",
   "metadata": {},
   "source": [
    "### Inverse Document Frequency"
   ]
  },
  {
   "cell_type": "markdown",
   "metadata": {},
   "source": [
    "### TF - IDF"
   ]
  },
  {
   "cell_type": "markdown",
   "metadata": {},
   "source": [
    "### Feature Selection"
   ]
  },
  {
   "cell_type": "markdown",
   "metadata": {},
   "source": [
    "# **Modeling**"
   ]
  },
  {
   "cell_type": "markdown",
   "metadata": {},
   "source": [
    "### Create Class "
   ]
  },
  {
   "cell_type": "markdown",
   "metadata": {},
   "source": [
    "### Training"
   ]
  },
  {
   "cell_type": "markdown",
   "metadata": {},
   "source": [
    "### Testing"
   ]
  },
  {
   "cell_type": "markdown",
   "metadata": {},
   "source": [
    "### Conclusion"
   ]
  },
  {
   "cell_type": "markdown",
   "metadata": {},
   "source": []
  }
 ],
 "metadata": {
  "kernelspec": {
   "display_name": "Python 3",
   "language": "python",
   "name": "python3"
  },
  "language_info": {
   "codemirror_mode": {
    "name": "ipython",
    "version": 3
   },
   "file_extension": ".py",
   "mimetype": "text/x-python",
   "name": "python",
   "nbconvert_exporter": "python",
   "pygments_lexer": "ipython3",
   "version": "3.9.6"
  }
 },
 "nbformat": 4,
 "nbformat_minor": 2
}

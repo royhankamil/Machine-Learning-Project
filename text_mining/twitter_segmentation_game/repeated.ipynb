{
 "cells": [
  {
   "cell_type": "markdown",
   "metadata": {},
   "source": [
    "# **Preproccessing**"
   ]
  },
  {
   "cell_type": "markdown",
   "metadata": {},
   "source": [
    "### Importing Asset"
   ]
  },
  {
   "cell_type": "markdown",
   "metadata": {},
   "source": [
    "Dalam tahapan ini kita akan melakukan pengimportan terhadap hal hal yang memang diperlukan. Seperti kita akan mengimport library uyang akan dibutuhkan. Dan juga kita akn melakukan import pada datset kita. Selain itu kita akan melihat sedikit tentang isi datasetnya."
   ]
  },
  {
   "cell_type": "code",
   "execution_count": 63,
   "metadata": {},
   "outputs": [],
   "source": [
    "# import library\n",
    "import matplotlib.pyplot as plt\n",
    "from nltk.tokenize import word_tokenize\n",
    "from Sastrawi.Stemmer.StemmerFactory import StemmerFactory\n",
    "from Sastrawi.StopWordRemover.StopWordRemoverFactory import StopWordRemoverFactory\n",
    "import re\n",
    "import string\n",
    "import pandas as pd\n",
    "import numpy as np"
   ]
  },
  {
   "cell_type": "code",
   "execution_count": 64,
   "metadata": {},
   "outputs": [
    {
     "data": {
      "text/html": [
       "<div>\n",
       "<style scoped>\n",
       "    .dataframe tbody tr th:only-of-type {\n",
       "        vertical-align: middle;\n",
       "    }\n",
       "\n",
       "    .dataframe tbody tr th {\n",
       "        vertical-align: top;\n",
       "    }\n",
       "\n",
       "    .dataframe thead th {\n",
       "        text-align: right;\n",
       "    }\n",
       "</style>\n",
       "<table border=\"1\" class=\"dataframe\">\n",
       "  <thead>\n",
       "    <tr style=\"text-align: right;\">\n",
       "      <th></th>\n",
       "      <th>Date</th>\n",
       "      <th>User</th>\n",
       "      <th>Tweet</th>\n",
       "      <th>sentiment</th>\n",
       "    </tr>\n",
       "  </thead>\n",
       "  <tbody>\n",
       "    <tr>\n",
       "      <th>0</th>\n",
       "      <td>2022-03-31 14:32:04+00:00</td>\n",
       "      <td>pikobar_jabar</td>\n",
       "      <td>Ketahui informasi pembagian #PPKM di wilayah J...</td>\n",
       "      <td>1</td>\n",
       "    </tr>\n",
       "    <tr>\n",
       "      <th>1</th>\n",
       "      <td>2022-03-31 09:26:00+00:00</td>\n",
       "      <td>inewsdotid</td>\n",
       "      <td>Tempat Ibadah di Wilayah PPKM Level 1 Boleh Be...</td>\n",
       "      <td>1</td>\n",
       "    </tr>\n",
       "    <tr>\n",
       "      <th>2</th>\n",
       "      <td>2022-03-31 05:02:34+00:00</td>\n",
       "      <td>vdvc_talk</td>\n",
       "      <td>Juru bicara Satgas Covid-19, Wiku Adisasmito m...</td>\n",
       "      <td>1</td>\n",
       "    </tr>\n",
       "    <tr>\n",
       "      <th>3</th>\n",
       "      <td>2022-03-30 14:23:10+00:00</td>\n",
       "      <td>pikobar_jabar</td>\n",
       "      <td>Ketahui informasi pembagian #PPKM di wilayah J...</td>\n",
       "      <td>1</td>\n",
       "    </tr>\n",
       "    <tr>\n",
       "      <th>4</th>\n",
       "      <td>2022-03-30 11:28:57+00:00</td>\n",
       "      <td>tvOneNews</td>\n",
       "      <td>Kementerian Agama menerbitkan Surat Edaran Nom...</td>\n",
       "      <td>1</td>\n",
       "    </tr>\n",
       "  </tbody>\n",
       "</table>\n",
       "</div>"
      ],
      "text/plain": [
       "                        Date           User  \\\n",
       "0  2022-03-31 14:32:04+00:00  pikobar_jabar   \n",
       "1  2022-03-31 09:26:00+00:00     inewsdotid   \n",
       "2  2022-03-31 05:02:34+00:00      vdvc_talk   \n",
       "3  2022-03-30 14:23:10+00:00  pikobar_jabar   \n",
       "4  2022-03-30 11:28:57+00:00      tvOneNews   \n",
       "\n",
       "                                               Tweet  sentiment  \n",
       "0  Ketahui informasi pembagian #PPKM di wilayah J...          1  \n",
       "1  Tempat Ibadah di Wilayah PPKM Level 1 Boleh Be...          1  \n",
       "2  Juru bicara Satgas Covid-19, Wiku Adisasmito m...          1  \n",
       "3  Ketahui informasi pembagian #PPKM di wilayah J...          1  \n",
       "4  Kementerian Agama menerbitkan Surat Edaran Nom...          1  "
      ]
     },
     "execution_count": 64,
     "metadata": {},
     "output_type": "execute_result"
    }
   ],
   "source": [
    "# mengambil dataset\n",
    "df = pd.read_csv(\"dataset\\INA_TweetsPPKM_Labeled_Pure.csv\", sep=\"\\t\")\n",
    "\n",
    "# menampilkan dataset\n",
    "df.head()"
   ]
  },
  {
   "cell_type": "markdown",
   "metadata": {},
   "source": [
    "**0 = positif, 1 = netral, 2 = negatif**\n",
    "\n",
    "lalu kita juga akan menelusuri berapa banyak data pada setiap label"
   ]
  },
  {
   "cell_type": "code",
   "execution_count": 65,
   "metadata": {},
   "outputs": [
    {
     "data": {
      "text/plain": [
       "sentiment\n",
       "1    17706\n",
       "2     3980\n",
       "0     1958\n",
       "Name: count, dtype: int64"
      ]
     },
     "execution_count": 65,
     "metadata": {},
     "output_type": "execute_result"
    }
   ],
   "source": [
    "# untuk menghitung banyaknya data pada setiap label\n",
    "df[\"sentiment\"].value_counts()"
   ]
  },
  {
   "cell_type": "markdown",
   "metadata": {},
   "source": [
    "dari pengamatan di atas, kita dapat melihat bahwa tweet yang memiliki label netral jauh lebih banyak yang disusul dengan tweet negatif. Maka langkah yang kita akan ambil nantinya adalah dengan menyeimbangkan lagi untuk banyaknya data pada setiap label"
   ]
  },
  {
   "cell_type": "markdown",
   "metadata": {},
   "source": [
    "### Feature Selection"
   ]
  },
  {
   "cell_type": "markdown",
   "metadata": {},
   "source": [
    "dalam tahapan ini kita akan melakukan pengambilan fitur yang dibutuhkan saja. Untuk kasus text mining kita perlu komentarnya dan labelnya saja. Komentar sebagai x dan label sebagai y. Selain itu kita juga akan menyeimbangkan banyaknya data pada setiap label"
   ]
  },
  {
   "cell_type": "code",
   "execution_count": 66,
   "metadata": {},
   "outputs": [
    {
     "data": {
      "text/html": [
       "<div>\n",
       "<style scoped>\n",
       "    .dataframe tbody tr th:only-of-type {\n",
       "        vertical-align: middle;\n",
       "    }\n",
       "\n",
       "    .dataframe tbody tr th {\n",
       "        vertical-align: top;\n",
       "    }\n",
       "\n",
       "    .dataframe thead th {\n",
       "        text-align: right;\n",
       "    }\n",
       "</style>\n",
       "<table border=\"1\" class=\"dataframe\">\n",
       "  <thead>\n",
       "    <tr style=\"text-align: right;\">\n",
       "      <th></th>\n",
       "      <th>Tweet</th>\n",
       "      <th>sentiment</th>\n",
       "    </tr>\n",
       "  </thead>\n",
       "  <tbody>\n",
       "    <tr>\n",
       "      <th>0</th>\n",
       "      <td>Ketahui informasi pembagian #PPKM di wilayah J...</td>\n",
       "      <td>1</td>\n",
       "    </tr>\n",
       "    <tr>\n",
       "      <th>1</th>\n",
       "      <td>Tempat Ibadah di Wilayah PPKM Level 1 Boleh Be...</td>\n",
       "      <td>1</td>\n",
       "    </tr>\n",
       "    <tr>\n",
       "      <th>2</th>\n",
       "      <td>Juru bicara Satgas Covid-19, Wiku Adisasmito m...</td>\n",
       "      <td>1</td>\n",
       "    </tr>\n",
       "    <tr>\n",
       "      <th>3</th>\n",
       "      <td>Ketahui informasi pembagian #PPKM di wilayah J...</td>\n",
       "      <td>1</td>\n",
       "    </tr>\n",
       "    <tr>\n",
       "      <th>4</th>\n",
       "      <td>Kementerian Agama menerbitkan Surat Edaran Nom...</td>\n",
       "      <td>1</td>\n",
       "    </tr>\n",
       "  </tbody>\n",
       "</table>\n",
       "</div>"
      ],
      "text/plain": [
       "                                               Tweet  sentiment\n",
       "0  Ketahui informasi pembagian #PPKM di wilayah J...          1\n",
       "1  Tempat Ibadah di Wilayah PPKM Level 1 Boleh Be...          1\n",
       "2  Juru bicara Satgas Covid-19, Wiku Adisasmito m...          1\n",
       "3  Ketahui informasi pembagian #PPKM di wilayah J...          1\n",
       "4  Kementerian Agama menerbitkan Surat Edaran Nom...          1"
      ]
     },
     "execution_count": 66,
     "metadata": {},
     "output_type": "execute_result"
    }
   ],
   "source": [
    "# unuk menghilangkan kolom yang tidak diperlukan\n",
    "df.drop(columns=[\"Date\", \"User\"], inplace=True)\n",
    "\n",
    "df.head()"
   ]
  },
  {
   "cell_type": "markdown",
   "metadata": {},
   "source": [
    "lalu kita akan melakukan pengecilan size. Agar seimbang kita tentukan banyaknya data pada setiap label adalh 1900, mengambil dari nilai terendah pada jenis label. Tujuan dari penyeimbangan data adalah untuk menghindari terjadinya overfitting pada label tertentu (cenderung menebak pada label yang banyak)"
   ]
  },
  {
   "cell_type": "code",
   "execution_count": 67,
   "metadata": {},
   "outputs": [
    {
     "data": {
      "text/html": [
       "<div>\n",
       "<style scoped>\n",
       "    .dataframe tbody tr th:only-of-type {\n",
       "        vertical-align: middle;\n",
       "    }\n",
       "\n",
       "    .dataframe tbody tr th {\n",
       "        vertical-align: top;\n",
       "    }\n",
       "\n",
       "    .dataframe thead th {\n",
       "        text-align: right;\n",
       "    }\n",
       "</style>\n",
       "<table border=\"1\" class=\"dataframe\">\n",
       "  <thead>\n",
       "    <tr style=\"text-align: right;\">\n",
       "      <th></th>\n",
       "      <th>Tweet</th>\n",
       "      <th>sentiment</th>\n",
       "    </tr>\n",
       "  </thead>\n",
       "  <tbody>\n",
       "    <tr>\n",
       "      <th>0</th>\n",
       "      <td>Tak Terima Kota Malang Masuk PPKM Level 2, Wal...</td>\n",
       "      <td>1</td>\n",
       "    </tr>\n",
       "    <tr>\n",
       "      <th>1</th>\n",
       "      <td>PPKM Dicabut, Booking Hotel Tetap Nihil https:...</td>\n",
       "      <td>1</td>\n",
       "    </tr>\n",
       "    <tr>\n",
       "      <th>2</th>\n",
       "      <td>Inilah Sistem Kerja Baru 2022 Bagi ASN Selama ...</td>\n",
       "      <td>1</td>\n",
       "    </tr>\n",
       "    <tr>\n",
       "      <th>3</th>\n",
       "      <td>JKW : Pak LBP nanti umumkan #PPKM #diperpanjan...</td>\n",
       "      <td>2</td>\n",
       "    </tr>\n",
       "    <tr>\n",
       "      <th>4</th>\n",
       "      <td>KABAR PANDEMI - Berpergian Sehat Pada Saat Pan...</td>\n",
       "      <td>1</td>\n",
       "    </tr>\n",
       "    <tr>\n",
       "      <th>...</th>\n",
       "      <td>...</td>\n",
       "      <td>...</td>\n",
       "    </tr>\n",
       "    <tr>\n",
       "      <th>5695</th>\n",
       "      <td>#PPKM LEVEL 1000 yes , membagongkan</td>\n",
       "      <td>2</td>\n",
       "    </tr>\n",
       "    <tr>\n",
       "      <th>5696</th>\n",
       "      <td>PPKM level 4 diperpanjang, sampai kapan? Nanti...</td>\n",
       "      <td>2</td>\n",
       "    </tr>\n",
       "    <tr>\n",
       "      <th>5697</th>\n",
       "      <td>Mendagri Tito Karnavian mengatakan, PPKM Level...</td>\n",
       "      <td>1</td>\n",
       "    </tr>\n",
       "    <tr>\n",
       "      <th>5698</th>\n",
       "      <td>Program gagal kok yaa dilanjutin terus #PPKM #...</td>\n",
       "      <td>2</td>\n",
       "    </tr>\n",
       "    <tr>\n",
       "      <th>5699</th>\n",
       "      <td>Badai Pasti Berlalu...\\nSemoga kita sehat sela...</td>\n",
       "      <td>0</td>\n",
       "    </tr>\n",
       "  </tbody>\n",
       "</table>\n",
       "<p>5700 rows × 2 columns</p>\n",
       "</div>"
      ],
      "text/plain": [
       "                                                  Tweet  sentiment\n",
       "0     Tak Terima Kota Malang Masuk PPKM Level 2, Wal...          1\n",
       "1     PPKM Dicabut, Booking Hotel Tetap Nihil https:...          1\n",
       "2     Inilah Sistem Kerja Baru 2022 Bagi ASN Selama ...          1\n",
       "3     JKW : Pak LBP nanti umumkan #PPKM #diperpanjan...          2\n",
       "4     KABAR PANDEMI - Berpergian Sehat Pada Saat Pan...          1\n",
       "...                                                 ...        ...\n",
       "5695                #PPKM LEVEL 1000 yes , membagongkan          2\n",
       "5696  PPKM level 4 diperpanjang, sampai kapan? Nanti...          2\n",
       "5697  Mendagri Tito Karnavian mengatakan, PPKM Level...          1\n",
       "5698  Program gagal kok yaa dilanjutin terus #PPKM #...          2\n",
       "5699  Badai Pasti Berlalu...\\nSemoga kita sehat sela...          0\n",
       "\n",
       "[5700 rows x 2 columns]"
      ]
     },
     "execution_count": 67,
     "metadata": {},
     "output_type": "execute_result"
    }
   ],
   "source": [
    "# untuk mengambil data 1900 dari masing2 jenis label\n",
    "df = pd.concat([df[df.sentiment==0][:1900], df[df.sentiment==1][:1900], df[df.sentiment==2][:1900]])\\\n",
    "    .sample(frac=1, random_state=134).reset_index(drop=True)\n",
    "\n",
    "df\n"
   ]
  },
  {
   "cell_type": "markdown",
   "metadata": {},
   "source": [
    "### Missing Value"
   ]
  },
  {
   "cell_type": "markdown",
   "metadata": {},
   "source": [
    "Pada tahapan ini kita akan memeriksa apakah data kita terdapat yang kosong atau tidak. Tujuannya adalah untuk menghindari terjadinya error pada saat modeling algoritma"
   ]
  },
  {
   "cell_type": "code",
   "execution_count": 68,
   "metadata": {},
   "outputs": [
    {
     "data": {
      "text/plain": [
       "Tweet        0\n",
       "sentiment    0\n",
       "dtype: int64"
      ]
     },
     "execution_count": 68,
     "metadata": {},
     "output_type": "execute_result"
    }
   ],
   "source": [
    "# mencari data kosong jenis Nan\n",
    "df.isna().sum()"
   ]
  },
  {
   "cell_type": "code",
   "execution_count": 69,
   "metadata": {},
   "outputs": [
    {
     "data": {
      "text/plain": [
       "Tweet        0\n",
       "sentiment    0\n",
       "dtype: int64"
      ]
     },
     "execution_count": 69,
     "metadata": {},
     "output_type": "execute_result"
    }
   ],
   "source": [
    "# mencari data kosong jenis Null\n",
    "df.isnull().sum()"
   ]
  },
  {
   "cell_type": "markdown",
   "metadata": {},
   "source": [
    "berhubungan tidak ada data yang kosong maka kita bisa langsung lanjut"
   ]
  },
  {
   "cell_type": "markdown",
   "metadata": {},
   "source": [
    "### Duplicated Data"
   ]
  },
  {
   "cell_type": "markdown",
   "metadata": {},
   "source": [
    "Selanjutnya kita juga akan melihat apakah ada data yang terduplikasi tujuannya adalah untuk menghindari overfitting. Model akan belajar hal yang sama secara berulang pada data yang terduplikasi sehingga model cenderung menghapal dan lebih mengingat data yang terduplikasi"
   ]
  },
  {
   "cell_type": "code",
   "execution_count": 70,
   "metadata": {},
   "outputs": [
    {
     "data": {
      "text/html": [
       "<div>\n",
       "<style scoped>\n",
       "    .dataframe tbody tr th:only-of-type {\n",
       "        vertical-align: middle;\n",
       "    }\n",
       "\n",
       "    .dataframe tbody tr th {\n",
       "        vertical-align: top;\n",
       "    }\n",
       "\n",
       "    .dataframe thead th {\n",
       "        text-align: right;\n",
       "    }\n",
       "</style>\n",
       "<table border=\"1\" class=\"dataframe\">\n",
       "  <thead>\n",
       "    <tr style=\"text-align: right;\">\n",
       "      <th></th>\n",
       "      <th>Tweet</th>\n",
       "      <th>sentiment</th>\n",
       "    </tr>\n",
       "  </thead>\n",
       "  <tbody>\n",
       "    <tr>\n",
       "      <th>898</th>\n",
       "      <td>#PPKM</td>\n",
       "      <td>2</td>\n",
       "    </tr>\n",
       "    <tr>\n",
       "      <th>1258</th>\n",
       "      <td>Pemerintah Siapkan 3 Skenario Antisipasi Lonja...</td>\n",
       "      <td>1</td>\n",
       "    </tr>\n",
       "    <tr>\n",
       "      <th>1681</th>\n",
       "      <td>#semangat #ppkm</td>\n",
       "      <td>0</td>\n",
       "    </tr>\n",
       "    <tr>\n",
       "      <th>1691</th>\n",
       "      <td>Pemerintah Siapkan 3 Skenario Antisipasi Lonja...</td>\n",
       "      <td>1</td>\n",
       "    </tr>\n",
       "    <tr>\n",
       "      <th>1898</th>\n",
       "      <td>#ghostparade #ghostparadecomic #tidaktakuthant...</td>\n",
       "      <td>0</td>\n",
       "    </tr>\n",
       "    <tr>\n",
       "      <th>2108</th>\n",
       "      <td>#PPKM</td>\n",
       "      <td>2</td>\n",
       "    </tr>\n",
       "    <tr>\n",
       "      <th>2189</th>\n",
       "      <td>Pemerintah klo bikin acara rame2 di bolehin ti...</td>\n",
       "      <td>2</td>\n",
       "    </tr>\n",
       "    <tr>\n",
       "      <th>2286</th>\n",
       "      <td>#semangat #ppkm</td>\n",
       "      <td>0</td>\n",
       "    </tr>\n",
       "    <tr>\n",
       "      <th>2315</th>\n",
       "      <td>Hasil Pengeluaran BULLSEYE\\nHari Ini : Selasa ...</td>\n",
       "      <td>1</td>\n",
       "    </tr>\n",
       "    <tr>\n",
       "      <th>2431</th>\n",
       "      <td>Pasti ada yang siap dan nggak siap dengan perp...</td>\n",
       "      <td>2</td>\n",
       "    </tr>\n",
       "    <tr>\n",
       "      <th>2466</th>\n",
       "      <td>https://t.co/4ur9cGJ627 Link daftar untuk perm...</td>\n",
       "      <td>1</td>\n",
       "    </tr>\n",
       "    <tr>\n",
       "      <th>2471</th>\n",
       "      <td>Pasti ada yang siap dan nggak siap dengan perp...</td>\n",
       "      <td>2</td>\n",
       "    </tr>\n",
       "    <tr>\n",
       "      <th>2777</th>\n",
       "      <td>#semangat #ppkm</td>\n",
       "      <td>0</td>\n",
       "    </tr>\n",
       "    <tr>\n",
       "      <th>2850</th>\n",
       "      <td>#PPKM</td>\n",
       "      <td>2</td>\n",
       "    </tr>\n",
       "    <tr>\n",
       "      <th>3215</th>\n",
       "      <td>Endhasku Mumeeett #ppkm\\nhttps://t.co/5TXgfM2VQX</td>\n",
       "      <td>0</td>\n",
       "    </tr>\n",
       "    <tr>\n",
       "      <th>3242</th>\n",
       "      <td>Akibat hectic maka efeknya akan spt efek domin...</td>\n",
       "      <td>0</td>\n",
       "    </tr>\n",
       "    <tr>\n",
       "      <th>3434</th>\n",
       "      <td>#semangat #ppkm</td>\n",
       "      <td>0</td>\n",
       "    </tr>\n",
       "    <tr>\n",
       "      <th>3457</th>\n",
       "      <td>Pemerintah klo bikin acara rame2 di bolehin ti...</td>\n",
       "      <td>2</td>\n",
       "    </tr>\n",
       "    <tr>\n",
       "      <th>3458</th>\n",
       "      <td>#PPKM</td>\n",
       "      <td>2</td>\n",
       "    </tr>\n",
       "    <tr>\n",
       "      <th>3474</th>\n",
       "      <td>https://t.co/4ur9cGJ627 Link daftar untuk perm...</td>\n",
       "      <td>1</td>\n",
       "    </tr>\n",
       "    <tr>\n",
       "      <th>3498</th>\n",
       "      <td>@anteraja_id Bahagia aja kalo paket d d kirim ...</td>\n",
       "      <td>0</td>\n",
       "    </tr>\n",
       "    <tr>\n",
       "      <th>3517</th>\n",
       "      <td>Jaga selalu imunitas dengan mengonsumsi makana...</td>\n",
       "      <td>1</td>\n",
       "    </tr>\n",
       "    <tr>\n",
       "      <th>3740</th>\n",
       "      <td>Pasti ada yang siap dan nggak siap dengan perp...</td>\n",
       "      <td>2</td>\n",
       "    </tr>\n",
       "    <tr>\n",
       "      <th>3769</th>\n",
       "      <td>Pasti ada yang siap dan nggak siap dengan perp...</td>\n",
       "      <td>2</td>\n",
       "    </tr>\n",
       "    <tr>\n",
       "      <th>3810</th>\n",
       "      <td>KIta semua udah pada tau ya, saat ini fasilita...</td>\n",
       "      <td>0</td>\n",
       "    </tr>\n",
       "    <tr>\n",
       "      <th>3836</th>\n",
       "      <td>#semangat #ppkm</td>\n",
       "      <td>0</td>\n",
       "    </tr>\n",
       "    <tr>\n",
       "      <th>4080</th>\n",
       "      <td>#anakberkebutuhankhusus tidak optimal jika dil...</td>\n",
       "      <td>1</td>\n",
       "    </tr>\n",
       "    <tr>\n",
       "      <th>4468</th>\n",
       "      <td>PUSAT SEWA MOBIL % TERMURAH SE-JAKARTA. #sewam...</td>\n",
       "      <td>0</td>\n",
       "    </tr>\n",
       "    <tr>\n",
       "      <th>4568</th>\n",
       "      <td>Karena stimulasi untuk #anakberkebutuhankhusus...</td>\n",
       "      <td>2</td>\n",
       "    </tr>\n",
       "    <tr>\n",
       "      <th>4635</th>\n",
       "      <td>Pemerintah klo bikin acara rame2 di bolehin ti...</td>\n",
       "      <td>2</td>\n",
       "    </tr>\n",
       "    <tr>\n",
       "      <th>4693</th>\n",
       "      <td>PUSAT SEWA MOBIL % TERMURAH SE-JAKARTA. #sewam...</td>\n",
       "      <td>0</td>\n",
       "    </tr>\n",
       "    <tr>\n",
       "      <th>4788</th>\n",
       "      <td>Menjadi relawan kemanusiaan tak hanya handal d...</td>\n",
       "      <td>1</td>\n",
       "    </tr>\n",
       "    <tr>\n",
       "      <th>4822</th>\n",
       "      <td>Endhasku Mumeeett #ppkm\\nhttps://t.co/5TXgfM2VQX</td>\n",
       "      <td>0</td>\n",
       "    </tr>\n",
       "    <tr>\n",
       "      <th>4954</th>\n",
       "      <td>#PPKM</td>\n",
       "      <td>2</td>\n",
       "    </tr>\n",
       "    <tr>\n",
       "      <th>4964</th>\n",
       "      <td>Pemerintah Siapkan 3 Skenario Antisipasi Lonja...</td>\n",
       "      <td>1</td>\n",
       "    </tr>\n",
       "    <tr>\n",
       "      <th>5003</th>\n",
       "      <td>Mengerem Laju Penularan COVID-19 Dengan Nama #...</td>\n",
       "      <td>1</td>\n",
       "    </tr>\n",
       "    <tr>\n",
       "      <th>5250</th>\n",
       "      <td>Teman-teman, tetap disiplin protokol kesehatan...</td>\n",
       "      <td>1</td>\n",
       "    </tr>\n",
       "    <tr>\n",
       "      <th>5263</th>\n",
       "      <td>Pemerintah klo bikin acara rame2 di bolehin ti...</td>\n",
       "      <td>2</td>\n",
       "    </tr>\n",
       "    <tr>\n",
       "      <th>5362</th>\n",
       "      <td>PUSAT SEWA MOBIL % TERMURAH SE-JAKARTA. #sewam...</td>\n",
       "      <td>1</td>\n",
       "    </tr>\n",
       "    <tr>\n",
       "      <th>5420</th>\n",
       "      <td>Salam sehat. Tetap tabah, optimis dan berkolab...</td>\n",
       "      <td>0</td>\n",
       "    </tr>\n",
       "    <tr>\n",
       "      <th>5465</th>\n",
       "      <td>Karena stimulasi untuk #anakberkebutuhankhusus...</td>\n",
       "      <td>2</td>\n",
       "    </tr>\n",
       "    <tr>\n",
       "      <th>5515</th>\n",
       "      <td>tinggal 6 slot aja ni guys #netflixpremium nya...</td>\n",
       "      <td>0</td>\n",
       "    </tr>\n",
       "  </tbody>\n",
       "</table>\n",
       "</div>"
      ],
      "text/plain": [
       "                                                  Tweet  sentiment\n",
       "898                                               #PPKM          2\n",
       "1258  Pemerintah Siapkan 3 Skenario Antisipasi Lonja...          1\n",
       "1681                                    #semangat #ppkm          0\n",
       "1691  Pemerintah Siapkan 3 Skenario Antisipasi Lonja...          1\n",
       "1898  #ghostparade #ghostparadecomic #tidaktakuthant...          0\n",
       "2108                                              #PPKM          2\n",
       "2189  Pemerintah klo bikin acara rame2 di bolehin ti...          2\n",
       "2286                                    #semangat #ppkm          0\n",
       "2315  Hasil Pengeluaran BULLSEYE\\nHari Ini : Selasa ...          1\n",
       "2431  Pasti ada yang siap dan nggak siap dengan perp...          2\n",
       "2466  https://t.co/4ur9cGJ627 Link daftar untuk perm...          1\n",
       "2471  Pasti ada yang siap dan nggak siap dengan perp...          2\n",
       "2777                                    #semangat #ppkm          0\n",
       "2850                                              #PPKM          2\n",
       "3215   Endhasku Mumeeett #ppkm\\nhttps://t.co/5TXgfM2VQX          0\n",
       "3242  Akibat hectic maka efeknya akan spt efek domin...          0\n",
       "3434                                    #semangat #ppkm          0\n",
       "3457  Pemerintah klo bikin acara rame2 di bolehin ti...          2\n",
       "3458                                              #PPKM          2\n",
       "3474  https://t.co/4ur9cGJ627 Link daftar untuk perm...          1\n",
       "3498  @anteraja_id Bahagia aja kalo paket d d kirim ...          0\n",
       "3517  Jaga selalu imunitas dengan mengonsumsi makana...          1\n",
       "3740  Pasti ada yang siap dan nggak siap dengan perp...          2\n",
       "3769  Pasti ada yang siap dan nggak siap dengan perp...          2\n",
       "3810  KIta semua udah pada tau ya, saat ini fasilita...          0\n",
       "3836                                    #semangat #ppkm          0\n",
       "4080  #anakberkebutuhankhusus tidak optimal jika dil...          1\n",
       "4468  PUSAT SEWA MOBIL % TERMURAH SE-JAKARTA. #sewam...          0\n",
       "4568  Karena stimulasi untuk #anakberkebutuhankhusus...          2\n",
       "4635  Pemerintah klo bikin acara rame2 di bolehin ti...          2\n",
       "4693  PUSAT SEWA MOBIL % TERMURAH SE-JAKARTA. #sewam...          0\n",
       "4788  Menjadi relawan kemanusiaan tak hanya handal d...          1\n",
       "4822   Endhasku Mumeeett #ppkm\\nhttps://t.co/5TXgfM2VQX          0\n",
       "4954                                              #PPKM          2\n",
       "4964  Pemerintah Siapkan 3 Skenario Antisipasi Lonja...          1\n",
       "5003  Mengerem Laju Penularan COVID-19 Dengan Nama #...          1\n",
       "5250  Teman-teman, tetap disiplin protokol kesehatan...          1\n",
       "5263  Pemerintah klo bikin acara rame2 di bolehin ti...          2\n",
       "5362  PUSAT SEWA MOBIL % TERMURAH SE-JAKARTA. #sewam...          1\n",
       "5420  Salam sehat. Tetap tabah, optimis dan berkolab...          0\n",
       "5465  Karena stimulasi untuk #anakberkebutuhankhusus...          2\n",
       "5515  tinggal 6 slot aja ni guys #netflixpremium nya...          0"
      ]
     },
     "execution_count": 70,
     "metadata": {},
     "output_type": "execute_result"
    }
   ],
   "source": [
    "# untuk menampilkan data yang terduplikasi\n",
    "df[df.duplicated()]"
   ]
  },
  {
   "cell_type": "markdown",
   "metadata": {},
   "source": [
    "di atas merupakan beberapa data yang terduplikasi, maka kita perlu menghilangkan saja untuk data yang terduplikasi ini"
   ]
  },
  {
   "cell_type": "code",
   "execution_count": 71,
   "metadata": {},
   "outputs": [
    {
     "data": {
      "text/html": [
       "<div>\n",
       "<style scoped>\n",
       "    .dataframe tbody tr th:only-of-type {\n",
       "        vertical-align: middle;\n",
       "    }\n",
       "\n",
       "    .dataframe tbody tr th {\n",
       "        vertical-align: top;\n",
       "    }\n",
       "\n",
       "    .dataframe thead th {\n",
       "        text-align: right;\n",
       "    }\n",
       "</style>\n",
       "<table border=\"1\" class=\"dataframe\">\n",
       "  <thead>\n",
       "    <tr style=\"text-align: right;\">\n",
       "      <th></th>\n",
       "      <th>Tweet</th>\n",
       "      <th>sentiment</th>\n",
       "    </tr>\n",
       "  </thead>\n",
       "  <tbody>\n",
       "  </tbody>\n",
       "</table>\n",
       "</div>"
      ],
      "text/plain": [
       "Empty DataFrame\n",
       "Columns: [Tweet, sentiment]\n",
       "Index: []"
      ]
     },
     "execution_count": 71,
     "metadata": {},
     "output_type": "execute_result"
    }
   ],
   "source": [
    "# untuk menghilangkan data yang terduplikasi\n",
    "df.drop_duplicates(inplace=True)\n",
    "\n",
    "# untuk menampilkan data yang terduplikasi\n",
    "df[df.duplicated]"
   ]
  },
  {
   "cell_type": "markdown",
   "metadata": {},
   "source": [
    "### Train Test Split"
   ]
  },
  {
   "cell_type": "markdown",
   "metadata": {},
   "source": [
    "dalam tahapan ini kita akan membagi antara data train dengan data test. Tujuannya untuk kita dapat melakukan testing sehingga kita mengetahui performa dari model. Untuk sekarang kita menggunakan test size sebesar 0.2"
   ]
  },
  {
   "cell_type": "code",
   "execution_count": 72,
   "metadata": {},
   "outputs": [
    {
     "data": {
      "text/plain": [
       "670     Finally, it's official guys! \\nHarus Totalitas...\n",
       "3509    Hai SohIB! Kapasitas penumpang #KRL Jabodetabe...\n",
       "4408    Menteri Koordinator Bidang Perekonomian, Airla...\n",
       "1622    37 kabupaten/kota di luar Jawa-Bali jalankan P...\n",
       "2592    Ketahui informasi pembagian #PPKM di wilayah J...\n",
       "                              ...                        \n",
       "3796    Perpisahan tak membuat segalanya berakhir\\nPin...\n",
       "5227    PTM SD Masih 50 Persen PPKM Banyumas Turun Lev...\n",
       "5264    Setiap kita yang 'usaha' hari ini sama-sama ke...\n",
       "5430    Libur Aman dan Nyaman Tanpa Covid\\n\\nPemerinta...\n",
       "860     Kasus COVID-19 di luar Jawa dan Bali masih rel...\n",
       "Name: Tweet, Length: 4527, dtype: object"
      ]
     },
     "execution_count": 72,
     "metadata": {},
     "output_type": "execute_result"
    }
   ],
   "source": [
    "# fungsi yang akan mengembalikan x, y yang sudah di split\n",
    "def Train_Test_Split(x, y, test_size=0.2, random_seed=None):\n",
    "    # banyaknya data\n",
    "    n = len(x)\n",
    "\n",
    "    # jika menentukan keacakan yang pasti\n",
    "    if random_seed:\n",
    "        np.random.seed(random_seed)\n",
    "\n",
    "    # menghitung banyaknya datatest \n",
    "    test_size = int(test_size*n)\n",
    "\n",
    "    # mengambil matrix random untuk menjadikan indices\n",
    "    indices = np.random.permutation(n)\n",
    "    train_indices, test_indices = indices[test_size:], indices[:test_size]\n",
    "\n",
    "    # mengembalikan x_train, x_test, y_train, y_test\n",
    "    return x.iloc[train_indices], x.iloc[test_indices], y.iloc[train_indices], y.iloc[test_size]\n",
    "\n",
    "# menentukan x dan y nya\n",
    "x = df[\"Tweet\"]\n",
    "y = df[\"sentiment\"]\n",
    "\n",
    "# melakukan split pada data kita\n",
    "X_train, X_test, y_train, y_test = Train_Test_Split(x, y, random_seed=42)\n",
    "\n",
    "# untuk menampilkan X_train\n",
    "X_train"
   ]
  },
  {
   "cell_type": "markdown",
   "metadata": {},
   "source": [
    "### Case Folding"
   ]
  },
  {
   "cell_type": "markdown",
   "metadata": {},
   "source": [
    "Pada tahapan ini kita akan menghapus karater karakter yang tidak diperlukan dan tidak penting seperti tanda baca, hastag, tag, dan lain sebagainya."
   ]
  },
  {
   "cell_type": "code",
   "execution_count": 81,
   "metadata": {},
   "outputs": [
    {
     "data": {
      "text/plain": [
       "670     finally its official guys harus totalitas tega...\n",
       "3509    hai sohib kapasitas penumpang  jabodetabek dan...\n",
       "4408    menteri koordinator bidang perekonomian airlan...\n",
       "1622     kabupatenkota di luar jawabali jalankan ppkm ...\n",
       "2592    ketahui informasi pembagian  di wilayah jabar ...\n",
       "                              ...                        \n",
       "3796    perpisahan tak membuat segalanya berakhirpintu...\n",
       "5227    ptm sd masih  persen ppkm banyumas turun level...\n",
       "5264    setiap kita yang usaha hari ini samasama kesus...\n",
       "5430    libur aman dan nyaman tanpa covidpemerintah te...\n",
       "860     kasus covid di luar jawa dan bali masih relati...\n",
       "Name: Tweet, Length: 4527, dtype: object"
      ]
     },
     "execution_count": 81,
     "metadata": {},
     "output_type": "execute_result"
    }
   ],
   "source": [
    "# yang akan mengembalikan text yang sudah di casefolding\n",
    "def case_folding(text):\n",
    "    # untuk menghilangkan tag\n",
    "    text = re.sub(r\"@[A-Za-z0-9_]+\", \"\", text)\n",
    "\n",
    "    # untuk menghilangkan hastag\n",
    "    text = re.sub(r\"#\\w+\", \"\", text)\n",
    "\n",
    "    # untuk menghilangkan angka\n",
    "    text = re.sub(r\"\\d+\", \"\", text)\n",
    "\n",
    "    # untuk meghilangkan enter / newline\n",
    "    text = re.sub(r\"\\n+\", \"\", text)\n",
    "\n",
    "    # untuk menghilangkan karakter RT \n",
    "    text = re.sub(r\"RT[\\s]+\", \"\", text)\n",
    "\n",
    "    # untuk menghilangkan link\n",
    "    text = re.sub(r\"https?://\\S+\", \"\", text)\n",
    "\n",
    "    # untuk menghilangkan tanda baca\n",
    "    text = text.translate(str.maketrans(\"\", \"\", string.punctuation))\n",
    "\n",
    "    # untuk menghilangkan emohji\n",
    "    emoji_pattern = re.compile(\"[\"\n",
    "                               u\"\\U0001F600-\\U0001F64F\"\n",
    "                               u\"\\U0001F300-\\U0001F5FF\"\n",
    "                               u\"\\U0001F680-\\U0001F6FF\"\n",
    "                               u\"\\U00010000-\\U0010ffff\"\n",
    "                               \"]+\", flags=re.UNICODE)\n",
    "    text = emoji_pattern.sub(r\"\", text)\n",
    "\n",
    "    return text.lower()\n",
    "    \n",
    "    \n",
    "# mengaplikasikannya untuk setiap dokumen\n",
    "X_train = X_train.apply(case_folding)\n",
    "X_train"
   ]
  },
  {
   "cell_type": "markdown",
   "metadata": {},
   "source": [
    "mari kita cek untuk hasilnya"
   ]
  },
  {
   "cell_type": "code",
   "execution_count": 89,
   "metadata": {},
   "outputs": [
    {
     "data": {
      "text/plain": [
       "'Katanya #ppkm diperpanjang? Sampe berapa meter panjangnya tuh?? 🙄😏'"
      ]
     },
     "execution_count": 89,
     "metadata": {},
     "output_type": "execute_result"
    }
   ],
   "source": [
    "# sebelum di case folding\n",
    "df.Tweet.loc[2160]"
   ]
  },
  {
   "cell_type": "code",
   "execution_count": 90,
   "metadata": {},
   "outputs": [
    {
     "data": {
      "text/plain": [
       "'katanya  diperpanjang sampe berapa meter panjangnya tuh '"
      ]
     },
     "execution_count": 90,
     "metadata": {},
     "output_type": "execute_result"
    }
   ],
   "source": [
    "# setelah di case folding\n",
    "X_train.loc[2160]"
   ]
  },
  {
   "cell_type": "markdown",
   "metadata": {},
   "source": [
    "### Tokenize"
   ]
  },
  {
   "cell_type": "markdown",
   "metadata": {},
   "source": [
    "Pada tahapan ini kita akan melakuan pisahkn dokumen menjadi perkata. Hal ini difungsikan agar kita dapat menghitung bobot kata. Kata inila yang akan digunakan sebgai feature nantinya."
   ]
  },
  {
   "cell_type": "code",
   "execution_count": 91,
   "metadata": {},
   "outputs": [
    {
     "data": {
      "text/plain": [
       "670     [finally, its, official, guys, harus, totalita...\n",
       "3509    [hai, sohib, kapasitas, penumpang, jabodetabek...\n",
       "4408    [menteri, koordinator, bidang, perekonomian, a...\n",
       "1622    [kabupatenkota, di, luar, jawabali, jalankan, ...\n",
       "2592    [ketahui, informasi, pembagian, di, wilayah, j...\n",
       "                              ...                        \n",
       "3796    [perpisahan, tak, membuat, segalanya, berakhir...\n",
       "5227    [ptm, sd, masih, persen, ppkm, banyumas, turun...\n",
       "5264    [setiap, kita, yang, usaha, hari, ini, samasam...\n",
       "5430    [libur, aman, dan, nyaman, tanpa, covidpemerin...\n",
       "860     [kasus, covid, di, luar, jawa, dan, bali, masi...\n",
       "Name: Tweet, Length: 4527, dtype: object"
      ]
     },
     "execution_count": 91,
     "metadata": {},
     "output_type": "execute_result"
    }
   ],
   "source": [
    "# melakukan pemisahan menjadi kata\n",
    "def tokenize(text):\n",
    "    return word_tokenize(text)\n",
    "\n",
    "# mengimentasikan untuk setiap item\n",
    "X_train  = X_train.apply(tokenize)\n",
    "X_train"
   ]
  },
  {
   "cell_type": "markdown",
   "metadata": {},
   "source": [
    "### Stopwords"
   ]
  },
  {
   "cell_type": "markdown",
   "metadata": {},
   "source": [
    "Tahapan stopwords adalah dimana kita membuang kata yang tidak begitu penting dan tidak bermakna secara independent. Karena sudah dipishkan menjadi perkata makan makna dai setiap kata haruslah independent. Misal kata hubung, kata sifat, dan lain lain "
   ]
  },
  {
   "cell_type": "code",
   "execution_count": 95,
   "metadata": {},
   "outputs": [
    {
     "data": {
      "text/plain": [
       "670     [finally, its, official, guys, totalitas, tega...\n",
       "3509    [hai, sohib, kapasitas, penumpang, jabodetabek...\n",
       "4408    [menteri, koordinator, bidang, perekonomian, a...\n",
       "1622    [kabupatenkota, luar, jawabali, jalankan, ppkm...\n",
       "2592    [ketahui, informasi, pembagian, wilayah, jabar...\n",
       "                              ...                        \n",
       "3796    [perpisahan, tak, membuat, segalanya, berakhir...\n",
       "5227      [ptm, sd, persen, ppkm, banyumas, turun, level]\n",
       "5264    [usaha, hari, samasama, kesusahan, usaha, mend...\n",
       "5430    [libur, aman, nyaman, covidpemerintah, menetap...\n",
       "860     [kasus, covid, luar, jawa, bali, relatif, rend...\n",
       "Name: Tweet, Length: 4527, dtype: object"
      ]
     },
     "execution_count": 95,
     "metadata": {},
     "output_type": "execute_result"
    }
   ],
   "source": [
    "# untuk mengambil kata yang tak bermakna\n",
    "stopw = StopWordRemoverFactory().get_stop_words()\n",
    "\n",
    "# fungsi yang menghilangkan stopword\n",
    "def stopword(doc):\n",
    "    return [text for text in doc if text not in stopw]\n",
    "\n",
    "# mengimplementasikan pada setiap dokumen\n",
    "X_train = X_train.apply(stopword)\n",
    "X_train"
   ]
  },
  {
   "cell_type": "markdown",
   "metadata": {},
   "source": [
    "### Stemming"
   ]
  },
  {
   "cell_type": "markdown",
   "metadata": {},
   "source": [
    "Dalam tahapan ini kita akan mengubah kata yang memiliki imbuhan seperti -nya / me- / pe- menjadi kata aslinya (tanpa imbuhan). Hal ini difungsikan agar kata dalam setiap dokumen memiliki makna yang sama"
   ]
  },
  {
   "cell_type": "code",
   "execution_count": 104,
   "metadata": {},
   "outputs": [],
   "source": [
    "# fungsi yang akan mengembalikan kata yang sudah di stem\n",
    "stem = StemmerFactory().create_stemmer()\n",
    "\n",
    "# fungsi yang akan mengembalikan dokumen yang sudah di stem\n",
    "def stemming(doc):\n",
    "    return [stem.stem(text) for text in doc]\n",
    "\n",
    "# mengaplikasikan di setiap dokumen\n",
    "X_train = X_train.apply(stemming)\n",
    "# untuk berjaga jaga, kita mengcopynya\n",
    "X_traincopy = X_train.copy()"
   ]
  },
  {
   "cell_type": "markdown",
   "metadata": {},
   "source": [
    "dikarenakan prosesnya cukup lama maka kita perlu menynimpannya terlebih dahulu"
   ]
  },
  {
   "cell_type": "code",
   "execution_count": 105,
   "metadata": {},
   "outputs": [
    {
     "data": {
      "text/plain": [
       "670     [finally, its, official, guys, totalitas, tega...\n",
       "3509    [hai, sohib, kapasitas, tumpang, jabodetabek, ...\n",
       "4408    [menteri, koordinator, bidang, ekonomi, airlan...\n",
       "1622    [kabupatenkota, luar, jawabali, jalan, ppkm, l...\n",
       "2592    [tahu, informasi, bagi, wilayah, jabar, dasar,...\n",
       "                              ...                        \n",
       "3796    [pisah, tak, buat, segala, berakhirpintupintu,...\n",
       "5227      [ptm, sd, persen, ppkm, banyumas, turun, level]\n",
       "5264    [usaha, hari, samasama, susah, usaha, diskon, ...\n",
       "5430    [libur, aman, nyaman, covidpemerintah, tetap, ...\n",
       "860     [kasus, covid, luar, jawa, bal, relatif, renda...\n",
       "Name: Tweet, Length: 4527, dtype: object"
      ]
     },
     "execution_count": 105,
     "metadata": {},
     "output_type": "execute_result"
    }
   ],
   "source": [
    "# untuk disimpan terlebih dahulu\n",
    "X_train.to_csv(\"stem2.csv\", index=False)\n",
    "\n",
    "X_train\n",
    "\n"
   ]
  },
  {
   "cell_type": "code",
   "execution_count": 112,
   "metadata": {},
   "outputs": [
    {
     "data": {
      "text/plain": [
       "0       [finally,  its,  official,  guys,  totalitas, ...\n",
       "1       [hai,  sohib,  kapasitas,  tumpang,  jabodetab...\n",
       "2       [menteri,  koordinator,  bidang,  ekonomi,  ai...\n",
       "3       [kabupatenkota,  luar,  jawabali,  jalan,  ppk...\n",
       "4       [tahu,  informasi,  bagi,  wilayah,  jabar,  d...\n",
       "                              ...                        \n",
       "4522    [pisah,  tak,  buat,  segala,  berakhirpintupi...\n",
       "4523    [ptm,  sd,  persen,  ppkm,  banyumas,  turun, ...\n",
       "4524    [usaha,  hari,  samasama,  susah,  usaha,  dis...\n",
       "4525    [libur,  aman,  nyaman,  covidpemerintah,  tet...\n",
       "4526    [kasus,  covid,  luar,  jawa,  bal,  relatif, ...\n",
       "Name: Tweet, Length: 4527, dtype: object"
      ]
     },
     "execution_count": 112,
     "metadata": {},
     "output_type": "execute_result"
    }
   ],
   "source": [
    "# mengupdate / memanggil ulang\n",
    "X_train = pd.read_csv(\"stem2.csv\")[\"Tweet\"].apply(lambda x: x.replace(\"'\", \"\").strip(\"][\").split(\",\"))\n",
    "\n",
    "X_train"
   ]
  },
  {
   "cell_type": "markdown",
   "metadata": {},
   "source": [
    "# **Pembobotan Kata**"
   ]
  },
  {
   "cell_type": "markdown",
   "metadata": {},
   "source": [
    "### Analize Frequency Word"
   ]
  },
  {
   "cell_type": "markdown",
   "metadata": {},
   "source": [
    "### Word Frequency on Document"
   ]
  },
  {
   "cell_type": "markdown",
   "metadata": {},
   "source": [
    "### Term Frequency"
   ]
  },
  {
   "cell_type": "markdown",
   "metadata": {},
   "source": [
    "### Inverse Document Frequency"
   ]
  },
  {
   "cell_type": "markdown",
   "metadata": {},
   "source": [
    "### TF - IDF"
   ]
  },
  {
   "cell_type": "markdown",
   "metadata": {},
   "source": [
    "### Feature Selection"
   ]
  },
  {
   "cell_type": "markdown",
   "metadata": {},
   "source": [
    "# **Modeling**"
   ]
  },
  {
   "cell_type": "markdown",
   "metadata": {},
   "source": [
    "### Create Class "
   ]
  },
  {
   "cell_type": "markdown",
   "metadata": {},
   "source": [
    "### Training"
   ]
  },
  {
   "cell_type": "markdown",
   "metadata": {},
   "source": [
    "### Testing"
   ]
  },
  {
   "cell_type": "markdown",
   "metadata": {},
   "source": [
    "### Conclusion"
   ]
  },
  {
   "cell_type": "markdown",
   "metadata": {},
   "source": []
  }
 ],
 "metadata": {
  "kernelspec": {
   "display_name": "Python 3",
   "language": "python",
   "name": "python3"
  },
  "language_info": {
   "codemirror_mode": {
    "name": "ipython",
    "version": 3
   },
   "file_extension": ".py",
   "mimetype": "text/x-python",
   "name": "python",
   "nbconvert_exporter": "python",
   "pygments_lexer": "ipython3",
   "version": "3.9.6"
  }
 },
 "nbformat": 4,
 "nbformat_minor": 2
}

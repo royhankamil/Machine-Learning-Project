{
 "cells": [
  {
   "cell_type": "markdown",
   "metadata": {},
   "source": [
    "### Penerapan Kalkulasi TF-IDF Untuk Dataset Klasifikasi Komentar"
   ]
  },
  {
   "cell_type": "markdown",
   "metadata": {},
   "source": [
    "#### Inisialisasi Library Yang Diperlukan Untuk TF-IDF"
   ]
  },
  {
   "cell_type": "code",
   "execution_count": 211,
   "metadata": {},
   "outputs": [],
   "source": [
    "import math"
   ]
  },
  {
   "cell_type": "markdown",
   "metadata": {},
   "source": [
    "#### Kalkulasi TF-IDF"
   ]
  },
  {
   "cell_type": "code",
   "execution_count": 212,
   "metadata": {},
   "outputs": [],
   "source": [
    "# Inisialisasi Class yang akan digunakan untuk kalkulasi TF-IDF\n",
    "class TFIDFVectorizer:\n",
    "    # Inisialisasi variable yang dibutuhkan untuk kalkulasi TF-IDF\n",
    "    def __init__(self) -> None:\n",
    "        # Inisialisasi variable untuk menampung array teks yang sudah ditokenisasi dalam bentuk dictionary.\n",
    "        self.documents = {}\n",
    "\n",
    "        # Inisialisasi variable untuk menampung array TF yang sudah dikalkulasi dengan format {index : {term : value, ...}}\n",
    "        self.tf = {}\n",
    "\n",
    "        # Inisialisasi variable untuk menampung array IDF yang sudah dikalkulasi dengan format {key : value}\n",
    "        self.idf = {}\n",
    "        self.idf_token = []\n",
    "\n",
    "        # Inisialisasi variable untuk menampung array TF-IDF yang sudah dikalkulasi dengan format {index : {term : value, ...}}\n",
    "        self.tfidf = {}\n",
    "\n",
    "        # Inisialisasi variable untuk menampung hasil tertinggi dan terendah dalam array TFIDF untuk keperluan normalisasi TF-IDF\n",
    "        self.max_tfidf = 0\n",
    "        self.min_tfidf = 0\n",
    "\n",
    "    # Kalkulasi frekuensi kemunculan tiap term didalam dokumen dengan rumus (Number of term appear in the document/total term in the document)\n",
    "    def CalculateTermFrequence(self):\n",
    "        for index, document in self.documents.items():\n",
    "            self.tf[index] = {}\n",
    "            for term in document:\n",
    "                if term in self.tf[index]:\n",
    "                    self.tf[index][term] += 1\n",
    "                else:\n",
    "                    self.tf[index][term] = 1\n",
    "            self.tf[index] = {term: value/sum(self.tf[index].values()) for term, value in self.tf[index].items()}\n",
    "    \n",
    "    # Kalkulasi Inverse Document Frequency, yang dimana semakin kecil maka semakin sering muncul dengan rumus log(Total Documents/Number the term appear in all documents)\n",
    "    def CalculateInverseDocumentFrequency(self):\n",
    "        documents_length = len(documents)\n",
    "        self.idf_token = set()\n",
    "\n",
    "        for document in self.documents.values():\n",
    "            self.idf_token.update(document)\n",
    "\n",
    "        for token in self.idf_token:\n",
    "            self.idf[token] = math.log(documents_length/sum(1 for doc in self.documents.values() if token in doc))\n",
    "        \n",
    "    # Kalkulasi TFIDF dengan rumus (TERM_ITF*Calculated_IDF_TERM)\n",
    "    def CalculateTFIDF(self):\n",
    "        for index, document in self.tf.items():\n",
    "            self.tfidf[index] = {}\n",
    "            for word, value in document.items():\n",
    "                self.tfidf[index][word] = value*self.idf[word]\n",
    "        \n",
    "        flattened_value = [value for doc in self.tfidf.values() for value in doc.values()]\n",
    "        self.max_tfidf = max(flattened_value)\n",
    "        self.min_tfidf = min(flattened_value)\n",
    "\n",
    "    def Normalize(self,value):\n",
    "        return (value-self.min_tfidf)/(self.max_tfidf-self.min_tfidf)\n",
    "    \n",
    "    # Memanggil Semua Fungsi untuk train TFIDF yang akan digunakan di Model, dan digunakan untuk mengconvert (predict text(input)) menjadi Value TF-IDF\n",
    "    def Train(self, documents = {}):\n",
    "        self.documents = documents\n",
    "        self.CalculateTermFrequence()\n",
    "        self.CalculateInverseDocumentFrequency()\n",
    "        self.CalculateTFIDF()\n",
    "        \n",
    "        return self.tfidf\n",
    "    \n",
    "    # Kalkulasi TFIDF Terhadap (predict text(input)) dengan IDF yang sudah dikalkulasi di fungsi train/IDF dari data train untuk menunjukkan keunikan setiapterm pada (predict text(input))\n",
    "    def CalculatePredictTextTFIDF(self, document):\n",
    "        tf = {}\n",
    "        for word in document:\n",
    "            if word in tf:\n",
    "                tf[word]+=1\n",
    "            else:\n",
    "                tf[word]=1\n",
    "        tf = {key: value/sum(tf.values()) for key, value in tf.items()}\n",
    "\n",
    "        tfidf = {}\n",
    "        for word, value in tf.items():\n",
    "            if word in self.idf_token:\n",
    "                tfidf[word] = value*self.idf[word]\n",
    "        \n",
    "        return tfidf"
   ]
  },
  {
   "cell_type": "code",
   "execution_count": 213,
   "metadata": {},
   "outputs": [],
   "source": [
    "documents = {\n",
    "    0 : ['text', 'text', 'text'],\n",
    "    1 : ['text', 'macan', 'lily'],\n",
    "    2 : ['macan', 'macan', 'lily'],\n",
    "    3 : ['macan', 'text', 'lily'],\n",
    "    4 : ['text', 'lily', 'lily'],\n",
    "    5 : ['text', 'text', 'lily'],\n",
    "    6 : ['text', 'macan', 'rere'],\n",
    "}"
   ]
  },
  {
   "cell_type": "code",
   "execution_count": 214,
   "metadata": {},
   "outputs": [
    {
     "name": "stdout",
     "output_type": "stream",
     "text": [
      "{0: {'text': 0.15415067982725836}, 1: {'text': 0.05138355994241945, 'macan': 0.18653859597847422, 'lily': 0.11215741220707096}, 2: {'macan': 0.37307719195694844, 'lily': 0.11215741220707096}, 3: {'macan': 0.18653859597847422, 'text': 0.05138355994241945, 'lily': 0.11215741220707096}, 4: {'text': 0.05138355994241945, 'lily': 0.2243148244141419}, 5: {'text': 0.1027671198848389, 'lily': 0.11215741220707096}, 6: {'text': 0.05138355994241945, 'macan': 0.18653859597847422, 'rere': 0.648636716351771}}\n",
      "{'text': 0.15415067982725836}\n"
     ]
    }
   ],
   "source": [
    "vectorizer = TFIDFVectorizer()\n",
    "vectorizer.Train(documents)\n",
    "print(vectorizer.tfidf)\n",
    "print(vectorizer.CalculatePredictTextTFIDF(document=['text', 'text', 'text']))"
   ]
  }
 ],
 "metadata": {
  "kernelspec": {
   "display_name": "Python 3",
   "language": "python",
   "name": "python3"
  },
  "language_info": {
   "codemirror_mode": {
    "name": "ipython",
    "version": 3
   },
   "file_extension": ".py",
   "mimetype": "text/x-python",
   "name": "python",
   "nbconvert_exporter": "python",
   "pygments_lexer": "ipython3",
   "version": "3.12.2"
  }
 },
 "nbformat": 4,
 "nbformat_minor": 2
}

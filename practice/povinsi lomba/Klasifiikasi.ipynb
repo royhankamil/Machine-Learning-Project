{
 "cells": [
  {
   "cell_type": "code",
   "execution_count": 1,
   "metadata": {},
   "outputs": [],
   "source": [
    "import numpy as np"
   ]
  },
  {
   "cell_type": "code",
   "execution_count": null,
   "metadata": {},
   "outputs": [],
   "source": [
    "# algoritma knn\n",
    "class KNN:\n",
    "    # agar bisa dilakukan tunning parameter\n",
    "    def __init__(self, n_neighbors=3, weight=\"uniform\"):\n",
    "        self.n_neighbors = n_neighbors # banyak k\n",
    "        self.weight = weight # bobot\n",
    "        self.x = None # x\n",
    "        self.y = None # y\n",
    "\n",
    "    # untuk tra\n",
    "    def fit(self, x, y):\n",
    "        if len(x) != len(y):\n",
    "            raise f\"length of x is different with length of y, x = ({len(x)}) and y = ({len(y)})\"\n",
    "\n",
    "        self.x = x\n",
    "        self.y = y\n",
    "\n",
    "    def predict(self, x):\n",
    "        distance = [np.sqrt(np.sum((x-x1)**2)) for x1 in self.x]\n",
    "        nearest = np.argsort(distance)[:self.n_neighbors]\n",
    "        labels = [self.y[i] for i in nearest]\n",
    "\n",
    "        if self.weight == \"uniform\":\n",
    "            return np.bincount(labels).argmax()\n",
    "        \n",
    "        if self.weight == \"distance\":\n",
    "            weight =  [(1/(distance[i]+1e-10)) for i in  nearest]\n",
    "            return np.bincount(labels, weight).argmax()\n",
    "        \n",
    "        raise \"cannot use parameter, but 'uniform' or 'distance'\"\n",
    "    \n",
    "    def accuracy(self, y_pred, y_true):\n",
    "        n = len(y_pred)\n",
    "        counter = 0\n",
    "        for i in range(n):\n",
    "            if y_pred[i] == y_true[i]:\n",
    "                counter += 1\n",
    "\n",
    "        return counter / n\n",
    "\n"
   ]
  }
 ],
 "metadata": {
  "kernelspec": {
   "display_name": "Python 3",
   "language": "python",
   "name": "python3"
  },
  "language_info": {
   "codemirror_mode": {
    "name": "ipython",
    "version": 3
   },
   "file_extension": ".py",
   "mimetype": "text/x-python",
   "name": "python",
   "nbconvert_exporter": "python",
   "pygments_lexer": "ipython3",
   "version": "3.12.2"
  }
 },
 "nbformat": 4,
 "nbformat_minor": 2
}

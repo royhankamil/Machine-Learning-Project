{
 "cells": [
  {
   "cell_type": "markdown",
   "metadata": {},
   "source": [
    "## Menghitung TF-IDF"
   ]
  },
  {
   "cell_type": "markdown",
   "metadata": {},
   "source": [
    "##### Inisialisasi Library yang diperlukan untuk mengkalkulasi TF-IDF"
   ]
  },
  {
   "cell_type": "code",
   "execution_count": 1,
   "metadata": {},
   "outputs": [],
   "source": [
    "import math"
   ]
  },
  {
   "cell_type": "markdown",
   "metadata": {},
   "source": [
    "##### Kalkulasi TF-IDF"
   ]
  },
  {
   "cell_type": "code",
   "execution_count": 3,
   "metadata": {},
   "outputs": [],
   "source": [
    "class TFIDFVectorizer:\n",
    "    # Menginisialisasi Variable yang diperlukan untuk mengkalkulasi TF-IDF\n",
    "    def __init__(self):\n",
    "        self.documents = {}\n",
    "        self.document_length = {}\n",
    "        self.tf = {}\n",
    "        self.idf = {}\n",
    "        self.idf_tokens = []\n",
    "        self.tfidf = {}\n",
    "        self.lowest_value = 0\n",
    "        self.highest_value = 0\n",
    "\n",
    "    # Mengkalkulasi TF (Term Frequency) dari setiap dokumen dengan formula (Total Term/Frequency per term)\n",
    "    def TermFrequency(self):\n",
    "        # Iterasi seluruh dokumen dan kata didalam dokumen untuk menemukan jumlah tiap kata dalam dokumen \n",
    "        for index, document in self.documents.items():\n",
    "            self.tf[index] = {}\n",
    "            for word in document:\n",
    "                if word in self.tf[index]:\n",
    "                    self.tf[index][word] +=1\n",
    "                else:\n",
    "                    self.tf[index][word] = 1\n",
    "\n",
    "            # Mengiterasi seluruh dokumen untuk menghitung Term Frequency dengan cara membagi frekuensi per term dengan total kata\n",
    "            self.tf[index] = {key: term_frequency/sum(self.tf[index].values()) for key, term_frequency in self.tf[index].items()}\n",
    "        \n",
    "    # Mengkalkulasi IDF (Inverse Document Frequency) dari semua dokumen dengan formula (log(All document with term/Total Documents))\n",
    "    def InverseDocumentFrequency(self):\n",
    "        # Menginisialisasi variable yang diperlukan dalam kalkulasi IDF\n",
    "        self.document_length = len(self.documents)\n",
    "        self.idf_tokens = set()\n",
    "\n",
    "        # Memilah kata secara unik\n",
    "        for document in self.documents.values():\n",
    "            self.idf_tokens.update(document)\n",
    "        \n",
    "        # Mengiterasi seluruh token untuk dikomparasikan di iterasi dokumen\n",
    "        for token in self.idf_tokens:\n",
    "            self.idf[token] = 0\n",
    "            for document in self.documents.values():\n",
    "                if token in document:\n",
    "                    self.idf[token] += 1\n",
    "                else:\n",
    "                    self.idf[token] = 1\n",
    "        \n",
    "        self.idf = {key: math.log(self.document_length/value) for key, value in self.idf.items()}\n",
    "\n",
    "\n",
    "    # Mengkalkulasi TF-IDF dengan formula (TF*IDF)\n",
    "    def TFIDF(self):\n",
    "        # Kalkulasi TF-IDF dengan cara mengiterasi seluruh tf values dan dikali dengan idf dengan key tf word\n",
    "        for index, document in self.tf.items():\n",
    "            self.tfidf[index] = {}\n",
    "            for word, values in document.items():\n",
    "                self.tfidf[index][word] = values*self.idf[word]\n",
    "\n",
    "        # Menormalisasi TF-IDF Agar lebih mudah untuk dianalisa secara deskriptif\n",
    "        all_values = [value for dict in self.tfidf.values() for value in dict.values()]\n",
    "        self.highest_value = max(all_values)\n",
    "        self.lowest_value = min(all_values)\n",
    "\n",
    "        # Kalkulasi normalisasi dengan rumus (values-min(data)/max(data)-min(data))\n",
    "        for index, document in self.tfidf.items():\n",
    "            for word, values in document.items():\n",
    "                self.tfidf[index][word] = (values-self.lowest_value/self.highest_value-self.lowest_value)\n",
    "                \n",
    "\n",
    "    def Train(self, documents = {}, treshold = 0.1):\n",
    "        self.documents = documents\n",
    "        self.TermFrequency()\n",
    "        self.InverseDocumentFrequency()\n",
    "        self.TFIDF()\n",
    "\n",
    "        return(self.tfidf)"
   ]
  },
  {
   "cell_type": "markdown",
   "metadata": {},
   "source": [
    "##### Mengkalkulasi data TF-IDF dari data train\n"
   ]
  },
  {
   "cell_type": "code",
   "execution_count": 26,
   "metadata": {},
   "outputs": [],
   "source": []
  }
 ],
 "metadata": {
  "kernelspec": {
   "display_name": "Python 3",
   "language": "python",
   "name": "python3"
  },
  "language_info": {
   "codemirror_mode": {
    "name": "ipython",
    "version": 3
   },
   "file_extension": ".py",
   "mimetype": "text/x-python",
   "name": "python",
   "nbconvert_exporter": "python",
   "pygments_lexer": "ipython3",
   "version": "3.11.9"
  }
 },
 "nbformat": 4,
 "nbformat_minor": 2
}

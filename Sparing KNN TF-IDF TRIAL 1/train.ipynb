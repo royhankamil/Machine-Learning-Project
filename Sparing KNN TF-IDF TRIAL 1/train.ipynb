{
 "cells": [
  {
   "cell_type": "code",
   "execution_count": 86,
   "metadata": {},
   "outputs": [
    {
     "data": {
      "text/plain": [
       "{'banana': 0.6108604879161034, 'apple': 0.0, 'orange': 0}"
      ]
     },
     "execution_count": 86,
     "metadata": {},
     "output_type": "execute_result"
    }
   ],
   "source": [
    "%run pembobotan.ipynb\n",
    "\n",
    "tokenized_dictionary = {\n",
    "    1: ['apple', 'orange', 'banana', 'apple'],\n",
    "    2: ['orange', 'banana', 'banana', 'apple'],\n",
    "    3: ['banana', 'apple', 'orange'],\n",
    "    4: ['orange', 'apple'],\n",
    "    5: ['banana', 'apple', 'banana']\n",
    "}\n",
    "\n",
    "tfidf = TFIDFVectorizer()\n",
    "tfidf.Train(tokenized_dictionary)\n",
    "\n",
    "tfidf.CalculatePredictTFIDF(text=['banana', 'apple', 'banana'])"
   ]
  }
 ],
 "metadata": {
  "kernelspec": {
   "display_name": "Python 3",
   "language": "python",
   "name": "python3"
  },
  "language_info": {
   "codemirror_mode": {
    "name": "ipython",
    "version": 3
   },
   "file_extension": ".py",
   "mimetype": "text/x-python",
   "name": "python",
   "nbconvert_exporter": "python",
   "pygments_lexer": "ipython3",
   "version": "3.11.9"
  }
 },
 "nbformat": 4,
 "nbformat_minor": 2
}

{
 "cells": [
  {
   "cell_type": "markdown",
   "metadata": {},
   "source": [
    "# **Klasifikasi**"
   ]
  },
  {
   "cell_type": "code",
   "execution_count": 1,
   "metadata": {},
   "outputs": [],
   "source": [
    "import numpy as np"
   ]
  },
  {
   "cell_type": "markdown",
   "metadata": {},
   "source": [
    "### **Create Class**"
   ]
  },
  {
   "cell_type": "markdown",
   "metadata": {},
   "source": [
    "Pada tahapan ini, kita akan membuat class yang berisi algoritma K nearest Neighborhood. Alasan saya meggunakan class adalah karena dalam penggunaan clasas ini akan mudah untuk dilakukan tunning parameter. Sangat memudahkan juga untuk pemrosesan karena dapat melakukan pemrosesan pada variable yang berhubung antarfunction."
   ]
  },
  {
   "cell_type": "code",
   "execution_count": null,
   "metadata": {},
   "outputs": [],
   "source": [
    "# berisi alg KNN\n",
    "class KNN:\n",
    "    # constructor yang dapat dilakukan tunning parameter\n",
    "    def __init__(self, n_neighbors=3, weight=None):\n",
    "        self.n_neighbors = n_neighbors # banyak k / neighbor\n",
    "        self.weight = weight # bobot perhitaungan kedekatan\n",
    "        self.x = None # data train x\n",
    "        self.y = None # data train y\n",
    "\n",
    "    # melakukan training\n",
    "    def fit(self, x, y):\n",
    "        # jika x ukurannya beda dengan y\n",
    "        if len(x) != len(y):\n",
    "            raise f\"error sizeof x ({len(x)}) is different with sizeof y ({len(y)})\"\n",
    "        \n",
    "        # menyimpan data trainnya\n",
    "        self.x = np.array(x)\n",
    "        self.y = np.array(y)\n",
    "\n",
    "    # untuk melakukan prediksi\n",
    "    def predict(self, x):\n",
    "        # untuk memastikan bahwa output menggunakan numpy array\n",
    "        x = np.array(x)\n",
    "\n",
    "        # menghitung jarak x_input dengan semua datatrain x\n",
    "        distance = [np.sqrt(np.sum((x-x1)**2)) for x1 in self.x]\n",
    "\n",
    "        # mengambil jarak yang terdekat\n",
    "        nearest = np.argsort(distance)[:self.n_neighbors]\n",
    "\n",
    "        # melabeli untuk x dengan jarak yang terdekat\n",
    "        labels = [self.y[i] for i in nearest]\n",
    "\n",
    "        # jika tanpa menggunakan bobot\n",
    "        if self.weight == \"uniform\":\n",
    "            return np.bincount(labels).argmax()\n",
    "        \n",
    "        # jika dengan menggunakan bobot\n",
    "        if self.weight == \"distance\":\n",
    "            # mencari bobot melalui jarak yang terdekat\n",
    "            weight = [(1/distance[i]+1e-10) for i in nearest]\n",
    "            return np.bincount(labels, weight).argmax()\n",
    "        # jika parameter weight diisi dengan yang lainnya\n",
    "        raise \"error can set parameter weight as 'uniform' or 'distance'\"\n",
    "    \n",
    "    # menghitung akurasi \n",
    "    def accuracy(y_true, y_pred):\n",
    "        n = len(y_true) # banyak data\n",
    "        counter = 0 # banyak prediksi yang benar\n",
    "\n",
    "        # menghitung data yang benar\n",
    "        for i in range(n):\n",
    "            if y_true[i] == y_pred[i]:\n",
    "                counter += 1\n",
    "                \n",
    "        return counter / n\n"
   ]
  },
  {
   "cell_type": "markdown",
   "metadata": {},
   "source": [
    "### **Training**"
   ]
  },
  {
   "cell_type": "code",
   "execution_count": null,
   "metadata": {},
   "outputs": [],
   "source": []
  },
  {
   "cell_type": "markdown",
   "metadata": {},
   "source": [
    "### **Testing**"
   ]
  },
  {
   "cell_type": "markdown",
   "metadata": {},
   "source": [
    "### **Conclusion**"
   ]
  }
 ],
 "metadata": {
  "kernelspec": {
   "display_name": "Python 3",
   "language": "python",
   "name": "python3"
  },
  "language_info": {
   "codemirror_mode": {
    "name": "ipython",
    "version": 3
   },
   "file_extension": ".py",
   "mimetype": "text/x-python",
   "name": "python",
   "nbconvert_exporter": "python",
   "pygments_lexer": "ipython3",
   "version": "3.9.6"
  }
 },
 "nbformat": 4,
 "nbformat_minor": 2
}

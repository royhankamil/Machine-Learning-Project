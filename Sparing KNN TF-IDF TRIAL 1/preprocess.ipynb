{
 "cells": [
  {
   "cell_type": "markdown",
   "metadata": {},
   "source": [
    "# **Data Preprocessing**"
   ]
  },
  {
   "cell_type": "markdown",
   "metadata": {},
   "source": [
    "### **Analize Data**"
   ]
  },
  {
   "cell_type": "markdown",
   "metadata": {},
   "source": [
    "Pada proses ini kita akan menyiapkan data dan library yang akan digunakan dan juga akan menganalisa data apa saja yang akan digunakan"
   ]
  },
  {
   "cell_type": "code",
   "execution_count": 138,
   "metadata": {},
   "outputs": [],
   "source": [
    "# importing library\n",
    "import numpy as np\n",
    "import pandas as pd\n",
    "import matplotlib.pyplot as plt\n",
    "import re\n",
    "import string\n",
    "from wordcloud.wordcloud import WordCloud\n",
    "from nltk.corpus import stopwords\n",
    "from nltk.stem import PorterStemmer\n",
    "from nltk.tokenize import word_tokenize"
   ]
  },
  {
   "cell_type": "code",
   "execution_count": 139,
   "metadata": {},
   "outputs": [
    {
     "data": {
      "text/html": [
       "<div>\n",
       "<style scoped>\n",
       "    .dataframe tbody tr th:only-of-type {\n",
       "        vertical-align: middle;\n",
       "    }\n",
       "\n",
       "    .dataframe tbody tr th {\n",
       "        vertical-align: top;\n",
       "    }\n",
       "\n",
       "    .dataframe thead th {\n",
       "        text-align: right;\n",
       "    }\n",
       "</style>\n",
       "<table border=\"1\" class=\"dataframe\">\n",
       "  <thead>\n",
       "    <tr style=\"text-align: right;\">\n",
       "      <th></th>\n",
       "      <th>date</th>\n",
       "      <th>title</th>\n",
       "      <th>review</th>\n",
       "      <th>rating</th>\n",
       "    </tr>\n",
       "  </thead>\n",
       "  <tbody>\n",
       "    <tr>\n",
       "      <th>0</th>\n",
       "      <td>2023-05-21 16:42:24</td>\n",
       "      <td>Much more accessible for blind users than the ...</td>\n",
       "      <td>Up to this point I’ve mostly been using ChatGP...</td>\n",
       "      <td>4</td>\n",
       "    </tr>\n",
       "    <tr>\n",
       "      <th>1</th>\n",
       "      <td>2023-07-11 12:24:19</td>\n",
       "      <td>Much anticipated, wasn’t let down.</td>\n",
       "      <td>I’ve been a user since it’s initial roll out a...</td>\n",
       "      <td>4</td>\n",
       "    </tr>\n",
       "    <tr>\n",
       "      <th>2</th>\n",
       "      <td>2023-05-19 10:16:22</td>\n",
       "      <td>Almost 5 stars, but… no search function</td>\n",
       "      <td>This app would almost be perfect if it wasn’t ...</td>\n",
       "      <td>4</td>\n",
       "    </tr>\n",
       "    <tr>\n",
       "      <th>3</th>\n",
       "      <td>2023-05-27 21:57:27</td>\n",
       "      <td>4.5 stars, here’s why</td>\n",
       "      <td>I recently downloaded the app and overall, it'...</td>\n",
       "      <td>4</td>\n",
       "    </tr>\n",
       "    <tr>\n",
       "      <th>4</th>\n",
       "      <td>2023-06-09 07:49:36</td>\n",
       "      <td>Good, but Siri support would take it to the ne...</td>\n",
       "      <td>I appreciate the devs implementing Siri suppor...</td>\n",
       "      <td>4</td>\n",
       "    </tr>\n",
       "  </tbody>\n",
       "</table>\n",
       "</div>"
      ],
      "text/plain": [
       "                  date                                              title  \\\n",
       "0  2023-05-21 16:42:24  Much more accessible for blind users than the ...   \n",
       "1  2023-07-11 12:24:19                 Much anticipated, wasn’t let down.   \n",
       "2  2023-05-19 10:16:22            Almost 5 stars, but… no search function   \n",
       "3  2023-05-27 21:57:27                              4.5 stars, here’s why   \n",
       "4  2023-06-09 07:49:36  Good, but Siri support would take it to the ne...   \n",
       "\n",
       "                                              review  rating  \n",
       "0  Up to this point I’ve mostly been using ChatGP...       4  \n",
       "1  I’ve been a user since it’s initial roll out a...       4  \n",
       "2  This app would almost be perfect if it wasn’t ...       4  \n",
       "3  I recently downloaded the app and overall, it'...       4  \n",
       "4  I appreciate the devs implementing Siri suppor...       4  "
      ]
     },
     "execution_count": 139,
     "metadata": {},
     "output_type": "execute_result"
    }
   ],
   "source": [
    "# membaca dataset\n",
    "df = pd.read_csv(\"chatgpt_reviews.csv\")\n",
    "\n",
    "# menampilkan data\n",
    "df.head()"
   ]
  },
  {
   "cell_type": "code",
   "execution_count": 140,
   "metadata": {},
   "outputs": [
    {
     "data": {
      "text/plain": [
       "rating\n",
       "5    1134\n",
       "1     495\n",
       "4     304\n",
       "3     220\n",
       "2     139\n",
       "Name: count, dtype: int64"
      ]
     },
     "execution_count": 140,
     "metadata": {},
     "output_type": "execute_result"
    }
   ],
   "source": [
    "# melihat banyak data setiap class\n",
    "df.rating.value_counts()"
   ]
  },
  {
   "cell_type": "markdown",
   "metadata": {},
   "source": [
    "### **Feature Selection**"
   ]
  },
  {
   "cell_type": "markdown",
   "metadata": {},
   "source": [
    "Pada tahapan ini kita akan melakukan seleksi lagi untuk fitur fitur yang akan digunakan saja. Untuk kasus text mining kita hanya menggunakan fitur reviews sebagai data x dan rating sebagai y. "
   ]
  },
  {
   "cell_type": "code",
   "execution_count": 141,
   "metadata": {},
   "outputs": [
    {
     "data": {
      "text/html": [
       "<div>\n",
       "<style scoped>\n",
       "    .dataframe tbody tr th:only-of-type {\n",
       "        vertical-align: middle;\n",
       "    }\n",
       "\n",
       "    .dataframe tbody tr th {\n",
       "        vertical-align: top;\n",
       "    }\n",
       "\n",
       "    .dataframe thead th {\n",
       "        text-align: right;\n",
       "    }\n",
       "</style>\n",
       "<table border=\"1\" class=\"dataframe\">\n",
       "  <thead>\n",
       "    <tr style=\"text-align: right;\">\n",
       "      <th></th>\n",
       "      <th>review</th>\n",
       "      <th>rating</th>\n",
       "    </tr>\n",
       "  </thead>\n",
       "  <tbody>\n",
       "    <tr>\n",
       "      <th>0</th>\n",
       "      <td>Up to this point I’ve mostly been using ChatGP...</td>\n",
       "      <td>4</td>\n",
       "    </tr>\n",
       "    <tr>\n",
       "      <th>1</th>\n",
       "      <td>I’ve been a user since it’s initial roll out a...</td>\n",
       "      <td>4</td>\n",
       "    </tr>\n",
       "    <tr>\n",
       "      <th>2</th>\n",
       "      <td>This app would almost be perfect if it wasn’t ...</td>\n",
       "      <td>4</td>\n",
       "    </tr>\n",
       "    <tr>\n",
       "      <th>3</th>\n",
       "      <td>I recently downloaded the app and overall, it'...</td>\n",
       "      <td>4</td>\n",
       "    </tr>\n",
       "    <tr>\n",
       "      <th>4</th>\n",
       "      <td>I appreciate the devs implementing Siri suppor...</td>\n",
       "      <td>4</td>\n",
       "    </tr>\n",
       "  </tbody>\n",
       "</table>\n",
       "</div>"
      ],
      "text/plain": [
       "                                              review  rating\n",
       "0  Up to this point I’ve mostly been using ChatGP...       4\n",
       "1  I’ve been a user since it’s initial roll out a...       4\n",
       "2  This app would almost be perfect if it wasn’t ...       4\n",
       "3  I recently downloaded the app and overall, it'...       4\n",
       "4  I appreciate the devs implementing Siri suppor...       4"
      ]
     },
     "execution_count": 141,
     "metadata": {},
     "output_type": "execute_result"
    }
   ],
   "source": [
    "# menghilangkan fitur yang tidak diperlukan\n",
    "df.drop(columns=[\"title\", \"date\"], inplace=True)\n",
    "\n",
    "df.head()"
   ]
  },
  {
   "cell_type": "markdown",
   "metadata": {},
   "source": [
    "### **Duplicated Data**"
   ]
  },
  {
   "cell_type": "markdown",
   "metadata": {},
   "source": [
    "Pada tahapan ini kita akan menganalisa apakah ada data yang terduplikasi atau tidak. Jika iya maka kita perlu menghapus semuanya yang terduplikasi dan menyisakan satu. Tujuan dari hal ini agar model itu tidak belajar pada data yang sama. Sehingga jikalau dia belajar data yang sama akan menimbulkan model itu menghafal bukan mencari pola. Jadi akan menimbulkan overfitting."
   ]
  },
  {
   "cell_type": "code",
   "execution_count": 142,
   "metadata": {},
   "outputs": [
    {
     "data": {
      "text/html": [
       "<div>\n",
       "<style scoped>\n",
       "    .dataframe tbody tr th:only-of-type {\n",
       "        vertical-align: middle;\n",
       "    }\n",
       "\n",
       "    .dataframe tbody tr th {\n",
       "        vertical-align: top;\n",
       "    }\n",
       "\n",
       "    .dataframe thead th {\n",
       "        text-align: right;\n",
       "    }\n",
       "</style>\n",
       "<table border=\"1\" class=\"dataframe\">\n",
       "  <thead>\n",
       "    <tr style=\"text-align: right;\">\n",
       "      <th></th>\n",
       "      <th>review</th>\n",
       "      <th>rating</th>\n",
       "    </tr>\n",
       "  </thead>\n",
       "  <tbody>\n",
       "    <tr>\n",
       "      <th>1351</th>\n",
       "      <td>Thanks</td>\n",
       "      <td>5</td>\n",
       "    </tr>\n",
       "    <tr>\n",
       "      <th>1508</th>\n",
       "      <td>Please</td>\n",
       "      <td>5</td>\n",
       "    </tr>\n",
       "    <tr>\n",
       "      <th>1783</th>\n",
       "      <td>Love it</td>\n",
       "      <td>5</td>\n",
       "    </tr>\n",
       "    <tr>\n",
       "      <th>1800</th>\n",
       "      <td>First</td>\n",
       "      <td>5</td>\n",
       "    </tr>\n",
       "    <tr>\n",
       "      <th>1801</th>\n",
       "      <td>First</td>\n",
       "      <td>5</td>\n",
       "    </tr>\n",
       "    <tr>\n",
       "      <th>1802</th>\n",
       "      <td>First</td>\n",
       "      <td>5</td>\n",
       "    </tr>\n",
       "    <tr>\n",
       "      <th>1827</th>\n",
       "      <td>Why?</td>\n",
       "      <td>1</td>\n",
       "    </tr>\n",
       "    <tr>\n",
       "      <th>1853</th>\n",
       "      <td>Very good</td>\n",
       "      <td>5</td>\n",
       "    </tr>\n",
       "    <tr>\n",
       "      <th>1866</th>\n",
       "      <td>Pretty good</td>\n",
       "      <td>5</td>\n",
       "    </tr>\n",
       "    <tr>\n",
       "      <th>1869</th>\n",
       "      <td>Great</td>\n",
       "      <td>5</td>\n",
       "    </tr>\n",
       "    <tr>\n",
       "      <th>1871</th>\n",
       "      <td>Great</td>\n",
       "      <td>5</td>\n",
       "    </tr>\n",
       "    <tr>\n",
       "      <th>1872</th>\n",
       "      <td>Great</td>\n",
       "      <td>5</td>\n",
       "    </tr>\n",
       "    <tr>\n",
       "      <th>1873</th>\n",
       "      <td>Great</td>\n",
       "      <td>5</td>\n",
       "    </tr>\n",
       "    <tr>\n",
       "      <th>1876</th>\n",
       "      <td>Great</td>\n",
       "      <td>5</td>\n",
       "    </tr>\n",
       "    <tr>\n",
       "      <th>1877</th>\n",
       "      <td>Great</td>\n",
       "      <td>5</td>\n",
       "    </tr>\n",
       "    <tr>\n",
       "      <th>1887</th>\n",
       "      <td>Thanks</td>\n",
       "      <td>5</td>\n",
       "    </tr>\n",
       "    <tr>\n",
       "      <th>1904</th>\n",
       "      <td>Thanks</td>\n",
       "      <td>5</td>\n",
       "    </tr>\n",
       "    <tr>\n",
       "      <th>1914</th>\n",
       "      <td>Nice</td>\n",
       "      <td>5</td>\n",
       "    </tr>\n",
       "    <tr>\n",
       "      <th>1915</th>\n",
       "      <td>Nice</td>\n",
       "      <td>5</td>\n",
       "    </tr>\n",
       "    <tr>\n",
       "      <th>1917</th>\n",
       "      <td>Nice</td>\n",
       "      <td>5</td>\n",
       "    </tr>\n",
       "    <tr>\n",
       "      <th>1921</th>\n",
       "      <td>Good</td>\n",
       "      <td>5</td>\n",
       "    </tr>\n",
       "    <tr>\n",
       "      <th>1933</th>\n",
       "      <td>FIRST</td>\n",
       "      <td>5</td>\n",
       "    </tr>\n",
       "    <tr>\n",
       "      <th>2000</th>\n",
       "      <td>…</td>\n",
       "      <td>4</td>\n",
       "    </tr>\n",
       "    <tr>\n",
       "      <th>2057</th>\n",
       "      <td>很好</td>\n",
       "      <td>5</td>\n",
       "    </tr>\n",
       "    <tr>\n",
       "      <th>2075</th>\n",
       "      <td>good</td>\n",
       "      <td>5</td>\n",
       "    </tr>\n",
       "    <tr>\n",
       "      <th>2104</th>\n",
       "      <td>好</td>\n",
       "      <td>5</td>\n",
       "    </tr>\n",
       "    <tr>\n",
       "      <th>2135</th>\n",
       "      <td>很好</td>\n",
       "      <td>5</td>\n",
       "    </tr>\n",
       "    <tr>\n",
       "      <th>2145</th>\n",
       "      <td>I like it</td>\n",
       "      <td>5</td>\n",
       "    </tr>\n",
       "    <tr>\n",
       "      <th>2172</th>\n",
       "      <td>牛</td>\n",
       "      <td>5</td>\n",
       "    </tr>\n",
       "    <tr>\n",
       "      <th>2175</th>\n",
       "      <td>good</td>\n",
       "      <td>5</td>\n",
       "    </tr>\n",
       "  </tbody>\n",
       "</table>\n",
       "</div>"
      ],
      "text/plain": [
       "           review  rating\n",
       "1351       Thanks       5\n",
       "1508       Please       5\n",
       "1783      Love it       5\n",
       "1800        First       5\n",
       "1801        First       5\n",
       "1802        First       5\n",
       "1827         Why?       1\n",
       "1853    Very good       5\n",
       "1866  Pretty good       5\n",
       "1869        Great       5\n",
       "1871        Great       5\n",
       "1872        Great       5\n",
       "1873        Great       5\n",
       "1876        Great       5\n",
       "1877        Great       5\n",
       "1887       Thanks       5\n",
       "1904       Thanks       5\n",
       "1914         Nice       5\n",
       "1915         Nice       5\n",
       "1917         Nice       5\n",
       "1921         Good       5\n",
       "1933        FIRST       5\n",
       "2000            …       4\n",
       "2057           很好       5\n",
       "2075         good       5\n",
       "2104            好       5\n",
       "2135           很好       5\n",
       "2145    I like it       5\n",
       "2172            牛       5\n",
       "2175         good       5"
      ]
     },
     "execution_count": 142,
     "metadata": {},
     "output_type": "execute_result"
    }
   ],
   "source": [
    "# untuk melihat data yang terduplikasi\n",
    "df[df.duplicated()]"
   ]
  },
  {
   "cell_type": "markdown",
   "metadata": {},
   "source": [
    "berdasarkan data yang diatas, kita dapat melihat bahwa ada data yang terduplikasi. Maka tahapan selanjutnya adalah kita menghilangkan data yang terduplikasi tersebut."
   ]
  },
  {
   "cell_type": "code",
   "execution_count": 143,
   "metadata": {},
   "outputs": [
    {
     "data": {
      "text/html": [
       "<div>\n",
       "<style scoped>\n",
       "    .dataframe tbody tr th:only-of-type {\n",
       "        vertical-align: middle;\n",
       "    }\n",
       "\n",
       "    .dataframe tbody tr th {\n",
       "        vertical-align: top;\n",
       "    }\n",
       "\n",
       "    .dataframe thead th {\n",
       "        text-align: right;\n",
       "    }\n",
       "</style>\n",
       "<table border=\"1\" class=\"dataframe\">\n",
       "  <thead>\n",
       "    <tr style=\"text-align: right;\">\n",
       "      <th></th>\n",
       "      <th>review</th>\n",
       "      <th>rating</th>\n",
       "    </tr>\n",
       "  </thead>\n",
       "  <tbody>\n",
       "  </tbody>\n",
       "</table>\n",
       "</div>"
      ],
      "text/plain": [
       "Empty DataFrame\n",
       "Columns: [review, rating]\n",
       "Index: []"
      ]
     },
     "execution_count": 143,
     "metadata": {},
     "output_type": "execute_result"
    }
   ],
   "source": [
    "# menghilangkan data yang terduplikasi\n",
    "df.drop_duplicates(inplace=True)\n",
    "\n",
    "df[df.duplicated()]"
   ]
  },
  {
   "cell_type": "markdown",
   "metadata": {},
   "source": [
    "### **Missing Value**"
   ]
  },
  {
   "cell_type": "markdown",
   "metadata": {},
   "source": [
    "Pada tahapan ini kita akan mencari apakah ada data yang hilang atau tidak. Data yang hilang akan sangat memengaruhi proses  training. Jika pada text data, maka model akan mengira \"Nan\" itu sebagai string. Hal ini akan sangat memengaruhi model nya nanti. Jika pada label nya maka yang terjadi, model akan mengira \"Nan\" itu sebagai label baru nya.\n"
   ]
  },
  {
   "cell_type": "code",
   "execution_count": 144,
   "metadata": {},
   "outputs": [
    {
     "data": {
      "text/plain": [
       "review    0\n",
       "rating    0\n",
       "dtype: int64"
      ]
     },
     "execution_count": 144,
     "metadata": {},
     "output_type": "execute_result"
    }
   ],
   "source": [
    "# banyaknya data kosong jenis 'nan'\n",
    "df.isna().sum()"
   ]
  },
  {
   "cell_type": "code",
   "execution_count": 145,
   "metadata": {},
   "outputs": [
    {
     "data": {
      "text/plain": [
       "review    0\n",
       "rating    0\n",
       "dtype: int64"
      ]
     },
     "execution_count": 145,
     "metadata": {},
     "output_type": "execute_result"
    }
   ],
   "source": [
    "# banyaknya data kosong jenis 'null'\n",
    "df.isnull().sum()"
   ]
  },
  {
   "cell_type": "code",
   "execution_count": 146,
   "metadata": {},
   "outputs": [
    {
     "data": {
      "text/plain": [
       "array([4, 1, 3, 5, 2], dtype=int64)"
      ]
     },
     "execution_count": 146,
     "metadata": {},
     "output_type": "execute_result"
    }
   ],
   "source": [
    "# melihat nilai unik pada label\n",
    "df.rating.unique()"
   ]
  },
  {
   "cell_type": "markdown",
   "metadata": {},
   "source": [
    "### **Case Folding**"
   ]
  },
  {
   "cell_type": "code",
   "execution_count": 147,
   "metadata": {},
   "outputs": [
    {
     "data": {
      "text/plain": [
       "'This app really helped! But I noticed one imperfection, there is no bookmarks, when I want to save one GPT response I need copy and transfer to notes! I would like to save GPT response to bookmarks!! Thanks'"
      ]
     },
     "execution_count": 147,
     "metadata": {},
     "output_type": "execute_result"
    }
   ],
   "source": [
    "# sebelum di case folding\n",
    "df.review.loc[649]"
   ]
  },
  {
   "cell_type": "markdown",
   "metadata": {},
   "source": [
    "Pada tahapan ini kita akan menghilangkan karakter yang tidak diperlukan seperti emoji, hashtag, tag, dan lain lain. Hal ini dikarenakan model kita tidak akan mengetahui pada data yang spesifik. Karena data yang terlalu spesifik tidak akan membuat pola apapun"
   ]
  },
  {
   "cell_type": "code",
   "execution_count": 148,
   "metadata": {},
   "outputs": [
    {
     "data": {
      "text/plain": [
       "0       up to this point i’ve mostly been using chatgp...\n",
       "1       i’ve been a user since it’s initial roll out a...\n",
       "2       this app would almost be perfect if it wasn’t ...\n",
       "3       i recently downloaded the app and overall its ...\n",
       "4       i appreciate the devs implementing siri suppor...\n",
       "                              ...                        \n",
       "2287    this has to be a beginning to something crazy ...\n",
       "2288    i’ve been using chat and have been a proud pre...\n",
       "2289    the chatgpt ios app is an outstanding product ...\n",
       "2290    sam altman’s blatant attempt at regulatory cap...\n",
       "2291                                                     \n",
       "Name: review, Length: 2262, dtype: object"
      ]
     },
     "execution_count": 148,
     "metadata": {},
     "output_type": "execute_result"
    }
   ],
   "source": [
    "def case_folding(text):\n",
    "    # menhilangkan karakter tag\n",
    "    text = re.sub(r\"@[A-Za-z0-9_]+\", \"\", text)\n",
    "\n",
    "    # menhilangkan karakter hashtag\n",
    "    text = re.sub(r\"#\\w+\", \"\", text)\n",
    "\n",
    "    # menhilangkan karakter enter\n",
    "    text = re.sub(r\"\\n+\", \"\", text)\n",
    "\n",
    "    # menhilangkan karakter angka\n",
    "    text = re.sub(r\"\\d+\", \"\", text)\n",
    "\n",
    "    # menhilangkan karakter angka\n",
    "    text = re.sub(r\"RT[\\s]+\", \"\", text)\n",
    "\n",
    "    # menhilangkan link\n",
    "    text = re.sub(r\"https?://\\S+\", \"\", text)\n",
    "\n",
    "    # menghilangkan simbol\n",
    "    text = text.translate(str.maketrans(\"\", \"\", string.punctuation))\n",
    "\n",
    "    # menghilangkan emoji\n",
    "    emoji_pattern = re.compile(\"[\"\n",
    "                               u\"\\U0001F600-\\U0001F64F\" # emoji\n",
    "                               u\"\\U0001F300-\\U0001F5FF\" # simbol\n",
    "                               u\"\\U0001F680-\\U0001F6FF\" # emoji ios\n",
    "                               u\"\\U00010000-\\U0010ffff\" # emoji\n",
    "                               \"]+\", flags=re.UNICODE)\n",
    "    \n",
    "    text = emoji_pattern.sub(\"\", text)\n",
    "\n",
    "    return text.lower()\n",
    "\n",
    "# melakukan case folding\n",
    "df.review = df.review.apply(case_folding)\n",
    "\n",
    "df.review"
   ]
  },
  {
   "cell_type": "code",
   "execution_count": 149,
   "metadata": {},
   "outputs": [
    {
     "data": {
      "text/plain": [
       "'this app really helped but i noticed one imperfection there is no bookmarks when i want to save one gpt response i need copy and transfer to notes i would like to save gpt response to bookmarks thanks'"
      ]
     },
     "execution_count": 149,
     "metadata": {},
     "output_type": "execute_result"
    }
   ],
   "source": [
    "# setelah di case folding\n",
    "df.review.loc[649]"
   ]
  },
  {
   "cell_type": "markdown",
   "metadata": {},
   "source": [
    "### **Tokenize**"
   ]
  },
  {
   "cell_type": "markdown",
   "metadata": {},
   "source": [
    "Pada tahapan ini kita akan memisahkan dari kalimat menjadi kata kata. Tujuannya agar dapat diperhitungkan untuk pemobobotan kata"
   ]
  },
  {
   "cell_type": "code",
   "execution_count": 150,
   "metadata": {},
   "outputs": [
    {
     "data": {
      "text/plain": [
       "0       [up, to, this, point, i, ’, ve, mostly, been, ...\n",
       "1       [i, ’, ve, been, a, user, since, it, ’, s, ini...\n",
       "2       [this, app, would, almost, be, perfect, if, it...\n",
       "3       [i, recently, downloaded, the, app, and, overa...\n",
       "4       [i, appreciate, the, devs, implementing, siri,...\n",
       "                              ...                        \n",
       "2287    [this, has, to, be, a, beginning, to, somethin...\n",
       "2288    [i, ’, ve, been, using, chat, and, have, been,...\n",
       "2289    [the, chatgpt, ios, app, is, an, outstanding, ...\n",
       "2290    [sam, altman, ’, s, blatant, attempt, at, regu...\n",
       "2291                                                   []\n",
       "Name: review, Length: 2262, dtype: object"
      ]
     },
     "execution_count": 150,
     "metadata": {},
     "output_type": "execute_result"
    }
   ],
   "source": [
    "# fungsi yang akan melakukan tokenize\n",
    "def tokenize(text):\n",
    "    return word_tokenize(text)\n",
    "\n",
    "# mengimplementasikan setiap item\n",
    "df.review = df.review.apply(tokenize)\n",
    "\n",
    "df.review"
   ]
  },
  {
   "cell_type": "markdown",
   "metadata": {},
   "source": [
    "### **Normalize**"
   ]
  },
  {
   "cell_type": "markdown",
   "metadata": {},
   "source": [
    "Pada tahapan ini kita akan melakukan normalisasi untuk kata kata yang bisa dibilang gaul atau kata kata yang kurang tepat menjadi kata kata yang umum dan tepat."
   ]
  },
  {
   "cell_type": "code",
   "execution_count": 151,
   "metadata": {},
   "outputs": [
    {
     "data": {
      "text/plain": [
       "0       [up, to, this, point, i, ’, ve, mostly, been, ...\n",
       "1       [i, ’, ve, been, a, user, since, it, ’, s, ini...\n",
       "2       [this, app, would, almost, be, perfect, if, it...\n",
       "3       [i, recently, downloaded, the, app, and, overa...\n",
       "4       [i, appreciate, the, devs, implementing, siri,...\n",
       "                              ...                        \n",
       "2287    [this, has, to, be, a, beginning, to, somethin...\n",
       "2288    [i, ’, ve, been, using, chat, and, have, been,...\n",
       "2289    [the, chatgpt, ios, app, is, an, outstanding, ...\n",
       "2290    [sam, altman, ’, s, blatant, attempt, at, regu...\n",
       "2291                                                   []\n",
       "Name: review, Length: 2262, dtype: object"
      ]
     },
     "execution_count": 151,
     "metadata": {},
     "output_type": "execute_result"
    }
   ],
   "source": [
    "# berisi kata yang perlu dinormalisasi\n",
    "norm_word = {\"nt\":\"not\", \"t\":\"not\", \"iam\":\"i\"}\n",
    "\n",
    "# melakukan normalisasi\n",
    "def normalize(doc):\n",
    "    return [norm_word[word] if word in norm_word else word for word in doc]\n",
    "\n",
    "# mengimplementasikan pada setiap doc\n",
    "df.review = df.review.apply(normalize)\n",
    "\n",
    "df.review"
   ]
  },
  {
   "cell_type": "markdown",
   "metadata": {},
   "source": [
    "### **Stopwords**"
   ]
  },
  {
   "cell_type": "markdown",
   "metadata": {},
   "source": [
    "Pada tahapan ini kita akan menghilangkan kata yang memiliki makna yang dependen. Setiap kata itu harus memiliki makn a secara independen dengan tujuan agar data kita benar benar memiliki pola yang jelas. Jikalau depeden maka hasil dari data tersebut pastinya tidak memiliki pola sehingga akan buruk untuk dilakukan training pada model. Contoh kata yang harus dihilangkan adalah yang, dan, itu, dll."
   ]
  },
  {
   "cell_type": "code",
   "execution_count": 152,
   "metadata": {},
   "outputs": [
    {
     "data": {
      "text/plain": [
       "0       [point, ’, chatgpt, windows, desktop, google, ...\n",
       "1       [’, user, ’, initial, roll, waiting, mobile, a...\n",
       "2       [app, perfect, ’, “, search, ”, function, imag...\n",
       "3       [recently, downloaded, app, great, platform, e...\n",
       "4       [appreciate, devs, implementing, siri, support...\n",
       "                              ...                        \n",
       "2287    [beginning, crazy, letting, ’, ’, day, ima, fi...\n",
       "2288    [’, chat, proud, premium, subscriber, awhile, ...\n",
       "2289    [chatgpt, ios, app, outstanding, product, seam...\n",
       "2290    [sam, altman, ’, blatant, attempt, regulatory,...\n",
       "2291                                                   []\n",
       "Name: review, Length: 2262, dtype: object"
      ]
     },
     "execution_count": 152,
     "metadata": {},
     "output_type": "execute_result"
    }
   ],
   "source": [
    "# menyimpan kata yang harus dihilangkan\n",
    "stopw = set(stopwords.words())\n",
    "\n",
    "# menyeleksi kata \n",
    "def stopword(doc):\n",
    "    return [word for word in doc if word not in stopw]\n",
    "\n",
    "# mengimplementasikan untuk setiap doc\n",
    "df.review = df.review.apply(stopword)\n",
    "\n",
    "df.review"
   ]
  },
  {
   "cell_type": "markdown",
   "metadata": {},
   "source": [
    "### **Stemming**"
   ]
  },
  {
   "cell_type": "markdown",
   "metadata": {},
   "source": [
    "Pada proses ini kita akan melakukan pengubahan kata yang tidak asli atau imbuhan menjadi kata aslinya. Misal pada data bahasa indonesia, kata imbuhan akan dijadikan kata yang tidak memiliki imbuhan sama sekali. Kalau dalam bahasa inggris, dari kata verb 3 atau 2 menjadi verb 1. Tujuannya adalah agar pada kata yang memiliki makna yang sama ini, meggabung jadi satu. Jika tidak diubah, model akan mengira kata dengan verb 1 dan kata dengan verb 2 pada kata yang sama, model mengira memiliki makna yang berbeda"
   ]
  },
  {
   "cell_type": "code",
   "execution_count": 153,
   "metadata": {},
   "outputs": [
    {
     "data": {
      "text/plain": [
       "0       [point, ’, chatgpt, window, desktop, googl, ch...\n",
       "1       [’, user, ’, initi, roll, wait, mobil, applic,...\n",
       "2       [app, perfect, ’, “, search, ”, function, imag...\n",
       "3       [recent, download, app, great, platform, excel...\n",
       "4       [appreci, dev, implement, siri, support—it, en...\n",
       "                              ...                        \n",
       "2287    [begin, crazi, let, ’, ’, day, ima, find, comm...\n",
       "2288    [’, chat, proud, premium, subscrib, awhil, hel...\n",
       "2289    [chatgpt, io, app, outstand, product, seamless...\n",
       "2290    [sam, altman, ’, blatant, attempt, regulatori,...\n",
       "2291                                                   []\n",
       "Name: review, Length: 2262, dtype: object"
      ]
     },
     "execution_count": 153,
     "metadata": {},
     "output_type": "execute_result"
    }
   ],
   "source": [
    "# object yang akan melakukan stemming\n",
    "stemmer = PorterStemmer()\n",
    "\n",
    "# fungsi yang akan mengembalikan document yang sudah di stemming\n",
    "def stemming(doc):\n",
    "    return [stemmer.stem(word) for word in doc]\n",
    "\n",
    "# mengaplikasikannya pada setiap document\n",
    "df.review = df.review.apply(stemming)\n",
    "\n",
    "df.review"
   ]
  },
  {
   "cell_type": "markdown",
   "metadata": {},
   "source": [
    "pada tahapan akhir ini, saya perlu untuk mengambil dua class saja dan menyeimbangkan banyaknya data"
   ]
  },
  {
   "cell_type": "code",
   "execution_count": 155,
   "metadata": {},
   "outputs": [
    {
     "data": {
      "text/html": [
       "<div>\n",
       "<style scoped>\n",
       "    .dataframe tbody tr th:only-of-type {\n",
       "        vertical-align: middle;\n",
       "    }\n",
       "\n",
       "    .dataframe tbody tr th {\n",
       "        vertical-align: top;\n",
       "    }\n",
       "\n",
       "    .dataframe thead th {\n",
       "        text-align: right;\n",
       "    }\n",
       "</style>\n",
       "<table border=\"1\" class=\"dataframe\">\n",
       "  <thead>\n",
       "    <tr style=\"text-align: right;\">\n",
       "      <th></th>\n",
       "      <th>review</th>\n",
       "      <th>rating</th>\n",
       "    </tr>\n",
       "  </thead>\n",
       "  <tbody>\n",
       "    <tr>\n",
       "      <th>282</th>\n",
       "      <td>[’, openai, team, beauti, app, make, thing, ph...</td>\n",
       "      <td>5</td>\n",
       "    </tr>\n",
       "    <tr>\n",
       "      <th>709</th>\n",
       "      <td>[surpris, appl, approv, process, violat, polic...</td>\n",
       "      <td>1</td>\n",
       "    </tr>\n",
       "    <tr>\n",
       "      <th>2272</th>\n",
       "      <td>[bewar, app, requir, person, info, access, sen...</td>\n",
       "      <td>1</td>\n",
       "    </tr>\n",
       "    <tr>\n",
       "      <th>2251</th>\n",
       "      <td>[send, code, verifi, number]</td>\n",
       "      <td>1</td>\n",
       "    </tr>\n",
       "    <tr>\n",
       "      <th>293</th>\n",
       "      <td>[ui, clean, haptic, feedback, appreci, hope, w...</td>\n",
       "      <td>5</td>\n",
       "    </tr>\n",
       "  </tbody>\n",
       "</table>\n",
       "</div>"
      ],
      "text/plain": [
       "                                                 review  rating\n",
       "282   [’, openai, team, beauti, app, make, thing, ph...       5\n",
       "709   [surpris, appl, approv, process, violat, polic...       1\n",
       "2272  [bewar, app, requir, person, info, access, sen...       1\n",
       "2251                       [send, code, verifi, number]       1\n",
       "293   [ui, clean, haptic, feedback, appreci, hope, w...       5"
      ]
     },
     "execution_count": 155,
     "metadata": {},
     "output_type": "execute_result"
    }
   ],
   "source": [
    "# melakukan sampling dan penyeimbangan data\n",
    "df = pd.concat([df[df.rating==5][:500], df[df.rating==1]]).sample(frac=1, random_state=123)\n",
    "\n",
    "df.head()"
   ]
  },
  {
   "cell_type": "code",
   "execution_count": null,
   "metadata": {},
   "outputs": [],
   "source": []
  }
 ],
 "metadata": {
  "kernelspec": {
   "display_name": "Python 3",
   "language": "python",
   "name": "python3"
  },
  "language_info": {
   "codemirror_mode": {
    "name": "ipython",
    "version": 3
   },
   "file_extension": ".py",
   "mimetype": "text/x-python",
   "name": "python",
   "nbconvert_exporter": "python",
   "pygments_lexer": "ipython3",
   "version": "3.9.6"
  }
 },
 "nbformat": 4,
 "nbformat_minor": 2
}

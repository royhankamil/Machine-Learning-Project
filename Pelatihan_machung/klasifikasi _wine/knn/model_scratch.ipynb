{
 "cells": [
  {
   "cell_type": "code",
   "execution_count": 124,
   "metadata": {},
   "outputs": [],
   "source": [
    "from sklearn.datasets import load_wine\n",
    "from sklearn.neighbors import KNeighborsClassifier\n",
    "from sklearn.model_selection import train_test_split\n",
    "from sklearn.metrics import confusion_matrix, classification_report\n",
    "import seaborn as sns\n",
    "import numpy as np\n",
    "import matplotlib.pyplot as plt"
   ]
  },
  {
   "cell_type": "code",
   "execution_count": 125,
   "metadata": {},
   "outputs": [],
   "source": [
    "wine = load_wine()"
   ]
  },
  {
   "cell_type": "code",
   "execution_count": 126,
   "metadata": {},
   "outputs": [],
   "source": [
    "X_train, X_test, y_train, y_test = train_test_split(wine.data, wine.target, random_state=42)\n",
    "\n"
   ]
  },
  {
   "cell_type": "code",
   "execution_count": 127,
   "metadata": {},
   "outputs": [],
   "source": [
    "class KNN:\n",
    "    def __init__(self, n_neighbor=3, weight=False):\n",
    "        self.n_neighbor = n_neighbor\n",
    "        self.weight = weight\n",
    "        self.x = None\n",
    "        self.y = None\n",
    "\n",
    "    def training(self, x,  y):\n",
    "        if x.shape[0] != y.shape[0]:\n",
    "            raise f\"error cannot fit with different size x ({x.shape[0]}) and y({y.shape[0]})\"\n",
    "        \n",
    "        self.x = np.array(x)\n",
    "        self.y = np.array(y)\n",
    "\n",
    "    def predict(self, x_predict):\n",
    "        distance = np.array([np.sum((x_train-x_predict)**2) for x_train in self.x])\n",
    "        if self.weight:\n",
    "            pass\n",
    "        else:\n",
    "            max_distance = np.argsort(distance)[:self.n_neighbor]\n",
    "            label = [self.y[i] for i in max_distance]\n",
    "            # print(np.argsort(distance))\n",
    "            return int(self.voting(label))\n",
    "        \n",
    "    def voting(self, values):\n",
    "        vote = {}\n",
    "        for x in values:\n",
    "            if x in vote:\n",
    "                vote[str(x)] += 1\n",
    "            else:\n",
    "                vote[str(x)] = 1\n",
    "        # print(vote)\n",
    "        return max(vote, key=vote.get)\n",
    "\n",
    "        \n",
    "    def _predict(self, x_predict):\n",
    "        predicted = []\n",
    "        for x in x_predict:\n",
    "            predicted.append(self.predict(x))\n",
    "        return np.array(predicted)\n",
    "        "
   ]
  },
  {
   "cell_type": "code",
   "execution_count": 128,
   "metadata": {},
   "outputs": [],
   "source": [
    "testo = np.array([\"t\",\"e\",\"tesd\", \"porsfs\", \"t\", \"t\", \"porsfs\"])\n",
    "# test1 = np.array([[9,3,8,1,2], [9,3,8,1,2]])\n",
    "\n",
    "# np.un(testo)"
   ]
  },
  {
   "cell_type": "code",
   "execution_count": 129,
   "metadata": {},
   "outputs": [],
   "source": [
    "knn = KNN(n_neighbor=3)\n",
    "\n",
    "knn.training(X_train, y_train)"
   ]
  },
  {
   "cell_type": "code",
   "execution_count": 130,
   "metadata": {},
   "outputs": [
    {
     "data": {
      "text/plain": [
       "(array([ 12.77,   3.43,   1.98,  16.  ,  80.  ,   1.63,   1.25,   0.43,\n",
       "          0.83,   3.4 ,   0.7 ,   2.12, 372.  ]),\n",
       " 1,\n",
       " 1)"
      ]
     },
     "execution_count": 130,
     "metadata": {},
     "output_type": "execute_result"
    }
   ],
   "source": [
    "y_pred_train = knn.predict(X_test[13])\n",
    "\n",
    "\n",
    "X_test[13], y_pred_train, y_test[13]"
   ]
  },
  {
   "cell_type": "code",
   "execution_count": 131,
   "metadata": {},
   "outputs": [],
   "source": [
    "y_pred_train = knn._predict(X_train)\n",
    "y_pred_test = knn._predict(X_test)"
   ]
  },
  {
   "cell_type": "code",
   "execution_count": 132,
   "metadata": {},
   "outputs": [
    {
     "data": {
      "text/plain": [
       "array([[1.364000e+01, 3.100000e+00, 2.560000e+00, 1.520000e+01,\n",
       "        1.160000e+02, 2.700000e+00, 3.030000e+00, 1.700000e-01,\n",
       "        1.660000e+00, 5.100000e+00, 9.600000e-01, 3.360000e+00,\n",
       "        8.450000e+02],\n",
       "       [1.421000e+01, 4.040000e+00, 2.440000e+00, 1.890000e+01,\n",
       "        1.110000e+02, 2.850000e+00, 2.650000e+00, 3.000000e-01,\n",
       "        1.250000e+00, 5.240000e+00, 8.700000e-01, 3.330000e+00,\n",
       "        1.080000e+03],\n",
       "       [1.293000e+01, 2.810000e+00, 2.700000e+00, 2.100000e+01,\n",
       "        9.600000e+01, 1.540000e+00, 5.000000e-01, 5.300000e-01,\n",
       "        7.500000e-01, 4.600000e+00, 7.700000e-01, 2.310000e+00,\n",
       "        6.000000e+02],\n",
       "       [1.373000e+01, 1.500000e+00, 2.700000e+00, 2.250000e+01,\n",
       "        1.010000e+02, 3.000000e+00, 3.250000e+00, 2.900000e-01,\n",
       "        2.380000e+00, 5.700000e+00, 1.190000e+00, 2.710000e+00,\n",
       "        1.285000e+03],\n",
       "       [1.237000e+01, 1.170000e+00, 1.920000e+00, 1.960000e+01,\n",
       "        7.800000e+01, 2.110000e+00, 2.000000e+00, 2.700000e-01,\n",
       "        1.040000e+00, 4.680000e+00, 1.120000e+00, 3.480000e+00,\n",
       "        5.100000e+02],\n",
       "       [1.430000e+01, 1.920000e+00, 2.720000e+00, 2.000000e+01,\n",
       "        1.200000e+02, 2.800000e+00, 3.140000e+00, 3.300000e-01,\n",
       "        1.970000e+00, 6.200000e+00, 1.070000e+00, 2.650000e+00,\n",
       "        1.280000e+03],\n",
       "       [1.200000e+01, 3.430000e+00, 2.000000e+00, 1.900000e+01,\n",
       "        8.700000e+01, 2.000000e+00, 1.640000e+00, 3.700000e-01,\n",
       "        1.870000e+00, 1.280000e+00, 9.300000e-01, 3.050000e+00,\n",
       "        5.640000e+02],\n",
       "       [1.340000e+01, 3.910000e+00, 2.480000e+00, 2.300000e+01,\n",
       "        1.020000e+02, 1.800000e+00, 7.500000e-01, 4.300000e-01,\n",
       "        1.410000e+00, 7.300000e+00, 7.000000e-01, 1.560000e+00,\n",
       "        7.500000e+02],\n",
       "       [1.161000e+01, 1.350000e+00, 2.700000e+00, 2.000000e+01,\n",
       "        9.400000e+01, 2.740000e+00, 2.920000e+00, 2.900000e-01,\n",
       "        2.490000e+00, 2.650000e+00, 9.600000e-01, 3.260000e+00,\n",
       "        6.800000e+02],\n",
       "       [1.336000e+01, 2.560000e+00, 2.350000e+00, 2.000000e+01,\n",
       "        8.900000e+01, 1.400000e+00, 5.000000e-01, 3.700000e-01,\n",
       "        6.400000e-01, 5.600000e+00, 7.000000e-01, 2.470000e+00,\n",
       "        7.800000e+02],\n",
       "       [1.350000e+01, 1.810000e+00, 2.610000e+00, 2.000000e+01,\n",
       "        9.600000e+01, 2.530000e+00, 2.610000e+00, 2.800000e-01,\n",
       "        1.660000e+00, 3.520000e+00, 1.120000e+00, 3.820000e+00,\n",
       "        8.450000e+02],\n",
       "       [1.350000e+01, 3.120000e+00, 2.620000e+00, 2.400000e+01,\n",
       "        1.230000e+02, 1.400000e+00, 1.570000e+00, 2.200000e-01,\n",
       "        1.250000e+00, 8.600000e+00, 5.900000e-01, 1.300000e+00,\n",
       "        5.000000e+02],\n",
       "       [1.341000e+01, 3.840000e+00, 2.120000e+00, 1.880000e+01,\n",
       "        9.000000e+01, 2.450000e+00, 2.680000e+00, 2.700000e-01,\n",
       "        1.480000e+00, 4.280000e+00, 9.100000e-01, 3.000000e+00,\n",
       "        1.035000e+03],\n",
       "       [1.277000e+01, 3.430000e+00, 1.980000e+00, 1.600000e+01,\n",
       "        8.000000e+01, 1.630000e+00, 1.250000e+00, 4.300000e-01,\n",
       "        8.300000e-01, 3.400000e+00, 7.000000e-01, 2.120000e+00,\n",
       "        3.720000e+02],\n",
       "       [1.363000e+01, 1.810000e+00, 2.700000e+00, 1.720000e+01,\n",
       "        1.120000e+02, 2.850000e+00, 2.910000e+00, 3.000000e-01,\n",
       "        1.460000e+00, 7.300000e+00, 1.280000e+00, 2.880000e+00,\n",
       "        1.310000e+03],\n",
       "       [1.252000e+01, 2.430000e+00, 2.170000e+00, 2.100000e+01,\n",
       "        8.800000e+01, 2.550000e+00, 2.270000e+00, 2.600000e-01,\n",
       "        1.220000e+00, 2.000000e+00, 9.000000e-01, 2.780000e+00,\n",
       "        3.250000e+02],\n",
       "       [1.141000e+01, 7.400000e-01, 2.500000e+00, 2.100000e+01,\n",
       "        8.800000e+01, 2.480000e+00, 2.010000e+00, 4.200000e-01,\n",
       "        1.440000e+00, 3.080000e+00, 1.100000e+00, 2.310000e+00,\n",
       "        4.340000e+02],\n",
       "       [1.208000e+01, 1.130000e+00, 2.510000e+00, 2.400000e+01,\n",
       "        7.800000e+01, 2.000000e+00, 1.580000e+00, 4.000000e-01,\n",
       "        1.400000e+00, 2.200000e+00, 1.310000e+00, 2.720000e+00,\n",
       "        6.300000e+02],\n",
       "       [1.386000e+01, 1.350000e+00, 2.270000e+00, 1.600000e+01,\n",
       "        9.800000e+01, 2.980000e+00, 3.150000e+00, 2.200000e-01,\n",
       "        1.850000e+00, 7.220000e+00, 1.010000e+00, 3.550000e+00,\n",
       "        1.045000e+03],\n",
       "       [1.208000e+01, 1.390000e+00, 2.500000e+00, 2.250000e+01,\n",
       "        8.400000e+01, 2.560000e+00, 2.290000e+00, 4.300000e-01,\n",
       "        1.040000e+00, 2.900000e+00, 9.300000e-01, 3.190000e+00,\n",
       "        3.850000e+02],\n",
       "       [1.419000e+01, 1.590000e+00, 2.480000e+00, 1.650000e+01,\n",
       "        1.080000e+02, 3.300000e+00, 3.930000e+00, 3.200000e-01,\n",
       "        1.860000e+00, 8.700000e+00, 1.230000e+00, 2.820000e+00,\n",
       "        1.680000e+03],\n",
       "       [1.311000e+01, 1.010000e+00, 1.700000e+00, 1.500000e+01,\n",
       "        7.800000e+01, 2.980000e+00, 3.180000e+00, 2.600000e-01,\n",
       "        2.280000e+00, 5.300000e+00, 1.120000e+00, 3.180000e+00,\n",
       "        5.020000e+02],\n",
       "       [1.233000e+01, 1.100000e+00, 2.280000e+00, 1.600000e+01,\n",
       "        1.010000e+02, 2.050000e+00, 1.090000e+00, 6.300000e-01,\n",
       "        4.100000e-01, 3.270000e+00, 1.250000e+00, 1.670000e+00,\n",
       "        6.800000e+02],\n",
       "       [1.340000e+01, 4.600000e+00, 2.860000e+00, 2.500000e+01,\n",
       "        1.120000e+02, 1.980000e+00, 9.600000e-01, 2.700000e-01,\n",
       "        1.110000e+00, 8.500000e+00, 6.700000e-01, 1.920000e+00,\n",
       "        6.300000e+02],\n",
       "       [1.277000e+01, 2.390000e+00, 2.280000e+00, 1.950000e+01,\n",
       "        8.600000e+01, 1.390000e+00, 5.100000e-01, 4.800000e-01,\n",
       "        6.400000e-01, 9.899999e+00, 5.700000e-01, 1.630000e+00,\n",
       "        4.700000e+02],\n",
       "       [1.378000e+01, 2.760000e+00, 2.300000e+00, 2.200000e+01,\n",
       "        9.000000e+01, 1.350000e+00, 6.800000e-01, 4.100000e-01,\n",
       "        1.030000e+00, 9.580000e+00, 7.000000e-01, 1.680000e+00,\n",
       "        6.150000e+02],\n",
       "       [1.242000e+01, 1.610000e+00, 2.190000e+00, 2.250000e+01,\n",
       "        1.080000e+02, 2.000000e+00, 2.090000e+00, 3.400000e-01,\n",
       "        1.610000e+00, 2.060000e+00, 1.060000e+00, 2.960000e+00,\n",
       "        3.450000e+02],\n",
       "       [1.237000e+01, 1.210000e+00, 2.560000e+00, 1.810000e+01,\n",
       "        9.800000e+01, 2.420000e+00, 2.650000e+00, 3.700000e-01,\n",
       "        2.080000e+00, 4.600000e+00, 1.190000e+00, 2.300000e+00,\n",
       "        6.780000e+02],\n",
       "       [1.208000e+01, 1.830000e+00, 2.320000e+00, 1.850000e+01,\n",
       "        8.100000e+01, 1.600000e+00, 1.500000e+00, 5.200000e-01,\n",
       "        1.640000e+00, 2.400000e+00, 1.080000e+00, 2.270000e+00,\n",
       "        4.800000e+02],\n",
       "       [1.356000e+01, 1.730000e+00, 2.460000e+00, 2.050000e+01,\n",
       "        1.160000e+02, 2.960000e+00, 2.780000e+00, 2.000000e-01,\n",
       "        2.450000e+00, 6.250000e+00, 9.800000e-01, 3.030000e+00,\n",
       "        1.120000e+03],\n",
       "       [1.402000e+01, 1.680000e+00, 2.210000e+00, 1.600000e+01,\n",
       "        9.600000e+01, 2.650000e+00, 2.330000e+00, 2.600000e-01,\n",
       "        1.980000e+00, 4.700000e+00, 1.040000e+00, 3.590000e+00,\n",
       "        1.035000e+03],\n",
       "       [1.237000e+01, 1.630000e+00, 2.300000e+00, 2.450000e+01,\n",
       "        8.800000e+01, 2.220000e+00, 2.450000e+00, 4.000000e-01,\n",
       "        1.900000e+00, 2.120000e+00, 8.900000e-01, 2.780000e+00,\n",
       "        3.420000e+02],\n",
       "       [1.316000e+01, 3.570000e+00, 2.150000e+00, 2.100000e+01,\n",
       "        1.020000e+02, 1.500000e+00, 5.500000e-01, 4.300000e-01,\n",
       "        1.300000e+00, 4.000000e+00, 6.000000e-01, 1.680000e+00,\n",
       "        8.300000e+02],\n",
       "       [1.358000e+01, 1.660000e+00, 2.360000e+00, 1.910000e+01,\n",
       "        1.060000e+02, 2.860000e+00, 3.190000e+00, 2.200000e-01,\n",
       "        1.950000e+00, 6.900000e+00, 1.090000e+00, 2.880000e+00,\n",
       "        1.515000e+03],\n",
       "       [1.375000e+01, 1.730000e+00, 2.410000e+00, 1.600000e+01,\n",
       "        8.900000e+01, 2.600000e+00, 2.760000e+00, 2.900000e-01,\n",
       "        1.810000e+00, 5.600000e+00, 1.150000e+00, 2.900000e+00,\n",
       "        1.320000e+03],\n",
       "       [1.388000e+01, 1.890000e+00, 2.590000e+00, 1.500000e+01,\n",
       "        1.010000e+02, 3.250000e+00, 3.560000e+00, 1.700000e-01,\n",
       "        1.700000e+00, 5.430000e+00, 8.800000e-01, 3.560000e+00,\n",
       "        1.095000e+03],\n",
       "       [1.434000e+01, 1.680000e+00, 2.700000e+00, 2.500000e+01,\n",
       "        9.800000e+01, 2.800000e+00, 1.310000e+00, 5.300000e-01,\n",
       "        2.700000e+00, 1.300000e+01, 5.700000e-01, 1.960000e+00,\n",
       "        6.600000e+02],\n",
       "       [1.253000e+01, 5.510000e+00, 2.640000e+00, 2.500000e+01,\n",
       "        9.600000e+01, 1.790000e+00, 6.000000e-01, 6.300000e-01,\n",
       "        1.100000e+00, 5.000000e+00, 8.200000e-01, 1.690000e+00,\n",
       "        5.150000e+02],\n",
       "       [1.237000e+01, 1.070000e+00, 2.100000e+00, 1.850000e+01,\n",
       "        8.800000e+01, 3.520000e+00, 3.750000e+00, 2.400000e-01,\n",
       "        1.950000e+00, 4.500000e+00, 1.040000e+00, 2.770000e+00,\n",
       "        6.600000e+02],\n",
       "       [1.348000e+01, 1.670000e+00, 2.640000e+00, 2.250000e+01,\n",
       "        8.900000e+01, 2.600000e+00, 1.100000e+00, 5.200000e-01,\n",
       "        2.290000e+00, 1.175000e+01, 5.700000e-01, 1.780000e+00,\n",
       "        6.200000e+02],\n",
       "       [1.307000e+01, 1.500000e+00, 2.100000e+00, 1.550000e+01,\n",
       "        9.800000e+01, 2.400000e+00, 2.640000e+00, 2.800000e-01,\n",
       "        1.370000e+00, 3.700000e+00, 1.180000e+00, 2.690000e+00,\n",
       "        1.020000e+03],\n",
       "       [1.222000e+01, 1.290000e+00, 1.940000e+00, 1.900000e+01,\n",
       "        9.200000e+01, 2.360000e+00, 2.040000e+00, 3.900000e-01,\n",
       "        2.080000e+00, 2.700000e+00, 8.600000e-01, 3.020000e+00,\n",
       "        3.120000e+02],\n",
       "       [1.267000e+01, 9.800000e-01, 2.240000e+00, 1.800000e+01,\n",
       "        9.900000e+01, 2.200000e+00, 1.940000e+00, 3.000000e-01,\n",
       "        1.460000e+00, 2.620000e+00, 1.230000e+00, 3.160000e+00,\n",
       "        4.500000e+02],\n",
       "       [1.334000e+01, 9.400000e-01, 2.360000e+00, 1.700000e+01,\n",
       "        1.100000e+02, 2.530000e+00, 1.300000e+00, 5.500000e-01,\n",
       "        4.200000e-01, 3.170000e+00, 1.020000e+00, 1.930000e+00,\n",
       "        7.500000e+02],\n",
       "       [1.362000e+01, 4.950000e+00, 2.350000e+00, 2.000000e+01,\n",
       "        9.200000e+01, 2.000000e+00, 8.000000e-01, 4.700000e-01,\n",
       "        1.020000e+00, 4.400000e+00, 9.100000e-01, 2.050000e+00,\n",
       "        5.500000e+02]])"
      ]
     },
     "execution_count": 132,
     "metadata": {},
     "output_type": "execute_result"
    }
   ],
   "source": [
    "X_test"
   ]
  },
  {
   "cell_type": "code",
   "execution_count": 133,
   "metadata": {},
   "outputs": [
    {
     "data": {
      "text/plain": [
       "array([2, 0, 2, 0, 1, 0, 1, 2, 0, 0, 2, 1, 0, 1, 0, 1, 1, 1, 0, 1, 0, 1,\n",
       "       0, 2, 1, 2, 1, 0, 1, 0, 0, 1, 2, 0, 0, 0, 2, 2, 2, 2, 0, 1, 1, 2,\n",
       "       2])"
      ]
     },
     "execution_count": 133,
     "metadata": {},
     "output_type": "execute_result"
    }
   ],
   "source": [
    "y_pred_test"
   ]
  },
  {
   "cell_type": "code",
   "execution_count": 134,
   "metadata": {},
   "outputs": [],
   "source": [
    "cm_train = confusion_matrix(y_train, y_pred_train)\n",
    "cm_test = confusion_matrix(y_test, y_pred_test)"
   ]
  },
  {
   "cell_type": "code",
   "execution_count": 135,
   "metadata": {},
   "outputs": [
    {
     "data": {
      "image/png": "[encoded data removed]",
      "text/plain": [
       "<Figure size 640x480 with 2 Axes>"
      ]
     },
     "metadata": {},
     "output_type": "display_data"
    },
    {
     "data": {
      "image/png": "[encoded data removed]",
      "text/plain": [
       "<Figure size 640x480 with 2 Axes>"
      ]
     },
     "metadata": {},
     "output_type": "display_data"
    },
    {
     "name": "stdout",
     "output_type": "stream",
     "text": [
      "              precision    recall  f1-score   support\n",
      "\n",
      "     class_0       1.00      1.00      1.00        44\n",
      "     class_1       1.00      1.00      1.00        53\n",
      "     class_2       1.00      1.00      1.00        36\n",
      "\n",
      "    accuracy                           1.00       133\n",
      "   macro avg       1.00      1.00      1.00       133\n",
      "weighted avg       1.00      1.00      1.00       133\n",
      "\n",
      "              precision    recall  f1-score   support\n",
      "\n",
      "     class_0       0.76      0.87      0.81        15\n",
      "     class_1       0.87      0.72      0.79        18\n",
      "     class_2       0.69      0.75      0.72        12\n",
      "\n",
      "    accuracy                           0.78        45\n",
      "   macro avg       0.77      0.78      0.77        45\n",
      "weighted avg       0.79      0.78      0.78        45\n",
      "\n"
     ]
    }
   ],
   "source": [
    "sns.heatmap(cm_train, annot=True, cmap=\"Blues\", xticklabels=wine.target_names, yticklabels=wine.target_names)\n",
    "plt.xlabel(\"Predicted Label\")\n",
    "plt.xlabel(\"True Label\")\n",
    "plt.title(\"Confusion Matrix KN pada dataset wine\")\n",
    "plt.show()\n",
    "\n",
    "sns.heatmap(cm_test, annot=True, cmap=\"Blues\", xticklabels=wine.target_names, yticklabels=wine.target_names)\n",
    "plt.xlabel(\"Predicted Label\")\n",
    "plt.xlabel(\"True Label\")\n",
    "plt.title(\"Confusion Matrix KN pada dataset wine\")\n",
    "plt.show()\n",
    "\n",
    "print(classification_report(y_train, y_pred_train, target_names=wine.target_names))\n",
    "print(classification_report(y_test, y_pred_test, target_names=wine.target_names))\n",
    "\n"
   ]
  },
  {
   "cell_type": "code",
   "execution_count": null,
   "metadata": {},
   "outputs": [],
   "source": []
  }
 ],
 "metadata": {
  "kernelspec": {
   "display_name": "Python 3",
   "language": "python",
   "name": "python3"
  },
  "language_info": {
   "codemirror_mode": {
    "name": "ipython",
    "version": 3
   },
   "file_extension": ".py",
   "mimetype": "text/x-python",
   "name": "python",
   "nbconvert_exporter": "python",
   "pygments_lexer": "ipython3",
   "version": "3.9.6"
  }
 },
 "nbformat": 4,
 "nbformat_minor": 2
}
